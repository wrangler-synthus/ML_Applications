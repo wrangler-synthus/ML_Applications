{
 "cells": [
  {
   "cell_type": "markdown",
   "metadata": {},
   "source": [
    "# Interactive Recommendation System with Word Embeddings using Word2Vec, Plotly, and NetworkX\n",
    "\n",
    "## Project Breakdown\n",
    "- Task 1: Introduction\n",
    "- Task 2: Exploratory Data Analysis and Preprocessing\n",
    "- Task 3: Word2Vec with Gensim (you are here)\n",
    "- Task 4: Exploring Results\n",
    "- Task 5: Building and Visualizing Interactive Network Graph\n",
    "\n",
    "## Task 3: Word2Vec with Gensim\n",
    "Word2Vec original papers can be found [here](https://arxiv.org/pdf/1301.3781.pdf) and [here](https://arxiv.org/pdf/1310.4546.pdf), while the documentation for the Gensim model can be found [here](https://radimrehurek.com/gensim/models/word2vec.html).\n",
    "\n",
    "![Word2Vec architecture](Data/word2vec.jpeg)"
   ]
  },
  {
   "cell_type": "code",
   "execution_count": 2,
   "metadata": {},
   "outputs": [],
   "source": [
    "from gensim.models.word2vec import Word2Vec\n",
    "from tqdm import tqdm\n",
    "import pandas as pd\n",
    "import pickle"
   ]
  },
  {
   "cell_type": "code",
   "execution_count": 3,
   "metadata": {},
   "outputs": [],
   "source": [
    "with open('Data/train_data.pkl', 'rb') as f:\n",
    "    train_data = pickle.load(f)"
   ]
  },
  {
   "cell_type": "code",
   "execution_count": 4,
   "metadata": {
    "collapsed": true,
    "jupyter": {
     "outputs_hidden": true
    }
   },
   "outputs": [
    {
     "data": {
      "text/plain": [
       "['place',\n",
       " 'chicken',\n",
       " 'butter',\n",
       " 'soup',\n",
       " 'onion',\n",
       " 'slow',\n",
       " 'cooker',\n",
       " 'water',\n",
       " 'covercover',\n",
       " 'cook',\n",
       " 'hours',\n",
       " 'high',\n",
       " 'minutes',\n",
       " 'serving',\n",
       " 'place',\n",
       " 'torn',\n",
       " 'biscuit',\n",
       " 'dough',\n",
       " 'slow',\n",
       " 'cooker',\n",
       " 'cook',\n",
       " 'dough',\n",
       " 'longer',\n",
       " 'raw',\n",
       " 'center']"
      ]
     },
     "execution_count": 4,
     "metadata": {},
     "output_type": "execute_result"
    }
   ],
   "source": [
    "train_data[0]"
   ]
  },
  {
   "cell_type": "code",
   "execution_count": 5,
   "metadata": {},
   "outputs": [],
   "source": [
    "model = Word2Vec()"
   ]
  },
  {
   "cell_type": "code",
   "execution_count": 6,
   "metadata": {},
   "outputs": [],
   "source": [
    "model.build_vocab(train_data)"
   ]
  },
  {
   "cell_type": "code",
   "execution_count": 7,
   "metadata": {},
   "outputs": [
    {
     "name": "stdout",
     "output_type": "stream",
     "text": [
      "CPU times: user 3min 6s, sys: 1.6 s, total: 3min 7s\n",
      "Wall time: 1min 44s\n"
     ]
    },
    {
     "data": {
      "text/plain": [
       "(67227093, 80190450)"
      ]
     },
     "execution_count": 7,
     "metadata": {},
     "output_type": "execute_result"
    }
   ],
   "source": [
    "%%time\n",
    "model.train(train_data, total_examples=model.corpus_count, epochs= model.epochs)"
   ]
  },
  {
   "cell_type": "code",
   "execution_count": 9,
   "metadata": {},
   "outputs": [
    {
     "data": {
      "text/plain": [
       "[('dressing', 0.5827581882476807),\n",
       " ('pheasant', 0.5737828016281128),\n",
       " ('mesclun', 0.5582780241966248),\n",
       " ('caesar', 0.5325864553451538),\n",
       " ('turkey', 0.5268767476081848),\n",
       " ('slaw', 0.5225558280944824),\n",
       " ('vinaigrette', 0.520498514175415),\n",
       " ('watercress', 0.5151207447052002),\n",
       " ('romaine', 0.5108035206794739),\n",
       " ('salads', 0.5034649968147278),\n",
       " ('frisee', 0.4967920184135437),\n",
       " ('squab', 0.4952894151210785),\n",
       " ('lettuces', 0.48918211460113525),\n",
       " ('mizuna', 0.4856293797492981),\n",
       " ('coleslaw', 0.4844737648963928),\n",
       " ('frisée', 0.48388203978538513),\n",
       " ('quail', 0.4796750247478485),\n",
       " ('dressed', 0.46689847111701965),\n",
       " ('duck', 0.4657539129257202),\n",
       " ('greens', 0.4642626643180847)]"
      ]
     },
     "execution_count": 9,
     "metadata": {},
     "output_type": "execute_result"
    }
   ],
   "source": [
    "model.wv.most_similar(['salad', 'chicken'], topn =20)"
   ]
  },
  {
   "cell_type": "code",
   "execution_count": 10,
   "metadata": {},
   "outputs": [],
   "source": [
    "model.save('Data/w2v.model')"
   ]
  },
  {
   "cell_type": "code",
   "execution_count": null,
   "metadata": {},
   "outputs": [],
   "source": []
  }
 ],
 "metadata": {
  "kernelspec": {
   "display_name": "Python 3",
   "language": "python",
   "name": "python3"
  },
  "language_info": {
   "codemirror_mode": {
    "name": "ipython",
    "version": 3
   },
   "file_extension": ".py",
   "mimetype": "text/x-python",
   "name": "python",
   "nbconvert_exporter": "python",
   "pygments_lexer": "ipython3",
   "version": "3.6.9"
  }
 },
 "nbformat": 4,
 "nbformat_minor": 4
}
