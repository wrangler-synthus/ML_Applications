{
 "cells": [
  {
   "cell_type": "code",
   "execution_count": 1,
   "metadata": {
    "id": "zX4Kg8DUTKWO"
   },
   "outputs": [],
   "source": [
    "#@title Licensed under the Apache License, Version 2.0 (the \"License\");\n",
    "# you may not use this file except in compliance with the License.\n",
    "# You may obtain a copy of the License at\n",
    "#\n",
    "# https://www.apache.org/licenses/LICENSE-2.0\n",
    "#\n",
    "# Unless required by applicable law or agreed to in writing, software\n",
    "# distributed under the License is distributed on an \"AS IS\" BASIS,\n",
    "# WITHOUT WARRANTIES OR CONDITIONS OF ANY KIND, either express or implied.\n",
    "# See the License for the specific language governing permissions and\n",
    "# limitations under the License."
   ]
  },
  {
   "cell_type": "code",
   "execution_count": 2,
   "metadata": {
    "id": "BOwsuGQQY9OL"
   },
   "outputs": [],
   "source": [
    "from tensorflow.keras.preprocessing.sequence import pad_sequences\n",
    "from tensorflow.keras.layers import Embedding, LSTM, Dense, Dropout, Bidirectional\n",
    "from tensorflow.keras.preprocessing.text import Tokenizer\n",
    "from tensorflow.keras.models import Sequential\n",
    "from tensorflow.keras.optimizers import Adam\n",
    "from tensorflow.keras import regularizers\n",
    "import tensorflow.keras.utils as ku \n",
    "import numpy as np "
   ]
  },
  {
   "cell_type": "code",
   "execution_count": 3,
   "metadata": {
    "colab": {
     "base_uri": "https://localhost:8080/"
    },
    "id": "PRnDnCW-Z7qv",
    "outputId": "450d39a6-4f31-4159-c0d4-6f0c2fd11fc4"
   },
   "outputs": [
    {
     "name": "stdout",
     "output_type": "stream",
     "text": [
      "--2021-04-01 14:49:20--  https://storage.googleapis.com/laurencemoroney-blog.appspot.com/sonnets.txt\n",
      "Resolving storage.googleapis.com (storage.googleapis.com)... 74.125.20.128, 74.125.197.128, 74.125.142.128, ...\n",
      "Connecting to storage.googleapis.com (storage.googleapis.com)|74.125.20.128|:443... connected.\n",
      "HTTP request sent, awaiting response... 200 OK\n",
      "Length: 93578 (91K) [text/plain]\n",
      "Saving to: ‘/tmp/sonnets.txt’\n",
      "\n",
      "\r",
      "/tmp/sonnets.txt      0%[                    ]       0  --.-KB/s               \r",
      "/tmp/sonnets.txt    100%[===================>]  91.38K  --.-KB/s    in 0.001s  \n",
      "\n",
      "2021-04-01 14:49:20 (81.7 MB/s) - ‘/tmp/sonnets.txt’ saved [93578/93578]\n",
      "\n"
     ]
    }
   ],
   "source": [
    "tokenizer = Tokenizer()\n",
    "!wget --no-check-certificate \\\n",
    "    https://storage.googleapis.com/laurencemoroney-blog.appspot.com/sonnets.txt \\\n",
    "    -O /tmp/sonnets.txt\n",
    "data = open('/tmp/sonnets.txt').read()\n",
    "\n",
    "corpus = data.lower().split(\"\\n\")\n",
    "\n",
    "\n",
    "tokenizer.fit_on_texts(corpus)\n",
    "total_words = len(tokenizer.word_index) + 1\n",
    "\n",
    "# create input sequences using list of tokens\n",
    "input_sequences = []\n",
    "for line in corpus:\n",
    "\ttoken_list = tokenizer.texts_to_sequences([line])[0]\n",
    "\tfor i in range(1, len(token_list)):\n",
    "\t\tn_gram_sequence = token_list[:i+1]\n",
    "\t\tinput_sequences.append(n_gram_sequence)\n",
    "\n",
    "\n",
    "# pad sequences \n",
    "max_sequence_len = max([len(x) for x in input_sequences])\n",
    "input_sequences = np.array(pad_sequences(input_sequences, maxlen=max_sequence_len, padding='pre'))\n",
    "\n",
    "# create predictors and label\n",
    "predictors, label = input_sequences[:,:-1],input_sequences[:,-1]\n",
    "\n",
    "label = ku.to_categorical(label, num_classes=total_words)"
   ]
  },
  {
   "cell_type": "code",
   "execution_count": 4,
   "metadata": {
    "colab": {
     "base_uri": "https://localhost:8080/"
    },
    "id": "w9vH8Y59ajYL",
    "outputId": "cdc4bcaa-0b9a-4671-a848-67c72c5e2a5c"
   },
   "outputs": [
    {
     "name": "stdout",
     "output_type": "stream",
     "text": [
      "Model: \"sequential\"\n",
      "_________________________________________________________________\n",
      "Layer (type)                 Output Shape              Param #   \n",
      "=================================================================\n",
      "embedding (Embedding)        (None, 10, 100)           321100    \n",
      "_________________________________________________________________\n",
      "bidirectional (Bidirectional (None, 10, 300)           301200    \n",
      "_________________________________________________________________\n",
      "dropout (Dropout)            (None, 10, 300)           0         \n",
      "_________________________________________________________________\n",
      "lstm_1 (LSTM)                (None, 100)               160400    \n",
      "_________________________________________________________________\n",
      "dense (Dense)                (None, 1605)              162105    \n",
      "_________________________________________________________________\n",
      "dense_1 (Dense)              (None, 3211)              5156866   \n",
      "=================================================================\n",
      "Total params: 6,101,671\n",
      "Trainable params: 6,101,671\n",
      "Non-trainable params: 0\n",
      "_________________________________________________________________\n",
      "None\n"
     ]
    }
   ],
   "source": [
    "model = Sequential()\n",
    "model.add(Embedding(total_words, 100, input_length=max_sequence_len-1))\n",
    "model.add(Bidirectional(LSTM(150, return_sequences = True)))\n",
    "model.add(Dropout(0.2))\n",
    "model.add(LSTM(100))\n",
    "model.add(Dense(total_words/2, activation='relu', kernel_regularizer=regularizers.l2(0.01)))\n",
    "model.add(Dense(total_words, activation='softmax'))\n",
    "model.compile(loss='categorical_crossentropy', optimizer='adam', metrics=['accuracy'])\n",
    "print(model.summary())\n"
   ]
  },
  {
   "cell_type": "code",
   "execution_count": 5,
   "metadata": {
    "colab": {
     "base_uri": "https://localhost:8080/"
    },
    "id": "AIg2f1HBxqof",
    "outputId": "c17ab7ea-e7de-4963-a85a-69579a5e0e01"
   },
   "outputs": [
    {
     "name": "stdout",
     "output_type": "stream",
     "text": [
      "Epoch 1/100\n",
      "484/484 [==============================] - 40s 13ms/step - loss: 7.3208 - accuracy: 0.0216\n",
      "Epoch 2/100\n",
      "484/484 [==============================] - 6s 13ms/step - loss: 6.4518 - accuracy: 0.0223\n",
      "Epoch 3/100\n",
      "484/484 [==============================] - 6s 13ms/step - loss: 6.3732 - accuracy: 0.0251\n",
      "Epoch 4/100\n",
      "484/484 [==============================] - 6s 13ms/step - loss: 6.2445 - accuracy: 0.0283\n",
      "Epoch 5/100\n",
      "484/484 [==============================] - 6s 13ms/step - loss: 6.1756 - accuracy: 0.0356\n",
      "Epoch 6/100\n",
      "484/484 [==============================] - 6s 13ms/step - loss: 6.0565 - accuracy: 0.0383\n",
      "Epoch 7/100\n",
      "484/484 [==============================] - 6s 13ms/step - loss: 6.0047 - accuracy: 0.0389\n",
      "Epoch 8/100\n",
      "484/484 [==============================] - 6s 13ms/step - loss: 5.9210 - accuracy: 0.0422\n",
      "Epoch 9/100\n",
      "484/484 [==============================] - 6s 13ms/step - loss: 5.8155 - accuracy: 0.0494\n",
      "Epoch 10/100\n",
      "484/484 [==============================] - 6s 13ms/step - loss: 5.7059 - accuracy: 0.0570\n",
      "Epoch 11/100\n",
      "484/484 [==============================] - 6s 13ms/step - loss: 5.5929 - accuracy: 0.0616\n",
      "Epoch 12/100\n",
      "484/484 [==============================] - 6s 13ms/step - loss: 5.4594 - accuracy: 0.0708\n",
      "Epoch 13/100\n",
      "484/484 [==============================] - 6s 13ms/step - loss: 5.3669 - accuracy: 0.0771\n",
      "Epoch 14/100\n",
      "484/484 [==============================] - 6s 13ms/step - loss: 5.2874 - accuracy: 0.0844\n",
      "Epoch 15/100\n",
      "484/484 [==============================] - 6s 13ms/step - loss: 5.1562 - accuracy: 0.0897\n",
      "Epoch 16/100\n",
      "484/484 [==============================] - 6s 13ms/step - loss: 5.0577 - accuracy: 0.1006\n",
      "Epoch 17/100\n",
      "484/484 [==============================] - 6s 13ms/step - loss: 4.9424 - accuracy: 0.1087\n",
      "Epoch 18/100\n",
      "484/484 [==============================] - 6s 13ms/step - loss: 4.8542 - accuracy: 0.1134\n",
      "Epoch 19/100\n",
      "484/484 [==============================] - 6s 13ms/step - loss: 4.7500 - accuracy: 0.1244\n",
      "Epoch 20/100\n",
      "484/484 [==============================] - 6s 13ms/step - loss: 4.6713 - accuracy: 0.1299\n",
      "Epoch 21/100\n",
      "484/484 [==============================] - 6s 13ms/step - loss: 4.5461 - accuracy: 0.1435\n",
      "Epoch 22/100\n",
      "484/484 [==============================] - 6s 13ms/step - loss: 4.4575 - accuracy: 0.1506\n",
      "Epoch 23/100\n",
      "484/484 [==============================] - 6s 13ms/step - loss: 4.3374 - accuracy: 0.1696\n",
      "Epoch 24/100\n",
      "484/484 [==============================] - 6s 13ms/step - loss: 4.2214 - accuracy: 0.1852\n",
      "Epoch 25/100\n",
      "484/484 [==============================] - 6s 13ms/step - loss: 4.1400 - accuracy: 0.1922\n",
      "Epoch 26/100\n",
      "484/484 [==============================] - 6s 13ms/step - loss: 4.0335 - accuracy: 0.2099\n",
      "Epoch 27/100\n",
      "484/484 [==============================] - 6s 13ms/step - loss: 3.9150 - accuracy: 0.2241\n",
      "Epoch 28/100\n",
      "484/484 [==============================] - 6s 13ms/step - loss: 3.8315 - accuracy: 0.2379\n",
      "Epoch 29/100\n",
      "484/484 [==============================] - 6s 13ms/step - loss: 3.7206 - accuracy: 0.2633\n",
      "Epoch 30/100\n",
      "484/484 [==============================] - 6s 13ms/step - loss: 3.6138 - accuracy: 0.2817\n",
      "Epoch 31/100\n",
      "484/484 [==============================] - 6s 13ms/step - loss: 3.5666 - accuracy: 0.2958\n",
      "Epoch 32/100\n",
      "484/484 [==============================] - 6s 13ms/step - loss: 3.4444 - accuracy: 0.3216\n",
      "Epoch 33/100\n",
      "484/484 [==============================] - 6s 13ms/step - loss: 3.3357 - accuracy: 0.3401\n",
      "Epoch 34/100\n",
      "484/484 [==============================] - 6s 13ms/step - loss: 3.2710 - accuracy: 0.3639\n",
      "Epoch 35/100\n",
      "484/484 [==============================] - 6s 13ms/step - loss: 3.1821 - accuracy: 0.3847\n",
      "Epoch 36/100\n",
      "484/484 [==============================] - 6s 13ms/step - loss: 3.1236 - accuracy: 0.3988\n",
      "Epoch 37/100\n",
      "484/484 [==============================] - 6s 13ms/step - loss: 3.0652 - accuracy: 0.4060\n",
      "Epoch 38/100\n",
      "484/484 [==============================] - 6s 13ms/step - loss: 2.9460 - accuracy: 0.4385\n",
      "Epoch 39/100\n",
      "484/484 [==============================] - 6s 13ms/step - loss: 2.8870 - accuracy: 0.4445\n",
      "Epoch 40/100\n",
      "484/484 [==============================] - 6s 13ms/step - loss: 2.8322 - accuracy: 0.4591\n",
      "Epoch 41/100\n",
      "484/484 [==============================] - 6s 13ms/step - loss: 2.7348 - accuracy: 0.4792\n",
      "Epoch 42/100\n",
      "484/484 [==============================] - 6s 13ms/step - loss: 2.7052 - accuracy: 0.4839\n",
      "Epoch 43/100\n",
      "484/484 [==============================] - 6s 13ms/step - loss: 2.6646 - accuracy: 0.4933\n",
      "Epoch 44/100\n",
      "484/484 [==============================] - 6s 13ms/step - loss: 2.5579 - accuracy: 0.5194\n",
      "Epoch 45/100\n",
      "484/484 [==============================] - 6s 13ms/step - loss: 2.5064 - accuracy: 0.5293\n",
      "Epoch 46/100\n",
      "484/484 [==============================] - 6s 13ms/step - loss: 2.4491 - accuracy: 0.5408\n",
      "Epoch 47/100\n",
      "484/484 [==============================] - 6s 13ms/step - loss: 2.4181 - accuracy: 0.5543\n",
      "Epoch 48/100\n",
      "484/484 [==============================] - 6s 13ms/step - loss: 2.3541 - accuracy: 0.5651\n",
      "Epoch 49/100\n",
      "484/484 [==============================] - 6s 13ms/step - loss: 2.2828 - accuracy: 0.5819\n",
      "Epoch 50/100\n",
      "484/484 [==============================] - 6s 13ms/step - loss: 2.2425 - accuracy: 0.5927\n",
      "Epoch 51/100\n",
      "484/484 [==============================] - 6s 13ms/step - loss: 2.2286 - accuracy: 0.5933\n",
      "Epoch 52/100\n",
      "484/484 [==============================] - 6s 13ms/step - loss: 2.1748 - accuracy: 0.6115\n",
      "Epoch 53/100\n",
      "484/484 [==============================] - 6s 13ms/step - loss: 2.1118 - accuracy: 0.6186\n",
      "Epoch 54/100\n",
      "484/484 [==============================] - 6s 13ms/step - loss: 2.0761 - accuracy: 0.6301\n",
      "Epoch 55/100\n",
      "484/484 [==============================] - 6s 13ms/step - loss: 2.0505 - accuracy: 0.6304\n",
      "Epoch 56/100\n",
      "484/484 [==============================] - 6s 13ms/step - loss: 2.0106 - accuracy: 0.6376\n",
      "Epoch 57/100\n",
      "484/484 [==============================] - 6s 13ms/step - loss: 1.9829 - accuracy: 0.6482\n",
      "Epoch 58/100\n",
      "484/484 [==============================] - 6s 13ms/step - loss: 1.9330 - accuracy: 0.6543\n",
      "Epoch 59/100\n",
      "484/484 [==============================] - 6s 13ms/step - loss: 1.9130 - accuracy: 0.6612\n",
      "Epoch 60/100\n",
      "484/484 [==============================] - 6s 13ms/step - loss: 1.8654 - accuracy: 0.6673\n",
      "Epoch 61/100\n",
      "484/484 [==============================] - 6s 13ms/step - loss: 1.8297 - accuracy: 0.6780\n",
      "Epoch 62/100\n",
      "484/484 [==============================] - 6s 13ms/step - loss: 1.8152 - accuracy: 0.6743\n",
      "Epoch 63/100\n",
      "484/484 [==============================] - 6s 13ms/step - loss: 1.7828 - accuracy: 0.6920\n",
      "Epoch 64/100\n",
      "484/484 [==============================] - 6s 13ms/step - loss: 1.7376 - accuracy: 0.6981\n",
      "Epoch 65/100\n",
      "484/484 [==============================] - 6s 13ms/step - loss: 1.7209 - accuracy: 0.7032\n",
      "Epoch 66/100\n",
      "484/484 [==============================] - 6s 13ms/step - loss: 1.6675 - accuracy: 0.7150\n",
      "Epoch 67/100\n",
      "484/484 [==============================] - 6s 13ms/step - loss: 1.6716 - accuracy: 0.7081\n",
      "Epoch 68/100\n",
      "484/484 [==============================] - 6s 13ms/step - loss: 1.6766 - accuracy: 0.7097\n",
      "Epoch 69/100\n",
      "484/484 [==============================] - 6s 13ms/step - loss: 1.6248 - accuracy: 0.7185\n",
      "Epoch 70/100\n",
      "484/484 [==============================] - 6s 13ms/step - loss: 1.6040 - accuracy: 0.7238\n",
      "Epoch 71/100\n",
      "484/484 [==============================] - 6s 13ms/step - loss: 1.5667 - accuracy: 0.7333\n",
      "Epoch 72/100\n",
      "484/484 [==============================] - 6s 13ms/step - loss: 1.5737 - accuracy: 0.7307\n",
      "Epoch 73/100\n",
      "484/484 [==============================] - 6s 13ms/step - loss: 1.5378 - accuracy: 0.7373\n",
      "Epoch 74/100\n",
      "484/484 [==============================] - 6s 13ms/step - loss: 1.5307 - accuracy: 0.7356\n",
      "Epoch 75/100\n",
      "484/484 [==============================] - 6s 13ms/step - loss: 1.4759 - accuracy: 0.7432\n",
      "Epoch 76/100\n",
      "484/484 [==============================] - 6s 13ms/step - loss: 1.4673 - accuracy: 0.7479\n",
      "Epoch 77/100\n",
      "484/484 [==============================] - 6s 13ms/step - loss: 1.4549 - accuracy: 0.7536\n",
      "Epoch 78/100\n",
      "484/484 [==============================] - 6s 13ms/step - loss: 1.4478 - accuracy: 0.7512\n",
      "Epoch 79/100\n",
      "484/484 [==============================] - 6s 13ms/step - loss: 1.4220 - accuracy: 0.7599\n",
      "Epoch 80/100\n",
      "484/484 [==============================] - 6s 13ms/step - loss: 1.4066 - accuracy: 0.7602\n",
      "Epoch 81/100\n",
      "484/484 [==============================] - 6s 13ms/step - loss: 1.3887 - accuracy: 0.7631\n",
      "Epoch 82/100\n",
      "484/484 [==============================] - 6s 13ms/step - loss: 1.3925 - accuracy: 0.7627\n",
      "Epoch 83/100\n",
      "484/484 [==============================] - 6s 13ms/step - loss: 1.3581 - accuracy: 0.7667\n",
      "Epoch 84/100\n",
      "484/484 [==============================] - 6s 13ms/step - loss: 1.3572 - accuracy: 0.7663\n",
      "Epoch 85/100\n",
      "484/484 [==============================] - 6s 13ms/step - loss: 1.3071 - accuracy: 0.7785\n",
      "Epoch 86/100\n",
      "484/484 [==============================] - 6s 13ms/step - loss: 1.2866 - accuracy: 0.7813\n",
      "Epoch 87/100\n",
      "484/484 [==============================] - 6s 13ms/step - loss: 1.2994 - accuracy: 0.7774\n",
      "Epoch 88/100\n",
      "484/484 [==============================] - 6s 13ms/step - loss: 1.2788 - accuracy: 0.7838\n",
      "Epoch 89/100\n",
      "484/484 [==============================] - 6s 13ms/step - loss: 1.2393 - accuracy: 0.7902\n",
      "Epoch 90/100\n",
      "484/484 [==============================] - 6s 13ms/step - loss: 1.2359 - accuracy: 0.7951\n",
      "Epoch 91/100\n",
      "484/484 [==============================] - 6s 13ms/step - loss: 1.2583 - accuracy: 0.7830\n",
      "Epoch 92/100\n",
      "484/484 [==============================] - 6s 13ms/step - loss: 1.2305 - accuracy: 0.7933\n",
      "Epoch 93/100\n",
      "484/484 [==============================] - 6s 13ms/step - loss: 1.2473 - accuracy: 0.7834\n",
      "Epoch 94/100\n",
      "484/484 [==============================] - 6s 13ms/step - loss: 1.1913 - accuracy: 0.7978\n",
      "Epoch 95/100\n",
      "484/484 [==============================] - 6s 13ms/step - loss: 1.1869 - accuracy: 0.7980\n",
      "Epoch 96/100\n",
      "484/484 [==============================] - 6s 13ms/step - loss: 1.1761 - accuracy: 0.7984\n",
      "Epoch 97/100\n",
      "484/484 [==============================] - 6s 13ms/step - loss: 1.1584 - accuracy: 0.8075\n",
      "Epoch 98/100\n",
      "484/484 [==============================] - 6s 13ms/step - loss: 1.1666 - accuracy: 0.7983\n",
      "Epoch 99/100\n",
      "484/484 [==============================] - 6s 13ms/step - loss: 1.1609 - accuracy: 0.7986\n",
      "Epoch 100/100\n",
      "484/484 [==============================] - 6s 13ms/step - loss: 1.1371 - accuracy: 0.8056\n"
     ]
    }
   ],
   "source": [
    " history = model.fit(predictors, label, epochs=100, verbose=1)"
   ]
  },
  {
   "cell_type": "code",
   "execution_count": 6,
   "metadata": {
    "colab": {
     "base_uri": "https://localhost:8080/",
     "height": 545
    },
    "id": "1fXTEO3GJ282",
    "outputId": "a0eeb24a-a2ca-4c41-99ef-a8d82833175e"
   },
   "outputs": [
    {
     "data": {
      "image/png": "[encoded data removed]",
      "text/plain": [
       "<Figure size 432x288 with 1 Axes>"
      ]
     },
     "metadata": {
      "needs_background": "light",
      "tags": []
     },
     "output_type": "display_data"
    },
    {
     "data": {
      "image/png": "[encoded data removed]",
      "text/plain": [
       "<Figure size 432x288 with 1 Axes>"
      ]
     },
     "metadata": {
      "needs_background": "light",
      "tags": []
     },
     "output_type": "display_data"
    }
   ],
   "source": [
    "import matplotlib.pyplot as plt\n",
    "acc = history.history['accuracy']\n",
    "loss = history.history['loss']\n",
    "\n",
    "epochs = range(len(acc))\n",
    "\n",
    "plt.plot(epochs, acc, 'b', label='Training accuracy')\n",
    "plt.title('Training accuracy')\n",
    "\n",
    "plt.figure()\n",
    "\n",
    "plt.plot(epochs, loss, 'b', label='Training Loss')\n",
    "plt.title('Training loss')\n",
    "plt.legend()\n",
    "\n",
    "plt.show()"
   ]
  },
  {
   "cell_type": "code",
   "execution_count": 7,
   "metadata": {
    "colab": {
     "base_uri": "https://localhost:8080/"
    },
    "id": "6Vc6PHgxa6Hm",
    "outputId": "682c3306-e5da-4277-a056-1dabc6305d55"
   },
   "outputs": [
    {
     "name": "stderr",
     "output_type": "stream",
     "text": [
      "/usr/local/lib/python3.7/dist-packages/tensorflow/python/keras/engine/sequential.py:450: UserWarning: `model.predict_classes()` is deprecated and will be removed after 2021-01-01. Please use instead:* `np.argmax(model.predict(x), axis=-1)`,   if your model does multi-class classification   (e.g. if it uses a `softmax` last-layer activation).* `(model.predict(x) > 0.5).astype(\"int32\")`,   if your model does binary classification   (e.g. if it uses a `sigmoid` last-layer activation).\n",
      "  warnings.warn('`model.predict_classes()` is deprecated and '\n"
     ]
    },
    {
     "name": "stdout",
     "output_type": "stream",
     "text": [
      "Help me Obi Wan Kenobi, you're my only hope with their heart can groan bearing ' fire in care not grace he from thee days live quite gone another ' so bright ' still such praise grace hate days back by bright hate hate hate hate leaves hate hate by long arising groan hate hate hate by back room well rare weep long about treasure 'tis bright part memory wastes me glory new hate by write days still hate leaves shame cheeks clear forgot die shows thee thence brought thee well bad hate back back back clears hate hate by by afloat afloat hate by cold strife wastes pain\n"
     ]
    }
   ],
   "source": [
    "seed_text = \"Help me Obi Wan Kenobi, you're my only hope\"\n",
    "next_words = 100\n",
    "  \n",
    "for _ in range(next_words):\n",
    "\ttoken_list = tokenizer.texts_to_sequences([seed_text])[0]\n",
    "\ttoken_list = pad_sequences([token_list], maxlen=max_sequence_len-1, padding='pre')\n",
    "\tpredicted = model.predict_classes(token_list, verbose=0)\n",
    "\toutput_word = \"\"\n",
    "\tfor word, index in tokenizer.word_index.items():\n",
    "\t\tif index == predicted:\n",
    "\t\t\toutput_word = word\n",
    "\t\t\tbreak\n",
    "\tseed_text += \" \" + output_word\n",
    "print(seed_text)"
   ]
  }
 ],
 "metadata": {
  "accelerator": "GPU",
  "colab": {
   "name": "NLP_Week4_Exercise_Shakespeare_Answer.ipynb",
   "provenance": []
  },
  "kernelspec": {
   "display_name": "Python 3",
   "language": "python",
   "name": "python3"
  },
  "language_info": {
   "codemirror_mode": {
    "name": "ipython",
    "version": 3
   },
   "file_extension": ".py",
   "mimetype": "text/x-python",
   "name": "python",
   "nbconvert_exporter": "python",
   "pygments_lexer": "ipython3",
   "version": "3.8.8"
  }
 },
 "nbformat": 4,
 "nbformat_minor": 1
}
