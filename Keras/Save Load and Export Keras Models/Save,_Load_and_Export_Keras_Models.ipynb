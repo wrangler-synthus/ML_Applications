{
  "cells": [
    {
      "cell_type": "markdown",
      "metadata": {
        "id": "2eU5vngOXK97"
      },
      "source": [
        "# Save, Load and Export Models in Keras"
      ]
    },
    {
      "cell_type": "markdown",
      "metadata": {
        "id": "PWq4nkGoXK-V"
      },
      "source": [
        "## Task 1: Import Libraries"
      ]
    },
    {
      "cell_type": "code",
      "execution_count": 1,
      "metadata": {
        "colab": {
          "base_uri": "https://localhost:8080/"
        },
        "id": "eH-GQNbhXK-Z",
        "outputId": "b0769154-7980-4ddc-874c-419464bc51b9"
      },
      "outputs": [
        {
          "output_type": "stream",
          "name": "stdout",
          "text": [
            "This notebook works with TensorFlow version: 2.7.0\n",
            "['.config', 'models', 'tmp', 'weights', 'model_name', 'sample_data']\n"
          ]
        }
      ],
      "source": [
        "import tensorflow as tf\n",
        "import numpy as np\n",
        "import os\n",
        "\n",
        "print('This notebook works with TensorFlow version:', tf.__version__)\n",
        "\n",
        "folders = ['tmp', 'models', 'model_name', 'weights']\n",
        "for folder in folders:\n",
        "    if not os.path.isdir(folder):\n",
        "        os.mkdir(folder)\n",
        "\n",
        "print(os.listdir('.'))"
      ]
    },
    {
      "cell_type": "markdown",
      "metadata": {
        "id": "ZHAe7nw2XK-l"
      },
      "source": [
        "## Task 2: Create Model"
      ]
    },
    {
      "cell_type": "code",
      "execution_count": 2,
      "metadata": {
        "colab": {
          "base_uri": "https://localhost:8080/"
        },
        "id": "sGxMfFJ4XK-p",
        "outputId": "3b309e8a-0761-4cf4-aa11-f6312db8ac93"
      },
      "outputs": [
        {
          "output_type": "stream",
          "name": "stdout",
          "text": [
            "Model: \"sequential\"\n",
            "_________________________________________________________________\n",
            " Layer (type)                Output Shape              Param #   \n",
            "=================================================================\n",
            " dense (Dense)               (None, 128)               100480    \n",
            "                                                                 \n",
            " dense_1 (Dense)             (None, 128)               16512     \n",
            "                                                                 \n",
            " dense_2 (Dense)             (None, 10)                1290      \n",
            "                                                                 \n",
            "=================================================================\n",
            "Total params: 118,282\n",
            "Trainable params: 118,282\n",
            "Non-trainable params: 0\n",
            "_________________________________________________________________\n"
          ]
        }
      ],
      "source": [
        "def create_model():\n",
        "    model = tf.keras.models.Sequential([\n",
        "        tf.keras.layers.Dense(128, activation='relu', input_shape=(784,)),\n",
        "        tf.keras.layers.Dense(128, activation='relu'),\n",
        "        tf.keras.layers.Dense(10, activation='softmax')\n",
        "    ])\n",
        "    model.compile(loss='categorical_crossentropy', optimizer='adam', metrics=['acc'])\n",
        "    return model\n",
        "\n",
        "model = create_model()\n",
        "model.summary()"
      ]
    },
    {
      "cell_type": "markdown",
      "metadata": {
        "id": "K5RdWZSPXK-r"
      },
      "source": [
        "## Task 3: Data Preprocessing"
      ]
    },
    {
      "cell_type": "code",
      "execution_count": 3,
      "metadata": {
        "colab": {
          "base_uri": "https://localhost:8080/"
        },
        "id": "wLDoH2ngXK-t",
        "outputId": "1014c624-1a9a-4e27-b702-7fc6fa38e558"
      },
      "outputs": [
        {
          "output_type": "stream",
          "name": "stdout",
          "text": [
            "Downloading data from https://storage.googleapis.com/tensorflow/tf-keras-datasets/train-labels-idx1-ubyte.gz\n",
            "32768/29515 [=================================] - 0s 0us/step\n",
            "40960/29515 [=========================================] - 0s 0us/step\n",
            "Downloading data from https://storage.googleapis.com/tensorflow/tf-keras-datasets/train-images-idx3-ubyte.gz\n",
            "26427392/26421880 [==============================] - 0s 0us/step\n",
            "26435584/26421880 [==============================] - 0s 0us/step\n",
            "Downloading data from https://storage.googleapis.com/tensorflow/tf-keras-datasets/t10k-labels-idx1-ubyte.gz\n",
            "16384/5148 [===============================================================================================] - 0s 0us/step\n",
            "Downloading data from https://storage.googleapis.com/tensorflow/tf-keras-datasets/t10k-images-idx3-ubyte.gz\n",
            "4423680/4422102 [==============================] - 0s 0us/step\n",
            "4431872/4422102 [==============================] - 0s 0us/step\n"
          ]
        }
      ],
      "source": [
        "(x_train, y_train), (x_test, y_test) = tf.keras.datasets.fashion_mnist.load_data()\n",
        "\n",
        "x_train = np.reshape(x_train, (x_train.shape[0], 784))/255.\n",
        "x_test = np.reshape(x_test, (x_test.shape[0], 784))/255.\n",
        "\n",
        "y_train = tf.keras.utils.to_categorical(y_train)\n",
        "y_test = tf.keras.utils.to_categorical(y_test)"
      ]
    },
    {
      "cell_type": "markdown",
      "metadata": {
        "id": "OkpYOXW6XK-y"
      },
      "source": [
        "## Task 4: Model Checkpoint During Training"
      ]
    },
    {
      "cell_type": "code",
      "execution_count": 4,
      "metadata": {
        "colab": {
          "base_uri": "https://localhost:8080/"
        },
        "id": "y24RKS9aXK-2",
        "outputId": "4ec9a7aa-0b9f-4426-8580-aa6986e7f025"
      },
      "outputs": [
        {
          "output_type": "stream",
          "name": "stdout",
          "text": [
            "Epoch 1/2\n",
            "118/118 [==============================] - 3s 8ms/step - loss: 0.6970 - acc: 0.7641 - val_loss: 0.4985 - val_acc: 0.8241\n",
            "Epoch 2/2\n",
            "118/118 [==============================] - 1s 6ms/step - loss: 0.4380 - acc: 0.8469 - val_loss: 0.4260 - val_acc: 0.8484\n"
          ]
        }
      ],
      "source": [
        "checkpoint_dir = 'weights/'\n",
        "\n",
        "_ = model.fit(\n",
        "    x_train, y_train,\n",
        "    validation_data=(x_test, y_test),\n",
        "    epochs=2,\n",
        "    batch_size=512,\n",
        "    callbacks=[\n",
        "        tf.keras.callbacks.ModelCheckpoint(\n",
        "            os.path.join(checkpoint_dir, 'epoch_{epoch:02d}_acc_{val_acc:.4f}'),\n",
        "            monitor='val_acc', save_weights_only=True, save_best_only=True\n",
        "        )\n",
        "    ]\n",
        ")"
      ]
    },
    {
      "cell_type": "code",
      "execution_count": 5,
      "metadata": {
        "colab": {
          "base_uri": "https://localhost:8080/"
        },
        "id": "BzX9P9_-XK-5",
        "outputId": "49c2d62a-3ec4-42aa-9314-8014a526b7bd"
      },
      "outputs": [
        {
          "output_type": "execute_result",
          "data": {
            "text/plain": [
              "['checkpoint',\n",
              " 'epoch_02_acc_0.8484.data-00000-of-00001',\n",
              " 'epoch_02_acc_0.8484.index',\n",
              " 'epoch_01_acc_0.8241.data-00000-of-00001',\n",
              " 'epoch_01_acc_0.8241.index']"
            ]
          },
          "metadata": {},
          "execution_count": 5
        }
      ],
      "source": [
        "os.listdir(checkpoint_dir)"
      ]
    },
    {
      "cell_type": "markdown",
      "metadata": {
        "id": "7SI6Va91XK-8"
      },
      "source": [
        "## Task 5: Load Weights"
      ]
    },
    {
      "cell_type": "code",
      "execution_count": 6,
      "metadata": {
        "colab": {
          "base_uri": "https://localhost:8080/"
        },
        "id": "kPvBLYUqXK--",
        "outputId": "37739689-aac3-466d-8531-62cec7a2a7f6"
      },
      "outputs": [
        {
          "output_type": "stream",
          "name": "stdout",
          "text": [
            "[2.3507182598114014, 0.09600000083446503]\n"
          ]
        }
      ],
      "source": [
        "model = create_model()\n",
        "print(model.evaluate(x_test, y_test, verbose=False))"
      ]
    },
    {
      "cell_type": "code",
      "execution_count": 9,
      "metadata": {
        "colab": {
          "base_uri": "https://localhost:8080/"
        },
        "id": "IkRzfYAAXK_A",
        "outputId": "a330574c-7d0a-4fe2-94ef-f092bd21e4ca"
      },
      "outputs": [
        {
          "output_type": "stream",
          "name": "stdout",
          "text": [
            "[0.4260275959968567, 0.8483999967575073]\n"
          ]
        }
      ],
      "source": [
        "model.load_weights('weights/epoch_02_acc_0.8484')\n",
        "print(model.evaluate(x_test, y_test, verbose=False))"
      ]
    },
    {
      "cell_type": "markdown",
      "metadata": {
        "id": "mlDmkGlGXK_C"
      },
      "source": [
        "## Task 6: Saving Complete Model During Training"
      ]
    },
    {
      "cell_type": "code",
      "execution_count": 10,
      "metadata": {
        "colab": {
          "base_uri": "https://localhost:8080/"
        },
        "id": "1Mov-Q0TXK_D",
        "outputId": "2b71f5ab-3ec8-408d-8ebc-dccbff5d28b7"
      },
      "outputs": [
        {
          "output_type": "stream",
          "name": "stdout",
          "text": [
            "Epoch 1/2\n",
            "118/118 [==============================] - 1s 7ms/step - loss: 0.7071 - acc: 0.7614 - val_loss: 0.4987 - val_acc: 0.8225\n",
            "Epoch 2/2\n",
            "118/118 [==============================] - 1s 5ms/step - loss: 0.4351 - acc: 0.8480 - val_loss: 0.4543 - val_acc: 0.8379\n"
          ]
        }
      ],
      "source": [
        "models_dir = 'models'\n",
        "\n",
        "model = create_model()\n",
        "\n",
        "_ = model.fit(\n",
        "    x_train, y_train,\n",
        "    validation_data=(x_test, y_test),\n",
        "    epochs=2,\n",
        "    batch_size=512,\n",
        "    callbacks=[\n",
        "        tf.keras.callbacks.ModelCheckpoint(\n",
        "            os.path.join(models_dir, 'epoch_{epoch:02d}_acc_{val_acc:.4f}.h5'),\n",
        "            monitor='val_acc', save_weights_only=False, save_best_only=False\n",
        "        )\n",
        "    ]\n",
        ")"
      ]
    },
    {
      "cell_type": "code",
      "execution_count": 11,
      "metadata": {
        "colab": {
          "base_uri": "https://localhost:8080/"
        },
        "id": "9cLJzDEFXK_F",
        "outputId": "4db38c34-f30f-42de-8f0c-c98e481ea254"
      },
      "outputs": [
        {
          "output_type": "execute_result",
          "data": {
            "text/plain": [
              "['epoch_02_acc_0.8379.h5', 'epoch_01_acc_0.8225.h5']"
            ]
          },
          "metadata": {},
          "execution_count": 11
        }
      ],
      "source": [
        "os.listdir(models_dir)"
      ]
    },
    {
      "cell_type": "markdown",
      "metadata": {
        "id": "Tjruh4wGXK_H"
      },
      "source": [
        "## Task 7: Load Models"
      ]
    },
    {
      "cell_type": "code",
      "execution_count": 12,
      "metadata": {
        "colab": {
          "base_uri": "https://localhost:8080/"
        },
        "id": "_GnTOKFqXK_I",
        "outputId": "d3291965-bd61-42e9-e815-3a029cb3332c"
      },
      "outputs": [
        {
          "output_type": "stream",
          "name": "stdout",
          "text": [
            "[2.4234790802001953, 0.10050000250339508]\n"
          ]
        }
      ],
      "source": [
        "model = create_model()\n",
        "print(model.evaluate(x_test, y_test, verbose=False))"
      ]
    },
    {
      "cell_type": "code",
      "execution_count": 14,
      "metadata": {
        "colab": {
          "base_uri": "https://localhost:8080/"
        },
        "id": "W5jMHMCdXK_K",
        "outputId": "2c46b970-ffd2-439e-f5c7-93beb6a60152"
      },
      "outputs": [
        {
          "output_type": "stream",
          "name": "stdout",
          "text": [
            "Model: \"sequential_2\"\n",
            "_________________________________________________________________\n",
            " Layer (type)                Output Shape              Param #   \n",
            "=================================================================\n",
            " dense_6 (Dense)             (None, 128)               100480    \n",
            "                                                                 \n",
            " dense_7 (Dense)             (None, 128)               16512     \n",
            "                                                                 \n",
            " dense_8 (Dense)             (None, 10)                1290      \n",
            "                                                                 \n",
            "=================================================================\n",
            "Total params: 118,282\n",
            "Trainable params: 118,282\n",
            "Non-trainable params: 0\n",
            "_________________________________________________________________\n",
            "[0.454302042722702, 0.8378999829292297]\n"
          ]
        }
      ],
      "source": [
        "model = tf.keras.models.load_model('models/epoch_02_acc_0.8379.h5')\n",
        "model.summary()\n",
        "print(model.evaluate(x_test, y_test, verbose=False))"
      ]
    },
    {
      "cell_type": "markdown",
      "metadata": {
        "id": "pMaaUA-aXK_L"
      },
      "source": [
        "## Task 8: Manually Saving Weights and Models"
      ]
    },
    {
      "cell_type": "code",
      "execution_count": 15,
      "metadata": {
        "colab": {
          "base_uri": "https://localhost:8080/"
        },
        "id": "tRCZt0bGXK_M",
        "outputId": "9141ada4-5b24-40ce-d477-8bbf9d034030"
      },
      "outputs": [
        {
          "output_type": "stream",
          "name": "stdout",
          "text": [
            "['manually_saved.index', 'checkpoint', 'manually_saved.data-00000-of-00001']\n"
          ]
        }
      ],
      "source": [
        "model.save_weights('tmp/manually_saved')\n",
        "print(os.listdir('tmp'))"
      ]
    },
    {
      "cell_type": "code",
      "execution_count": 16,
      "metadata": {
        "colab": {
          "base_uri": "https://localhost:8080/"
        },
        "id": "Ja5ZRTlbXK_N",
        "outputId": "edd88d82-2b9b-4521-bbfe-153c609412eb"
      },
      "outputs": [
        {
          "output_type": "stream",
          "name": "stdout",
          "text": [
            "['manually_saved.index', 'checkpoint', 'manually_saved.data-00000-of-00001', 'manually_saved_model.h5']\n"
          ]
        }
      ],
      "source": [
        "model.save('tmp/manually_saved_model.h5')\n",
        "print(os.listdir('tmp'))"
      ]
    },
    {
      "cell_type": "markdown",
      "metadata": {
        "id": "WixmOrIsXK_O"
      },
      "source": [
        "## Task 9: Exporting and Restoring SavedModel Format"
      ]
    },
    {
      "cell_type": "code",
      "execution_count": 17,
      "metadata": {
        "colab": {
          "base_uri": "https://localhost:8080/"
        },
        "id": "lFu_hDh-XK_Q",
        "outputId": "48b0e313-12b7-4fc0-f2a8-50e8abbaa15d"
      },
      "outputs": [
        {
          "output_type": "stream",
          "name": "stdout",
          "text": [
            "INFO:tensorflow:Assets written to: model_name/assets\n",
            "['variables', 'keras_metadata.pb', 'saved_model.pb', 'assets']\n"
          ]
        }
      ],
      "source": [
        "model.save('model_name')\n",
        "print(os.listdir('model_name'))"
      ]
    },
    {
      "cell_type": "code",
      "execution_count": 18,
      "metadata": {
        "colab": {
          "base_uri": "https://localhost:8080/"
        },
        "id": "wpIPatO_XK_R",
        "outputId": "e6be7f8f-065e-4c7b-ee0f-3e5a5b1e3bcb"
      },
      "outputs": [
        {
          "output_type": "stream",
          "name": "stdout",
          "text": [
            "[0.454302042722702, 0.8378999829292297]\n"
          ]
        }
      ],
      "source": [
        "model = tf.keras.models.load_model('model_name')\n",
        "print(model.evaluate(x_test, y_test, verbose=False))"
      ]
    }
  ],
  "metadata": {
    "kernelspec": {
      "display_name": "Python 3",
      "language": "python",
      "name": "python3"
    },
    "language_info": {
      "codemirror_mode": {
        "name": "ipython",
        "version": 3
      },
      "file_extension": ".py",
      "mimetype": "text/x-python",
      "name": "python",
      "nbconvert_exporter": "python",
      "pygments_lexer": "ipython3",
      "version": "3.8.8"
    },
    "colab": {
      "name": "Save, Load and Export Keras Models - Completed.ipynb",
      "provenance": []
    },
    "accelerator": "GPU"
  },
  "nbformat": 4,
  "nbformat_minor": 0
}