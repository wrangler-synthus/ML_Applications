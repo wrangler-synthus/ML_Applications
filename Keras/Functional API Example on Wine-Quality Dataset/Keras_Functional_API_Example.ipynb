{
  "cells": [
    {
      "cell_type": "markdown",
      "metadata": {
        "id": "ZL_6GK8qX35J"
      },
      "source": [
        "\n",
        "\n",
        "# Multiple Output Models using the Keras Functional API\n",
        "\n",
        "Welcome to the first programming assignment of the course! Your task will be to use the Keras functional API to train a model to predict two outputs. For this lab, you will use the **[Wine Quality Dataset](https://archive.ics.uci.edu/ml/datasets/Wine+Quality)** from the **UCI machine learning repository**. It has separate datasets for red wine and white wine.\n",
        "\n",
        "Normally, the wines are classified into one of the quality ratings specified in the attributes. In this exercise, you will combine the two datasets to predict the wine quality and whether the wine is red or white solely from the attributes. \n",
        "\n",
        "You will model wine quality estimations as a regression problem and wine type detection as a binary classification problem.\n"
      ]
    },
    {
      "cell_type": "markdown",
      "metadata": {
        "id": "obdcD6urYBY9"
      },
      "source": [
        "## Imports"
      ]
    },
    {
      "cell_type": "code",
      "execution_count": 1,
      "metadata": {
        "id": "t8N3pcTQ5oQI"
      },
      "outputs": [],
      "source": [
        "import tensorflow as tf\n",
        "from tensorflow.keras.models import Model\n",
        "from tensorflow.keras.layers import Dense, Input\n",
        "\n",
        "import numpy as np\n",
        "import matplotlib.pyplot as plt\n",
        "import pandas as pd\n",
        "from sklearn.model_selection import train_test_split\n",
        "from sklearn.metrics import confusion_matrix\n",
        "import itertools"
      ]
    },
    {
      "cell_type": "markdown",
      "metadata": {
        "id": "gQMERzWQYpgm"
      },
      "source": [
        "## Load Dataset\n",
        "\n",
        "\n",
        "You will now download the dataset from the [UCI Machine Learning Repository](https://archive.ics.uci.edu/ml/index.php). \n",
        "\n",
        "### Pre-process the white wine dataset\n",
        "You will add a new column named `is_red` in your dataframe to indicate if the wine is white or red. \n",
        "- In the white wine dataset, you will fill the column `is_red` with  zeros (0)."
      ]
    },
    {
      "cell_type": "code",
      "execution_count": 2,
      "metadata": {
        "deletable": false,
        "id": "2qYAjKXCd4RH",
        "nbgrader": {
          "cell_type": "code",
          "checksum": "cb9f284ba6255170fe04a309a407d72d",
          "grade": false,
          "grade_id": "cell-e5bfa0f152d9a21f",
          "locked": false,
          "schema_version": 3,
          "solution": true,
          "task": false
        }
      },
      "outputs": [],
      "source": [
        "# # URL of the white wine dataset\n",
        "URL = 'http://archive.ics.uci.edu/ml/machine-learning-databases/wine-quality/winequality-white.csv'\n",
        "\n",
        "# # load the dataset from the URL\n",
        "white_df = pd.read_csv(URL, sep=\";\")\n",
        "\n",
        "# # fill the `is_red` column with zeros.\n",
        "white_df[\"is_red\"] = [0] * (white_df.shape[0])\n",
        "\n",
        "# # keep only the first of duplicate items\n",
        "white_df = white_df.drop_duplicates(keep='first')\n"
      ]
    },
    {
      "cell_type": "code",
      "execution_count": 3,
      "metadata": {
        "colab": {
          "base_uri": "https://localhost:8080/",
          "height": 206
        },
        "id": "1uRgy_te3U8N",
        "outputId": "89d1a45b-8ec3-4ff7-cfef-dd27f27f3ad5"
      },
      "outputs": [
        {
          "output_type": "execute_result",
          "data": {
            "text/html": [
              "\n",
              "  <div id=\"df-c77d4c3c-089f-4a05-bd50-f46339e7b057\">\n",
              "    <div class=\"colab-df-container\">\n",
              "      <div>\n",
              "<style scoped>\n",
              "    .dataframe tbody tr th:only-of-type {\n",
              "        vertical-align: middle;\n",
              "    }\n",
              "\n",
              "    .dataframe tbody tr th {\n",
              "        vertical-align: top;\n",
              "    }\n",
              "\n",
              "    .dataframe thead th {\n",
              "        text-align: right;\n",
              "    }\n",
              "</style>\n",
              "<table border=\"1\" class=\"dataframe\">\n",
              "  <thead>\n",
              "    <tr style=\"text-align: right;\">\n",
              "      <th></th>\n",
              "      <th>fixed acidity</th>\n",
              "      <th>volatile acidity</th>\n",
              "      <th>citric acid</th>\n",
              "      <th>residual sugar</th>\n",
              "      <th>chlorides</th>\n",
              "      <th>free sulfur dioxide</th>\n",
              "      <th>total sulfur dioxide</th>\n",
              "      <th>density</th>\n",
              "      <th>pH</th>\n",
              "      <th>sulphates</th>\n",
              "      <th>alcohol</th>\n",
              "      <th>quality</th>\n",
              "      <th>is_red</th>\n",
              "    </tr>\n",
              "  </thead>\n",
              "  <tbody>\n",
              "    <tr>\n",
              "      <th>0</th>\n",
              "      <td>7.0</td>\n",
              "      <td>0.27</td>\n",
              "      <td>0.36</td>\n",
              "      <td>20.7</td>\n",
              "      <td>0.045</td>\n",
              "      <td>45.0</td>\n",
              "      <td>170.0</td>\n",
              "      <td>1.0010</td>\n",
              "      <td>3.00</td>\n",
              "      <td>0.45</td>\n",
              "      <td>8.8</td>\n",
              "      <td>6</td>\n",
              "      <td>0</td>\n",
              "    </tr>\n",
              "    <tr>\n",
              "      <th>1</th>\n",
              "      <td>6.3</td>\n",
              "      <td>0.30</td>\n",
              "      <td>0.34</td>\n",
              "      <td>1.6</td>\n",
              "      <td>0.049</td>\n",
              "      <td>14.0</td>\n",
              "      <td>132.0</td>\n",
              "      <td>0.9940</td>\n",
              "      <td>3.30</td>\n",
              "      <td>0.49</td>\n",
              "      <td>9.5</td>\n",
              "      <td>6</td>\n",
              "      <td>0</td>\n",
              "    </tr>\n",
              "    <tr>\n",
              "      <th>2</th>\n",
              "      <td>8.1</td>\n",
              "      <td>0.28</td>\n",
              "      <td>0.40</td>\n",
              "      <td>6.9</td>\n",
              "      <td>0.050</td>\n",
              "      <td>30.0</td>\n",
              "      <td>97.0</td>\n",
              "      <td>0.9951</td>\n",
              "      <td>3.26</td>\n",
              "      <td>0.44</td>\n",
              "      <td>10.1</td>\n",
              "      <td>6</td>\n",
              "      <td>0</td>\n",
              "    </tr>\n",
              "    <tr>\n",
              "      <th>3</th>\n",
              "      <td>7.2</td>\n",
              "      <td>0.23</td>\n",
              "      <td>0.32</td>\n",
              "      <td>8.5</td>\n",
              "      <td>0.058</td>\n",
              "      <td>47.0</td>\n",
              "      <td>186.0</td>\n",
              "      <td>0.9956</td>\n",
              "      <td>3.19</td>\n",
              "      <td>0.40</td>\n",
              "      <td>9.9</td>\n",
              "      <td>6</td>\n",
              "      <td>0</td>\n",
              "    </tr>\n",
              "    <tr>\n",
              "      <th>6</th>\n",
              "      <td>6.2</td>\n",
              "      <td>0.32</td>\n",
              "      <td>0.16</td>\n",
              "      <td>7.0</td>\n",
              "      <td>0.045</td>\n",
              "      <td>30.0</td>\n",
              "      <td>136.0</td>\n",
              "      <td>0.9949</td>\n",
              "      <td>3.18</td>\n",
              "      <td>0.47</td>\n",
              "      <td>9.6</td>\n",
              "      <td>6</td>\n",
              "      <td>0</td>\n",
              "    </tr>\n",
              "  </tbody>\n",
              "</table>\n",
              "</div>\n",
              "      <button class=\"colab-df-convert\" onclick=\"convertToInteractive('df-c77d4c3c-089f-4a05-bd50-f46339e7b057')\"\n",
              "              title=\"Convert this dataframe to an interactive table.\"\n",
              "              style=\"display:none;\">\n",
              "        \n",
              "  <svg xmlns=\"http://www.w3.org/2000/svg\" height=\"24px\"viewBox=\"0 0 24 24\"\n",
              "       width=\"24px\">\n",
              "    <path d=\"M0 0h24v24H0V0z\" fill=\"none\"/>\n",
              "    <path d=\"M18.56 5.44l.94 2.06.94-2.06 2.06-.94-2.06-.94-.94-2.06-.94 2.06-2.06.94zm-11 1L8.5 8.5l.94-2.06 2.06-.94-2.06-.94L8.5 2.5l-.94 2.06-2.06.94zm10 10l.94 2.06.94-2.06 2.06-.94-2.06-.94-.94-2.06-.94 2.06-2.06.94z\"/><path d=\"M17.41 7.96l-1.37-1.37c-.4-.4-.92-.59-1.43-.59-.52 0-1.04.2-1.43.59L10.3 9.45l-7.72 7.72c-.78.78-.78 2.05 0 2.83L4 21.41c.39.39.9.59 1.41.59.51 0 1.02-.2 1.41-.59l7.78-7.78 2.81-2.81c.8-.78.8-2.07 0-2.86zM5.41 20L4 18.59l7.72-7.72 1.47 1.35L5.41 20z\"/>\n",
              "  </svg>\n",
              "      </button>\n",
              "      \n",
              "  <style>\n",
              "    .colab-df-container {\n",
              "      display:flex;\n",
              "      flex-wrap:wrap;\n",
              "      gap: 12px;\n",
              "    }\n",
              "\n",
              "    .colab-df-convert {\n",
              "      background-color: #E8F0FE;\n",
              "      border: none;\n",
              "      border-radius: 50%;\n",
              "      cursor: pointer;\n",
              "      display: none;\n",
              "      fill: #1967D2;\n",
              "      height: 32px;\n",
              "      padding: 0 0 0 0;\n",
              "      width: 32px;\n",
              "    }\n",
              "\n",
              "    .colab-df-convert:hover {\n",
              "      background-color: #E2EBFA;\n",
              "      box-shadow: 0px 1px 2px rgba(60, 64, 67, 0.3), 0px 1px 3px 1px rgba(60, 64, 67, 0.15);\n",
              "      fill: #174EA6;\n",
              "    }\n",
              "\n",
              "    [theme=dark] .colab-df-convert {\n",
              "      background-color: #3B4455;\n",
              "      fill: #D2E3FC;\n",
              "    }\n",
              "\n",
              "    [theme=dark] .colab-df-convert:hover {\n",
              "      background-color: #434B5C;\n",
              "      box-shadow: 0px 1px 3px 1px rgba(0, 0, 0, 0.15);\n",
              "      filter: drop-shadow(0px 1px 2px rgba(0, 0, 0, 0.3));\n",
              "      fill: #FFFFFF;\n",
              "    }\n",
              "  </style>\n",
              "\n",
              "      <script>\n",
              "        const buttonEl =\n",
              "          document.querySelector('#df-c77d4c3c-089f-4a05-bd50-f46339e7b057 button.colab-df-convert');\n",
              "        buttonEl.style.display =\n",
              "          google.colab.kernel.accessAllowed ? 'block' : 'none';\n",
              "\n",
              "        async function convertToInteractive(key) {\n",
              "          const element = document.querySelector('#df-c77d4c3c-089f-4a05-bd50-f46339e7b057');\n",
              "          const dataTable =\n",
              "            await google.colab.kernel.invokeFunction('convertToInteractive',\n",
              "                                                     [key], {});\n",
              "          if (!dataTable) return;\n",
              "\n",
              "          const docLinkHtml = 'Like what you see? Visit the ' +\n",
              "            '<a target=\"_blank\" href=https://colab.research.google.com/notebooks/data_table.ipynb>data table notebook</a>'\n",
              "            + ' to learn more about interactive tables.';\n",
              "          element.innerHTML = '';\n",
              "          dataTable['output_type'] = 'display_data';\n",
              "          await google.colab.output.renderOutput(dataTable, element);\n",
              "          const docLink = document.createElement('div');\n",
              "          docLink.innerHTML = docLinkHtml;\n",
              "          element.appendChild(docLink);\n",
              "        }\n",
              "      </script>\n",
              "    </div>\n",
              "  </div>\n",
              "  "
            ],
            "text/plain": [
              "   fixed acidity  volatile acidity  citric acid  ...  alcohol  quality  is_red\n",
              "0            7.0              0.27         0.36  ...      8.8        6       0\n",
              "1            6.3              0.30         0.34  ...      9.5        6       0\n",
              "2            8.1              0.28         0.40  ...     10.1        6       0\n",
              "3            7.2              0.23         0.32  ...      9.9        6       0\n",
              "6            6.2              0.32         0.16  ...      9.6        6       0\n",
              "\n",
              "[5 rows x 13 columns]"
            ]
          },
          "metadata": {},
          "execution_count": 3
        }
      ],
      "source": [
        "white_df.head()"
      ]
    },
    {
      "cell_type": "markdown",
      "metadata": {
        "id": "UUOrSf2G3U8P"
      },
      "source": [
        "### Pre-process the red wine dataset\n",
        "- In the red wine dataset, you will fill in the column `is_red` with ones (1)."
      ]
    },
    {
      "cell_type": "code",
      "execution_count": 4,
      "metadata": {
        "deletable": false,
        "id": "8y3QxKwBed8v",
        "nbgrader": {
          "cell_type": "code",
          "checksum": "be72275f78e2c2d0038dde9aa63f8d4f",
          "grade": false,
          "grade_id": "cell-e47a40f306593274",
          "locked": false,
          "schema_version": 3,
          "solution": true,
          "task": false
        }
      },
      "outputs": [],
      "source": [
        "# URL of the red wine dataset\n",
        "URL = 'http://archive.ics.uci.edu/ml/machine-learning-databases/wine-quality/winequality-red.csv'\n",
        "\n",
        "# # load the dataset from the URL\n",
        "red_df = pd.read_csv(URL, sep=\";\")\n",
        "\n",
        "# # fill the `is_red` column with ones.\n",
        "red_df[\"is_red\"] =  [1] * red_df.shape[0]\n",
        "\n",
        "# # keep only the first of duplicate items\n",
        "red_df = red_df.drop_duplicates(keep='first')\n"
      ]
    },
    {
      "cell_type": "code",
      "execution_count": 5,
      "metadata": {
        "colab": {
          "base_uri": "https://localhost:8080/",
          "height": 206
        },
        "id": "bgcXvaWI3U8X",
        "outputId": "1b56e5c4-d6ad-497f-9d6c-9eafbba988ec"
      },
      "outputs": [
        {
          "output_type": "execute_result",
          "data": {
            "text/html": [
              "\n",
              "  <div id=\"df-f1bb38d4-cb77-49d3-ac31-cdebdf52834a\">\n",
              "    <div class=\"colab-df-container\">\n",
              "      <div>\n",
              "<style scoped>\n",
              "    .dataframe tbody tr th:only-of-type {\n",
              "        vertical-align: middle;\n",
              "    }\n",
              "\n",
              "    .dataframe tbody tr th {\n",
              "        vertical-align: top;\n",
              "    }\n",
              "\n",
              "    .dataframe thead th {\n",
              "        text-align: right;\n",
              "    }\n",
              "</style>\n",
              "<table border=\"1\" class=\"dataframe\">\n",
              "  <thead>\n",
              "    <tr style=\"text-align: right;\">\n",
              "      <th></th>\n",
              "      <th>fixed acidity</th>\n",
              "      <th>volatile acidity</th>\n",
              "      <th>citric acid</th>\n",
              "      <th>residual sugar</th>\n",
              "      <th>chlorides</th>\n",
              "      <th>free sulfur dioxide</th>\n",
              "      <th>total sulfur dioxide</th>\n",
              "      <th>density</th>\n",
              "      <th>pH</th>\n",
              "      <th>sulphates</th>\n",
              "      <th>alcohol</th>\n",
              "      <th>quality</th>\n",
              "      <th>is_red</th>\n",
              "    </tr>\n",
              "  </thead>\n",
              "  <tbody>\n",
              "    <tr>\n",
              "      <th>0</th>\n",
              "      <td>7.4</td>\n",
              "      <td>0.70</td>\n",
              "      <td>0.00</td>\n",
              "      <td>1.9</td>\n",
              "      <td>0.076</td>\n",
              "      <td>11.0</td>\n",
              "      <td>34.0</td>\n",
              "      <td>0.9978</td>\n",
              "      <td>3.51</td>\n",
              "      <td>0.56</td>\n",
              "      <td>9.4</td>\n",
              "      <td>5</td>\n",
              "      <td>1</td>\n",
              "    </tr>\n",
              "    <tr>\n",
              "      <th>1</th>\n",
              "      <td>7.8</td>\n",
              "      <td>0.88</td>\n",
              "      <td>0.00</td>\n",
              "      <td>2.6</td>\n",
              "      <td>0.098</td>\n",
              "      <td>25.0</td>\n",
              "      <td>67.0</td>\n",
              "      <td>0.9968</td>\n",
              "      <td>3.20</td>\n",
              "      <td>0.68</td>\n",
              "      <td>9.8</td>\n",
              "      <td>5</td>\n",
              "      <td>1</td>\n",
              "    </tr>\n",
              "    <tr>\n",
              "      <th>2</th>\n",
              "      <td>7.8</td>\n",
              "      <td>0.76</td>\n",
              "      <td>0.04</td>\n",
              "      <td>2.3</td>\n",
              "      <td>0.092</td>\n",
              "      <td>15.0</td>\n",
              "      <td>54.0</td>\n",
              "      <td>0.9970</td>\n",
              "      <td>3.26</td>\n",
              "      <td>0.65</td>\n",
              "      <td>9.8</td>\n",
              "      <td>5</td>\n",
              "      <td>1</td>\n",
              "    </tr>\n",
              "    <tr>\n",
              "      <th>3</th>\n",
              "      <td>11.2</td>\n",
              "      <td>0.28</td>\n",
              "      <td>0.56</td>\n",
              "      <td>1.9</td>\n",
              "      <td>0.075</td>\n",
              "      <td>17.0</td>\n",
              "      <td>60.0</td>\n",
              "      <td>0.9980</td>\n",
              "      <td>3.16</td>\n",
              "      <td>0.58</td>\n",
              "      <td>9.8</td>\n",
              "      <td>6</td>\n",
              "      <td>1</td>\n",
              "    </tr>\n",
              "    <tr>\n",
              "      <th>5</th>\n",
              "      <td>7.4</td>\n",
              "      <td>0.66</td>\n",
              "      <td>0.00</td>\n",
              "      <td>1.8</td>\n",
              "      <td>0.075</td>\n",
              "      <td>13.0</td>\n",
              "      <td>40.0</td>\n",
              "      <td>0.9978</td>\n",
              "      <td>3.51</td>\n",
              "      <td>0.56</td>\n",
              "      <td>9.4</td>\n",
              "      <td>5</td>\n",
              "      <td>1</td>\n",
              "    </tr>\n",
              "  </tbody>\n",
              "</table>\n",
              "</div>\n",
              "      <button class=\"colab-df-convert\" onclick=\"convertToInteractive('df-f1bb38d4-cb77-49d3-ac31-cdebdf52834a')\"\n",
              "              title=\"Convert this dataframe to an interactive table.\"\n",
              "              style=\"display:none;\">\n",
              "        \n",
              "  <svg xmlns=\"http://www.w3.org/2000/svg\" height=\"24px\"viewBox=\"0 0 24 24\"\n",
              "       width=\"24px\">\n",
              "    <path d=\"M0 0h24v24H0V0z\" fill=\"none\"/>\n",
              "    <path d=\"M18.56 5.44l.94 2.06.94-2.06 2.06-.94-2.06-.94-.94-2.06-.94 2.06-2.06.94zm-11 1L8.5 8.5l.94-2.06 2.06-.94-2.06-.94L8.5 2.5l-.94 2.06-2.06.94zm10 10l.94 2.06.94-2.06 2.06-.94-2.06-.94-.94-2.06-.94 2.06-2.06.94z\"/><path d=\"M17.41 7.96l-1.37-1.37c-.4-.4-.92-.59-1.43-.59-.52 0-1.04.2-1.43.59L10.3 9.45l-7.72 7.72c-.78.78-.78 2.05 0 2.83L4 21.41c.39.39.9.59 1.41.59.51 0 1.02-.2 1.41-.59l7.78-7.78 2.81-2.81c.8-.78.8-2.07 0-2.86zM5.41 20L4 18.59l7.72-7.72 1.47 1.35L5.41 20z\"/>\n",
              "  </svg>\n",
              "      </button>\n",
              "      \n",
              "  <style>\n",
              "    .colab-df-container {\n",
              "      display:flex;\n",
              "      flex-wrap:wrap;\n",
              "      gap: 12px;\n",
              "    }\n",
              "\n",
              "    .colab-df-convert {\n",
              "      background-color: #E8F0FE;\n",
              "      border: none;\n",
              "      border-radius: 50%;\n",
              "      cursor: pointer;\n",
              "      display: none;\n",
              "      fill: #1967D2;\n",
              "      height: 32px;\n",
              "      padding: 0 0 0 0;\n",
              "      width: 32px;\n",
              "    }\n",
              "\n",
              "    .colab-df-convert:hover {\n",
              "      background-color: #E2EBFA;\n",
              "      box-shadow: 0px 1px 2px rgba(60, 64, 67, 0.3), 0px 1px 3px 1px rgba(60, 64, 67, 0.15);\n",
              "      fill: #174EA6;\n",
              "    }\n",
              "\n",
              "    [theme=dark] .colab-df-convert {\n",
              "      background-color: #3B4455;\n",
              "      fill: #D2E3FC;\n",
              "    }\n",
              "\n",
              "    [theme=dark] .colab-df-convert:hover {\n",
              "      background-color: #434B5C;\n",
              "      box-shadow: 0px 1px 3px 1px rgba(0, 0, 0, 0.15);\n",
              "      filter: drop-shadow(0px 1px 2px rgba(0, 0, 0, 0.3));\n",
              "      fill: #FFFFFF;\n",
              "    }\n",
              "  </style>\n",
              "\n",
              "      <script>\n",
              "        const buttonEl =\n",
              "          document.querySelector('#df-f1bb38d4-cb77-49d3-ac31-cdebdf52834a button.colab-df-convert');\n",
              "        buttonEl.style.display =\n",
              "          google.colab.kernel.accessAllowed ? 'block' : 'none';\n",
              "\n",
              "        async function convertToInteractive(key) {\n",
              "          const element = document.querySelector('#df-f1bb38d4-cb77-49d3-ac31-cdebdf52834a');\n",
              "          const dataTable =\n",
              "            await google.colab.kernel.invokeFunction('convertToInteractive',\n",
              "                                                     [key], {});\n",
              "          if (!dataTable) return;\n",
              "\n",
              "          const docLinkHtml = 'Like what you see? Visit the ' +\n",
              "            '<a target=\"_blank\" href=https://colab.research.google.com/notebooks/data_table.ipynb>data table notebook</a>'\n",
              "            + ' to learn more about interactive tables.';\n",
              "          element.innerHTML = '';\n",
              "          dataTable['output_type'] = 'display_data';\n",
              "          await google.colab.output.renderOutput(dataTable, element);\n",
              "          const docLink = document.createElement('div');\n",
              "          docLink.innerHTML = docLinkHtml;\n",
              "          element.appendChild(docLink);\n",
              "        }\n",
              "      </script>\n",
              "    </div>\n",
              "  </div>\n",
              "  "
            ],
            "text/plain": [
              "   fixed acidity  volatile acidity  citric acid  ...  alcohol  quality  is_red\n",
              "0            7.4              0.70         0.00  ...      9.4        5       1\n",
              "1            7.8              0.88         0.00  ...      9.8        5       1\n",
              "2            7.8              0.76         0.04  ...      9.8        5       1\n",
              "3           11.2              0.28         0.56  ...      9.8        6       1\n",
              "5            7.4              0.66         0.00  ...      9.4        5       1\n",
              "\n",
              "[5 rows x 13 columns]"
            ]
          },
          "metadata": {},
          "execution_count": 5
        }
      ],
      "source": [
        "red_df.head()"
      ]
    },
    {
      "cell_type": "markdown",
      "metadata": {
        "id": "2G8B-NYuM6-f"
      },
      "source": [
        "### Concatenate the datasets\n",
        "\n",
        "Next, concatenate the red and white wine dataframes."
      ]
    },
    {
      "cell_type": "code",
      "execution_count": 6,
      "metadata": {
        "id": "YpQrOjJbfN3m"
      },
      "outputs": [],
      "source": [
        "df = pd.concat([red_df, white_df], ignore_index=True)"
      ]
    },
    {
      "cell_type": "code",
      "execution_count": 7,
      "metadata": {
        "id": "wx6y3rPpQv4k"
      },
      "outputs": [],
      "source": [
        "# NOTE: In a real-world scenario, you should shuffle the data.\n",
        "\n",
        "df = df.iloc[np.random.permutation(len(df))]"
      ]
    },
    {
      "cell_type": "code",
      "source": [
        "df.head()"
      ],
      "metadata": {
        "colab": {
          "base_uri": "https://localhost:8080/",
          "height": 206
        },
        "id": "GmXO62WU37mH",
        "outputId": "8a439eb3-803b-43d3-86a5-b6a4d4a9d2f7"
      },
      "execution_count": 8,
      "outputs": [
        {
          "output_type": "execute_result",
          "data": {
            "text/html": [
              "\n",
              "  <div id=\"df-4830a457-82e1-4d21-9f0d-19dcd13f92ac\">\n",
              "    <div class=\"colab-df-container\">\n",
              "      <div>\n",
              "<style scoped>\n",
              "    .dataframe tbody tr th:only-of-type {\n",
              "        vertical-align: middle;\n",
              "    }\n",
              "\n",
              "    .dataframe tbody tr th {\n",
              "        vertical-align: top;\n",
              "    }\n",
              "\n",
              "    .dataframe thead th {\n",
              "        text-align: right;\n",
              "    }\n",
              "</style>\n",
              "<table border=\"1\" class=\"dataframe\">\n",
              "  <thead>\n",
              "    <tr style=\"text-align: right;\">\n",
              "      <th></th>\n",
              "      <th>fixed acidity</th>\n",
              "      <th>volatile acidity</th>\n",
              "      <th>citric acid</th>\n",
              "      <th>residual sugar</th>\n",
              "      <th>chlorides</th>\n",
              "      <th>free sulfur dioxide</th>\n",
              "      <th>total sulfur dioxide</th>\n",
              "      <th>density</th>\n",
              "      <th>pH</th>\n",
              "      <th>sulphates</th>\n",
              "      <th>alcohol</th>\n",
              "      <th>quality</th>\n",
              "      <th>is_red</th>\n",
              "    </tr>\n",
              "  </thead>\n",
              "  <tbody>\n",
              "    <tr>\n",
              "      <th>3810</th>\n",
              "      <td>6.6</td>\n",
              "      <td>0.23</td>\n",
              "      <td>0.20</td>\n",
              "      <td>11.4</td>\n",
              "      <td>0.044</td>\n",
              "      <td>45.0</td>\n",
              "      <td>131.0</td>\n",
              "      <td>0.99604</td>\n",
              "      <td>2.96</td>\n",
              "      <td>0.51</td>\n",
              "      <td>9.7</td>\n",
              "      <td>6</td>\n",
              "      <td>0</td>\n",
              "    </tr>\n",
              "    <tr>\n",
              "      <th>397</th>\n",
              "      <td>11.3</td>\n",
              "      <td>0.62</td>\n",
              "      <td>0.67</td>\n",
              "      <td>5.2</td>\n",
              "      <td>0.086</td>\n",
              "      <td>6.0</td>\n",
              "      <td>19.0</td>\n",
              "      <td>0.99880</td>\n",
              "      <td>3.22</td>\n",
              "      <td>0.69</td>\n",
              "      <td>13.4</td>\n",
              "      <td>8</td>\n",
              "      <td>1</td>\n",
              "    </tr>\n",
              "    <tr>\n",
              "      <th>3997</th>\n",
              "      <td>7.2</td>\n",
              "      <td>0.13</td>\n",
              "      <td>0.46</td>\n",
              "      <td>1.3</td>\n",
              "      <td>0.044</td>\n",
              "      <td>48.0</td>\n",
              "      <td>111.0</td>\n",
              "      <td>0.99127</td>\n",
              "      <td>2.97</td>\n",
              "      <td>0.45</td>\n",
              "      <td>11.1</td>\n",
              "      <td>5</td>\n",
              "      <td>0</td>\n",
              "    </tr>\n",
              "    <tr>\n",
              "      <th>4496</th>\n",
              "      <td>6.1</td>\n",
              "      <td>0.23</td>\n",
              "      <td>0.27</td>\n",
              "      <td>9.8</td>\n",
              "      <td>0.055</td>\n",
              "      <td>74.0</td>\n",
              "      <td>134.0</td>\n",
              "      <td>0.99534</td>\n",
              "      <td>3.16</td>\n",
              "      <td>0.40</td>\n",
              "      <td>10.2</td>\n",
              "      <td>6</td>\n",
              "      <td>0</td>\n",
              "    </tr>\n",
              "    <tr>\n",
              "      <th>3082</th>\n",
              "      <td>7.6</td>\n",
              "      <td>0.18</td>\n",
              "      <td>0.36</td>\n",
              "      <td>2.4</td>\n",
              "      <td>0.049</td>\n",
              "      <td>38.0</td>\n",
              "      <td>123.0</td>\n",
              "      <td>0.99600</td>\n",
              "      <td>3.60</td>\n",
              "      <td>0.46</td>\n",
              "      <td>10.3</td>\n",
              "      <td>5</td>\n",
              "      <td>0</td>\n",
              "    </tr>\n",
              "  </tbody>\n",
              "</table>\n",
              "</div>\n",
              "      <button class=\"colab-df-convert\" onclick=\"convertToInteractive('df-4830a457-82e1-4d21-9f0d-19dcd13f92ac')\"\n",
              "              title=\"Convert this dataframe to an interactive table.\"\n",
              "              style=\"display:none;\">\n",
              "        \n",
              "  <svg xmlns=\"http://www.w3.org/2000/svg\" height=\"24px\"viewBox=\"0 0 24 24\"\n",
              "       width=\"24px\">\n",
              "    <path d=\"M0 0h24v24H0V0z\" fill=\"none\"/>\n",
              "    <path d=\"M18.56 5.44l.94 2.06.94-2.06 2.06-.94-2.06-.94-.94-2.06-.94 2.06-2.06.94zm-11 1L8.5 8.5l.94-2.06 2.06-.94-2.06-.94L8.5 2.5l-.94 2.06-2.06.94zm10 10l.94 2.06.94-2.06 2.06-.94-2.06-.94-.94-2.06-.94 2.06-2.06.94z\"/><path d=\"M17.41 7.96l-1.37-1.37c-.4-.4-.92-.59-1.43-.59-.52 0-1.04.2-1.43.59L10.3 9.45l-7.72 7.72c-.78.78-.78 2.05 0 2.83L4 21.41c.39.39.9.59 1.41.59.51 0 1.02-.2 1.41-.59l7.78-7.78 2.81-2.81c.8-.78.8-2.07 0-2.86zM5.41 20L4 18.59l7.72-7.72 1.47 1.35L5.41 20z\"/>\n",
              "  </svg>\n",
              "      </button>\n",
              "      \n",
              "  <style>\n",
              "    .colab-df-container {\n",
              "      display:flex;\n",
              "      flex-wrap:wrap;\n",
              "      gap: 12px;\n",
              "    }\n",
              "\n",
              "    .colab-df-convert {\n",
              "      background-color: #E8F0FE;\n",
              "      border: none;\n",
              "      border-radius: 50%;\n",
              "      cursor: pointer;\n",
              "      display: none;\n",
              "      fill: #1967D2;\n",
              "      height: 32px;\n",
              "      padding: 0 0 0 0;\n",
              "      width: 32px;\n",
              "    }\n",
              "\n",
              "    .colab-df-convert:hover {\n",
              "      background-color: #E2EBFA;\n",
              "      box-shadow: 0px 1px 2px rgba(60, 64, 67, 0.3), 0px 1px 3px 1px rgba(60, 64, 67, 0.15);\n",
              "      fill: #174EA6;\n",
              "    }\n",
              "\n",
              "    [theme=dark] .colab-df-convert {\n",
              "      background-color: #3B4455;\n",
              "      fill: #D2E3FC;\n",
              "    }\n",
              "\n",
              "    [theme=dark] .colab-df-convert:hover {\n",
              "      background-color: #434B5C;\n",
              "      box-shadow: 0px 1px 3px 1px rgba(0, 0, 0, 0.15);\n",
              "      filter: drop-shadow(0px 1px 2px rgba(0, 0, 0, 0.3));\n",
              "      fill: #FFFFFF;\n",
              "    }\n",
              "  </style>\n",
              "\n",
              "      <script>\n",
              "        const buttonEl =\n",
              "          document.querySelector('#df-4830a457-82e1-4d21-9f0d-19dcd13f92ac button.colab-df-convert');\n",
              "        buttonEl.style.display =\n",
              "          google.colab.kernel.accessAllowed ? 'block' : 'none';\n",
              "\n",
              "        async function convertToInteractive(key) {\n",
              "          const element = document.querySelector('#df-4830a457-82e1-4d21-9f0d-19dcd13f92ac');\n",
              "          const dataTable =\n",
              "            await google.colab.kernel.invokeFunction('convertToInteractive',\n",
              "                                                     [key], {});\n",
              "          if (!dataTable) return;\n",
              "\n",
              "          const docLinkHtml = 'Like what you see? Visit the ' +\n",
              "            '<a target=\"_blank\" href=https://colab.research.google.com/notebooks/data_table.ipynb>data table notebook</a>'\n",
              "            + ' to learn more about interactive tables.';\n",
              "          element.innerHTML = '';\n",
              "          dataTable['output_type'] = 'display_data';\n",
              "          await google.colab.output.renderOutput(dataTable, element);\n",
              "          const docLink = document.createElement('div');\n",
              "          docLink.innerHTML = docLinkHtml;\n",
              "          element.appendChild(docLink);\n",
              "        }\n",
              "      </script>\n",
              "    </div>\n",
              "  </div>\n",
              "  "
            ],
            "text/plain": [
              "      fixed acidity  volatile acidity  citric acid  ...  alcohol  quality  is_red\n",
              "3810            6.6              0.23         0.20  ...      9.7        6       0\n",
              "397            11.3              0.62         0.67  ...     13.4        8       1\n",
              "3997            7.2              0.13         0.46  ...     11.1        5       0\n",
              "4496            6.1              0.23         0.27  ...     10.2        6       0\n",
              "3082            7.6              0.18         0.36  ...     10.3        5       0\n",
              "\n",
              "[5 rows x 13 columns]"
            ]
          },
          "metadata": {},
          "execution_count": 8
        }
      ]
    },
    {
      "cell_type": "markdown",
      "metadata": {
        "id": "-EqIcbg5M_n1"
      },
      "source": [
        "This will chart the quality of the wines."
      ]
    },
    {
      "cell_type": "code",
      "execution_count": 9,
      "metadata": {
        "colab": {
          "base_uri": "https://localhost:8080/",
          "height": 265
        },
        "id": "IsvK0-Sgy17C",
        "outputId": "f7f4d0d3-0d9b-41d4-cb0f-5ce77d9879ca"
      },
      "outputs": [
        {
          "output_type": "display_data",
          "data": {
            "image/png": "[encoded data removed]",
            "text/plain": [
              "<Figure size 432x288 with 1 Axes>"
            ]
          },
          "metadata": {
            "needs_background": "light"
          }
        }
      ],
      "source": [
        "df['quality'].hist(bins=20);"
      ]
    },
    {
      "cell_type": "markdown",
      "metadata": {
        "id": "Nut1rmYLzf-p"
      },
      "source": [
        "### Imbalanced \n",
        "You can see from the plot above that the wine quality dataset is imbalanced. \n",
        "- Since there are very few observations with quality equal to 3, 4, 8 and 9, you can drop these observations from your dataset. \n",
        "- You can do this by removing data belonging to all classes except those > 4 and < 8."
      ]
    },
    {
      "cell_type": "code",
      "execution_count": 10,
      "metadata": {
        "deletable": false,
        "id": "doH9_-gnf3sz",
        "nbgrader": {
          "cell_type": "code",
          "checksum": "d9ba9fc3a3ca02ccc567be33652b80fe",
          "grade": false,
          "grade_id": "cell-6a3e9db696f6827b",
          "locked": false,
          "schema_version": 3,
          "solution": true,
          "task": false
        }
      },
      "outputs": [],
      "source": [
        "# get data with wine quality greater than 4 and less than 8\n",
        "df = df[(df['quality'] > 4) & (df['quality'] < 8 )]\n",
        "\n",
        "# reset index and drop the old one\n",
        "df = df.reset_index(drop=True)"
      ]
    },
    {
      "cell_type": "markdown",
      "metadata": {
        "id": "cwhuRpnVRTzG"
      },
      "source": [
        "You can plot again to see the new range of data and quality"
      ]
    },
    {
      "cell_type": "code",
      "execution_count": 11,
      "metadata": {
        "colab": {
          "base_uri": "https://localhost:8080/",
          "height": 265
        },
        "id": "857ygzZiLgGg",
        "outputId": "af0c941b-aa64-4545-d6c6-2212a6dfcbb8"
      },
      "outputs": [
        {
          "output_type": "display_data",
          "data": {
            "image/png": "[encoded data removed]",
            "text/plain": [
              "<Figure size 432x288 with 1 Axes>"
            ]
          },
          "metadata": {
            "needs_background": "light"
          }
        }
      ],
      "source": [
        "df['quality'].hist(bins=20);"
      ]
    },
    {
      "cell_type": "markdown",
      "metadata": {
        "id": "n3k0vqSsp84t"
      },
      "source": [
        "### Train Test Split\n",
        "\n",
        "Next, you can split the datasets into training, test and validation datasets.\n",
        "- The data frame should be split 80:20 into `train` and `test` sets.\n",
        "- The resulting `train` should then be split 80:20 into `train` and `val` sets.\n",
        "- The `train_test_split` parameter `test_size` takes a float value that ranges between 0. and 1, and represents the proportion of the dataset that is allocated to the test set.  The rest of the data is allocated to the training set."
      ]
    },
    {
      "cell_type": "code",
      "execution_count": 12,
      "metadata": {
        "deletable": false,
        "id": "PAVIf2-fgRVY",
        "nbgrader": {
          "cell_type": "code",
          "checksum": "7f5738f4fb51d65adc9a8acbdf2b9970",
          "grade": false,
          "grade_id": "cell-91946cadf745206b",
          "locked": false,
          "schema_version": 3,
          "solution": true,
          "task": false
        }
      },
      "outputs": [],
      "source": [
        "# split df into 80:20 train and test sets\n",
        "train, test = train_test_split(df, test_size=0.2, random_state = 1)\n",
        "                               \n",
        "# split train into 80:20 train and val sets\n",
        "train, val = train_test_split(train, test_size=0.2, random_state = 1)"
      ]
    },
    {
      "cell_type": "markdown",
      "metadata": {
        "id": "RwTNu4KFqG-K"
      },
      "source": [
        "You can pop the labels 'is_red' and 'quality' from the data as these will be used as the labels\n",
        "\n",
        "\n",
        "\n"
      ]
    },
    {
      "cell_type": "code",
      "execution_count": 13,
      "metadata": {
        "id": "Y_afyhhHM6WQ"
      },
      "outputs": [],
      "source": [
        "train_stats = train.describe()\n",
        "train_stats.pop('is_red')\n",
        "train_stats.pop('quality')\n",
        "train_stats = train_stats.transpose()"
      ]
    },
    {
      "cell_type": "markdown",
      "metadata": {
        "id": "ahvbYm4fNqSt"
      },
      "source": [
        "Explore the training stats!"
      ]
    },
    {
      "cell_type": "code",
      "execution_count": 14,
      "metadata": {
        "colab": {
          "base_uri": "https://localhost:8080/",
          "height": 394
        },
        "id": "n_gAtPjZ0otF",
        "outputId": "9fbe27fd-6b28-4100-fd4e-e074b81529c6"
      },
      "outputs": [
        {
          "output_type": "execute_result",
          "data": {
            "text/html": [
              "\n",
              "  <div id=\"df-11ea1a7d-d1d6-4b2f-825b-814e769d1f8a\">\n",
              "    <div class=\"colab-df-container\">\n",
              "      <div>\n",
              "<style scoped>\n",
              "    .dataframe tbody tr th:only-of-type {\n",
              "        vertical-align: middle;\n",
              "    }\n",
              "\n",
              "    .dataframe tbody tr th {\n",
              "        vertical-align: top;\n",
              "    }\n",
              "\n",
              "    .dataframe thead th {\n",
              "        text-align: right;\n",
              "    }\n",
              "</style>\n",
              "<table border=\"1\" class=\"dataframe\">\n",
              "  <thead>\n",
              "    <tr style=\"text-align: right;\">\n",
              "      <th></th>\n",
              "      <th>count</th>\n",
              "      <th>mean</th>\n",
              "      <th>std</th>\n",
              "      <th>min</th>\n",
              "      <th>25%</th>\n",
              "      <th>50%</th>\n",
              "      <th>75%</th>\n",
              "      <th>max</th>\n",
              "    </tr>\n",
              "  </thead>\n",
              "  <tbody>\n",
              "    <tr>\n",
              "      <th>fixed acidity</th>\n",
              "      <td>3155.0</td>\n",
              "      <td>7.202726</td>\n",
              "      <td>1.325170</td>\n",
              "      <td>4.20000</td>\n",
              "      <td>6.40000</td>\n",
              "      <td>6.90000</td>\n",
              "      <td>7.7000</td>\n",
              "      <td>15.90000</td>\n",
              "    </tr>\n",
              "    <tr>\n",
              "      <th>volatile acidity</th>\n",
              "      <td>3155.0</td>\n",
              "      <td>0.339011</td>\n",
              "      <td>0.163083</td>\n",
              "      <td>0.08000</td>\n",
              "      <td>0.23000</td>\n",
              "      <td>0.29000</td>\n",
              "      <td>0.4000</td>\n",
              "      <td>1.24000</td>\n",
              "    </tr>\n",
              "    <tr>\n",
              "      <th>citric acid</th>\n",
              "      <td>3155.0</td>\n",
              "      <td>0.320951</td>\n",
              "      <td>0.145258</td>\n",
              "      <td>0.00000</td>\n",
              "      <td>0.25000</td>\n",
              "      <td>0.31000</td>\n",
              "      <td>0.4000</td>\n",
              "      <td>1.23000</td>\n",
              "    </tr>\n",
              "    <tr>\n",
              "      <th>residual sugar</th>\n",
              "      <td>3155.0</td>\n",
              "      <td>5.132171</td>\n",
              "      <td>4.635427</td>\n",
              "      <td>0.60000</td>\n",
              "      <td>1.80000</td>\n",
              "      <td>2.70000</td>\n",
              "      <td>7.5500</td>\n",
              "      <td>65.80000</td>\n",
              "    </tr>\n",
              "    <tr>\n",
              "      <th>chlorides</th>\n",
              "      <td>3155.0</td>\n",
              "      <td>0.056921</td>\n",
              "      <td>0.036526</td>\n",
              "      <td>0.00900</td>\n",
              "      <td>0.03800</td>\n",
              "      <td>0.04700</td>\n",
              "      <td>0.0670</td>\n",
              "      <td>0.61100</td>\n",
              "    </tr>\n",
              "    <tr>\n",
              "      <th>free sulfur dioxide</th>\n",
              "      <td>3155.0</td>\n",
              "      <td>30.464342</td>\n",
              "      <td>17.045151</td>\n",
              "      <td>2.00000</td>\n",
              "      <td>17.00000</td>\n",
              "      <td>29.00000</td>\n",
              "      <td>42.0000</td>\n",
              "      <td>131.00000</td>\n",
              "    </tr>\n",
              "    <tr>\n",
              "      <th>total sulfur dioxide</th>\n",
              "      <td>3155.0</td>\n",
              "      <td>115.482409</td>\n",
              "      <td>56.716669</td>\n",
              "      <td>6.00000</td>\n",
              "      <td>76.00000</td>\n",
              "      <td>117.00000</td>\n",
              "      <td>156.0000</td>\n",
              "      <td>344.00000</td>\n",
              "    </tr>\n",
              "    <tr>\n",
              "      <th>density</th>\n",
              "      <td>3155.0</td>\n",
              "      <td>0.994604</td>\n",
              "      <td>0.003027</td>\n",
              "      <td>0.98711</td>\n",
              "      <td>0.99231</td>\n",
              "      <td>0.99478</td>\n",
              "      <td>0.9968</td>\n",
              "      <td>1.03898</td>\n",
              "    </tr>\n",
              "    <tr>\n",
              "      <th>pH</th>\n",
              "      <td>3155.0</td>\n",
              "      <td>3.224200</td>\n",
              "      <td>0.157570</td>\n",
              "      <td>2.72000</td>\n",
              "      <td>3.12000</td>\n",
              "      <td>3.22000</td>\n",
              "      <td>3.3250</td>\n",
              "      <td>4.01000</td>\n",
              "    </tr>\n",
              "    <tr>\n",
              "      <th>sulphates</th>\n",
              "      <td>3155.0</td>\n",
              "      <td>0.535635</td>\n",
              "      <td>0.146799</td>\n",
              "      <td>0.22000</td>\n",
              "      <td>0.44000</td>\n",
              "      <td>0.51000</td>\n",
              "      <td>0.6000</td>\n",
              "      <td>1.95000</td>\n",
              "    </tr>\n",
              "    <tr>\n",
              "      <th>alcohol</th>\n",
              "      <td>3155.0</td>\n",
              "      <td>10.515320</td>\n",
              "      <td>1.184077</td>\n",
              "      <td>8.00000</td>\n",
              "      <td>9.50000</td>\n",
              "      <td>10.30000</td>\n",
              "      <td>11.3000</td>\n",
              "      <td>14.90000</td>\n",
              "    </tr>\n",
              "  </tbody>\n",
              "</table>\n",
              "</div>\n",
              "      <button class=\"colab-df-convert\" onclick=\"convertToInteractive('df-11ea1a7d-d1d6-4b2f-825b-814e769d1f8a')\"\n",
              "              title=\"Convert this dataframe to an interactive table.\"\n",
              "              style=\"display:none;\">\n",
              "        \n",
              "  <svg xmlns=\"http://www.w3.org/2000/svg\" height=\"24px\"viewBox=\"0 0 24 24\"\n",
              "       width=\"24px\">\n",
              "    <path d=\"M0 0h24v24H0V0z\" fill=\"none\"/>\n",
              "    <path d=\"M18.56 5.44l.94 2.06.94-2.06 2.06-.94-2.06-.94-.94-2.06-.94 2.06-2.06.94zm-11 1L8.5 8.5l.94-2.06 2.06-.94-2.06-.94L8.5 2.5l-.94 2.06-2.06.94zm10 10l.94 2.06.94-2.06 2.06-.94-2.06-.94-.94-2.06-.94 2.06-2.06.94z\"/><path d=\"M17.41 7.96l-1.37-1.37c-.4-.4-.92-.59-1.43-.59-.52 0-1.04.2-1.43.59L10.3 9.45l-7.72 7.72c-.78.78-.78 2.05 0 2.83L4 21.41c.39.39.9.59 1.41.59.51 0 1.02-.2 1.41-.59l7.78-7.78 2.81-2.81c.8-.78.8-2.07 0-2.86zM5.41 20L4 18.59l7.72-7.72 1.47 1.35L5.41 20z\"/>\n",
              "  </svg>\n",
              "      </button>\n",
              "      \n",
              "  <style>\n",
              "    .colab-df-container {\n",
              "      display:flex;\n",
              "      flex-wrap:wrap;\n",
              "      gap: 12px;\n",
              "    }\n",
              "\n",
              "    .colab-df-convert {\n",
              "      background-color: #E8F0FE;\n",
              "      border: none;\n",
              "      border-radius: 50%;\n",
              "      cursor: pointer;\n",
              "      display: none;\n",
              "      fill: #1967D2;\n",
              "      height: 32px;\n",
              "      padding: 0 0 0 0;\n",
              "      width: 32px;\n",
              "    }\n",
              "\n",
              "    .colab-df-convert:hover {\n",
              "      background-color: #E2EBFA;\n",
              "      box-shadow: 0px 1px 2px rgba(60, 64, 67, 0.3), 0px 1px 3px 1px rgba(60, 64, 67, 0.15);\n",
              "      fill: #174EA6;\n",
              "    }\n",
              "\n",
              "    [theme=dark] .colab-df-convert {\n",
              "      background-color: #3B4455;\n",
              "      fill: #D2E3FC;\n",
              "    }\n",
              "\n",
              "    [theme=dark] .colab-df-convert:hover {\n",
              "      background-color: #434B5C;\n",
              "      box-shadow: 0px 1px 3px 1px rgba(0, 0, 0, 0.15);\n",
              "      filter: drop-shadow(0px 1px 2px rgba(0, 0, 0, 0.3));\n",
              "      fill: #FFFFFF;\n",
              "    }\n",
              "  </style>\n",
              "\n",
              "      <script>\n",
              "        const buttonEl =\n",
              "          document.querySelector('#df-11ea1a7d-d1d6-4b2f-825b-814e769d1f8a button.colab-df-convert');\n",
              "        buttonEl.style.display =\n",
              "          google.colab.kernel.accessAllowed ? 'block' : 'none';\n",
              "\n",
              "        async function convertToInteractive(key) {\n",
              "          const element = document.querySelector('#df-11ea1a7d-d1d6-4b2f-825b-814e769d1f8a');\n",
              "          const dataTable =\n",
              "            await google.colab.kernel.invokeFunction('convertToInteractive',\n",
              "                                                     [key], {});\n",
              "          if (!dataTable) return;\n",
              "\n",
              "          const docLinkHtml = 'Like what you see? Visit the ' +\n",
              "            '<a target=\"_blank\" href=https://colab.research.google.com/notebooks/data_table.ipynb>data table notebook</a>'\n",
              "            + ' to learn more about interactive tables.';\n",
              "          element.innerHTML = '';\n",
              "          dataTable['output_type'] = 'display_data';\n",
              "          await google.colab.output.renderOutput(dataTable, element);\n",
              "          const docLink = document.createElement('div');\n",
              "          docLink.innerHTML = docLinkHtml;\n",
              "          element.appendChild(docLink);\n",
              "        }\n",
              "      </script>\n",
              "    </div>\n",
              "  </div>\n",
              "  "
            ],
            "text/plain": [
              "                       count        mean  ...       75%        max\n",
              "fixed acidity         3155.0    7.202726  ...    7.7000   15.90000\n",
              "volatile acidity      3155.0    0.339011  ...    0.4000    1.24000\n",
              "citric acid           3155.0    0.320951  ...    0.4000    1.23000\n",
              "residual sugar        3155.0    5.132171  ...    7.5500   65.80000\n",
              "chlorides             3155.0    0.056921  ...    0.0670    0.61100\n",
              "free sulfur dioxide   3155.0   30.464342  ...   42.0000  131.00000\n",
              "total sulfur dioxide  3155.0  115.482409  ...  156.0000  344.00000\n",
              "density               3155.0    0.994604  ...    0.9968    1.03898\n",
              "pH                    3155.0    3.224200  ...    3.3250    4.01000\n",
              "sulphates             3155.0    0.535635  ...    0.6000    1.95000\n",
              "alcohol               3155.0   10.515320  ...   11.3000   14.90000\n",
              "\n",
              "[11 rows x 8 columns]"
            ]
          },
          "metadata": {},
          "execution_count": 14
        }
      ],
      "source": [
        "train_stats"
      ]
    },
    {
      "cell_type": "markdown",
      "metadata": {
        "id": "bGPvt9jir_HC"
      },
      "source": [
        "### Get the labels\n",
        "\n",
        "The features and labels are currently in the same dataframe.\n",
        "- You will want to store the label columns `is_red` and `quality` separately from the feature columns.  \n",
        "- The following function, `format_output`, gets these two columns from the dataframe.\n",
        "- `format_output` also formats the data into numpy arrays. \n",
        "- Please use the `format_output` and apply it to the `train`, `val` and `test` sets to get dataframes for the labels."
      ]
    },
    {
      "cell_type": "code",
      "execution_count": 15,
      "metadata": {
        "id": "Z_fs14XQqZVP"
      },
      "outputs": [],
      "source": [
        "def format_output(data):\n",
        "    is_red = data.pop('is_red')\n",
        "    is_red = np.array(is_red)\n",
        "    quality = data.pop('quality')\n",
        "    quality = np.array(quality)\n",
        "    return (quality, is_red)"
      ]
    },
    {
      "cell_type": "code",
      "execution_count": 16,
      "metadata": {
        "deletable": false,
        "id": "8L3ZZe1fQicm",
        "nbgrader": {
          "cell_type": "code",
          "checksum": "7a86809e54895a816434c48dc903f55d",
          "grade": false,
          "grade_id": "cell-5c30fa2c2a354b0f",
          "locked": false,
          "schema_version": 3,
          "solution": true,
          "task": false
        }
      },
      "outputs": [],
      "source": [
        "# format the output of the train set\n",
        "train_Y = format_output(train)\n",
        "\n",
        "# format the output of the val set\n",
        "val_Y = format_output(val)\n",
        "    \n",
        "# format the output of the test set\n",
        "test_Y = format_output(test)"
      ]
    },
    {
      "cell_type": "code",
      "execution_count": 17,
      "metadata": {
        "colab": {
          "base_uri": "https://localhost:8080/",
          "height": 206
        },
        "id": "nKFXU0pi3U8q",
        "outputId": "94ec347b-09cb-4a70-b039-08f738477584"
      },
      "outputs": [
        {
          "output_type": "execute_result",
          "data": {
            "text/html": [
              "\n",
              "  <div id=\"df-21a66f9c-68e3-427e-b6e2-33d2c3f80630\">\n",
              "    <div class=\"colab-df-container\">\n",
              "      <div>\n",
              "<style scoped>\n",
              "    .dataframe tbody tr th:only-of-type {\n",
              "        vertical-align: middle;\n",
              "    }\n",
              "\n",
              "    .dataframe tbody tr th {\n",
              "        vertical-align: top;\n",
              "    }\n",
              "\n",
              "    .dataframe thead th {\n",
              "        text-align: right;\n",
              "    }\n",
              "</style>\n",
              "<table border=\"1\" class=\"dataframe\">\n",
              "  <thead>\n",
              "    <tr style=\"text-align: right;\">\n",
              "      <th></th>\n",
              "      <th>fixed acidity</th>\n",
              "      <th>volatile acidity</th>\n",
              "      <th>citric acid</th>\n",
              "      <th>residual sugar</th>\n",
              "      <th>chlorides</th>\n",
              "      <th>free sulfur dioxide</th>\n",
              "      <th>total sulfur dioxide</th>\n",
              "      <th>density</th>\n",
              "      <th>pH</th>\n",
              "      <th>sulphates</th>\n",
              "      <th>alcohol</th>\n",
              "    </tr>\n",
              "  </thead>\n",
              "  <tbody>\n",
              "    <tr>\n",
              "      <th>225</th>\n",
              "      <td>6.8</td>\n",
              "      <td>0.18</td>\n",
              "      <td>0.30</td>\n",
              "      <td>12.8</td>\n",
              "      <td>0.062</td>\n",
              "      <td>19.0</td>\n",
              "      <td>171.0</td>\n",
              "      <td>0.99808</td>\n",
              "      <td>3.00</td>\n",
              "      <td>0.52</td>\n",
              "      <td>9.0</td>\n",
              "    </tr>\n",
              "    <tr>\n",
              "      <th>3557</th>\n",
              "      <td>7.6</td>\n",
              "      <td>0.20</td>\n",
              "      <td>0.26</td>\n",
              "      <td>4.8</td>\n",
              "      <td>0.033</td>\n",
              "      <td>26.0</td>\n",
              "      <td>76.0</td>\n",
              "      <td>0.99076</td>\n",
              "      <td>2.98</td>\n",
              "      <td>0.49</td>\n",
              "      <td>12.3</td>\n",
              "    </tr>\n",
              "    <tr>\n",
              "      <th>3825</th>\n",
              "      <td>6.5</td>\n",
              "      <td>0.37</td>\n",
              "      <td>0.30</td>\n",
              "      <td>2.2</td>\n",
              "      <td>0.033</td>\n",
              "      <td>39.0</td>\n",
              "      <td>107.0</td>\n",
              "      <td>0.98894</td>\n",
              "      <td>3.22</td>\n",
              "      <td>0.53</td>\n",
              "      <td>13.5</td>\n",
              "    </tr>\n",
              "    <tr>\n",
              "      <th>1740</th>\n",
              "      <td>9.5</td>\n",
              "      <td>0.86</td>\n",
              "      <td>0.26</td>\n",
              "      <td>1.9</td>\n",
              "      <td>0.079</td>\n",
              "      <td>13.0</td>\n",
              "      <td>28.0</td>\n",
              "      <td>0.99712</td>\n",
              "      <td>3.25</td>\n",
              "      <td>0.62</td>\n",
              "      <td>10.0</td>\n",
              "    </tr>\n",
              "    <tr>\n",
              "      <th>1221</th>\n",
              "      <td>6.8</td>\n",
              "      <td>0.26</td>\n",
              "      <td>0.56</td>\n",
              "      <td>11.9</td>\n",
              "      <td>0.043</td>\n",
              "      <td>64.0</td>\n",
              "      <td>226.0</td>\n",
              "      <td>0.99700</td>\n",
              "      <td>3.02</td>\n",
              "      <td>0.63</td>\n",
              "      <td>9.3</td>\n",
              "    </tr>\n",
              "  </tbody>\n",
              "</table>\n",
              "</div>\n",
              "      <button class=\"colab-df-convert\" onclick=\"convertToInteractive('df-21a66f9c-68e3-427e-b6e2-33d2c3f80630')\"\n",
              "              title=\"Convert this dataframe to an interactive table.\"\n",
              "              style=\"display:none;\">\n",
              "        \n",
              "  <svg xmlns=\"http://www.w3.org/2000/svg\" height=\"24px\"viewBox=\"0 0 24 24\"\n",
              "       width=\"24px\">\n",
              "    <path d=\"M0 0h24v24H0V0z\" fill=\"none\"/>\n",
              "    <path d=\"M18.56 5.44l.94 2.06.94-2.06 2.06-.94-2.06-.94-.94-2.06-.94 2.06-2.06.94zm-11 1L8.5 8.5l.94-2.06 2.06-.94-2.06-.94L8.5 2.5l-.94 2.06-2.06.94zm10 10l.94 2.06.94-2.06 2.06-.94-2.06-.94-.94-2.06-.94 2.06-2.06.94z\"/><path d=\"M17.41 7.96l-1.37-1.37c-.4-.4-.92-.59-1.43-.59-.52 0-1.04.2-1.43.59L10.3 9.45l-7.72 7.72c-.78.78-.78 2.05 0 2.83L4 21.41c.39.39.9.59 1.41.59.51 0 1.02-.2 1.41-.59l7.78-7.78 2.81-2.81c.8-.78.8-2.07 0-2.86zM5.41 20L4 18.59l7.72-7.72 1.47 1.35L5.41 20z\"/>\n",
              "  </svg>\n",
              "      </button>\n",
              "      \n",
              "  <style>\n",
              "    .colab-df-container {\n",
              "      display:flex;\n",
              "      flex-wrap:wrap;\n",
              "      gap: 12px;\n",
              "    }\n",
              "\n",
              "    .colab-df-convert {\n",
              "      background-color: #E8F0FE;\n",
              "      border: none;\n",
              "      border-radius: 50%;\n",
              "      cursor: pointer;\n",
              "      display: none;\n",
              "      fill: #1967D2;\n",
              "      height: 32px;\n",
              "      padding: 0 0 0 0;\n",
              "      width: 32px;\n",
              "    }\n",
              "\n",
              "    .colab-df-convert:hover {\n",
              "      background-color: #E2EBFA;\n",
              "      box-shadow: 0px 1px 2px rgba(60, 64, 67, 0.3), 0px 1px 3px 1px rgba(60, 64, 67, 0.15);\n",
              "      fill: #174EA6;\n",
              "    }\n",
              "\n",
              "    [theme=dark] .colab-df-convert {\n",
              "      background-color: #3B4455;\n",
              "      fill: #D2E3FC;\n",
              "    }\n",
              "\n",
              "    [theme=dark] .colab-df-convert:hover {\n",
              "      background-color: #434B5C;\n",
              "      box-shadow: 0px 1px 3px 1px rgba(0, 0, 0, 0.15);\n",
              "      filter: drop-shadow(0px 1px 2px rgba(0, 0, 0, 0.3));\n",
              "      fill: #FFFFFF;\n",
              "    }\n",
              "  </style>\n",
              "\n",
              "      <script>\n",
              "        const buttonEl =\n",
              "          document.querySelector('#df-21a66f9c-68e3-427e-b6e2-33d2c3f80630 button.colab-df-convert');\n",
              "        buttonEl.style.display =\n",
              "          google.colab.kernel.accessAllowed ? 'block' : 'none';\n",
              "\n",
              "        async function convertToInteractive(key) {\n",
              "          const element = document.querySelector('#df-21a66f9c-68e3-427e-b6e2-33d2c3f80630');\n",
              "          const dataTable =\n",
              "            await google.colab.kernel.invokeFunction('convertToInteractive',\n",
              "                                                     [key], {});\n",
              "          if (!dataTable) return;\n",
              "\n",
              "          const docLinkHtml = 'Like what you see? Visit the ' +\n",
              "            '<a target=\"_blank\" href=https://colab.research.google.com/notebooks/data_table.ipynb>data table notebook</a>'\n",
              "            + ' to learn more about interactive tables.';\n",
              "          element.innerHTML = '';\n",
              "          dataTable['output_type'] = 'display_data';\n",
              "          await google.colab.output.renderOutput(dataTable, element);\n",
              "          const docLink = document.createElement('div');\n",
              "          docLink.innerHTML = docLinkHtml;\n",
              "          element.appendChild(docLink);\n",
              "        }\n",
              "      </script>\n",
              "    </div>\n",
              "  </div>\n",
              "  "
            ],
            "text/plain": [
              "      fixed acidity  volatile acidity  citric acid  ...    pH  sulphates  alcohol\n",
              "225             6.8              0.18         0.30  ...  3.00       0.52      9.0\n",
              "3557            7.6              0.20         0.26  ...  2.98       0.49     12.3\n",
              "3825            6.5              0.37         0.30  ...  3.22       0.53     13.5\n",
              "1740            9.5              0.86         0.26  ...  3.25       0.62     10.0\n",
              "1221            6.8              0.26         0.56  ...  3.02       0.63      9.3\n",
              "\n",
              "[5 rows x 11 columns]"
            ]
          },
          "metadata": {},
          "execution_count": 17
        }
      ],
      "source": [
        "train.head()"
      ]
    },
    {
      "cell_type": "markdown",
      "metadata": {
        "id": "hEdbrruAsN1D"
      },
      "source": [
        "### Normalize the data\n",
        "\n",
        "Next, you can normalize the data, x, using the formula:\n",
        "$$x_{norm} = \\frac{x - \\mu}{\\sigma}$$\n"
      ]
    },
    {
      "cell_type": "code",
      "execution_count": 18,
      "metadata": {
        "id": "WWiZPAHCLjUs"
      },
      "outputs": [],
      "source": [
        "def norm(x):\n",
        "    return (x - train_stats['mean']) / train_stats['std']"
      ]
    },
    {
      "cell_type": "code",
      "execution_count": 19,
      "metadata": {
        "deletable": false,
        "id": "JEaOi2I2Lk69",
        "nbgrader": {
          "cell_type": "code",
          "checksum": "6bc0cdcb563d192f271067aa3373ff32",
          "grade": false,
          "grade_id": "cell-d8416d975c371095",
          "locked": false,
          "schema_version": 3,
          "solution": true,
          "task": false
        }
      },
      "outputs": [],
      "source": [
        "# normalize the train set\n",
        "norm_train_X = norm(train)\n",
        "    \n",
        "# normalize the val set\n",
        "norm_val_X = norm(val)\n",
        "    \n",
        "# normalize the test set\n",
        "norm_test_X = norm(test)"
      ]
    },
    {
      "cell_type": "markdown",
      "metadata": {
        "id": "hzykDwQhsaPO"
      },
      "source": [
        "## Define the Model\n",
        "\n",
        "Define the model using the functional API. \n",
        "\n",
        "The base model will be 2 `Dense` layers of 128 neurons each, and have the `'relu'` activation."
      ]
    },
    {
      "cell_type": "code",
      "execution_count": 20,
      "metadata": {
        "deletable": false,
        "id": "Rhcns3oTFkM6",
        "nbgrader": {
          "cell_type": "code",
          "checksum": "74b031247e569526552bf13a034a1c07",
          "grade": false,
          "grade_id": "cell-73fceedad1fe351c",
          "locked": false,
          "schema_version": 3,
          "solution": true,
          "task": false
        }
      },
      "outputs": [],
      "source": [
        "def base_model(inputs):\n",
        "\n",
        "#     # connect a Dense layer with 128 neurons and a relu activation\n",
        "    x = Dense(128, activation = 'relu')(inputs)\n",
        "    \n",
        "#     # connect another Dense layer with 128 neurons and a relu activation\n",
        "    x = Dense(128, activation = 'relu')(x)\n",
        "    \n",
        "\n",
        "    return x "
      ]
    },
    {
      "cell_type": "markdown",
      "metadata": {
        "id": "xem_fcVws6Kz"
      },
      "source": [
        "# Define output layers of the model\n",
        "\n",
        "You will add output layers to the base model. \n",
        "- The model will need two outputs.\n",
        "\n",
        "One output layer will predict wine quality, which is a numeric value.\n",
        "- Define a `Dense` layer with 1 neuron.\n",
        "- Since this is a regression output, the activation can be left as its default value `None`.\n",
        "\n",
        "The other output layer will predict the wine type, which is either red `1` or not red `0` (white).\n",
        "- Define a `Dense` layer with 1 neuron.\n",
        "- Since there are two possible categories, you can use a sigmoid activation for binary classification.\n",
        "\n",
        "Define the `Model`\n",
        "- Define the `Model` object, and set the following parameters:\n",
        "  - `inputs`: pass in the inputs to the model as a list.\n",
        "  - `outputs`: pass in a list of the outputs that you just defined: wine quality, then wine type.\n"
      ]
    },
    {
      "cell_type": "code",
      "execution_count": 21,
      "metadata": {
        "deletable": false,
        "id": "n5UGF8PMVLPt",
        "nbgrader": {
          "cell_type": "code",
          "checksum": "76d35b90d20cdcbb22986cd8211057de",
          "grade": false,
          "grade_id": "cell-19e285f482f021fb",
          "locked": false,
          "schema_version": 3,
          "solution": true,
          "task": false
        }
      },
      "outputs": [],
      "source": [
        "def final_model(inputs):\n",
        "    \n",
        "    # get the base model\n",
        "    x = base_model(inputs)\n",
        "\n",
        "    # connect the output Dense layer for regression\n",
        "    wine_quality = Dense(units='1', name='wine_quality')(x)\n",
        "\n",
        "    # connect the output Dense layer for classification. this will use a sigmoid activation.\n",
        "    wine_type = Dense(units='1', activation= 'sigmoid', name='wine_type')(x)\n",
        "\n",
        "    # define the model using the input and output layers\n",
        "    model = Model(inputs= inputs , outputs= [wine_quality, wine_type] )\n",
        "                      \n",
        "    return model"
      ]
    },
    {
      "cell_type": "markdown",
      "metadata": {
        "id": "5R0BMTsltZyu"
      },
      "source": [
        "## Compiling the Model\n",
        "\n",
        "Next, compile the model. When setting the loss parameter of `model.compile`, you're setting the loss for each of the two outputs (wine quality and wine type).\n",
        "\n",
        "To set more than one loss, use a dictionary of key-value pairs.\n",
        "\n",
        "- wine_type: Since you will be performing binary classification on wine type, you should use the binary crossentropy loss function for it. \n",
        "\n",
        "- wine_quality: since this is a regression output, use the mean squared error.  \n",
        "\n",
        "\n",
        "You will also set the metric for each of the two outputs.  Again, to set metrics for two or more outputs, use a dictionary with key value pairs.\n",
        "\n",
        "\n",
        "- For the wine type, please set it to accuracy as a string, all lowercase.\n",
        "- For wine quality, please use the root mean squared error.  Instead of a string, you'll set it to an instance of the class [RootMeanSquaredError](https://www.tensorflow.org/api_docs/python/tf/keras/metrics/RootMeanSquaredError), which belongs to the tf.keras.metrics module."
      ]
    },
    {
      "cell_type": "code",
      "execution_count": 22,
      "metadata": {
        "colab": {
          "base_uri": "https://localhost:8080/"
        },
        "deletable": false,
        "id": "LK11duUbUjmh",
        "nbgrader": {
          "cell_type": "code",
          "checksum": "22f45067ca69eb2ccadb43874dbcc27b",
          "grade": false,
          "grade_id": "cell-81afdc4dcca51d5e",
          "locked": false,
          "schema_version": 3,
          "solution": true,
          "task": false
        },
        "outputId": "7a7ca037-3a9b-463c-eeca-c80467934824"
      },
      "outputs": [
        {
          "output_type": "stream",
          "name": "stderr",
          "text": [
            "/usr/local/lib/python3.7/dist-packages/keras/optimizer_v2/rmsprop.py:130: UserWarning: The `lr` argument is deprecated, use `learning_rate` instead.\n",
            "  super(RMSprop, self).__init__(name, **kwargs)\n"
          ]
        }
      ],
      "source": [
        "inputs = tf.keras.layers.Input(shape=(11,))\n",
        "rms = tf.keras.optimizers.RMSprop(lr=0.0001)\n",
        "model = final_model(inputs)\n",
        "\n",
        "model.compile(optimizer=rms, \n",
        "              loss = {'wine_type' :'binary_crossentropy' ,\n",
        "                      'wine_quality' : 'mse'\n",
        "                     },\n",
        "              metrics = {'wine_type' : 'accuracy',\n",
        "                         'wine_quality': tf.keras.metrics.RootMeanSquaredError()\n",
        "                       }\n",
        "             )"
      ]
    },
    {
      "cell_type": "markdown",
      "metadata": {
        "id": "90MpAMpWuKm-"
      },
      "source": [
        "## Training the Model\n",
        "\n",
        "Fit the model to the training inputs and outputs. \n"
      ]
    },
    {
      "cell_type": "code",
      "execution_count": 23,
      "metadata": {
        "colab": {
          "base_uri": "https://localhost:8080/"
        },
        "deletable": false,
        "id": "_eiZkle4XwiY",
        "nbgrader": {
          "cell_type": "code",
          "checksum": "2ca7664be03bfd6fd3651ae44d17b793",
          "grade": false,
          "grade_id": "cell-0bb56262896f6680",
          "locked": false,
          "schema_version": 3,
          "solution": true,
          "task": false
        },
        "outputId": "e562fbbf-8615-46ab-a111-ae6f94b494f5"
      },
      "outputs": [
        {
          "output_type": "stream",
          "name": "stdout",
          "text": [
            "Epoch 1/180\n",
            "99/99 [==============================] - 5s 18ms/step - loss: 28.9620 - wine_quality_loss: 28.2042 - wine_type_loss: 0.7578 - wine_quality_root_mean_squared_error: 5.3108 - wine_type_accuracy: 0.2967 - val_loss: 20.8285 - val_wine_quality_loss: 20.0943 - val_wine_type_loss: 0.7342 - val_wine_quality_root_mean_squared_error: 4.4827 - val_wine_type_accuracy: 0.3359\n",
            "Epoch 2/180\n",
            "99/99 [==============================] - 1s 12ms/step - loss: 14.8340 - wine_quality_loss: 14.0934 - wine_type_loss: 0.7407 - wine_quality_root_mean_squared_error: 3.7541 - wine_type_accuracy: 0.3512 - val_loss: 8.9616 - val_wine_quality_loss: 8.2402 - val_wine_type_loss: 0.7214 - val_wine_quality_root_mean_squared_error: 2.8706 - val_wine_type_accuracy: 0.3904\n",
            "Epoch 3/180\n",
            "99/99 [==============================] - 1s 12ms/step - loss: 6.0818 - wine_quality_loss: 5.3836 - wine_type_loss: 0.6983 - wine_quality_root_mean_squared_error: 2.3202 - wine_type_accuracy: 0.4992 - val_loss: 3.5242 - val_wine_quality_loss: 2.8799 - val_wine_type_loss: 0.6443 - val_wine_quality_root_mean_squared_error: 1.6970 - val_wine_type_accuracy: 0.7465\n",
            "Epoch 4/180\n",
            "99/99 [==============================] - 1s 13ms/step - loss: 3.3357 - wine_quality_loss: 2.7685 - wine_type_loss: 0.5671 - wine_quality_root_mean_squared_error: 1.6639 - wine_type_accuracy: 0.8548 - val_loss: 2.4469 - val_wine_quality_loss: 1.9488 - val_wine_type_loss: 0.4981 - val_wine_quality_root_mean_squared_error: 1.3960 - val_wine_type_accuracy: 0.8606\n",
            "Epoch 5/180\n",
            "99/99 [==============================] - 1s 12ms/step - loss: 2.6575 - wine_quality_loss: 2.2219 - wine_type_loss: 0.4356 - wine_quality_root_mean_squared_error: 1.4906 - wine_type_accuracy: 0.8650 - val_loss: 2.0200 - val_wine_quality_loss: 1.6319 - val_wine_type_loss: 0.3881 - val_wine_quality_root_mean_squared_error: 1.2775 - val_wine_type_accuracy: 0.9100\n",
            "Epoch 6/180\n",
            "99/99 [==============================] - 1s 13ms/step - loss: 2.2285 - wine_quality_loss: 1.8933 - wine_type_loss: 0.3351 - wine_quality_root_mean_squared_error: 1.3760 - wine_type_accuracy: 0.9252 - val_loss: 1.7501 - val_wine_quality_loss: 1.4490 - val_wine_type_loss: 0.3011 - val_wine_quality_root_mean_squared_error: 1.2038 - val_wine_type_accuracy: 0.9594\n",
            "Epoch 7/180\n",
            "99/99 [==============================] - 1s 14ms/step - loss: 1.9503 - wine_quality_loss: 1.6878 - wine_type_loss: 0.2625 - wine_quality_root_mean_squared_error: 1.2992 - wine_type_accuracy: 0.9594 - val_loss: 1.5764 - val_wine_quality_loss: 1.3385 - val_wine_type_loss: 0.2380 - val_wine_quality_root_mean_squared_error: 1.1569 - val_wine_type_accuracy: 0.9747\n",
            "Epoch 8/180\n",
            "99/99 [==============================] - 1s 13ms/step - loss: 1.7475 - wine_quality_loss: 1.5403 - wine_type_loss: 0.2072 - wine_quality_root_mean_squared_error: 1.2411 - wine_type_accuracy: 0.9772 - val_loss: 1.4347 - val_wine_quality_loss: 1.2459 - val_wine_type_loss: 0.1887 - val_wine_quality_root_mean_squared_error: 1.1162 - val_wine_type_accuracy: 0.9772\n",
            "Epoch 9/180\n",
            "99/99 [==============================] - 1s 13ms/step - loss: 1.5790 - wine_quality_loss: 1.4152 - wine_type_loss: 0.1638 - wine_quality_root_mean_squared_error: 1.1896 - wine_type_accuracy: 0.9832 - val_loss: 1.3248 - val_wine_quality_loss: 1.1713 - val_wine_type_loss: 0.1535 - val_wine_quality_root_mean_squared_error: 1.0823 - val_wine_type_accuracy: 0.9835\n",
            "Epoch 10/180\n",
            "99/99 [==============================] - 1s 14ms/step - loss: 1.4483 - wine_quality_loss: 1.3158 - wine_type_loss: 0.1325 - wine_quality_root_mean_squared_error: 1.1471 - wine_type_accuracy: 0.9864 - val_loss: 1.2322 - val_wine_quality_loss: 1.1043 - val_wine_type_loss: 0.1279 - val_wine_quality_root_mean_squared_error: 1.0509 - val_wine_type_accuracy: 0.9848\n",
            "Epoch 11/180\n",
            "99/99 [==============================] - 1s 12ms/step - loss: 1.3446 - wine_quality_loss: 1.2342 - wine_type_loss: 0.1104 - wine_quality_root_mean_squared_error: 1.1110 - wine_type_accuracy: 0.9883 - val_loss: 1.1484 - val_wine_quality_loss: 1.0389 - val_wine_type_loss: 0.1094 - val_wine_quality_root_mean_squared_error: 1.0193 - val_wine_type_accuracy: 0.9861\n",
            "Epoch 12/180\n",
            "99/99 [==============================] - 1s 14ms/step - loss: 1.2438 - wine_quality_loss: 1.1502 - wine_type_loss: 0.0936 - wine_quality_root_mean_squared_error: 1.0725 - wine_type_accuracy: 0.9895 - val_loss: 1.0783 - val_wine_quality_loss: 0.9817 - val_wine_type_loss: 0.0965 - val_wine_quality_root_mean_squared_error: 0.9908 - val_wine_type_accuracy: 0.9873\n",
            "Epoch 13/180\n",
            "99/99 [==============================] - 1s 12ms/step - loss: 1.1643 - wine_quality_loss: 1.0828 - wine_type_loss: 0.0815 - wine_quality_root_mean_squared_error: 1.0406 - wine_type_accuracy: 0.9892 - val_loss: 1.0190 - val_wine_quality_loss: 0.9322 - val_wine_type_loss: 0.0867 - val_wine_quality_root_mean_squared_error: 0.9655 - val_wine_type_accuracy: 0.9873\n",
            "Epoch 14/180\n",
            "99/99 [==============================] - 1s 12ms/step - loss: 1.0900 - wine_quality_loss: 1.0182 - wine_type_loss: 0.0718 - wine_quality_root_mean_squared_error: 1.0091 - wine_type_accuracy: 0.9892 - val_loss: 0.9617 - val_wine_quality_loss: 0.8822 - val_wine_type_loss: 0.0795 - val_wine_quality_root_mean_squared_error: 0.9392 - val_wine_type_accuracy: 0.9861\n",
            "Epoch 15/180\n",
            "99/99 [==============================] - 1s 12ms/step - loss: 1.0200 - wine_quality_loss: 0.9557 - wine_type_loss: 0.0643 - wine_quality_root_mean_squared_error: 0.9776 - wine_type_accuracy: 0.9902 - val_loss: 0.9152 - val_wine_quality_loss: 0.8410 - val_wine_type_loss: 0.0742 - val_wine_quality_root_mean_squared_error: 0.9171 - val_wine_type_accuracy: 0.9861\n",
            "Epoch 16/180\n",
            "99/99 [==============================] - 1s 13ms/step - loss: 0.9629 - wine_quality_loss: 0.9044 - wine_type_loss: 0.0584 - wine_quality_root_mean_squared_error: 0.9510 - wine_type_accuracy: 0.9908 - val_loss: 0.8723 - val_wine_quality_loss: 0.8019 - val_wine_type_loss: 0.0705 - val_wine_quality_root_mean_squared_error: 0.8955 - val_wine_type_accuracy: 0.9886\n",
            "Epoch 17/180\n",
            "99/99 [==============================] - 1s 14ms/step - loss: 0.9034 - wine_quality_loss: 0.8495 - wine_type_loss: 0.0539 - wine_quality_root_mean_squared_error: 0.9217 - wine_type_accuracy: 0.9905 - val_loss: 0.8244 - val_wine_quality_loss: 0.7567 - val_wine_type_loss: 0.0677 - val_wine_quality_root_mean_squared_error: 0.8699 - val_wine_type_accuracy: 0.9886\n",
            "Epoch 18/180\n",
            "99/99 [==============================] - 1s 12ms/step - loss: 0.8490 - wine_quality_loss: 0.7987 - wine_type_loss: 0.0503 - wine_quality_root_mean_squared_error: 0.8937 - wine_type_accuracy: 0.9911 - val_loss: 0.7831 - val_wine_quality_loss: 0.7176 - val_wine_type_loss: 0.0655 - val_wine_quality_root_mean_squared_error: 0.8471 - val_wine_type_accuracy: 0.9886\n",
            "Epoch 19/180\n",
            "99/99 [==============================] - 1s 12ms/step - loss: 0.8036 - wine_quality_loss: 0.7561 - wine_type_loss: 0.0476 - wine_quality_root_mean_squared_error: 0.8695 - wine_type_accuracy: 0.9908 - val_loss: 0.7453 - val_wine_quality_loss: 0.6816 - val_wine_type_loss: 0.0638 - val_wine_quality_root_mean_squared_error: 0.8256 - val_wine_type_accuracy: 0.9899\n",
            "Epoch 20/180\n",
            "99/99 [==============================] - 1s 12ms/step - loss: 0.7601 - wine_quality_loss: 0.7149 - wine_type_loss: 0.0452 - wine_quality_root_mean_squared_error: 0.8455 - wine_type_accuracy: 0.9911 - val_loss: 0.7116 - val_wine_quality_loss: 0.6493 - val_wine_type_loss: 0.0624 - val_wine_quality_root_mean_squared_error: 0.8058 - val_wine_type_accuracy: 0.9899\n",
            "Epoch 21/180\n",
            "99/99 [==============================] - 1s 14ms/step - loss: 0.7182 - wine_quality_loss: 0.6751 - wine_type_loss: 0.0431 - wine_quality_root_mean_squared_error: 0.8216 - wine_type_accuracy: 0.9908 - val_loss: 0.6837 - val_wine_quality_loss: 0.6224 - val_wine_type_loss: 0.0613 - val_wine_quality_root_mean_squared_error: 0.7889 - val_wine_type_accuracy: 0.9899\n",
            "Epoch 22/180\n",
            "99/99 [==============================] - 1s 12ms/step - loss: 0.6814 - wine_quality_loss: 0.6400 - wine_type_loss: 0.0414 - wine_quality_root_mean_squared_error: 0.8000 - wine_type_accuracy: 0.9911 - val_loss: 0.6532 - val_wine_quality_loss: 0.5927 - val_wine_type_loss: 0.0606 - val_wine_quality_root_mean_squared_error: 0.7699 - val_wine_type_accuracy: 0.9899\n",
            "Epoch 23/180\n",
            "99/99 [==============================] - 1s 12ms/step - loss: 0.6478 - wine_quality_loss: 0.6078 - wine_type_loss: 0.0400 - wine_quality_root_mean_squared_error: 0.7796 - wine_type_accuracy: 0.9914 - val_loss: 0.6266 - val_wine_quality_loss: 0.5666 - val_wine_type_loss: 0.0599 - val_wine_quality_root_mean_squared_error: 0.7528 - val_wine_type_accuracy: 0.9899\n",
            "Epoch 24/180\n",
            "99/99 [==============================] - 1s 12ms/step - loss: 0.6190 - wine_quality_loss: 0.5803 - wine_type_loss: 0.0387 - wine_quality_root_mean_squared_error: 0.7618 - wine_type_accuracy: 0.9918 - val_loss: 0.6037 - val_wine_quality_loss: 0.5443 - val_wine_type_loss: 0.0594 - val_wine_quality_root_mean_squared_error: 0.7378 - val_wine_type_accuracy: 0.9899\n",
            "Epoch 25/180\n",
            "99/99 [==============================] - 1s 12ms/step - loss: 0.5924 - wine_quality_loss: 0.5548 - wine_type_loss: 0.0376 - wine_quality_root_mean_squared_error: 0.7448 - wine_type_accuracy: 0.9924 - val_loss: 0.5816 - val_wine_quality_loss: 0.5225 - val_wine_type_loss: 0.0590 - val_wine_quality_root_mean_squared_error: 0.7229 - val_wine_type_accuracy: 0.9899\n",
            "Epoch 26/180\n",
            "99/99 [==============================] - 1s 12ms/step - loss: 0.5655 - wine_quality_loss: 0.5289 - wine_type_loss: 0.0366 - wine_quality_root_mean_squared_error: 0.7273 - wine_type_accuracy: 0.9924 - val_loss: 0.5634 - val_wine_quality_loss: 0.5048 - val_wine_type_loss: 0.0586 - val_wine_quality_root_mean_squared_error: 0.7105 - val_wine_type_accuracy: 0.9899\n",
            "Epoch 27/180\n",
            "99/99 [==============================] - 1s 12ms/step - loss: 0.5458 - wine_quality_loss: 0.5101 - wine_type_loss: 0.0357 - wine_quality_root_mean_squared_error: 0.7142 - wine_type_accuracy: 0.9927 - val_loss: 0.5444 - val_wine_quality_loss: 0.4862 - val_wine_type_loss: 0.0582 - val_wine_quality_root_mean_squared_error: 0.6973 - val_wine_type_accuracy: 0.9899\n",
            "Epoch 28/180\n",
            "99/99 [==============================] - 1s 12ms/step - loss: 0.5245 - wine_quality_loss: 0.4895 - wine_type_loss: 0.0350 - wine_quality_root_mean_squared_error: 0.6997 - wine_type_accuracy: 0.9933 - val_loss: 0.5342 - val_wine_quality_loss: 0.4762 - val_wine_type_loss: 0.0580 - val_wine_quality_root_mean_squared_error: 0.6901 - val_wine_type_accuracy: 0.9899\n",
            "Epoch 29/180\n",
            "99/99 [==============================] - 1s 13ms/step - loss: 0.5071 - wine_quality_loss: 0.4729 - wine_type_loss: 0.0342 - wine_quality_root_mean_squared_error: 0.6877 - wine_type_accuracy: 0.9927 - val_loss: 0.5161 - val_wine_quality_loss: 0.4583 - val_wine_type_loss: 0.0578 - val_wine_quality_root_mean_squared_error: 0.6770 - val_wine_type_accuracy: 0.9899\n",
            "Epoch 30/180\n",
            "99/99 [==============================] - 1s 12ms/step - loss: 0.4891 - wine_quality_loss: 0.4555 - wine_type_loss: 0.0335 - wine_quality_root_mean_squared_error: 0.6749 - wine_type_accuracy: 0.9937 - val_loss: 0.4994 - val_wine_quality_loss: 0.4418 - val_wine_type_loss: 0.0576 - val_wine_quality_root_mean_squared_error: 0.6647 - val_wine_type_accuracy: 0.9899\n",
            "Epoch 31/180\n",
            "99/99 [==============================] - 1s 12ms/step - loss: 0.4732 - wine_quality_loss: 0.4402 - wine_type_loss: 0.0330 - wine_quality_root_mean_squared_error: 0.6635 - wine_type_accuracy: 0.9943 - val_loss: 0.4897 - val_wine_quality_loss: 0.4322 - val_wine_type_loss: 0.0575 - val_wine_quality_root_mean_squared_error: 0.6575 - val_wine_type_accuracy: 0.9899\n",
            "Epoch 32/180\n",
            "99/99 [==============================] - 1s 13ms/step - loss: 0.4582 - wine_quality_loss: 0.4258 - wine_type_loss: 0.0324 - wine_quality_root_mean_squared_error: 0.6525 - wine_type_accuracy: 0.9940 - val_loss: 0.4791 - val_wine_quality_loss: 0.4217 - val_wine_type_loss: 0.0574 - val_wine_quality_root_mean_squared_error: 0.6494 - val_wine_type_accuracy: 0.9899\n",
            "Epoch 33/180\n",
            "99/99 [==============================] - 1s 13ms/step - loss: 0.4445 - wine_quality_loss: 0.4127 - wine_type_loss: 0.0319 - wine_quality_root_mean_squared_error: 0.6424 - wine_type_accuracy: 0.9943 - val_loss: 0.4787 - val_wine_quality_loss: 0.4215 - val_wine_type_loss: 0.0572 - val_wine_quality_root_mean_squared_error: 0.6492 - val_wine_type_accuracy: 0.9899\n",
            "Epoch 34/180\n",
            "99/99 [==============================] - 1s 13ms/step - loss: 0.4343 - wine_quality_loss: 0.4029 - wine_type_loss: 0.0314 - wine_quality_root_mean_squared_error: 0.6347 - wine_type_accuracy: 0.9943 - val_loss: 0.4621 - val_wine_quality_loss: 0.4049 - val_wine_type_loss: 0.0572 - val_wine_quality_root_mean_squared_error: 0.6363 - val_wine_type_accuracy: 0.9899\n",
            "Epoch 35/180\n",
            "99/99 [==============================] - 1s 11ms/step - loss: 0.4256 - wine_quality_loss: 0.3947 - wine_type_loss: 0.0309 - wine_quality_root_mean_squared_error: 0.6283 - wine_type_accuracy: 0.9943 - val_loss: 0.4486 - val_wine_quality_loss: 0.3915 - val_wine_type_loss: 0.0571 - val_wine_quality_root_mean_squared_error: 0.6257 - val_wine_type_accuracy: 0.9899\n",
            "Epoch 36/180\n",
            "99/99 [==============================] - 1s 7ms/step - loss: 0.4142 - wine_quality_loss: 0.3837 - wine_type_loss: 0.0306 - wine_quality_root_mean_squared_error: 0.6194 - wine_type_accuracy: 0.9946 - val_loss: 0.4443 - val_wine_quality_loss: 0.3872 - val_wine_type_loss: 0.0571 - val_wine_quality_root_mean_squared_error: 0.6223 - val_wine_type_accuracy: 0.9899\n",
            "Epoch 37/180\n",
            "99/99 [==============================] - 1s 8ms/step - loss: 0.4062 - wine_quality_loss: 0.3760 - wine_type_loss: 0.0301 - wine_quality_root_mean_squared_error: 0.6132 - wine_type_accuracy: 0.9949 - val_loss: 0.4431 - val_wine_quality_loss: 0.3861 - val_wine_type_loss: 0.0570 - val_wine_quality_root_mean_squared_error: 0.6214 - val_wine_type_accuracy: 0.9899\n",
            "Epoch 38/180\n",
            "99/99 [==============================] - 1s 7ms/step - loss: 0.3984 - wine_quality_loss: 0.3686 - wine_type_loss: 0.0298 - wine_quality_root_mean_squared_error: 0.6072 - wine_type_accuracy: 0.9949 - val_loss: 0.4313 - val_wine_quality_loss: 0.3743 - val_wine_type_loss: 0.0569 - val_wine_quality_root_mean_squared_error: 0.6118 - val_wine_type_accuracy: 0.9899\n",
            "Epoch 39/180\n",
            "99/99 [==============================] - 1s 7ms/step - loss: 0.3908 - wine_quality_loss: 0.3613 - wine_type_loss: 0.0294 - wine_quality_root_mean_squared_error: 0.6011 - wine_type_accuracy: 0.9949 - val_loss: 0.4267 - val_wine_quality_loss: 0.3698 - val_wine_type_loss: 0.0569 - val_wine_quality_root_mean_squared_error: 0.6081 - val_wine_type_accuracy: 0.9899\n",
            "Epoch 40/180\n",
            "99/99 [==============================] - 1s 7ms/step - loss: 0.3854 - wine_quality_loss: 0.3562 - wine_type_loss: 0.0291 - wine_quality_root_mean_squared_error: 0.5969 - wine_type_accuracy: 0.9949 - val_loss: 0.4211 - val_wine_quality_loss: 0.3643 - val_wine_type_loss: 0.0568 - val_wine_quality_root_mean_squared_error: 0.6035 - val_wine_type_accuracy: 0.9899\n",
            "Epoch 41/180\n",
            "99/99 [==============================] - 1s 7ms/step - loss: 0.3790 - wine_quality_loss: 0.3502 - wine_type_loss: 0.0288 - wine_quality_root_mean_squared_error: 0.5918 - wine_type_accuracy: 0.9949 - val_loss: 0.4186 - val_wine_quality_loss: 0.3617 - val_wine_type_loss: 0.0568 - val_wine_quality_root_mean_squared_error: 0.6014 - val_wine_type_accuracy: 0.9899\n",
            "Epoch 42/180\n",
            "99/99 [==============================] - 1s 7ms/step - loss: 0.3739 - wine_quality_loss: 0.3454 - wine_type_loss: 0.0285 - wine_quality_root_mean_squared_error: 0.5877 - wine_type_accuracy: 0.9952 - val_loss: 0.4254 - val_wine_quality_loss: 0.3686 - val_wine_type_loss: 0.0567 - val_wine_quality_root_mean_squared_error: 0.6072 - val_wine_type_accuracy: 0.9899\n",
            "Epoch 43/180\n",
            "99/99 [==============================] - 1s 8ms/step - loss: 0.3691 - wine_quality_loss: 0.3409 - wine_type_loss: 0.0282 - wine_quality_root_mean_squared_error: 0.5839 - wine_type_accuracy: 0.9952 - val_loss: 0.4133 - val_wine_quality_loss: 0.3567 - val_wine_type_loss: 0.0566 - val_wine_quality_root_mean_squared_error: 0.5972 - val_wine_type_accuracy: 0.9899\n",
            "Epoch 44/180\n",
            "99/99 [==============================] - 1s 7ms/step - loss: 0.3649 - wine_quality_loss: 0.3369 - wine_type_loss: 0.0280 - wine_quality_root_mean_squared_error: 0.5805 - wine_type_accuracy: 0.9952 - val_loss: 0.4160 - val_wine_quality_loss: 0.3594 - val_wine_type_loss: 0.0565 - val_wine_quality_root_mean_squared_error: 0.5995 - val_wine_type_accuracy: 0.9899\n",
            "Epoch 45/180\n",
            "99/99 [==============================] - 1s 7ms/step - loss: 0.3611 - wine_quality_loss: 0.3333 - wine_type_loss: 0.0277 - wine_quality_root_mean_squared_error: 0.5774 - wine_type_accuracy: 0.9952 - val_loss: 0.4053 - val_wine_quality_loss: 0.3489 - val_wine_type_loss: 0.0564 - val_wine_quality_root_mean_squared_error: 0.5907 - val_wine_type_accuracy: 0.9899\n",
            "Epoch 46/180\n",
            "99/99 [==============================] - 1s 8ms/step - loss: 0.3554 - wine_quality_loss: 0.3279 - wine_type_loss: 0.0275 - wine_quality_root_mean_squared_error: 0.5727 - wine_type_accuracy: 0.9952 - val_loss: 0.4015 - val_wine_quality_loss: 0.3451 - val_wine_type_loss: 0.0564 - val_wine_quality_root_mean_squared_error: 0.5875 - val_wine_type_accuracy: 0.9899\n",
            "Epoch 47/180\n",
            "99/99 [==============================] - 1s 7ms/step - loss: 0.3540 - wine_quality_loss: 0.3267 - wine_type_loss: 0.0273 - wine_quality_root_mean_squared_error: 0.5716 - wine_type_accuracy: 0.9949 - val_loss: 0.4003 - val_wine_quality_loss: 0.3439 - val_wine_type_loss: 0.0564 - val_wine_quality_root_mean_squared_error: 0.5864 - val_wine_type_accuracy: 0.9899\n",
            "Epoch 48/180\n",
            "99/99 [==============================] - 1s 8ms/step - loss: 0.3494 - wine_quality_loss: 0.3224 - wine_type_loss: 0.0270 - wine_quality_root_mean_squared_error: 0.5678 - wine_type_accuracy: 0.9952 - val_loss: 0.3990 - val_wine_quality_loss: 0.3427 - val_wine_type_loss: 0.0563 - val_wine_quality_root_mean_squared_error: 0.5854 - val_wine_type_accuracy: 0.9899\n",
            "Epoch 49/180\n",
            "99/99 [==============================] - 1s 8ms/step - loss: 0.3455 - wine_quality_loss: 0.3187 - wine_type_loss: 0.0269 - wine_quality_root_mean_squared_error: 0.5645 - wine_type_accuracy: 0.9949 - val_loss: 0.3967 - val_wine_quality_loss: 0.3406 - val_wine_type_loss: 0.0562 - val_wine_quality_root_mean_squared_error: 0.5836 - val_wine_type_accuracy: 0.9899\n",
            "Epoch 50/180\n",
            "99/99 [==============================] - 1s 8ms/step - loss: 0.3452 - wine_quality_loss: 0.3186 - wine_type_loss: 0.0266 - wine_quality_root_mean_squared_error: 0.5645 - wine_type_accuracy: 0.9952 - val_loss: 0.3940 - val_wine_quality_loss: 0.3378 - val_wine_type_loss: 0.0562 - val_wine_quality_root_mean_squared_error: 0.5812 - val_wine_type_accuracy: 0.9899\n",
            "Epoch 51/180\n",
            "99/99 [==============================] - 1s 7ms/step - loss: 0.3421 - wine_quality_loss: 0.3157 - wine_type_loss: 0.0265 - wine_quality_root_mean_squared_error: 0.5618 - wine_type_accuracy: 0.9952 - val_loss: 0.3932 - val_wine_quality_loss: 0.3371 - val_wine_type_loss: 0.0561 - val_wine_quality_root_mean_squared_error: 0.5806 - val_wine_type_accuracy: 0.9899\n",
            "Epoch 52/180\n",
            "99/99 [==============================] - 1s 8ms/step - loss: 0.3394 - wine_quality_loss: 0.3131 - wine_type_loss: 0.0263 - wine_quality_root_mean_squared_error: 0.5595 - wine_type_accuracy: 0.9952 - val_loss: 0.3946 - val_wine_quality_loss: 0.3385 - val_wine_type_loss: 0.0561 - val_wine_quality_root_mean_squared_error: 0.5818 - val_wine_type_accuracy: 0.9899\n",
            "Epoch 53/180\n",
            "99/99 [==============================] - 1s 7ms/step - loss: 0.3371 - wine_quality_loss: 0.3110 - wine_type_loss: 0.0261 - wine_quality_root_mean_squared_error: 0.5577 - wine_type_accuracy: 0.9956 - val_loss: 0.3968 - val_wine_quality_loss: 0.3407 - val_wine_type_loss: 0.0561 - val_wine_quality_root_mean_squared_error: 0.5837 - val_wine_type_accuracy: 0.9899\n",
            "Epoch 54/180\n",
            "99/99 [==============================] - 1s 7ms/step - loss: 0.3349 - wine_quality_loss: 0.3090 - wine_type_loss: 0.0259 - wine_quality_root_mean_squared_error: 0.5559 - wine_type_accuracy: 0.9956 - val_loss: 0.3897 - val_wine_quality_loss: 0.3337 - val_wine_type_loss: 0.0559 - val_wine_quality_root_mean_squared_error: 0.5777 - val_wine_type_accuracy: 0.9899\n",
            "Epoch 55/180\n",
            "99/99 [==============================] - 1s 7ms/step - loss: 0.3338 - wine_quality_loss: 0.3080 - wine_type_loss: 0.0258 - wine_quality_root_mean_squared_error: 0.5550 - wine_type_accuracy: 0.9956 - val_loss: 0.3894 - val_wine_quality_loss: 0.3334 - val_wine_type_loss: 0.0560 - val_wine_quality_root_mean_squared_error: 0.5774 - val_wine_type_accuracy: 0.9899\n",
            "Epoch 56/180\n",
            "99/99 [==============================] - 1s 8ms/step - loss: 0.3320 - wine_quality_loss: 0.3063 - wine_type_loss: 0.0256 - wine_quality_root_mean_squared_error: 0.5535 - wine_type_accuracy: 0.9956 - val_loss: 0.3888 - val_wine_quality_loss: 0.3329 - val_wine_type_loss: 0.0558 - val_wine_quality_root_mean_squared_error: 0.5770 - val_wine_type_accuracy: 0.9899\n",
            "Epoch 57/180\n",
            "99/99 [==============================] - 1s 9ms/step - loss: 0.3292 - wine_quality_loss: 0.3037 - wine_type_loss: 0.0255 - wine_quality_root_mean_squared_error: 0.5511 - wine_type_accuracy: 0.9956 - val_loss: 0.3868 - val_wine_quality_loss: 0.3310 - val_wine_type_loss: 0.0558 - val_wine_quality_root_mean_squared_error: 0.5754 - val_wine_type_accuracy: 0.9899\n",
            "Epoch 58/180\n",
            "99/99 [==============================] - 1s 8ms/step - loss: 0.3284 - wine_quality_loss: 0.3031 - wine_type_loss: 0.0253 - wine_quality_root_mean_squared_error: 0.5506 - wine_type_accuracy: 0.9956 - val_loss: 0.3872 - val_wine_quality_loss: 0.3316 - val_wine_type_loss: 0.0556 - val_wine_quality_root_mean_squared_error: 0.5758 - val_wine_type_accuracy: 0.9899\n",
            "Epoch 59/180\n",
            "99/99 [==============================] - 1s 8ms/step - loss: 0.3268 - wine_quality_loss: 0.3016 - wine_type_loss: 0.0252 - wine_quality_root_mean_squared_error: 0.5492 - wine_type_accuracy: 0.9956 - val_loss: 0.3887 - val_wine_quality_loss: 0.3331 - val_wine_type_loss: 0.0556 - val_wine_quality_root_mean_squared_error: 0.5772 - val_wine_type_accuracy: 0.9899\n",
            "Epoch 60/180\n",
            "99/99 [==============================] - 1s 8ms/step - loss: 0.3258 - wine_quality_loss: 0.3008 - wine_type_loss: 0.0250 - wine_quality_root_mean_squared_error: 0.5485 - wine_type_accuracy: 0.9956 - val_loss: 0.3834 - val_wine_quality_loss: 0.3280 - val_wine_type_loss: 0.0555 - val_wine_quality_root_mean_squared_error: 0.5727 - val_wine_type_accuracy: 0.9899\n",
            "Epoch 61/180\n",
            "99/99 [==============================] - 1s 7ms/step - loss: 0.3240 - wine_quality_loss: 0.2991 - wine_type_loss: 0.0249 - wine_quality_root_mean_squared_error: 0.5469 - wine_type_accuracy: 0.9956 - val_loss: 0.3825 - val_wine_quality_loss: 0.3271 - val_wine_type_loss: 0.0554 - val_wine_quality_root_mean_squared_error: 0.5719 - val_wine_type_accuracy: 0.9899\n",
            "Epoch 62/180\n",
            "99/99 [==============================] - 1s 8ms/step - loss: 0.3223 - wine_quality_loss: 0.2976 - wine_type_loss: 0.0247 - wine_quality_root_mean_squared_error: 0.5455 - wine_type_accuracy: 0.9956 - val_loss: 0.3836 - val_wine_quality_loss: 0.3283 - val_wine_type_loss: 0.0554 - val_wine_quality_root_mean_squared_error: 0.5729 - val_wine_type_accuracy: 0.9899\n",
            "Epoch 63/180\n",
            "99/99 [==============================] - 1s 7ms/step - loss: 0.3207 - wine_quality_loss: 0.2961 - wine_type_loss: 0.0246 - wine_quality_root_mean_squared_error: 0.5442 - wine_type_accuracy: 0.9956 - val_loss: 0.3805 - val_wine_quality_loss: 0.3252 - val_wine_type_loss: 0.0553 - val_wine_quality_root_mean_squared_error: 0.5703 - val_wine_type_accuracy: 0.9899\n",
            "Epoch 64/180\n",
            "99/99 [==============================] - 1s 8ms/step - loss: 0.3202 - wine_quality_loss: 0.2957 - wine_type_loss: 0.0245 - wine_quality_root_mean_squared_error: 0.5438 - wine_type_accuracy: 0.9956 - val_loss: 0.3823 - val_wine_quality_loss: 0.3271 - val_wine_type_loss: 0.0553 - val_wine_quality_root_mean_squared_error: 0.5719 - val_wine_type_accuracy: 0.9899\n",
            "Epoch 65/180\n",
            "99/99 [==============================] - 1s 8ms/step - loss: 0.3185 - wine_quality_loss: 0.2942 - wine_type_loss: 0.0243 - wine_quality_root_mean_squared_error: 0.5424 - wine_type_accuracy: 0.9959 - val_loss: 0.3849 - val_wine_quality_loss: 0.3297 - val_wine_type_loss: 0.0552 - val_wine_quality_root_mean_squared_error: 0.5742 - val_wine_type_accuracy: 0.9899\n",
            "Epoch 66/180\n",
            "99/99 [==============================] - 1s 8ms/step - loss: 0.3170 - wine_quality_loss: 0.2928 - wine_type_loss: 0.0242 - wine_quality_root_mean_squared_error: 0.5411 - wine_type_accuracy: 0.9956 - val_loss: 0.3824 - val_wine_quality_loss: 0.3273 - val_wine_type_loss: 0.0551 - val_wine_quality_root_mean_squared_error: 0.5721 - val_wine_type_accuracy: 0.9899\n",
            "Epoch 67/180\n",
            "99/99 [==============================] - 1s 8ms/step - loss: 0.3165 - wine_quality_loss: 0.2924 - wine_type_loss: 0.0241 - wine_quality_root_mean_squared_error: 0.5407 - wine_type_accuracy: 0.9956 - val_loss: 0.3805 - val_wine_quality_loss: 0.3254 - val_wine_type_loss: 0.0551 - val_wine_quality_root_mean_squared_error: 0.5704 - val_wine_type_accuracy: 0.9899\n",
            "Epoch 68/180\n",
            "99/99 [==============================] - 1s 7ms/step - loss: 0.3142 - wine_quality_loss: 0.2902 - wine_type_loss: 0.0240 - wine_quality_root_mean_squared_error: 0.5387 - wine_type_accuracy: 0.9956 - val_loss: 0.3887 - val_wine_quality_loss: 0.3337 - val_wine_type_loss: 0.0550 - val_wine_quality_root_mean_squared_error: 0.5777 - val_wine_type_accuracy: 0.9899\n",
            "Epoch 69/180\n",
            "99/99 [==============================] - 1s 8ms/step - loss: 0.3138 - wine_quality_loss: 0.2900 - wine_type_loss: 0.0238 - wine_quality_root_mean_squared_error: 0.5385 - wine_type_accuracy: 0.9956 - val_loss: 0.3822 - val_wine_quality_loss: 0.3273 - val_wine_type_loss: 0.0549 - val_wine_quality_root_mean_squared_error: 0.5721 - val_wine_type_accuracy: 0.9899\n",
            "Epoch 70/180\n",
            "99/99 [==============================] - 1s 7ms/step - loss: 0.3129 - wine_quality_loss: 0.2893 - wine_type_loss: 0.0236 - wine_quality_root_mean_squared_error: 0.5379 - wine_type_accuracy: 0.9962 - val_loss: 0.3922 - val_wine_quality_loss: 0.3374 - val_wine_type_loss: 0.0548 - val_wine_quality_root_mean_squared_error: 0.5809 - val_wine_type_accuracy: 0.9899\n",
            "Epoch 71/180\n",
            "99/99 [==============================] - 1s 7ms/step - loss: 0.3132 - wine_quality_loss: 0.2896 - wine_type_loss: 0.0236 - wine_quality_root_mean_squared_error: 0.5382 - wine_type_accuracy: 0.9959 - val_loss: 0.3837 - val_wine_quality_loss: 0.3290 - val_wine_type_loss: 0.0547 - val_wine_quality_root_mean_squared_error: 0.5736 - val_wine_type_accuracy: 0.9899\n",
            "Epoch 72/180\n",
            "99/99 [==============================] - 1s 8ms/step - loss: 0.3116 - wine_quality_loss: 0.2881 - wine_type_loss: 0.0235 - wine_quality_root_mean_squared_error: 0.5367 - wine_type_accuracy: 0.9959 - val_loss: 0.3790 - val_wine_quality_loss: 0.3243 - val_wine_type_loss: 0.0547 - val_wine_quality_root_mean_squared_error: 0.5695 - val_wine_type_accuracy: 0.9899\n",
            "Epoch 73/180\n",
            "99/99 [==============================] - 1s 8ms/step - loss: 0.3104 - wine_quality_loss: 0.2871 - wine_type_loss: 0.0233 - wine_quality_root_mean_squared_error: 0.5358 - wine_type_accuracy: 0.9962 - val_loss: 0.3850 - val_wine_quality_loss: 0.3304 - val_wine_type_loss: 0.0545 - val_wine_quality_root_mean_squared_error: 0.5748 - val_wine_type_accuracy: 0.9899\n",
            "Epoch 74/180\n",
            "99/99 [==============================] - 1s 7ms/step - loss: 0.3100 - wine_quality_loss: 0.2867 - wine_type_loss: 0.0233 - wine_quality_root_mean_squared_error: 0.5355 - wine_type_accuracy: 0.9962 - val_loss: 0.3850 - val_wine_quality_loss: 0.3304 - val_wine_type_loss: 0.0545 - val_wine_quality_root_mean_squared_error: 0.5748 - val_wine_type_accuracy: 0.9899\n",
            "Epoch 75/180\n",
            "99/99 [==============================] - 1s 8ms/step - loss: 0.3084 - wine_quality_loss: 0.2852 - wine_type_loss: 0.0231 - wine_quality_root_mean_squared_error: 0.5341 - wine_type_accuracy: 0.9962 - val_loss: 0.3837 - val_wine_quality_loss: 0.3293 - val_wine_type_loss: 0.0544 - val_wine_quality_root_mean_squared_error: 0.5738 - val_wine_type_accuracy: 0.9899\n",
            "Epoch 76/180\n",
            "99/99 [==============================] - 1s 8ms/step - loss: 0.3082 - wine_quality_loss: 0.2852 - wine_type_loss: 0.0231 - wine_quality_root_mean_squared_error: 0.5340 - wine_type_accuracy: 0.9965 - val_loss: 0.3835 - val_wine_quality_loss: 0.3291 - val_wine_type_loss: 0.0543 - val_wine_quality_root_mean_squared_error: 0.5737 - val_wine_type_accuracy: 0.9899\n",
            "Epoch 77/180\n",
            "99/99 [==============================] - 1s 8ms/step - loss: 0.3068 - wine_quality_loss: 0.2839 - wine_type_loss: 0.0229 - wine_quality_root_mean_squared_error: 0.5329 - wine_type_accuracy: 0.9962 - val_loss: 0.3764 - val_wine_quality_loss: 0.3223 - val_wine_type_loss: 0.0542 - val_wine_quality_root_mean_squared_error: 0.5677 - val_wine_type_accuracy: 0.9899\n",
            "Epoch 78/180\n",
            "99/99 [==============================] - 1s 7ms/step - loss: 0.3055 - wine_quality_loss: 0.2827 - wine_type_loss: 0.0228 - wine_quality_root_mean_squared_error: 0.5317 - wine_type_accuracy: 0.9965 - val_loss: 0.3786 - val_wine_quality_loss: 0.3246 - val_wine_type_loss: 0.0540 - val_wine_quality_root_mean_squared_error: 0.5697 - val_wine_type_accuracy: 0.9899\n",
            "Epoch 79/180\n",
            "99/99 [==============================] - 1s 7ms/step - loss: 0.3063 - wine_quality_loss: 0.2836 - wine_type_loss: 0.0227 - wine_quality_root_mean_squared_error: 0.5325 - wine_type_accuracy: 0.9962 - val_loss: 0.3795 - val_wine_quality_loss: 0.3256 - val_wine_type_loss: 0.0539 - val_wine_quality_root_mean_squared_error: 0.5707 - val_wine_type_accuracy: 0.9899\n",
            "Epoch 80/180\n",
            "99/99 [==============================] - 1s 8ms/step - loss: 0.3037 - wine_quality_loss: 0.2811 - wine_type_loss: 0.0226 - wine_quality_root_mean_squared_error: 0.5302 - wine_type_accuracy: 0.9962 - val_loss: 0.3785 - val_wine_quality_loss: 0.3247 - val_wine_type_loss: 0.0538 - val_wine_quality_root_mean_squared_error: 0.5699 - val_wine_type_accuracy: 0.9899\n",
            "Epoch 81/180\n",
            "99/99 [==============================] - 1s 7ms/step - loss: 0.3033 - wine_quality_loss: 0.2808 - wine_type_loss: 0.0225 - wine_quality_root_mean_squared_error: 0.5299 - wine_type_accuracy: 0.9962 - val_loss: 0.3784 - val_wine_quality_loss: 0.3247 - val_wine_type_loss: 0.0537 - val_wine_quality_root_mean_squared_error: 0.5698 - val_wine_type_accuracy: 0.9899\n",
            "Epoch 82/180\n",
            "99/99 [==============================] - 1s 9ms/step - loss: 0.3025 - wine_quality_loss: 0.2800 - wine_type_loss: 0.0224 - wine_quality_root_mean_squared_error: 0.5292 - wine_type_accuracy: 0.9962 - val_loss: 0.3821 - val_wine_quality_loss: 0.3284 - val_wine_type_loss: 0.0537 - val_wine_quality_root_mean_squared_error: 0.5731 - val_wine_type_accuracy: 0.9899\n",
            "Epoch 83/180\n",
            "99/99 [==============================] - 1s 8ms/step - loss: 0.3017 - wine_quality_loss: 0.2794 - wine_type_loss: 0.0223 - wine_quality_root_mean_squared_error: 0.5286 - wine_type_accuracy: 0.9968 - val_loss: 0.3785 - val_wine_quality_loss: 0.3249 - val_wine_type_loss: 0.0536 - val_wine_quality_root_mean_squared_error: 0.5700 - val_wine_type_accuracy: 0.9899\n",
            "Epoch 84/180\n",
            "99/99 [==============================] - 1s 8ms/step - loss: 0.3026 - wine_quality_loss: 0.2804 - wine_type_loss: 0.0222 - wine_quality_root_mean_squared_error: 0.5295 - wine_type_accuracy: 0.9965 - val_loss: 0.3758 - val_wine_quality_loss: 0.3223 - val_wine_type_loss: 0.0535 - val_wine_quality_root_mean_squared_error: 0.5677 - val_wine_type_accuracy: 0.9899\n",
            "Epoch 85/180\n",
            "99/99 [==============================] - 1s 8ms/step - loss: 0.3017 - wine_quality_loss: 0.2796 - wine_type_loss: 0.0221 - wine_quality_root_mean_squared_error: 0.5288 - wine_type_accuracy: 0.9965 - val_loss: 0.3762 - val_wine_quality_loss: 0.3227 - val_wine_type_loss: 0.0534 - val_wine_quality_root_mean_squared_error: 0.5681 - val_wine_type_accuracy: 0.9899\n",
            "Epoch 86/180\n",
            "99/99 [==============================] - 1s 9ms/step - loss: 0.3006 - wine_quality_loss: 0.2785 - wine_type_loss: 0.0220 - wine_quality_root_mean_squared_error: 0.5278 - wine_type_accuracy: 0.9965 - val_loss: 0.3837 - val_wine_quality_loss: 0.3304 - val_wine_type_loss: 0.0534 - val_wine_quality_root_mean_squared_error: 0.5748 - val_wine_type_accuracy: 0.9899\n",
            "Epoch 87/180\n",
            "99/99 [==============================] - 1s 9ms/step - loss: 0.2999 - wine_quality_loss: 0.2779 - wine_type_loss: 0.0219 - wine_quality_root_mean_squared_error: 0.5272 - wine_type_accuracy: 0.9968 - val_loss: 0.3793 - val_wine_quality_loss: 0.3260 - val_wine_type_loss: 0.0532 - val_wine_quality_root_mean_squared_error: 0.5710 - val_wine_type_accuracy: 0.9899\n",
            "Epoch 88/180\n",
            "99/99 [==============================] - 1s 9ms/step - loss: 0.2995 - wine_quality_loss: 0.2776 - wine_type_loss: 0.0219 - wine_quality_root_mean_squared_error: 0.5269 - wine_type_accuracy: 0.9962 - val_loss: 0.3767 - val_wine_quality_loss: 0.3235 - val_wine_type_loss: 0.0532 - val_wine_quality_root_mean_squared_error: 0.5688 - val_wine_type_accuracy: 0.9899\n",
            "Epoch 89/180\n",
            "99/99 [==============================] - 1s 10ms/step - loss: 0.2981 - wine_quality_loss: 0.2764 - wine_type_loss: 0.0217 - wine_quality_root_mean_squared_error: 0.5257 - wine_type_accuracy: 0.9968 - val_loss: 0.3862 - val_wine_quality_loss: 0.3330 - val_wine_type_loss: 0.0531 - val_wine_quality_root_mean_squared_error: 0.5771 - val_wine_type_accuracy: 0.9899\n",
            "Epoch 90/180\n",
            "99/99 [==============================] - 1s 9ms/step - loss: 0.2982 - wine_quality_loss: 0.2765 - wine_type_loss: 0.0217 - wine_quality_root_mean_squared_error: 0.5258 - wine_type_accuracy: 0.9968 - val_loss: 0.3969 - val_wine_quality_loss: 0.3439 - val_wine_type_loss: 0.0530 - val_wine_quality_root_mean_squared_error: 0.5864 - val_wine_type_accuracy: 0.9899\n",
            "Epoch 91/180\n",
            "99/99 [==============================] - 1s 9ms/step - loss: 0.2961 - wine_quality_loss: 0.2746 - wine_type_loss: 0.0215 - wine_quality_root_mean_squared_error: 0.5240 - wine_type_accuracy: 0.9968 - val_loss: 0.3791 - val_wine_quality_loss: 0.3261 - val_wine_type_loss: 0.0530 - val_wine_quality_root_mean_squared_error: 0.5711 - val_wine_type_accuracy: 0.9899\n",
            "Epoch 92/180\n",
            "99/99 [==============================] - 1s 8ms/step - loss: 0.2975 - wine_quality_loss: 0.2760 - wine_type_loss: 0.0215 - wine_quality_root_mean_squared_error: 0.5254 - wine_type_accuracy: 0.9968 - val_loss: 0.3787 - val_wine_quality_loss: 0.3258 - val_wine_type_loss: 0.0529 - val_wine_quality_root_mean_squared_error: 0.5708 - val_wine_type_accuracy: 0.9899\n",
            "Epoch 93/180\n",
            "99/99 [==============================] - 1s 8ms/step - loss: 0.2961 - wine_quality_loss: 0.2747 - wine_type_loss: 0.0214 - wine_quality_root_mean_squared_error: 0.5241 - wine_type_accuracy: 0.9968 - val_loss: 0.3788 - val_wine_quality_loss: 0.3260 - val_wine_type_loss: 0.0528 - val_wine_quality_root_mean_squared_error: 0.5710 - val_wine_type_accuracy: 0.9899\n",
            "Epoch 94/180\n",
            "99/99 [==============================] - 1s 8ms/step - loss: 0.2949 - wine_quality_loss: 0.2736 - wine_type_loss: 0.0213 - wine_quality_root_mean_squared_error: 0.5230 - wine_type_accuracy: 0.9968 - val_loss: 0.3836 - val_wine_quality_loss: 0.3309 - val_wine_type_loss: 0.0527 - val_wine_quality_root_mean_squared_error: 0.5752 - val_wine_type_accuracy: 0.9899\n",
            "Epoch 95/180\n",
            "99/99 [==============================] - 1s 9ms/step - loss: 0.2948 - wine_quality_loss: 0.2736 - wine_type_loss: 0.0212 - wine_quality_root_mean_squared_error: 0.5231 - wine_type_accuracy: 0.9968 - val_loss: 0.3814 - val_wine_quality_loss: 0.3287 - val_wine_type_loss: 0.0527 - val_wine_quality_root_mean_squared_error: 0.5733 - val_wine_type_accuracy: 0.9899\n",
            "Epoch 96/180\n",
            "99/99 [==============================] - 1s 9ms/step - loss: 0.2947 - wine_quality_loss: 0.2736 - wine_type_loss: 0.0211 - wine_quality_root_mean_squared_error: 0.5230 - wine_type_accuracy: 0.9968 - val_loss: 0.3754 - val_wine_quality_loss: 0.3228 - val_wine_type_loss: 0.0526 - val_wine_quality_root_mean_squared_error: 0.5681 - val_wine_type_accuracy: 0.9899\n",
            "Epoch 97/180\n",
            "99/99 [==============================] - 1s 9ms/step - loss: 0.2929 - wine_quality_loss: 0.2719 - wine_type_loss: 0.0210 - wine_quality_root_mean_squared_error: 0.5214 - wine_type_accuracy: 0.9968 - val_loss: 0.3766 - val_wine_quality_loss: 0.3242 - val_wine_type_loss: 0.0525 - val_wine_quality_root_mean_squared_error: 0.5693 - val_wine_type_accuracy: 0.9899\n",
            "Epoch 98/180\n",
            "99/99 [==============================] - 1s 8ms/step - loss: 0.2931 - wine_quality_loss: 0.2721 - wine_type_loss: 0.0210 - wine_quality_root_mean_squared_error: 0.5217 - wine_type_accuracy: 0.9968 - val_loss: 0.3797 - val_wine_quality_loss: 0.3273 - val_wine_type_loss: 0.0524 - val_wine_quality_root_mean_squared_error: 0.5721 - val_wine_type_accuracy: 0.9899\n",
            "Epoch 99/180\n",
            "99/99 [==============================] - 1s 9ms/step - loss: 0.2930 - wine_quality_loss: 0.2721 - wine_type_loss: 0.0209 - wine_quality_root_mean_squared_error: 0.5217 - wine_type_accuracy: 0.9968 - val_loss: 0.3793 - val_wine_quality_loss: 0.3269 - val_wine_type_loss: 0.0524 - val_wine_quality_root_mean_squared_error: 0.5718 - val_wine_type_accuracy: 0.9899\n",
            "Epoch 100/180\n",
            "99/99 [==============================] - 1s 9ms/step - loss: 0.2914 - wine_quality_loss: 0.2707 - wine_type_loss: 0.0208 - wine_quality_root_mean_squared_error: 0.5203 - wine_type_accuracy: 0.9968 - val_loss: 0.3792 - val_wine_quality_loss: 0.3270 - val_wine_type_loss: 0.0522 - val_wine_quality_root_mean_squared_error: 0.5718 - val_wine_type_accuracy: 0.9899\n",
            "Epoch 101/180\n",
            "99/99 [==============================] - 1s 9ms/step - loss: 0.2918 - wine_quality_loss: 0.2711 - wine_type_loss: 0.0207 - wine_quality_root_mean_squared_error: 0.5206 - wine_type_accuracy: 0.9968 - val_loss: 0.3717 - val_wine_quality_loss: 0.3196 - val_wine_type_loss: 0.0521 - val_wine_quality_root_mean_squared_error: 0.5653 - val_wine_type_accuracy: 0.9899\n",
            "Epoch 102/180\n",
            "99/99 [==============================] - 1s 9ms/step - loss: 0.2899 - wine_quality_loss: 0.2693 - wine_type_loss: 0.0206 - wine_quality_root_mean_squared_error: 0.5189 - wine_type_accuracy: 0.9968 - val_loss: 0.3829 - val_wine_quality_loss: 0.3308 - val_wine_type_loss: 0.0521 - val_wine_quality_root_mean_squared_error: 0.5752 - val_wine_type_accuracy: 0.9899\n",
            "Epoch 103/180\n",
            "99/99 [==============================] - 1s 9ms/step - loss: 0.2906 - wine_quality_loss: 0.2701 - wine_type_loss: 0.0206 - wine_quality_root_mean_squared_error: 0.5197 - wine_type_accuracy: 0.9968 - val_loss: 0.3730 - val_wine_quality_loss: 0.3210 - val_wine_type_loss: 0.0520 - val_wine_quality_root_mean_squared_error: 0.5666 - val_wine_type_accuracy: 0.9899\n",
            "Epoch 104/180\n",
            "99/99 [==============================] - 1s 9ms/step - loss: 0.2895 - wine_quality_loss: 0.2691 - wine_type_loss: 0.0205 - wine_quality_root_mean_squared_error: 0.5187 - wine_type_accuracy: 0.9968 - val_loss: 0.3748 - val_wine_quality_loss: 0.3229 - val_wine_type_loss: 0.0518 - val_wine_quality_root_mean_squared_error: 0.5683 - val_wine_type_accuracy: 0.9899\n",
            "Epoch 105/180\n",
            "99/99 [==============================] - 1s 9ms/step - loss: 0.2898 - wine_quality_loss: 0.2695 - wine_type_loss: 0.0204 - wine_quality_root_mean_squared_error: 0.5191 - wine_type_accuracy: 0.9968 - val_loss: 0.3764 - val_wine_quality_loss: 0.3247 - val_wine_type_loss: 0.0517 - val_wine_quality_root_mean_squared_error: 0.5698 - val_wine_type_accuracy: 0.9899\n",
            "Epoch 106/180\n",
            "99/99 [==============================] - 1s 9ms/step - loss: 0.2888 - wine_quality_loss: 0.2685 - wine_type_loss: 0.0203 - wine_quality_root_mean_squared_error: 0.5181 - wine_type_accuracy: 0.9968 - val_loss: 0.3777 - val_wine_quality_loss: 0.3260 - val_wine_type_loss: 0.0517 - val_wine_quality_root_mean_squared_error: 0.5710 - val_wine_type_accuracy: 0.9899\n",
            "Epoch 107/180\n",
            "99/99 [==============================] - 1s 8ms/step - loss: 0.2883 - wine_quality_loss: 0.2681 - wine_type_loss: 0.0202 - wine_quality_root_mean_squared_error: 0.5178 - wine_type_accuracy: 0.9968 - val_loss: 0.3742 - val_wine_quality_loss: 0.3226 - val_wine_type_loss: 0.0517 - val_wine_quality_root_mean_squared_error: 0.5679 - val_wine_type_accuracy: 0.9899\n",
            "Epoch 108/180\n",
            "99/99 [==============================] - 1s 9ms/step - loss: 0.2874 - wine_quality_loss: 0.2673 - wine_type_loss: 0.0201 - wine_quality_root_mean_squared_error: 0.5170 - wine_type_accuracy: 0.9968 - val_loss: 0.3789 - val_wine_quality_loss: 0.3273 - val_wine_type_loss: 0.0516 - val_wine_quality_root_mean_squared_error: 0.5721 - val_wine_type_accuracy: 0.9899\n",
            "Epoch 109/180\n",
            "99/99 [==============================] - 1s 9ms/step - loss: 0.2880 - wine_quality_loss: 0.2680 - wine_type_loss: 0.0200 - wine_quality_root_mean_squared_error: 0.5177 - wine_type_accuracy: 0.9968 - val_loss: 0.3705 - val_wine_quality_loss: 0.3190 - val_wine_type_loss: 0.0515 - val_wine_quality_root_mean_squared_error: 0.5648 - val_wine_type_accuracy: 0.9899\n",
            "Epoch 110/180\n",
            "99/99 [==============================] - 1s 8ms/step - loss: 0.2866 - wine_quality_loss: 0.2667 - wine_type_loss: 0.0199 - wine_quality_root_mean_squared_error: 0.5164 - wine_type_accuracy: 0.9968 - val_loss: 0.3776 - val_wine_quality_loss: 0.3262 - val_wine_type_loss: 0.0514 - val_wine_quality_root_mean_squared_error: 0.5711 - val_wine_type_accuracy: 0.9899\n",
            "Epoch 111/180\n",
            "99/99 [==============================] - 1s 9ms/step - loss: 0.2858 - wine_quality_loss: 0.2659 - wine_type_loss: 0.0199 - wine_quality_root_mean_squared_error: 0.5157 - wine_type_accuracy: 0.9968 - val_loss: 0.3755 - val_wine_quality_loss: 0.3241 - val_wine_type_loss: 0.0514 - val_wine_quality_root_mean_squared_error: 0.5693 - val_wine_type_accuracy: 0.9899\n",
            "Epoch 112/180\n",
            "99/99 [==============================] - 1s 9ms/step - loss: 0.2858 - wine_quality_loss: 0.2660 - wine_type_loss: 0.0198 - wine_quality_root_mean_squared_error: 0.5158 - wine_type_accuracy: 0.9968 - val_loss: 0.3766 - val_wine_quality_loss: 0.3253 - val_wine_type_loss: 0.0513 - val_wine_quality_root_mean_squared_error: 0.5703 - val_wine_type_accuracy: 0.9899\n",
            "Epoch 113/180\n",
            "99/99 [==============================] - 1s 9ms/step - loss: 0.2862 - wine_quality_loss: 0.2665 - wine_type_loss: 0.0197 - wine_quality_root_mean_squared_error: 0.5162 - wine_type_accuracy: 0.9968 - val_loss: 0.3817 - val_wine_quality_loss: 0.3305 - val_wine_type_loss: 0.0512 - val_wine_quality_root_mean_squared_error: 0.5749 - val_wine_type_accuracy: 0.9899\n",
            "Epoch 114/180\n",
            "99/99 [==============================] - 1s 10ms/step - loss: 0.2854 - wine_quality_loss: 0.2658 - wine_type_loss: 0.0196 - wine_quality_root_mean_squared_error: 0.5156 - wine_type_accuracy: 0.9968 - val_loss: 0.3754 - val_wine_quality_loss: 0.3242 - val_wine_type_loss: 0.0512 - val_wine_quality_root_mean_squared_error: 0.5694 - val_wine_type_accuracy: 0.9899\n",
            "Epoch 115/180\n",
            "99/99 [==============================] - 1s 9ms/step - loss: 0.2841 - wine_quality_loss: 0.2645 - wine_type_loss: 0.0196 - wine_quality_root_mean_squared_error: 0.5143 - wine_type_accuracy: 0.9968 - val_loss: 0.3730 - val_wine_quality_loss: 0.3219 - val_wine_type_loss: 0.0511 - val_wine_quality_root_mean_squared_error: 0.5674 - val_wine_type_accuracy: 0.9899\n",
            "Epoch 116/180\n",
            "99/99 [==============================] - 1s 9ms/step - loss: 0.2841 - wine_quality_loss: 0.2646 - wine_type_loss: 0.0195 - wine_quality_root_mean_squared_error: 0.5144 - wine_type_accuracy: 0.9968 - val_loss: 0.3743 - val_wine_quality_loss: 0.3232 - val_wine_type_loss: 0.0511 - val_wine_quality_root_mean_squared_error: 0.5685 - val_wine_type_accuracy: 0.9899\n",
            "Epoch 117/180\n",
            "99/99 [==============================] - 1s 9ms/step - loss: 0.2832 - wine_quality_loss: 0.2638 - wine_type_loss: 0.0194 - wine_quality_root_mean_squared_error: 0.5136 - wine_type_accuracy: 0.9968 - val_loss: 0.3730 - val_wine_quality_loss: 0.3219 - val_wine_type_loss: 0.0510 - val_wine_quality_root_mean_squared_error: 0.5674 - val_wine_type_accuracy: 0.9899\n",
            "Epoch 118/180\n",
            "99/99 [==============================] - 1s 9ms/step - loss: 0.2827 - wine_quality_loss: 0.2634 - wine_type_loss: 0.0193 - wine_quality_root_mean_squared_error: 0.5132 - wine_type_accuracy: 0.9968 - val_loss: 0.3824 - val_wine_quality_loss: 0.3314 - val_wine_type_loss: 0.0509 - val_wine_quality_root_mean_squared_error: 0.5757 - val_wine_type_accuracy: 0.9899\n",
            "Epoch 119/180\n",
            "99/99 [==============================] - 1s 9ms/step - loss: 0.2823 - wine_quality_loss: 0.2631 - wine_type_loss: 0.0192 - wine_quality_root_mean_squared_error: 0.5129 - wine_type_accuracy: 0.9968 - val_loss: 0.3749 - val_wine_quality_loss: 0.3240 - val_wine_type_loss: 0.0509 - val_wine_quality_root_mean_squared_error: 0.5692 - val_wine_type_accuracy: 0.9911\n",
            "Epoch 120/180\n",
            "99/99 [==============================] - 1s 9ms/step - loss: 0.2816 - wine_quality_loss: 0.2624 - wine_type_loss: 0.0192 - wine_quality_root_mean_squared_error: 0.5123 - wine_type_accuracy: 0.9968 - val_loss: 0.3723 - val_wine_quality_loss: 0.3214 - val_wine_type_loss: 0.0509 - val_wine_quality_root_mean_squared_error: 0.5669 - val_wine_type_accuracy: 0.9911\n",
            "Epoch 121/180\n",
            "99/99 [==============================] - 1s 9ms/step - loss: 0.2823 - wine_quality_loss: 0.2631 - wine_type_loss: 0.0191 - wine_quality_root_mean_squared_error: 0.5130 - wine_type_accuracy: 0.9968 - val_loss: 0.3697 - val_wine_quality_loss: 0.3190 - val_wine_type_loss: 0.0507 - val_wine_quality_root_mean_squared_error: 0.5648 - val_wine_type_accuracy: 0.9911\n",
            "Epoch 122/180\n",
            "99/99 [==============================] - 1s 8ms/step - loss: 0.2804 - wine_quality_loss: 0.2614 - wine_type_loss: 0.0190 - wine_quality_root_mean_squared_error: 0.5112 - wine_type_accuracy: 0.9968 - val_loss: 0.3722 - val_wine_quality_loss: 0.3215 - val_wine_type_loss: 0.0507 - val_wine_quality_root_mean_squared_error: 0.5670 - val_wine_type_accuracy: 0.9911\n",
            "Epoch 123/180\n",
            "99/99 [==============================] - 1s 9ms/step - loss: 0.2804 - wine_quality_loss: 0.2615 - wine_type_loss: 0.0190 - wine_quality_root_mean_squared_error: 0.5114 - wine_type_accuracy: 0.9968 - val_loss: 0.3760 - val_wine_quality_loss: 0.3254 - val_wine_type_loss: 0.0506 - val_wine_quality_root_mean_squared_error: 0.5704 - val_wine_type_accuracy: 0.9911\n",
            "Epoch 124/180\n",
            "99/99 [==============================] - 1s 14ms/step - loss: 0.2811 - wine_quality_loss: 0.2622 - wine_type_loss: 0.0189 - wine_quality_root_mean_squared_error: 0.5121 - wine_type_accuracy: 0.9968 - val_loss: 0.3718 - val_wine_quality_loss: 0.3211 - val_wine_type_loss: 0.0507 - val_wine_quality_root_mean_squared_error: 0.5667 - val_wine_type_accuracy: 0.9911\n",
            "Epoch 125/180\n",
            "99/99 [==============================] - 2s 18ms/step - loss: 0.2805 - wine_quality_loss: 0.2616 - wine_type_loss: 0.0189 - wine_quality_root_mean_squared_error: 0.5115 - wine_type_accuracy: 0.9968 - val_loss: 0.3705 - val_wine_quality_loss: 0.3198 - val_wine_type_loss: 0.0507 - val_wine_quality_root_mean_squared_error: 0.5655 - val_wine_type_accuracy: 0.9911\n",
            "Epoch 126/180\n",
            "99/99 [==============================] - 2s 17ms/step - loss: 0.2796 - wine_quality_loss: 0.2608 - wine_type_loss: 0.0188 - wine_quality_root_mean_squared_error: 0.5107 - wine_type_accuracy: 0.9968 - val_loss: 0.3710 - val_wine_quality_loss: 0.3205 - val_wine_type_loss: 0.0506 - val_wine_quality_root_mean_squared_error: 0.5661 - val_wine_type_accuracy: 0.9911\n",
            "Epoch 127/180\n",
            "99/99 [==============================] - 2s 20ms/step - loss: 0.2791 - wine_quality_loss: 0.2604 - wine_type_loss: 0.0187 - wine_quality_root_mean_squared_error: 0.5103 - wine_type_accuracy: 0.9968 - val_loss: 0.3742 - val_wine_quality_loss: 0.3237 - val_wine_type_loss: 0.0505 - val_wine_quality_root_mean_squared_error: 0.5690 - val_wine_type_accuracy: 0.9911\n",
            "Epoch 128/180\n",
            "99/99 [==============================] - 1s 9ms/step - loss: 0.2787 - wine_quality_loss: 0.2600 - wine_type_loss: 0.0187 - wine_quality_root_mean_squared_error: 0.5099 - wine_type_accuracy: 0.9968 - val_loss: 0.3755 - val_wine_quality_loss: 0.3250 - val_wine_type_loss: 0.0505 - val_wine_quality_root_mean_squared_error: 0.5701 - val_wine_type_accuracy: 0.9911\n",
            "Epoch 129/180\n",
            "99/99 [==============================] - 1s 8ms/step - loss: 0.2783 - wine_quality_loss: 0.2598 - wine_type_loss: 0.0186 - wine_quality_root_mean_squared_error: 0.5097 - wine_type_accuracy: 0.9968 - val_loss: 0.3690 - val_wine_quality_loss: 0.3185 - val_wine_type_loss: 0.0505 - val_wine_quality_root_mean_squared_error: 0.5643 - val_wine_type_accuracy: 0.9911\n",
            "Epoch 130/180\n",
            "99/99 [==============================] - 1s 9ms/step - loss: 0.2772 - wine_quality_loss: 0.2588 - wine_type_loss: 0.0185 - wine_quality_root_mean_squared_error: 0.5087 - wine_type_accuracy: 0.9968 - val_loss: 0.3775 - val_wine_quality_loss: 0.3271 - val_wine_type_loss: 0.0504 - val_wine_quality_root_mean_squared_error: 0.5719 - val_wine_type_accuracy: 0.9911\n",
            "Epoch 131/180\n",
            "99/99 [==============================] - 1s 9ms/step - loss: 0.2771 - wine_quality_loss: 0.2587 - wine_type_loss: 0.0184 - wine_quality_root_mean_squared_error: 0.5086 - wine_type_accuracy: 0.9968 - val_loss: 0.3792 - val_wine_quality_loss: 0.3289 - val_wine_type_loss: 0.0503 - val_wine_quality_root_mean_squared_error: 0.5735 - val_wine_type_accuracy: 0.9911\n",
            "Epoch 132/180\n",
            "99/99 [==============================] - 1s 9ms/step - loss: 0.2776 - wine_quality_loss: 0.2592 - wine_type_loss: 0.0184 - wine_quality_root_mean_squared_error: 0.5091 - wine_type_accuracy: 0.9968 - val_loss: 0.3756 - val_wine_quality_loss: 0.3253 - val_wine_type_loss: 0.0503 - val_wine_quality_root_mean_squared_error: 0.5703 - val_wine_type_accuracy: 0.9911\n",
            "Epoch 133/180\n",
            "99/99 [==============================] - 1s 9ms/step - loss: 0.2765 - wine_quality_loss: 0.2582 - wine_type_loss: 0.0183 - wine_quality_root_mean_squared_error: 0.5082 - wine_type_accuracy: 0.9968 - val_loss: 0.3830 - val_wine_quality_loss: 0.3328 - val_wine_type_loss: 0.0502 - val_wine_quality_root_mean_squared_error: 0.5769 - val_wine_type_accuracy: 0.9911\n",
            "Epoch 134/180\n",
            "99/99 [==============================] - 1s 9ms/step - loss: 0.2757 - wine_quality_loss: 0.2575 - wine_type_loss: 0.0182 - wine_quality_root_mean_squared_error: 0.5074 - wine_type_accuracy: 0.9968 - val_loss: 0.3797 - val_wine_quality_loss: 0.3296 - val_wine_type_loss: 0.0501 - val_wine_quality_root_mean_squared_error: 0.5741 - val_wine_type_accuracy: 0.9911\n",
            "Epoch 135/180\n",
            "99/99 [==============================] - 1s 10ms/step - loss: 0.2764 - wine_quality_loss: 0.2582 - wine_type_loss: 0.0182 - wine_quality_root_mean_squared_error: 0.5081 - wine_type_accuracy: 0.9968 - val_loss: 0.3696 - val_wine_quality_loss: 0.3194 - val_wine_type_loss: 0.0501 - val_wine_quality_root_mean_squared_error: 0.5652 - val_wine_type_accuracy: 0.9911\n",
            "Epoch 136/180\n",
            "99/99 [==============================] - 1s 9ms/step - loss: 0.2756 - wine_quality_loss: 0.2574 - wine_type_loss: 0.0181 - wine_quality_root_mean_squared_error: 0.5074 - wine_type_accuracy: 0.9968 - val_loss: 0.3706 - val_wine_quality_loss: 0.3204 - val_wine_type_loss: 0.0501 - val_wine_quality_root_mean_squared_error: 0.5661 - val_wine_type_accuracy: 0.9911\n",
            "Epoch 137/180\n",
            "99/99 [==============================] - 1s 9ms/step - loss: 0.2749 - wine_quality_loss: 0.2569 - wine_type_loss: 0.0180 - wine_quality_root_mean_squared_error: 0.5069 - wine_type_accuracy: 0.9968 - val_loss: 0.4101 - val_wine_quality_loss: 0.3601 - val_wine_type_loss: 0.0500 - val_wine_quality_root_mean_squared_error: 0.6001 - val_wine_type_accuracy: 0.9911\n",
            "Epoch 138/180\n",
            "99/99 [==============================] - 1s 9ms/step - loss: 0.2756 - wine_quality_loss: 0.2577 - wine_type_loss: 0.0179 - wine_quality_root_mean_squared_error: 0.5076 - wine_type_accuracy: 0.9968 - val_loss: 0.3716 - val_wine_quality_loss: 0.3217 - val_wine_type_loss: 0.0499 - val_wine_quality_root_mean_squared_error: 0.5672 - val_wine_type_accuracy: 0.9924\n",
            "Epoch 139/180\n",
            "99/99 [==============================] - 1s 9ms/step - loss: 0.2739 - wine_quality_loss: 0.2561 - wine_type_loss: 0.0179 - wine_quality_root_mean_squared_error: 0.5060 - wine_type_accuracy: 0.9968 - val_loss: 0.3790 - val_wine_quality_loss: 0.3291 - val_wine_type_loss: 0.0499 - val_wine_quality_root_mean_squared_error: 0.5737 - val_wine_type_accuracy: 0.9924\n",
            "Epoch 140/180\n",
            "99/99 [==============================] - 1s 10ms/step - loss: 0.2723 - wine_quality_loss: 0.2545 - wine_type_loss: 0.0178 - wine_quality_root_mean_squared_error: 0.5045 - wine_type_accuracy: 0.9968 - val_loss: 0.3693 - val_wine_quality_loss: 0.3195 - val_wine_type_loss: 0.0498 - val_wine_quality_root_mean_squared_error: 0.5652 - val_wine_type_accuracy: 0.9924\n",
            "Epoch 141/180\n",
            "99/99 [==============================] - 1s 8ms/step - loss: 0.2731 - wine_quality_loss: 0.2554 - wine_type_loss: 0.0177 - wine_quality_root_mean_squared_error: 0.5054 - wine_type_accuracy: 0.9968 - val_loss: 0.3788 - val_wine_quality_loss: 0.3291 - val_wine_type_loss: 0.0497 - val_wine_quality_root_mean_squared_error: 0.5737 - val_wine_type_accuracy: 0.9924\n",
            "Epoch 142/180\n",
            "99/99 [==============================] - 1s 9ms/step - loss: 0.2724 - wine_quality_loss: 0.2548 - wine_type_loss: 0.0176 - wine_quality_root_mean_squared_error: 0.5048 - wine_type_accuracy: 0.9968 - val_loss: 0.3754 - val_wine_quality_loss: 0.3258 - val_wine_type_loss: 0.0496 - val_wine_quality_root_mean_squared_error: 0.5708 - val_wine_type_accuracy: 0.9924\n",
            "Epoch 143/180\n",
            "99/99 [==============================] - 1s 8ms/step - loss: 0.2732 - wine_quality_loss: 0.2557 - wine_type_loss: 0.0175 - wine_quality_root_mean_squared_error: 0.5057 - wine_type_accuracy: 0.9968 - val_loss: 0.3680 - val_wine_quality_loss: 0.3183 - val_wine_type_loss: 0.0497 - val_wine_quality_root_mean_squared_error: 0.5642 - val_wine_type_accuracy: 0.9924\n",
            "Epoch 144/180\n",
            "99/99 [==============================] - 1s 9ms/step - loss: 0.2728 - wine_quality_loss: 0.2553 - wine_type_loss: 0.0175 - wine_quality_root_mean_squared_error: 0.5053 - wine_type_accuracy: 0.9968 - val_loss: 0.3696 - val_wine_quality_loss: 0.3200 - val_wine_type_loss: 0.0496 - val_wine_quality_root_mean_squared_error: 0.5657 - val_wine_type_accuracy: 0.9924\n",
            "Epoch 145/180\n",
            "99/99 [==============================] - 1s 9ms/step - loss: 0.2715 - wine_quality_loss: 0.2540 - wine_type_loss: 0.0176 - wine_quality_root_mean_squared_error: 0.5040 - wine_type_accuracy: 0.9968 - val_loss: 0.3768 - val_wine_quality_loss: 0.3270 - val_wine_type_loss: 0.0497 - val_wine_quality_root_mean_squared_error: 0.5719 - val_wine_type_accuracy: 0.9924\n",
            "Epoch 146/180\n",
            "99/99 [==============================] - 1s 10ms/step - loss: 0.2714 - wine_quality_loss: 0.2539 - wine_type_loss: 0.0175 - wine_quality_root_mean_squared_error: 0.5039 - wine_type_accuracy: 0.9968 - val_loss: 0.3695 - val_wine_quality_loss: 0.3198 - val_wine_type_loss: 0.0497 - val_wine_quality_root_mean_squared_error: 0.5655 - val_wine_type_accuracy: 0.9924\n",
            "Epoch 147/180\n",
            "99/99 [==============================] - 1s 10ms/step - loss: 0.2705 - wine_quality_loss: 0.2532 - wine_type_loss: 0.0173 - wine_quality_root_mean_squared_error: 0.5032 - wine_type_accuracy: 0.9968 - val_loss: 0.3710 - val_wine_quality_loss: 0.3213 - val_wine_type_loss: 0.0497 - val_wine_quality_root_mean_squared_error: 0.5668 - val_wine_type_accuracy: 0.9924\n",
            "Epoch 148/180\n",
            "99/99 [==============================] - 1s 9ms/step - loss: 0.2713 - wine_quality_loss: 0.2540 - wine_type_loss: 0.0172 - wine_quality_root_mean_squared_error: 0.5040 - wine_type_accuracy: 0.9968 - val_loss: 0.3767 - val_wine_quality_loss: 0.3270 - val_wine_type_loss: 0.0497 - val_wine_quality_root_mean_squared_error: 0.5718 - val_wine_type_accuracy: 0.9924\n",
            "Epoch 149/180\n",
            "99/99 [==============================] - 1s 10ms/step - loss: 0.2694 - wine_quality_loss: 0.2522 - wine_type_loss: 0.0172 - wine_quality_root_mean_squared_error: 0.5022 - wine_type_accuracy: 0.9968 - val_loss: 0.3788 - val_wine_quality_loss: 0.3291 - val_wine_type_loss: 0.0496 - val_wine_quality_root_mean_squared_error: 0.5737 - val_wine_type_accuracy: 0.9924\n",
            "Epoch 150/180\n",
            "99/99 [==============================] - 1s 10ms/step - loss: 0.2708 - wine_quality_loss: 0.2536 - wine_type_loss: 0.0172 - wine_quality_root_mean_squared_error: 0.5036 - wine_type_accuracy: 0.9968 - val_loss: 0.3704 - val_wine_quality_loss: 0.3209 - val_wine_type_loss: 0.0495 - val_wine_quality_root_mean_squared_error: 0.5665 - val_wine_type_accuracy: 0.9924\n",
            "Epoch 151/180\n",
            "99/99 [==============================] - 1s 8ms/step - loss: 0.2689 - wine_quality_loss: 0.2518 - wine_type_loss: 0.0171 - wine_quality_root_mean_squared_error: 0.5018 - wine_type_accuracy: 0.9968 - val_loss: 0.3695 - val_wine_quality_loss: 0.3200 - val_wine_type_loss: 0.0495 - val_wine_quality_root_mean_squared_error: 0.5657 - val_wine_type_accuracy: 0.9924\n",
            "Epoch 152/180\n",
            "99/99 [==============================] - 1s 9ms/step - loss: 0.2696 - wine_quality_loss: 0.2526 - wine_type_loss: 0.0170 - wine_quality_root_mean_squared_error: 0.5026 - wine_type_accuracy: 0.9968 - val_loss: 0.3720 - val_wine_quality_loss: 0.3226 - val_wine_type_loss: 0.0495 - val_wine_quality_root_mean_squared_error: 0.5680 - val_wine_type_accuracy: 0.9924\n",
            "Epoch 153/180\n",
            "99/99 [==============================] - 1s 8ms/step - loss: 0.2683 - wine_quality_loss: 0.2514 - wine_type_loss: 0.0169 - wine_quality_root_mean_squared_error: 0.5013 - wine_type_accuracy: 0.9968 - val_loss: 0.3698 - val_wine_quality_loss: 0.3205 - val_wine_type_loss: 0.0494 - val_wine_quality_root_mean_squared_error: 0.5661 - val_wine_type_accuracy: 0.9924\n",
            "Epoch 154/180\n",
            "99/99 [==============================] - 1s 9ms/step - loss: 0.2682 - wine_quality_loss: 0.2513 - wine_type_loss: 0.0169 - wine_quality_root_mean_squared_error: 0.5013 - wine_type_accuracy: 0.9968 - val_loss: 0.3733 - val_wine_quality_loss: 0.3239 - val_wine_type_loss: 0.0494 - val_wine_quality_root_mean_squared_error: 0.5692 - val_wine_type_accuracy: 0.9924\n",
            "Epoch 155/180\n",
            "99/99 [==============================] - 1s 8ms/step - loss: 0.2682 - wine_quality_loss: 0.2513 - wine_type_loss: 0.0168 - wine_quality_root_mean_squared_error: 0.5013 - wine_type_accuracy: 0.9968 - val_loss: 0.3723 - val_wine_quality_loss: 0.3231 - val_wine_type_loss: 0.0493 - val_wine_quality_root_mean_squared_error: 0.5684 - val_wine_type_accuracy: 0.9924\n",
            "Epoch 156/180\n",
            "99/99 [==============================] - 1s 9ms/step - loss: 0.2670 - wine_quality_loss: 0.2502 - wine_type_loss: 0.0167 - wine_quality_root_mean_squared_error: 0.5002 - wine_type_accuracy: 0.9968 - val_loss: 0.3697 - val_wine_quality_loss: 0.3204 - val_wine_type_loss: 0.0493 - val_wine_quality_root_mean_squared_error: 0.5661 - val_wine_type_accuracy: 0.9924\n",
            "Epoch 157/180\n",
            "99/99 [==============================] - 1s 8ms/step - loss: 0.2669 - wine_quality_loss: 0.2502 - wine_type_loss: 0.0167 - wine_quality_root_mean_squared_error: 0.5002 - wine_type_accuracy: 0.9968 - val_loss: 0.3764 - val_wine_quality_loss: 0.3272 - val_wine_type_loss: 0.0492 - val_wine_quality_root_mean_squared_error: 0.5720 - val_wine_type_accuracy: 0.9924\n",
            "Epoch 158/180\n",
            "99/99 [==============================] - 1s 8ms/step - loss: 0.2663 - wine_quality_loss: 0.2496 - wine_type_loss: 0.0167 - wine_quality_root_mean_squared_error: 0.4996 - wine_type_accuracy: 0.9968 - val_loss: 0.3894 - val_wine_quality_loss: 0.3403 - val_wine_type_loss: 0.0491 - val_wine_quality_root_mean_squared_error: 0.5833 - val_wine_type_accuracy: 0.9924\n",
            "Epoch 159/180\n",
            "99/99 [==============================] - 1s 8ms/step - loss: 0.2666 - wine_quality_loss: 0.2500 - wine_type_loss: 0.0166 - wine_quality_root_mean_squared_error: 0.5000 - wine_type_accuracy: 0.9968 - val_loss: 0.3688 - val_wine_quality_loss: 0.3198 - val_wine_type_loss: 0.0491 - val_wine_quality_root_mean_squared_error: 0.5655 - val_wine_type_accuracy: 0.9924\n",
            "Epoch 160/180\n",
            "99/99 [==============================] - 1s 8ms/step - loss: 0.2651 - wine_quality_loss: 0.2486 - wine_type_loss: 0.0165 - wine_quality_root_mean_squared_error: 0.4986 - wine_type_accuracy: 0.9968 - val_loss: 0.3707 - val_wine_quality_loss: 0.3216 - val_wine_type_loss: 0.0490 - val_wine_quality_root_mean_squared_error: 0.5671 - val_wine_type_accuracy: 0.9924\n",
            "Epoch 161/180\n",
            "99/99 [==============================] - 1s 8ms/step - loss: 0.2653 - wine_quality_loss: 0.2488 - wine_type_loss: 0.0165 - wine_quality_root_mean_squared_error: 0.4988 - wine_type_accuracy: 0.9968 - val_loss: 0.3681 - val_wine_quality_loss: 0.3190 - val_wine_type_loss: 0.0491 - val_wine_quality_root_mean_squared_error: 0.5648 - val_wine_type_accuracy: 0.9924\n",
            "Epoch 162/180\n",
            "99/99 [==============================] - 1s 8ms/step - loss: 0.2633 - wine_quality_loss: 0.2469 - wine_type_loss: 0.0164 - wine_quality_root_mean_squared_error: 0.4969 - wine_type_accuracy: 0.9968 - val_loss: 0.3789 - val_wine_quality_loss: 0.3299 - val_wine_type_loss: 0.0490 - val_wine_quality_root_mean_squared_error: 0.5744 - val_wine_type_accuracy: 0.9924\n",
            "Epoch 163/180\n",
            "99/99 [==============================] - 1s 8ms/step - loss: 0.2643 - wine_quality_loss: 0.2480 - wine_type_loss: 0.0163 - wine_quality_root_mean_squared_error: 0.4980 - wine_type_accuracy: 0.9968 - val_loss: 0.3708 - val_wine_quality_loss: 0.3218 - val_wine_type_loss: 0.0490 - val_wine_quality_root_mean_squared_error: 0.5673 - val_wine_type_accuracy: 0.9924\n",
            "Epoch 164/180\n",
            "99/99 [==============================] - 1s 8ms/step - loss: 0.2645 - wine_quality_loss: 0.2483 - wine_type_loss: 0.0162 - wine_quality_root_mean_squared_error: 0.4983 - wine_type_accuracy: 0.9968 - val_loss: 0.3717 - val_wine_quality_loss: 0.3227 - val_wine_type_loss: 0.0489 - val_wine_quality_root_mean_squared_error: 0.5681 - val_wine_type_accuracy: 0.9924\n",
            "Epoch 165/180\n",
            "99/99 [==============================] - 1s 8ms/step - loss: 0.2638 - wine_quality_loss: 0.2476 - wine_type_loss: 0.0162 - wine_quality_root_mean_squared_error: 0.4976 - wine_type_accuracy: 0.9968 - val_loss: 0.3700 - val_wine_quality_loss: 0.3211 - val_wine_type_loss: 0.0489 - val_wine_quality_root_mean_squared_error: 0.5667 - val_wine_type_accuracy: 0.9924\n",
            "Epoch 166/180\n",
            "99/99 [==============================] - 1s 8ms/step - loss: 0.2638 - wine_quality_loss: 0.2477 - wine_type_loss: 0.0161 - wine_quality_root_mean_squared_error: 0.4977 - wine_type_accuracy: 0.9968 - val_loss: 0.3703 - val_wine_quality_loss: 0.3215 - val_wine_type_loss: 0.0488 - val_wine_quality_root_mean_squared_error: 0.5670 - val_wine_type_accuracy: 0.9924\n",
            "Epoch 167/180\n",
            "99/99 [==============================] - 1s 8ms/step - loss: 0.2631 - wine_quality_loss: 0.2470 - wine_type_loss: 0.0161 - wine_quality_root_mean_squared_error: 0.4970 - wine_type_accuracy: 0.9968 - val_loss: 0.3704 - val_wine_quality_loss: 0.3217 - val_wine_type_loss: 0.0488 - val_wine_quality_root_mean_squared_error: 0.5671 - val_wine_type_accuracy: 0.9924\n",
            "Epoch 168/180\n",
            "99/99 [==============================] - 1s 9ms/step - loss: 0.2631 - wine_quality_loss: 0.2470 - wine_type_loss: 0.0161 - wine_quality_root_mean_squared_error: 0.4970 - wine_type_accuracy: 0.9968 - val_loss: 0.3683 - val_wine_quality_loss: 0.3195 - val_wine_type_loss: 0.0488 - val_wine_quality_root_mean_squared_error: 0.5653 - val_wine_type_accuracy: 0.9924\n",
            "Epoch 169/180\n",
            "99/99 [==============================] - 1s 9ms/step - loss: 0.2621 - wine_quality_loss: 0.2461 - wine_type_loss: 0.0160 - wine_quality_root_mean_squared_error: 0.4961 - wine_type_accuracy: 0.9968 - val_loss: 0.3716 - val_wine_quality_loss: 0.3229 - val_wine_type_loss: 0.0487 - val_wine_quality_root_mean_squared_error: 0.5683 - val_wine_type_accuracy: 0.9924\n",
            "Epoch 170/180\n",
            "99/99 [==============================] - 1s 9ms/step - loss: 0.2615 - wine_quality_loss: 0.2456 - wine_type_loss: 0.0159 - wine_quality_root_mean_squared_error: 0.4956 - wine_type_accuracy: 0.9968 - val_loss: 0.3758 - val_wine_quality_loss: 0.3271 - val_wine_type_loss: 0.0487 - val_wine_quality_root_mean_squared_error: 0.5719 - val_wine_type_accuracy: 0.9924\n",
            "Epoch 171/180\n",
            "99/99 [==============================] - 1s 9ms/step - loss: 0.2622 - wine_quality_loss: 0.2463 - wine_type_loss: 0.0159 - wine_quality_root_mean_squared_error: 0.4963 - wine_type_accuracy: 0.9968 - val_loss: 0.3775 - val_wine_quality_loss: 0.3287 - val_wine_type_loss: 0.0488 - val_wine_quality_root_mean_squared_error: 0.5733 - val_wine_type_accuracy: 0.9924\n",
            "Epoch 172/180\n",
            "99/99 [==============================] - 1s 9ms/step - loss: 0.2606 - wine_quality_loss: 0.2448 - wine_type_loss: 0.0158 - wine_quality_root_mean_squared_error: 0.4948 - wine_type_accuracy: 0.9968 - val_loss: 0.3747 - val_wine_quality_loss: 0.3260 - val_wine_type_loss: 0.0487 - val_wine_quality_root_mean_squared_error: 0.5710 - val_wine_type_accuracy: 0.9924\n",
            "Epoch 173/180\n",
            "99/99 [==============================] - 1s 9ms/step - loss: 0.2611 - wine_quality_loss: 0.2454 - wine_type_loss: 0.0157 - wine_quality_root_mean_squared_error: 0.4954 - wine_type_accuracy: 0.9968 - val_loss: 0.3697 - val_wine_quality_loss: 0.3211 - val_wine_type_loss: 0.0486 - val_wine_quality_root_mean_squared_error: 0.5666 - val_wine_type_accuracy: 0.9924\n",
            "Epoch 174/180\n",
            "99/99 [==============================] - 1s 8ms/step - loss: 0.2599 - wine_quality_loss: 0.2443 - wine_type_loss: 0.0156 - wine_quality_root_mean_squared_error: 0.4942 - wine_type_accuracy: 0.9968 - val_loss: 0.3740 - val_wine_quality_loss: 0.3254 - val_wine_type_loss: 0.0486 - val_wine_quality_root_mean_squared_error: 0.5704 - val_wine_type_accuracy: 0.9924\n",
            "Epoch 175/180\n",
            "99/99 [==============================] - 1s 9ms/step - loss: 0.2600 - wine_quality_loss: 0.2444 - wine_type_loss: 0.0156 - wine_quality_root_mean_squared_error: 0.4944 - wine_type_accuracy: 0.9968 - val_loss: 0.3741 - val_wine_quality_loss: 0.3256 - val_wine_type_loss: 0.0485 - val_wine_quality_root_mean_squared_error: 0.5706 - val_wine_type_accuracy: 0.9924\n",
            "Epoch 176/180\n",
            "99/99 [==============================] - 1s 9ms/step - loss: 0.2596 - wine_quality_loss: 0.2441 - wine_type_loss: 0.0155 - wine_quality_root_mean_squared_error: 0.4940 - wine_type_accuracy: 0.9968 - val_loss: 0.3702 - val_wine_quality_loss: 0.3217 - val_wine_type_loss: 0.0485 - val_wine_quality_root_mean_squared_error: 0.5672 - val_wine_type_accuracy: 0.9924\n",
            "Epoch 177/180\n",
            "99/99 [==============================] - 1s 8ms/step - loss: 0.2601 - wine_quality_loss: 0.2447 - wine_type_loss: 0.0154 - wine_quality_root_mean_squared_error: 0.4947 - wine_type_accuracy: 0.9968 - val_loss: 0.3722 - val_wine_quality_loss: 0.3238 - val_wine_type_loss: 0.0484 - val_wine_quality_root_mean_squared_error: 0.5690 - val_wine_type_accuracy: 0.9924\n",
            "Epoch 178/180\n",
            "99/99 [==============================] - 1s 8ms/step - loss: 0.2589 - wine_quality_loss: 0.2435 - wine_type_loss: 0.0154 - wine_quality_root_mean_squared_error: 0.4935 - wine_type_accuracy: 0.9968 - val_loss: 0.3696 - val_wine_quality_loss: 0.3212 - val_wine_type_loss: 0.0485 - val_wine_quality_root_mean_squared_error: 0.5667 - val_wine_type_accuracy: 0.9924\n",
            "Epoch 179/180\n",
            "99/99 [==============================] - 1s 8ms/step - loss: 0.2591 - wine_quality_loss: 0.2437 - wine_type_loss: 0.0154 - wine_quality_root_mean_squared_error: 0.4936 - wine_type_accuracy: 0.9968 - val_loss: 0.3810 - val_wine_quality_loss: 0.3326 - val_wine_type_loss: 0.0484 - val_wine_quality_root_mean_squared_error: 0.5767 - val_wine_type_accuracy: 0.9924\n",
            "Epoch 180/180\n",
            "99/99 [==============================] - 1s 9ms/step - loss: 0.2572 - wine_quality_loss: 0.2419 - wine_type_loss: 0.0153 - wine_quality_root_mean_squared_error: 0.4918 - wine_type_accuracy: 0.9968 - val_loss: 0.3716 - val_wine_quality_loss: 0.3233 - val_wine_type_loss: 0.0484 - val_wine_quality_root_mean_squared_error: 0.5686 - val_wine_type_accuracy: 0.9924\n"
          ]
        }
      ],
      "source": [
        "history = model.fit(norm_train_X,train_Y ,\n",
        "                    epochs = 180, validation_data=(norm_val_X, val_Y))"
      ]
    },
    {
      "cell_type": "code",
      "execution_count": 24,
      "metadata": {
        "colab": {
          "base_uri": "https://localhost:8080/"
        },
        "id": "CubF2J2gSf6q",
        "outputId": "2db78f40-a519-4c9f-81c4-d3c136e68dd6"
      },
      "outputs": [
        {
          "output_type": "stream",
          "name": "stdout",
          "text": [
            "25/25 [==============================] - 0s 4ms/step - loss: 0.3716 - wine_quality_loss: 0.3233 - wine_type_loss: 0.0484 - wine_quality_root_mean_squared_error: 0.5686 - wine_type_accuracy: 0.9924\n",
            "\n",
            "loss: 0.37162554264068604\n",
            "wine_quality_loss: 0.32326540350914\n",
            "wine_type_loss: 0.04836012050509453\n",
            "wine_quality_rmse: 0.5685643553733826\n",
            "wine_type_accuracy: 0.9923954606056213\n"
          ]
        }
      ],
      "source": [
        "# Gather the training metrics\n",
        "loss, wine_quality_loss, wine_type_loss, wine_quality_rmse, wine_type_accuracy = model.evaluate(x=norm_val_X, y=val_Y)\n",
        "\n",
        "print()\n",
        "print(f'loss: {loss}')\n",
        "print(f'wine_quality_loss: {wine_quality_loss}')\n",
        "print(f'wine_type_loss: {wine_type_loss}')\n",
        "print(f'wine_quality_rmse: {wine_quality_rmse}')\n",
        "print(f'wine_type_accuracy: {wine_type_accuracy}')"
      ]
    },
    {
      "cell_type": "markdown",
      "metadata": {
        "id": "gPtTGAP4usnm"
      },
      "source": [
        "## Analyze the Model Performance\n",
        "\n",
        "Note that the model has two outputs. The output at index 0 is quality and index 1 is wine type\n",
        "\n",
        "So, round the quality predictions to the nearest integer."
      ]
    },
    {
      "cell_type": "code",
      "execution_count": 25,
      "metadata": {
        "id": "tBq9PEeAaW-Y"
      },
      "outputs": [],
      "source": [
        "predictions = model.predict(norm_test_X)\n",
        "quality_pred = predictions[0]\n",
        "type_pred = predictions[1]"
      ]
    },
    {
      "cell_type": "code",
      "execution_count": 26,
      "metadata": {
        "colab": {
          "base_uri": "https://localhost:8080/"
        },
        "id": "YLhgTR4xTIxj",
        "outputId": "07d78e47-cfbe-48c4-c836-414120d350c1"
      },
      "outputs": [
        {
          "output_type": "stream",
          "name": "stdout",
          "text": [
            "[6.3827333]\n"
          ]
        }
      ],
      "source": [
        "print(quality_pred[0])"
      ]
    },
    {
      "cell_type": "code",
      "execution_count": 27,
      "metadata": {
        "colab": {
          "base_uri": "https://localhost:8080/"
        },
        "id": "MPi-eYfGTUXi",
        "outputId": "c5b5fe75-0b6b-45eb-9ddf-66f5577a6327"
      },
      "outputs": [
        {
          "output_type": "stream",
          "name": "stdout",
          "text": [
            "[6.449428e-05]\n",
            "[0.00013352]\n"
          ]
        }
      ],
      "source": [
        "print(type_pred[0])\n",
        "print(type_pred[944])"
      ]
    },
    {
      "cell_type": "markdown",
      "metadata": {
        "id": "Kohk-9C6vt_s"
      },
      "source": [
        "### Plot Utilities\n",
        "\n",
        "We define a few utilities to visualize the model performance."
      ]
    },
    {
      "cell_type": "code",
      "execution_count": 28,
      "metadata": {
        "id": "62gEOFUhn6aQ"
      },
      "outputs": [],
      "source": [
        "def plot_metrics(metric_name, title, ylim=5):\n",
        "    plt.title(title)\n",
        "    plt.ylim(0,ylim)\n",
        "    plt.plot(history.history[metric_name],color='blue',label=metric_name)\n",
        "    plt.plot(history.history['val_' + metric_name],color='green',label='val_' + metric_name)\n"
      ]
    },
    {
      "cell_type": "code",
      "execution_count": 29,
      "metadata": {
        "id": "6rfgSx7uz5dj"
      },
      "outputs": [],
      "source": [
        "def plot_confusion_matrix(y_true, y_pred, title='', labels=[0,1]):\n",
        "    cm = confusion_matrix(y_true, y_pred)\n",
        "    fig = plt.figure()\n",
        "    ax = fig.add_subplot(111)\n",
        "    cax = ax.matshow(cm)\n",
        "    plt.title('Confusion matrix of the classifier')\n",
        "    fig.colorbar(cax)\n",
        "    ax.set_xticklabels([''] + labels)\n",
        "    ax.set_yticklabels([''] + labels)\n",
        "    plt.xlabel('Predicted')\n",
        "    plt.ylabel('True')\n",
        "    fmt = 'd'\n",
        "    thresh = cm.max() / 2.\n",
        "    for i, j in itertools.product(range(cm.shape[0]), range(cm.shape[1])):\n",
        "          plt.text(j, i, format(cm[i, j], fmt),\n",
        "                  horizontalalignment=\"center\",\n",
        "                  color=\"black\" if cm[i, j] > thresh else \"white\")\n",
        "    plt.show()"
      ]
    },
    {
      "cell_type": "code",
      "execution_count": 30,
      "metadata": {
        "id": "dfVLIqi017Vf"
      },
      "outputs": [],
      "source": [
        "def plot_diff(y_true, y_pred, title = '' ):\n",
        "    plt.scatter(y_true, y_pred)\n",
        "    plt.title(title)\n",
        "    plt.xlabel('True Values')\n",
        "    plt.ylabel('Predictions')\n",
        "    plt.axis('equal')\n",
        "    plt.axis('square')\n",
        "    plt.plot([-100, 100], [-100, 100])\n",
        "    return plt"
      ]
    },
    {
      "cell_type": "markdown",
      "metadata": {
        "id": "8sd1jdFbwE0I"
      },
      "source": [
        "### Plots for Metrics"
      ]
    },
    {
      "cell_type": "code",
      "execution_count": 31,
      "metadata": {
        "colab": {
          "base_uri": "https://localhost:8080/",
          "height": 281
        },
        "id": "f3MwZ5J1pOfj",
        "outputId": "7c8098ed-bec6-4c7f-b981-826139144166"
      },
      "outputs": [
        {
          "output_type": "display_data",
          "data": {
            "image/png": "[encoded data removed]",
            "text/plain": [
              "<Figure size 432x288 with 1 Axes>"
            ]
          },
          "metadata": {
            "needs_background": "light"
          }
        }
      ],
      "source": [
        "plot_metrics('wine_quality_root_mean_squared_error', 'RMSE', ylim=2)"
      ]
    },
    {
      "cell_type": "code",
      "execution_count": 32,
      "metadata": {
        "colab": {
          "base_uri": "https://localhost:8080/",
          "height": 281
        },
        "id": "QIAxEezCppnd",
        "outputId": "c694af57-cd3e-4081-e4d2-45aad860ff33"
      },
      "outputs": [
        {
          "output_type": "display_data",
          "data": {
            "image/png": "[encoded data removed]",
            "text/plain": [
              "<Figure size 432x288 with 1 Axes>"
            ]
          },
          "metadata": {
            "needs_background": "light"
          }
        }
      ],
      "source": [
        "plot_metrics('wine_type_loss', 'Wine Type Loss', ylim=0.2)"
      ]
    },
    {
      "cell_type": "markdown",
      "metadata": {
        "id": "uYV9AOAMwI9p"
      },
      "source": [
        "### Plots for Confusion Matrix\n",
        "\n",
        "Plot the confusion matrices for wine type. You can see that the model performs well for prediction of wine type from the confusion matrix and the loss metrics."
      ]
    },
    {
      "cell_type": "code",
      "execution_count": 33,
      "metadata": {
        "colab": {
          "base_uri": "https://localhost:8080/",
          "height": 289
        },
        "id": "C3hvTYxIaf3n",
        "outputId": "9ddab341-c1c1-4f68-9ad0-8c617d2a7e6c"
      },
      "outputs": [
        {
          "output_type": "display_data",
          "data": {
            "image/png": "[encoded data removed]",
            "text/plain": [
              "<Figure size 432x288 with 2 Axes>"
            ]
          },
          "metadata": {
            "needs_background": "light"
          }
        }
      ],
      "source": [
        "plot_confusion_matrix(test_Y[1], np.round(type_pred), title='Wine Type', labels = [0, 1])"
      ]
    },
    {
      "cell_type": "code",
      "execution_count": 34,
      "metadata": {
        "colab": {
          "base_uri": "https://localhost:8080/",
          "height": 295
        },
        "id": "GW91ym8P2I5y",
        "outputId": "c42d4805-2062-4307-c007-5ac468ac7c1b"
      },
      "outputs": [
        {
          "output_type": "display_data",
          "data": {
            "image/png": "[encoded data removed]",
            "text/plain": [
              "<Figure size 432x288 with 1 Axes>"
            ]
          },
          "metadata": {
            "needs_background": "light"
          }
        }
      ],
      "source": [
        "scatter_plot = plot_diff(test_Y[0], quality_pred, title='Type')"
      ]
    }
  ],
  "metadata": {
    "colab": {
      "name": "Keras Functional API Example.ipynb",
      "provenance": [],
      "collapsed_sections": []
    },
    "kernelspec": {
      "display_name": "Python 3",
      "language": "python",
      "name": "python3"
    },
    "language_info": {
      "codemirror_mode": {
        "name": "ipython",
        "version": 3
      },
      "file_extension": ".py",
      "mimetype": "text/x-python",
      "name": "python",
      "nbconvert_exporter": "python",
      "pygments_lexer": "ipython3",
      "version": "3.8.8"
    },
    "accelerator": "GPU"
  },
  "nbformat": 4,
  "nbformat_minor": 0
}