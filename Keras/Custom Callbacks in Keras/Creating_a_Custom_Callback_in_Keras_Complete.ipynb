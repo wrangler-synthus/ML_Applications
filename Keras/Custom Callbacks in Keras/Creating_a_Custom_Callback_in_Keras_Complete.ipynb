{
  "cells": [
    {
      "cell_type": "markdown",
      "metadata": {
        "id": "0STmHfmQPO-G"
      },
      "source": [
        "# Create a Custom Callback in Keras"
      ]
    },
    {
      "cell_type": "markdown",
      "metadata": {
        "id": "TQk7V0tvPO-c"
      },
      "source": [
        "# Task 1: Importing Libraries"
      ]
    },
    {
      "cell_type": "code",
      "execution_count": 1,
      "metadata": {
        "colab": {
          "base_uri": "https://localhost:8080/"
        },
        "id": "JH2EkzjMPO-d",
        "outputId": "38cddd2f-4637-4232-cd69-29cf9535067c"
      },
      "outputs": [
        {
          "output_type": "stream",
          "name": "stdout",
          "text": [
            "TensorFlow version: 2.7.0\n"
          ]
        }
      ],
      "source": [
        "%matplotlib notebook\n",
        "\n",
        "import tensorflow as tf\n",
        "import numpy as np\n",
        "import os\n",
        "import matplotlib.pyplot as plt\n",
        "\n",
        "print('TensorFlow version:', tf.__version__)"
      ]
    },
    {
      "cell_type": "markdown",
      "metadata": {
        "id": "mbARuAw3PO-g"
      },
      "source": [
        "# Task 2: Importing and Preprocessing Data"
      ]
    },
    {
      "cell_type": "code",
      "execution_count": 2,
      "metadata": {
        "colab": {
          "base_uri": "https://localhost:8080/"
        },
        "id": "-YQC7DGqPO-h",
        "outputId": "8def2a1a-7b6e-4072-b35b-8da6495c385c"
      },
      "outputs": [
        {
          "output_type": "stream",
          "name": "stdout",
          "text": [
            "Downloading data from https://storage.googleapis.com/tensorflow/tf-keras-datasets/mnist.npz\n",
            "11493376/11490434 [==============================] - 0s 0us/step\n",
            "11501568/11490434 [==============================] - 0s 0us/step\n"
          ]
        }
      ],
      "source": [
        "(x_train, y_train), (x_test, y_test) = tf.keras.datasets.mnist.load_data()\n",
        "\n",
        "x_train = np.reshape(x_train, (60000, 784))/255.\n",
        "x_test = np.reshape(x_test, (10000, 784))/255.\n",
        "\n",
        "y_train = tf.keras.utils.to_categorical(y_train)\n",
        "y_test = tf.keras.utils.to_categorical(y_test)"
      ]
    },
    {
      "cell_type": "markdown",
      "metadata": {
        "id": "3l1HOHLfPO-i"
      },
      "source": [
        "# Task 3: Creating the Model"
      ]
    },
    {
      "cell_type": "code",
      "execution_count": 3,
      "metadata": {
        "colab": {
          "base_uri": "https://localhost:8080/"
        },
        "id": "lBdUUu2bPO-j",
        "outputId": "34389d0e-7e82-4d4e-b70d-24d0aa589ad4"
      },
      "outputs": [
        {
          "output_type": "stream",
          "name": "stdout",
          "text": [
            "Model: \"sequential\"\n",
            "_________________________________________________________________\n",
            " Layer (type)                Output Shape              Param #   \n",
            "=================================================================\n",
            " dense (Dense)               (None, 16)                12560     \n",
            "                                                                 \n",
            " dense_1 (Dense)             (None, 10)                170       \n",
            "                                                                 \n",
            "=================================================================\n",
            "Total params: 12,730\n",
            "Trainable params: 12,730\n",
            "Non-trainable params: 0\n",
            "_________________________________________________________________\n"
          ]
        }
      ],
      "source": [
        "model = tf.keras.models.Sequential([\n",
        "    tf.keras.layers.Dense(16, activation='relu', input_shape=(784,)),\n",
        "    tf.keras.layers.Dense(10, activation='softmax')\n",
        "])\n",
        "\n",
        "opt = tf.keras.optimizers.SGD(learning_rate=0.02)\n",
        "model.compile(loss='categorical_crossentropy', optimizer=opt, metrics=['accuracy'])\n",
        "model.summary()"
      ]
    },
    {
      "cell_type": "markdown",
      "metadata": {
        "id": "C9iF4GIcPO-k"
      },
      "source": [
        "# Tasks 4 & 5: Creating the Callback"
      ]
    },
    {
      "cell_type": "code",
      "execution_count": 4,
      "metadata": {
        "id": "N8rktWlxPO-l"
      },
      "outputs": [],
      "source": [
        "class CustomCallback(tf.keras.callbacks.Callback):\n",
        "    \n",
        "    def __init__(self, fraction):\n",
        "        super(CustomCallback, self).__init__()\n",
        "        \n",
        "        self.fraction = fraction\n",
        "        self.train_a = []\n",
        "        self.val_a = []\n",
        "        \n",
        "        with open('log.txt', 'w') as f:\n",
        "            f.write('Start of log\\n')\n",
        "        \n",
        "        self.fig = plt.figure(figsize=(4, 3))\n",
        "        self.ax = plt.subplot(1, 1, 1)\n",
        "        plt.ion()\n",
        "    \n",
        "    def on_train_begin(self, logs=None):\n",
        "        self.fig.show()\n",
        "        self.fig.canvas.draw()\n",
        "    \n",
        "    def on_train_end(self, logs=None):\n",
        "        with open('log.txt', 'a') as f:\n",
        "            f.write('End of log\\n')\n",
        "    \n",
        "    def on_epoch_begin(self, epoch, logs=None):\n",
        "        lr = self.fraction * tf.keras.backend.get_value(self.model.optimizer.lr)\n",
        "        tf.keras.backend.set_value(self.model.optimizer.lr, lr)\n",
        "        with open('log.txt', 'a') as f:\n",
        "            f.write('Epoch:{:02d}, Learning Rate:{:.4f}, '.format(epoch, lr))\n",
        "        \n",
        "    def on_epoch_end(self, epoch, logs=None):\n",
        "        val_acc = logs.get('val_accuracy')\n",
        "        train_acc = logs.get('accuracy')\n",
        "        \n",
        "        self.train_a.append(train_acc)\n",
        "        self.val_a.append(val_acc)\n",
        "        \n",
        "        with open('log.txt', 'a') as f:\n",
        "            f.write('Train Acc:{:.3f}, Val Acc:{:.3f}\\n'.format(train_acc , val_acc))\n",
        "        \n",
        "        self.ax.clear()\n",
        "        self.ax.plot(range(epoch + 1), self.train_a, label='Training Acc')\n",
        "        self.ax.plot(range(epoch + 1), self.val_a, label='Validation Acc')\n",
        "        self.ax.set_xlabel('Epochs')\n",
        "        self.ax.set_ylabel('Accuracy')\n",
        "        self.ax.legend()\n",
        "        self.fig.canvas.draw()"
      ]
    },
    {
      "cell_type": "markdown",
      "metadata": {
        "id": "GZFQiyrsPO-o"
      },
      "source": [
        "# Task 6: Training the Model"
      ]
    },
    {
      "cell_type": "code",
      "execution_count": 5,
      "metadata": {
        "colab": {
          "base_uri": "https://localhost:8080/",
          "height": 215
        },
        "id": "-MIpg8eHPO-r",
        "outputId": "32b6e189-bb41-43c2-e674-92eb3a853991"
      },
      "outputs": [
        {
          "output_type": "display_data",
          "data": {
            "image/png": "[encoded data removed]",
            "text/plain": [
              "<Figure size 288x216 with 1 Axes>"
            ]
          },
          "metadata": {
            "needs_background": "light"
          }
        }
      ],
      "source": [
        "cc = CustomCallback(fraction=0.9)"
      ]
    },
    {
      "cell_type": "code",
      "execution_count": 6,
      "metadata": {
        "id": "N1AhPf23PO-t"
      },
      "outputs": [],
      "source": [
        "h = model.fit(\n",
        "    x_train, y_train,\n",
        "    validation_data=(x_test, y_test),\n",
        "    epochs=20, verbose=False,\n",
        "    callbacks=[cc]\n",
        ")"
      ]
    }
  ],
  "metadata": {
    "kernelspec": {
      "display_name": "Python 3",
      "language": "python",
      "name": "python3"
    },
    "language_info": {
      "codemirror_mode": {
        "name": "ipython",
        "version": 3
      },
      "file_extension": ".py",
      "mimetype": "text/x-python",
      "name": "python",
      "nbconvert_exporter": "python",
      "pygments_lexer": "ipython3",
      "version": "3.6.8"
    },
    "colab": {
      "name": "Creating a Custom Callback in Keras - Complete.ipynb",
      "provenance": []
    }
  },
  "nbformat": 4,
  "nbformat_minor": 0
}