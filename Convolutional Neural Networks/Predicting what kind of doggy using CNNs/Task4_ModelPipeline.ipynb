{
 "cells": [
  {
   "cell_type": "markdown",
   "metadata": {},
   "source": [
    "# What kind of doggo is that? Classifying Dog Breeds using Convolutional Neural Networks\n",
    "\n",
    "## Task 4: Model Pipeline\n",
    "\n",
    "In this task, we will show how to build an efficient model input pipeline based on our preprocessing steps from the previous task."
   ]
  },
  {
   "cell_type": "code",
   "execution_count": 1,
   "metadata": {},
   "outputs": [],
   "source": [
    "import os\n",
    "import glob\n",
    "import numpy as np\n",
    "import tensorflow as tf\n",
    "from sklearn.model_selection import train_test_split"
   ]
  },
  {
   "cell_type": "code",
   "execution_count": 2,
   "metadata": {},
   "outputs": [],
   "source": [
    "filenames = glob.glob('Data/*/*.jpg')"
   ]
  },
  {
   "cell_type": "code",
   "execution_count": 3,
   "metadata": {},
   "outputs": [],
   "source": [
    "labels = [x.split('/')[1] for x in filenames]"
   ]
  },
  {
   "cell_type": "code",
   "execution_count": 4,
   "metadata": {},
   "outputs": [
    {
     "data": {
      "text/plain": [
       "{'american_bulldog': 0,\n",
       " 'boxer': 1,\n",
       " 'english_cocker_spaniel': 2,\n",
       " 'samoyed': 3,\n",
       " 'scottish_terrier': 4,\n",
       " 'staffordshire_bull_terrier': 5}"
      ]
     },
     "execution_count": 4,
     "metadata": {},
     "output_type": "execute_result"
    }
   ],
   "source": [
    "breeds = np.unique(labels)\n",
    "breeds_to_label = {breed: ix for ix, breed in enumerate(breeds)}\n",
    "breeds_to_label"
   ]
  },
  {
   "cell_type": "code",
   "execution_count": 5,
   "metadata": {},
   "outputs": [],
   "source": [
    "filenames_train, filenames_test , y_train, y_test = train_test_split(filenames,\n",
    "                                                                    labels, test_size = 0.2,stratify = labels, random_state = 8)"
   ]
  },
  {
   "cell_type": "code",
   "execution_count": 9,
   "metadata": {},
   "outputs": [
    {
     "data": {
      "text/plain": [
       "<tf.Tensor: shape=(1,), dtype=int32, numpy=array([3], dtype=int32)>"
      ]
     },
     "execution_count": 9,
     "metadata": {},
     "output_type": "execute_result"
    }
   ],
   "source": [
    "table = tf.lookup.StaticHashTable(\n",
    "    initializer=tf.lookup.KeyValueTensorInitializer(\n",
    "        keys = tf.constant(list(breeds_to_label.keys())),\n",
    "        values = tf.constant(list(breeds_to_label.values()))\n",
    "    ),\n",
    "    default_value = tf.constant(-1)\n",
    ")\n",
    "input_tensor = tf.constant(['samoyed'], dtype = tf.string)\n",
    "table.lookup(input_tensor)"
   ]
  },
  {
   "cell_type": "code",
   "execution_count": 10,
   "metadata": {},
   "outputs": [],
   "source": [
    "def reshape_rescale_image(image, height=100, width=100):\n",
    "    image = tf.cast(image, tf.float32)/255.\n",
    "    image = tf.image.resize_with_pad(image, target_height=height, target_width=width)\n",
    "    return image\n",
    "\n",
    "def parse_image(file_path):\n",
    "    label = tf.strings.split(file_path, os.sep)[-2]\n",
    "    image = tf.io.decode_image(tf.io.read_file(file_path), channels=3)\n",
    "    image.set_shape([None, None, 3])\n",
    "    return reshape_rescale_image(image), table.lookup(label)"
   ]
  },
  {
   "cell_type": "code",
   "execution_count": 12,
   "metadata": {},
   "outputs": [],
   "source": [
    "dataset_train =  tf.data.Dataset.list_files(filenames_train)\n",
    "dataset_train = dataset_train.map(parse_image).shuffle(8).batch(32).prefetch(buffer_size = 100).cache()\n",
    "\n",
    "dataset_val = tf.data.Dataset.list_files(filenames_test)\n",
    "dataset_val = dataset_val.map(parse_image).batch(32).prefetch(buffer_size = 100)"
   ]
  },
  {
   "cell_type": "code",
   "execution_count": 14,
   "metadata": {},
   "outputs": [],
   "source": [
    "num_classes = len(breeds)\n",
    "\n",
    "model = tf.keras.models.Sequential( [\n",
    "    tf.keras.layers.experimental.preprocessing.RandomContrast(0.2),\n",
    "    tf.keras.layers.experimental.preprocessing.RandomFlip('horizontal'),\n",
    "    tf.keras.layers.experimental.preprocessing.RandomRotation(0.2),\n",
    "    tf.keras.layers.Dropout(0.3),\n",
    "])\n"
   ]
  },
  {
   "cell_type": "code",
   "execution_count": 16,
   "metadata": {},
   "outputs": [],
   "source": [
    "model.compile(optimizer  = tf.keras.optimizers.Adam(learning_rate= 1e-4),\n",
    "             loss = tf.keras.losses.SparseCategoricalCrossentropy(from_logits = True),\n",
    "             metrics = ['accuracy'])"
   ]
  },
  {
   "cell_type": "code",
   "execution_count": null,
   "metadata": {},
   "outputs": [],
   "source": []
  },
  {
   "cell_type": "code",
   "execution_count": null,
   "metadata": {},
   "outputs": [],
   "source": []
  }
 ],
 "metadata": {
  "kernelspec": {
   "display_name": "Python 3",
   "language": "python",
   "name": "python3"
  },
  "language_info": {
   "codemirror_mode": {
    "name": "ipython",
    "version": 3
   },
   "file_extension": ".py",
   "mimetype": "text/x-python",
   "name": "python",
   "nbconvert_exporter": "python",
   "pygments_lexer": "ipython3",
   "version": "3.6.9"
  }
 },
 "nbformat": 4,
 "nbformat_minor": 4
}
