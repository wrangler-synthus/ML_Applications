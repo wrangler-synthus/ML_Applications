{
 "cells": [
  {
   "cell_type": "markdown",
   "metadata": {
    "id": "pFRRArflRfR1"
   },
   "source": [
    "## Language model for the Shakespeare dataset"
   ]
  },
  {
   "cell_type": "markdown",
   "metadata": {
    "id": "iPU9O33bRfR3"
   },
   "source": [
    "### Instructions\n",
    "\n",
    "In this notebook, we will use the text preprocessing tools and RNN models to build a character-level language model. You will then train your model on the works of Shakespeare, and use the network to generate your own text.\n",
    "\n",
    "### Let's get started!\n"
   ]
  },
  {
   "cell_type": "code",
   "execution_count": 1,
   "metadata": {
    "id": "2j_QtDXtRfR4"
   },
   "outputs": [],
   "source": [
    "import tensorflow as tf\n",
    "import numpy as np\n",
    "import json\n",
    "import matplotlib.pyplot as plt\n",
    "%matplotlib inline\n",
    "\n",
    "from tensorflow.keras.preprocessing.text import Tokenizer\n",
    "from tensorflow.keras.preprocessing.sequence import pad_sequences\n",
    "from tensorflow.keras.layers import Dense, Embedding, GRU\n",
    "from tensorflow.keras.models import Sequential"
   ]
  },
  {
   "cell_type": "markdown",
   "metadata": {
    "id": "r3wpZrx7RfR-"
   },
   "source": [
    "#### The Shakespeare dataset\n",
    "\n",
    "We will use a subset of the [Shakespeare dataset](http://shakespeare.mit.edu). It consists of a single text file with several excerpts concatenated together. The data is in raw text form, and so far has not yet had any preprocessing. \n",
    "\n",
    "Goal is to construct an unsupervised character-level sequence model that can generate text according to a distribution learned from the dataset."
   ]
  },
  {
   "cell_type": "markdown",
   "metadata": {
    "id": "2XZu3DSPRkE4"
   },
   "source": [
    "#### Import the data\n",
    "\n",
    "The dataset required for this project can be downloaded from the following link:\n",
    "\n",
    "https://drive.google.com/open?id=1pQI1ryDnuMKl5FtgBI9k9vXQ65S8xLv2\n",
    "\n",
    "You should store this file in Drive for use in this Colab notebook."
   ]
  },
  {
   "cell_type": "code",
   "execution_count": 2,
   "metadata": {
    "colab": {
     "base_uri": "https://localhost:8080/"
    },
    "id": "3fRagWNBR0-E",
    "outputId": "0a1e3155-8fca-43f9-a6b5-000d68c332f2"
   },
   "outputs": [
    {
     "name": "stdout",
     "output_type": "stream",
     "text": [
      "Mounted at /content/gdrive\n"
     ]
    }
   ],
   "source": [
    "# Run this cell to connect to your Drive folder\n",
    "\n",
    "from google.colab import drive\n",
    "drive.mount('/content/gdrive')\n",
    "\n",
    "# or otherwise run the following code\n",
    "\n",
    "# !gdown --id 1pQI1ryDnuMKl5FtgBI9k9vXQ65S8xLv2"
   ]
  },
  {
   "cell_type": "markdown",
   "metadata": {
    "id": "ppOL7TDHRfSA"
   },
   "source": [
    "#### Load and inspect the dataset"
   ]
  },
  {
   "cell_type": "code",
   "execution_count": 6,
   "metadata": {
    "id": "XXwzWcB-RfSD"
   },
   "outputs": [],
   "source": [
    "# Load the text file into a string\n",
    "\n",
    "with open('/Shakespeare.txt', 'r', encoding='utf-8') as file:\n",
    "    text = file.read()"
   ]
  },
  {
   "cell_type": "code",
   "execution_count": 7,
   "metadata": {
    "id": "YzHw4wbCRfSH"
   },
   "outputs": [],
   "source": [
    "# Create a list of chunks of text\n",
    "\n",
    "text_chunks = text.split('.')"
   ]
  },
  {
   "cell_type": "markdown",
   "metadata": {
    "id": "pik73Zq2RfSO"
   },
   "source": [
    "To give a feel for what the text looks like, we will print a few chunks from the list."
   ]
  },
  {
   "cell_type": "code",
   "execution_count": 8,
   "metadata": {
    "colab": {
     "base_uri": "https://localhost:8080/"
    },
    "id": "CMZj2MIYRfSP",
    "outputId": "a2b80bfb-c69a-4d26-9908-aa3a2459393b"
   },
   "outputs": [
    {
     "name": "stdout",
     "output_type": "stream",
     "text": [
      "\n",
      "\n",
      "GLOUCESTER:\n",
      "My lord, will't please you pass along?\n",
      "Myself and my good cousin Buckingham\n",
      "Will to your mother, to entreat of her\n",
      "To meet you at the Tower and welcome you\n",
      "\n",
      "\n",
      "CORIOLANUS:\n",
      "That I'll straight do; and, knowing myself again,\n",
      "Repair to the senate-house\n",
      "\n",
      "My wretchedness unto a row of pins,\n",
      "They'll talk of state; for every one doth so\n",
      "Against a change; woe is forerun with woe\n",
      "\n",
      "\n",
      "CAMILLO:\n",
      "A cause more promising\n",
      "Than a wild dedication of yourselves\n",
      "To unpath'd waters, undream'd shores, most certain\n",
      "To miseries enough; no hope to help you,\n",
      "But as you shake off one to take another;\n",
      "Nothing so certain as your anchors, who\n",
      "Do their best office, if they can but stay you\n",
      "Where you'll be loath to be: besides you know\n",
      "Prosperity's the very bond of love,\n",
      "Whose fresh complexion and whose heart together\n",
      "Affliction alters\n",
      "\n",
      "\n",
      "ANTONIO:\n",
      "If but one of his pockets could speak, would it not\n",
      "say he lies?\n",
      "\n",
      "SEBASTIAN:\n",
      "Ay, or very falsely pocket up his report\n",
      "\n",
      "GONZALO:\n",
      "Methinks our garments are now as fresh as when we\n",
      "put them on first in Afric, at the marriage of\n",
      "the king's fair daughter Claribel to the King of Tunis\n"
     ]
    }
   ],
   "source": [
    "# Display some randomly selected text samples\n",
    "\n",
    "num_samples = 5\n",
    "inx = np.random.choice(len(text_chunks), num_samples, replace=False)\n",
    "for chunk in np.array(text_chunks)[inx]:\n",
    "    print(chunk)"
   ]
  },
  {
   "cell_type": "markdown",
   "metadata": {
    "id": "QSxfAsFARfSX"
   },
   "source": [
    "#### Create a character-level tokenizer"
   ]
  },
  {
   "cell_type": "markdown",
   "metadata": {
    "id": "SBukx3SDRfSY"
   },
   "source": [
    "We must write a function that returns a `Tokenizer` object. The function takes a list of strings as an argument, and should create a `Tokenizer` according to the following specification:\n",
    "\n",
    "* The number of tokens should be unlimited (there should be as many as required by the dataset).\n",
    "* Tokens should be created at the character level (not at the word level, which is the default behaviour).\n",
    "* No characters should be filtered out or ignored.\n",
    "* The original capitalization should be retained (do not convert the text to lower case)\n",
    "\n",
    "The `Tokenizer` should be fit to the `list_of_strings` argument and returned by the function. "
   ]
  },
  {
   "cell_type": "code",
   "execution_count": 96,
   "metadata": {
    "id": "Q8s2aR4oRfSb"
   },
   "outputs": [],
   "source": [
    "def create_character_tokenizer(list_of_strings):\n",
    "    \"\"\"\n",
    "    This function takes a list of strings as its argument. It should create \n",
    "    and return a Tokenizer according to the above specifications. \n",
    "    \"\"\"\n",
    "    token = Tokenizer(num_words = None, \n",
    "                      filters = None,\n",
    "                      lower = False,\n",
    "                      char_level = True)\n",
    "    token.fit_on_texts(list_of_strings)\n",
    "    return token  "
   ]
  },
  {
   "cell_type": "code",
   "execution_count": 97,
   "metadata": {
    "id": "aKZpIcn_RfSf"
   },
   "outputs": [],
   "source": [
    "# Get the tokenizer\n",
    "\n",
    "tokenizer = create_character_tokenizer(text_chunks)"
   ]
  },
  {
   "cell_type": "markdown",
   "metadata": {
    "id": "gWObVg6DRfSi"
   },
   "source": [
    "#### Tokenize the text\n",
    "\n",
    "Write a function to use the tokenizer to map each string in `text_chunks` to its corresponding encoded sequence. The following function takes a fitted `Tokenizer` object in the first argument (as returned by `create_character_tokenizer`) and a list of strings in the second argument. The function should return a list of lists, where each sublist is a sequence of integer tokens encoding the text sequences according to the mapping stored in the tokenizer."
   ]
  },
  {
   "cell_type": "code",
   "execution_count": 98,
   "metadata": {
    "id": "lkKDCvV1RfSj"
   },
   "outputs": [],
   "source": [
    "def strings_to_sequences(tokenizer, list_of_strings):\n",
    "    \"\"\"\n",
    "    This function takes a tokenizer object and a list of strings as its arguments.\n",
    "    It should use the tokenizer to map the text chunks to sequences of tokens and\n",
    "    then return this list of encoded sequences.\n",
    "    \"\"\"\n",
    "    tokenized_seq = tokenizer.texts_to_sequences(list_of_strings)\n",
    "\n",
    "    return tokenized_seq"
   ]
  },
  {
   "cell_type": "code",
   "execution_count": 99,
   "metadata": {
    "id": "hhYb2mSlRfSo"
   },
   "outputs": [],
   "source": [
    "# Encode the text chunks into tokens\n",
    "\n",
    "seq_chunks = strings_to_sequences(tokenizer, text_chunks)"
   ]
  },
  {
   "cell_type": "markdown",
   "metadata": {
    "id": "iRCN70xkRfSt"
   },
   "source": [
    "#### Pad the encoded sequences and store them in a numpy array"
   ]
  },
  {
   "cell_type": "markdown",
   "metadata": {
    "id": "3ucADRYoRfSu"
   },
   "source": [
    "Since not all of the text chunks are the same length, you will need to pad them in order to train on batches; thus the following function, which takes the list of lists of tokens, and creates a single numpy array with the token sequences in the rows, according to the following specification:\n",
    "\n",
    "* The longest allowed sequence should be 500 tokens. Any sequence that is longer should be shortened by truncating the beginning of the sequence.\n",
    "* Use zeros for padding the sequences. The zero padding should be placed before the sequences as required.\n",
    "\n",
    "The function should then return the resulting numpy array."
   ]
  },
  {
   "cell_type": "code",
   "execution_count": 100,
   "metadata": {
    "id": "zLf-9KxWRfSw"
   },
   "outputs": [],
   "source": [
    "def make_padded_dataset(sequence_chunks):\n",
    "    \"\"\"\n",
    "    This function takes a list of lists of tokenized sequences, and transforms\n",
    "    them into a 2D numpy array, padding the sequences as necessary according to\n",
    "    the above specification. The function should then return the numpy array.\n",
    "    \"\"\"\n",
    "    pad = pad_sequences(sequence_chunks, maxlen = 500, value = 0)\n",
    "    return pad\n",
    "    "
   ]
  },
  {
   "cell_type": "code",
   "execution_count": 101,
   "metadata": {
    "id": "IKB26MgJRfS0"
   },
   "outputs": [],
   "source": [
    "# Pad the token sequence chunks and get the numpy array\n",
    "\n",
    "padded_sequences = make_padded_dataset(seq_chunks)"
   ]
  },
  {
   "cell_type": "markdown",
   "metadata": {
    "id": "U-4W2iICRfS3"
   },
   "source": [
    "#### Create model inputs and targets\n",
    "\n",
    "Now to build your RNN model. The model will receive a sequence of characters and predict the next character in the sequence. At training time, the model can be passed an input sequence, with the target sequence is shifted by one.\n",
    "\n",
    "For example, the expression `To be or not to be` appears in Shakespeare's play 'Hamlet'. Given input `To be or not to b`, the correct prediction is `o be or not to be`. \n",
    "\n",
    "Notice that the prediction is the same length as the input!\n",
    "\n",
    "\n",
    "Add the following function to create an input and target array from the current `padded_sequences` array. The function has a single argument that is a 2D numpy array of shape `(num_examples, max_seq_len)`. It should fulfil the following specification:\n",
    "\n",
    "* The function should return an input array and an output array, both of size `(num_examples, max_seq_len - 1)`.\n",
    "* The input array should contain the first `max_seq_len - 1` tokens of each sequence. \n",
    "* The output array should contain the last `max_seq_len - 1` tokens of each sequence. \n",
    "\n",
    "The function should then return the tuple `(input_array, output_array)`. Note that it is possible to complete this function using numpy indexing alone!"
   ]
  },
  {
   "cell_type": "code",
   "execution_count": 102,
   "metadata": {
    "id": "pzLY5mT3RfS5"
   },
   "outputs": [],
   "source": [
    "def create_inputs_and_targets(array_of_sequences):\n",
    "    \"\"\"\n",
    "    This function takes a 2D numpy array of token sequences, and returns a tuple of two\n",
    "    elements: the first element is the input array and the second element is the output\n",
    "    array, which are defined according to the above specification.\n",
    "    \"\"\"   \n",
    "\n",
    "    input_array = array_of_sequences[:, :-1 ]\n",
    "    output_array = array_of_sequences[:, 1:]\n",
    "\n",
    "    return (input_array, output_array)"
   ]
  },
  {
   "cell_type": "code",
   "execution_count": 103,
   "metadata": {
    "id": "MzHXg9HcRfTB"
   },
   "outputs": [],
   "source": [
    "# Create the input and output arrays\n",
    "\n",
    "input_seq, target_seq = create_inputs_and_targets(padded_sequences)"
   ]
  },
  {
   "cell_type": "markdown",
   "metadata": {
    "id": "YFTEK7hnRfTJ"
   },
   "source": [
    "#### Preprocess sequence array for stateful RNN\n",
    "\n",
    "We will build our RNN language model to be stateful, so that the internal state of the RNN will be maintained across batches. For this to be effective, we need to make sure that each element of every batch follows on from the corresponding element of the preceding batch.\n",
    "\n",
    "The following code processes the input and output sequence arrays so that they are ready to be split into batches for training a stateful RNN, by re-ordering the sequence examples (the rows) according to a specified batch size. "
   ]
  },
  {
   "cell_type": "code",
   "execution_count": 104,
   "metadata": {
    "id": "S4gsVamxRfTK"
   },
   "outputs": [],
   "source": [
    "# Fix the batch size for training\n",
    "\n",
    "batch_size = 32"
   ]
  },
  {
   "cell_type": "code",
   "execution_count": 105,
   "metadata": {
    "id": "cJu9VgWFRfTP"
   },
   "outputs": [],
   "source": [
    "# Prepare input and output arrays for training the stateful RNN\n",
    "\n",
    "num_examples = input_seq.shape[0]\n",
    "\n",
    "num_processed_examples = num_examples - (num_examples % batch_size)\n",
    "\n",
    "input_seq = input_seq[:num_processed_examples]\n",
    "target_seq = target_seq[:num_processed_examples]\n",
    "\n",
    "steps = int(num_processed_examples / 32)  # steps per epoch\n",
    "\n",
    "inx = np.empty((0,), dtype=np.int32)\n",
    "for i in range(steps):\n",
    "    inx = np.concatenate((inx, i + np.arange(0, num_processed_examples, steps)))\n",
    "\n",
    "input_seq_stateful = input_seq[inx]\n",
    "target_seq_stateful = target_seq[inx]"
   ]
  },
  {
   "cell_type": "markdown",
   "metadata": {
    "id": "Rm8gNoNJRfTT"
   },
   "source": [
    "#### Split the data into training and validation sets\n",
    "\n",
    "We will set aside approximately 20% of the data for validation."
   ]
  },
  {
   "cell_type": "code",
   "execution_count": 106,
   "metadata": {
    "id": "iiLWfyemRfTU"
   },
   "outputs": [],
   "source": [
    "# Create the training and validation splits\n",
    "\n",
    "num_train_examples = int(batch_size * ((0.8 * num_processed_examples) // batch_size))\n",
    "\n",
    "input_train = input_seq_stateful[:num_train_examples]\n",
    "target_train = target_seq_stateful[:num_train_examples]\n",
    "\n",
    "input_valid = input_seq_stateful[num_train_examples:]\n",
    "target_valid = target_seq_stateful[num_train_examples:]"
   ]
  },
  {
   "cell_type": "markdown",
   "metadata": {
    "id": "FQ_mAEoPRfTX"
   },
   "source": [
    "#### Create training and validation Dataset objects\n",
    "\n",
    "A function to take the training and validation input and target arrays, and create training and validation `tf.data.Dataset` objects. The function takes an input array and target array in the first two arguments, and the batch size in the third argument. Your function should do the following:\n",
    "\n",
    "* Create a `Dataset` using the `from_tensor_slices` static method, passing in a tuple of the input and output numpy arrays.\n",
    "* Batch the `Dataset` using the `batch_size` argument, setting `drop_remainder` to `True`. \n",
    "\n",
    "The function should then return the `Dataset` object."
   ]
  },
  {
   "cell_type": "code",
   "execution_count": 107,
   "metadata": {
    "id": "_DJAjEHKRfTY"
   },
   "outputs": [],
   "source": [
    "def make_Dataset(input_array, target_array, batch_size):\n",
    "    \"\"\"\n",
    "    This function takes two 2D numpy arrays in the first two arguments, and an integer\n",
    "    batch_size in the third argument. It should create and return a Dataset object \n",
    "    using the two numpy arrays and batch size according to the above specification.\n",
    "    \"\"\"\n",
    "    dataset = tf.data.Dataset.from_tensor_slices((input_array, target_array))\n",
    "    dataset = dataset.batch(batch_size, drop_remainder = True)\n",
    "    return dataset"
   ]
  },
  {
   "cell_type": "code",
   "execution_count": 108,
   "metadata": {
    "id": "rzqK_qVARfTc"
   },
   "outputs": [],
   "source": [
    "# Create the training and validation Datasets\n",
    "\n",
    "train_data = make_Dataset(input_train, target_train, batch_size)\n",
    "valid_data = make_Dataset(input_valid, target_valid, batch_size)"
   ]
  },
  {
   "cell_type": "markdown",
   "metadata": {
    "id": "IKfaWcCCRfTf"
   },
   "source": [
    "#### Build the recurrent neural network model"
   ]
  },
  {
   "cell_type": "markdown",
   "metadata": {
    "id": "KcPyteqDRfTh"
   },
   "source": [
    "We are now ready to build our RNN character-level language model. We should write the following function to build the model; the function takes arguments for the batch size and vocabulary size (number of tokens). Using the Sequential API, your function should build your model according to the following specifications:\n",
    "\n",
    "* The first layer should be an Embedding layer with an embedding dimension of 256 and set the vocabulary size to `vocab_size` from the function argument.\n",
    "* The Embedding layer should also mask the zero padding in the input sequences.\n",
    "* The Embedding layer should also set the `batch_input_shape` to `(batch_size, None)` (a fixed batch size is required for stateful RNNs).\n",
    "* The next layer should be a (uni-directional) GRU layer with 1024 units, set to be a stateful RNN layer.\n",
    "* The GRU layer should return the full sequence, instead of just the output state at the final time step.\n",
    "* The final layer should be a Dense layer with `vocab_size` units and no activation function.\n",
    "\n",
    "In total, the network should have 3 layers."
   ]
  },
  {
   "cell_type": "code",
   "execution_count": 109,
   "metadata": {
    "id": "oauekqOSRfTi"
   },
   "outputs": [],
   "source": [
    "def get_model(vocab_size, batch_size):\n",
    "    \"\"\"\n",
    "    This function takes a vocabulary size and batch size, and builds and returns a \n",
    "    Sequential model according to the above specification.\n",
    "    \"\"\"\n",
    "    model = Sequential([\n",
    "                        Embedding(vocab_size,256, mask_zero = True, batch_input_shape = [batch_size,None]),\n",
    "                        GRU(1024, stateful = True, return_sequences = True),\n",
    "                        Dense(vocab_size)\n",
    "    ]) \n",
    "    \n",
    "    return model"
   ]
  },
  {
   "cell_type": "code",
   "execution_count": 110,
   "metadata": {
    "colab": {
     "base_uri": "https://localhost:8080/"
    },
    "id": "AmmEfYo-RfTl",
    "outputId": "54ecb00b-aa1a-4263-aac8-fcd4bddacda8"
   },
   "outputs": [
    {
     "name": "stdout",
     "output_type": "stream",
     "text": [
      "Model: \"sequential_22\"\n",
      "_________________________________________________________________\n",
      "Layer (type)                 Output Shape              Param #   \n",
      "=================================================================\n",
      "embedding_22 (Embedding)     (32, None, 256)           16640     \n",
      "_________________________________________________________________\n",
      "gru_22 (GRU)                 (32, None, 1024)          3938304   \n",
      "_________________________________________________________________\n",
      "dense_22 (Dense)             (32, None, 65)            66625     \n",
      "=================================================================\n",
      "Total params: 4,021,569\n",
      "Trainable params: 4,021,569\n",
      "Non-trainable params: 0\n",
      "_________________________________________________________________\n"
     ]
    }
   ],
   "source": [
    "# Build the model and print the model summary\n",
    "\n",
    "model = get_model(len(tokenizer.word_index) + 1, batch_size)\n",
    "model.summary()"
   ]
  },
  {
   "cell_type": "markdown",
   "metadata": {
    "id": "4PJ4cU0YRfTo"
   },
   "source": [
    "#### Compile and train the model\n",
    "\n",
    "You are now ready to compile and train the model. For this model and dataset, the training time is very long. \n",
    "\n",
    "It is recommended to use accelerator hardware (e.g. using Colab) when training this model. It would also be beneficial to increase the size of the model, e.g. by stacking extra recurrent layers."
   ]
  },
  {
   "cell_type": "code",
   "execution_count": 111,
   "metadata": {
    "id": "62k8AD8eRfTp"
   },
   "outputs": [],
   "source": [
    "# Choose whether to train a new model or load the pre-trained model\n",
    "\n",
    "skip_training = False"
   ]
  },
  {
   "cell_type": "code",
   "execution_count": 112,
   "metadata": {
    "colab": {
     "base_uri": "https://localhost:8080/"
    },
    "id": "DJhnIUHSRfTt",
    "outputId": "3de3489a-9d8a-477e-e099-a60e973e21a7"
   },
   "outputs": [
    {
     "name": "stdout",
     "output_type": "stream",
     "text": [
      "Epoch 1/15\n",
      "196/196 [==============================] - 98s 482ms/step - loss: 0.8935 - sparse_categorical_accuracy: 0.2127 - val_loss: 0.5932 - val_sparse_categorical_accuracy: 0.3817\n",
      "Epoch 2/15\n",
      "196/196 [==============================] - 95s 482ms/step - loss: 0.5508 - sparse_categorical_accuracy: 0.4113 - val_loss: 0.4934 - val_sparse_categorical_accuracy: 0.4781\n",
      "Epoch 3/15\n",
      "196/196 [==============================] - 96s 490ms/step - loss: 0.4642 - sparse_categorical_accuracy: 0.4971 - val_loss: 0.4410 - val_sparse_categorical_accuracy: 0.5291\n",
      "Epoch 4/15\n",
      "196/196 [==============================] - 95s 483ms/step - loss: 0.4160 - sparse_categorical_accuracy: 0.5439 - val_loss: 0.4138 - val_sparse_categorical_accuracy: 0.5563\n",
      "Epoch 5/15\n",
      "196/196 [==============================] - 95s 484ms/step - loss: 0.3870 - sparse_categorical_accuracy: 0.5716 - val_loss: 0.3983 - val_sparse_categorical_accuracy: 0.5706\n",
      "Epoch 6/15\n",
      "196/196 [==============================] - 94s 481ms/step - loss: 0.3665 - sparse_categorical_accuracy: 0.5910 - val_loss: 0.3900 - val_sparse_categorical_accuracy: 0.5787\n",
      "Epoch 7/15\n",
      "196/196 [==============================] - 95s 482ms/step - loss: 0.3503 - sparse_categorical_accuracy: 0.6058 - val_loss: 0.3850 - val_sparse_categorical_accuracy: 0.5840\n",
      "Epoch 8/15\n",
      "196/196 [==============================] - 94s 481ms/step - loss: 0.3356 - sparse_categorical_accuracy: 0.6197 - val_loss: 0.3844 - val_sparse_categorical_accuracy: 0.5847\n",
      "Epoch 9/15\n",
      "196/196 [==============================] - 95s 482ms/step - loss: 0.3218 - sparse_categorical_accuracy: 0.6337 - val_loss: 0.3853 - val_sparse_categorical_accuracy: 0.5859\n",
      "Epoch 10/15\n",
      "196/196 [==============================] - 95s 486ms/step - loss: 0.3080 - sparse_categorical_accuracy: 0.6480 - val_loss: 0.3896 - val_sparse_categorical_accuracy: 0.5840\n",
      "Epoch 11/15\n",
      "196/196 [==============================] - 95s 483ms/step - loss: 0.2938 - sparse_categorical_accuracy: 0.6630 - val_loss: 0.3969 - val_sparse_categorical_accuracy: 0.5813\n",
      "Epoch 12/15\n",
      "196/196 [==============================] - 95s 486ms/step - loss: 0.2792 - sparse_categorical_accuracy: 0.6786 - val_loss: 0.4079 - val_sparse_categorical_accuracy: 0.5754\n",
      "Epoch 13/15\n",
      "196/196 [==============================] - 94s 481ms/step - loss: 0.2676 - sparse_categorical_accuracy: 0.6917 - val_loss: 0.4173 - val_sparse_categorical_accuracy: 0.5727\n",
      "Epoch 14/15\n",
      "196/196 [==============================] - 95s 484ms/step - loss: 0.2590 - sparse_categorical_accuracy: 0.7002 - val_loss: 0.4260 - val_sparse_categorical_accuracy: 0.5719\n",
      "Epoch 15/15\n",
      "196/196 [==============================] - 94s 480ms/step - loss: 0.2465 - sparse_categorical_accuracy: 0.7144 - val_loss: 0.4367 - val_sparse_categorical_accuracy: 0.5655\n"
     ]
    }
   ],
   "source": [
    "# Compile and train the model, or load pre-trained weights\n",
    "\n",
    "if not skip_training:\n",
    "    checkpoint_callback=tf.keras.callbacks.ModelCheckpoint(filepath='./models/ckpt',\n",
    "                                                           save_weights_only=True,\n",
    "                                                           save_best_only=True)\n",
    "    model.compile(optimizer='adam', loss=tf.keras.losses.SparseCategoricalCrossentropy(from_logits=True),\n",
    "                  metrics=['sparse_categorical_accuracy'])\n",
    "    history = model.fit(train_data, epochs=15, validation_data=valid_data, \n",
    "                        validation_steps=50, callbacks=[checkpoint_callback])"
   ]
  },
  {
   "cell_type": "code",
   "execution_count": 113,
   "metadata": {
    "id": "yqjTlQyoRfTx"
   },
   "outputs": [],
   "source": [
    "# Save model history as a json file, or load it if using pre-trained weights\n",
    "\n",
    "if not skip_training:\n",
    "    history_dict = dict()\n",
    "    for k, v in history.history.items():\n",
    "        history_dict[k] = [float(val) for val in history.history[k]]\n",
    "    with open('models/history.json', 'w+') as json_file:\n",
    "        json.dump(history_dict, json_file, sort_keys=True, indent=4)\n",
    "else:\n",
    "    with open('models/history.json', 'r') as json_file:\n",
    "        history_dict = json.load(json_file)"
   ]
  },
  {
   "cell_type": "markdown",
   "metadata": {
    "id": "upDpsmf9RfT2"
   },
   "source": [
    "#### Plot the learning curves"
   ]
  },
  {
   "cell_type": "code",
   "execution_count": 114,
   "metadata": {
    "colab": {
     "base_uri": "https://localhost:8080/",
     "height": 350
    },
    "id": "gGpPk5bbRfT3",
    "outputId": "7a411e5d-fa9a-4b50-87f0-cc4ab3d8a7d1"
   },
   "outputs": [
    {
     "data": {
      "image/png": "[encoded data removed]",
      "text/plain": [
       "<Figure size 1080x360 with 2 Axes>"
      ]
     },
     "metadata": {
      "needs_background": "light",
      "tags": []
     },
     "output_type": "display_data"
    }
   ],
   "source": [
    "# Run this cell to plot accuracy vs epoch and loss vs epoch\n",
    "\n",
    "plt.figure(figsize=(15,5))\n",
    "plt.subplot(121)\n",
    "plt.plot(history_dict['sparse_categorical_accuracy'])\n",
    "plt.plot(history_dict['val_sparse_categorical_accuracy'])\n",
    "plt.title('Accuracy vs. epochs')\n",
    "plt.ylabel('Accuracy')\n",
    "plt.xlabel('Epoch')\n",
    "plt.xticks(np.arange(len(history_dict['sparse_categorical_accuracy'])))\n",
    "ax = plt.gca()\n",
    "ax.set_xticklabels(1 + np.arange(len(history_dict['sparse_categorical_accuracy'])))\n",
    "plt.legend(['Training', 'Validation'], loc='lower right')\n",
    "\n",
    "plt.subplot(122)\n",
    "plt.plot(history_dict['loss'])\n",
    "plt.plot(history_dict['val_loss'])\n",
    "plt.title('Loss vs. epochs')\n",
    "plt.ylabel('Loss')\n",
    "plt.xlabel('Epoch')\n",
    "plt.xticks(np.arange(len(history_dict['sparse_categorical_accuracy'])))\n",
    "ax = plt.gca()\n",
    "ax.set_xticklabels(1 + np.arange(len(history_dict['sparse_categorical_accuracy'])))\n",
    "plt.legend(['Training', 'Validation'], loc='upper right')\n",
    "plt.show() "
   ]
  },
  {
   "cell_type": "markdown",
   "metadata": {
    "id": "2msBeLSoRfT7"
   },
   "source": [
    "#### Write a text generation algorithm\n",
    "\n",
    "You can now use the model to generate text! In order to generate a single text sequence, the model needs to be rebuilt with a batch size of 1."
   ]
  },
  {
   "cell_type": "code",
   "execution_count": 115,
   "metadata": {
    "colab": {
     "base_uri": "https://localhost:8080/"
    },
    "id": "zzQW69qxRfT_",
    "outputId": "8cd0b378-d372-4516-d6e8-4fa754442fca"
   },
   "outputs": [
    {
     "data": {
      "text/plain": [
       "<tensorflow.python.training.tracking.util.CheckpointLoadStatus at 0x7f829c3f0e80>"
      ]
     },
     "execution_count": 115,
     "metadata": {
      "tags": []
     },
     "output_type": "execute_result"
    }
   ],
   "source": [
    "# Re-build the model and load the saved weights\n",
    "\n",
    "model = get_model(len(tokenizer.word_index) + 1, batch_size=1)\n",
    "model.load_weights(tf.train.latest_checkpoint('./models/'))"
   ]
  },
  {
   "cell_type": "markdown",
   "metadata": {
    "id": "TM3LHQAgRfUD"
   },
   "source": [
    "An algorithm to generate text is as follows:\n",
    "\n",
    "1. Specify a seed string (e.g. `'ROMEO:'`) to get the network started, and a define number of characters for the model to generate, `num_generation_steps`.\n",
    "2. Tokenize this sentence to obtain a list containing one list of the integer tokens.\n",
    "3. Reset the initial state of the network. \n",
    "4. Convert the token list into a Tensor (or numpy array) and pass it to your model as a batch of size one.\n",
    "5. Get the model prediction (logits) for the last time step and extract the state of the recurrent layer.\n",
    "6. Use the logits to construct a categorical distribution and sample a token from it.\n",
    "7. Repeat the following for `num_generation_steps - 1` steps:\n",
    "\n",
    "    1. Use the saved state of the recurrent layer and the last sampled token to get new logit predictions\n",
    "    2. Use the logits to construct a new categorical distribution and sample a token from it.\n",
    "    3. Save the updated state of the recurrent layer.    \n",
    "\n",
    "8. Take the final list of tokens and convert to text using the Tokenizer.\n",
    "\n",
    "Note that the internal state of the recurrent layer can be accessed using the `states` property. For the GRU layer, it is a list of one variable:"
   ]
  },
  {
   "cell_type": "code",
   "execution_count": 116,
   "metadata": {
    "colab": {
     "base_uri": "https://localhost:8080/"
    },
    "id": "DDbzdt0LRfUE",
    "outputId": "5c09418f-ce7a-4745-fe59-fa45e9181324"
   },
   "outputs": [
    {
     "data": {
      "text/plain": [
       "[<tf.Variable 'gru_23/Variable:0' shape=(1, 1024) dtype=float32, numpy=array([[0., 0., 0., ..., 0., 0., 0.]], dtype=float32)>]"
      ]
     },
     "execution_count": 116,
     "metadata": {
      "tags": []
     },
     "output_type": "execute_result"
    }
   ],
   "source": [
    "# Inspect the model's current recurrent state\n",
    "\n",
    "model.layers[1].states"
   ]
  },
  {
   "cell_type": "markdown",
   "metadata": {
    "id": "2KvmtkvrRfUI"
   },
   "source": [
    "We will break the algorithm down into two steps. First, you should now complete the following function that takes a sequence of tokens of any length and returns the model's prediction (the logits) for the last time step. The specification is as follows:\n",
    "\n",
    "* The token sequence will be a python list, containing one list of integer tokens, e.g. `[[1, 2, 3, 4]]`\n",
    "* The function should convert the list into a 2D Tensor or numpy array\n",
    "* If the function argument `initial_state` is `None`, then the function should reset the state of the recurrent layer to zeros.\n",
    "* Otherwise, if the function argument `initial_state` is a 2D Tensor or numpy array, assign the value of the internal state of the GRU layer to this argument.\n",
    "* Get the model's prediction (logits) for the last time step only.\n",
    "\n",
    "The function should then return the logits as a 2D numpy array, where the first dimension is equal to 1 (batch size)."
   ]
  },
  {
   "cell_type": "code",
   "execution_count": 145,
   "metadata": {
    "id": "3aHg6y44RfUJ"
   },
   "outputs": [],
   "source": [
    "def get_logits(model, token_sequence, initial_state=None):\n",
    "    \"\"\"\n",
    "    This function takes a model object, a token sequence and an optional initial\n",
    "    state for the recurrent layer. The function should return the logits prediction\n",
    "    for the final time step as a 2D numpy array.\n",
    "    \"\"\"\n",
    "    if initial_state is None:\n",
    "        model.layers[1].reset_states()  \n",
    "    else:\n",
    "        model.layers[1].reset_states(states=initial_state)\n",
    "        # model.layers[1].initial_state = initial_state\n",
    "    token_sequence = np.array(token_sequence)\n",
    "    predicted = model.predict(token_sequence) # (1, 4, 65)\n",
    "    # shape should be 2D\n",
    "    pred = np.expand_dims(predicted[0,-1,:], 0) # (1, 65)\n",
    "    return pred\n",
    "    \n",
    "    "
   ]
  },
  {
   "cell_type": "code",
   "execution_count": 146,
   "metadata": {
    "colab": {
     "base_uri": "https://localhost:8080/"
    },
    "id": "La2CNRzqRfUN",
    "outputId": "e695ba71-d576-47fe-a6c9-54f96d5d4420"
   },
   "outputs": [
    {
     "data": {
      "text/plain": [
       "array([[-3.688301  ,  3.11154   ,  0.29067713,  0.61539817,  1.156573  ,\n",
       "        -3.0358317 , -5.6636105 ,  1.3681585 ,  3.8302948 ,  4.2113934 ,\n",
       "        -0.29694152,  0.8288054 ,  4.233306  ,  0.9861749 ,  1.1732852 ,\n",
       "         3.7147532 , -2.2130225 ,  1.4471666 ,  0.0371942 , -0.38805175,\n",
       "         1.8062742 , -0.82340956, -5.9896946 , -0.87465584,  3.50988   ,\n",
       "         0.8864055 , -4.822306  ,  0.9710137 , -0.8564936 , -3.1787643 ,\n",
       "         1.2629488 , -8.313339  , -7.492796  , -0.98342454, -0.67346644,\n",
       "        -1.346001  , -0.362003  , -5.74465   ,  0.4672007 , -2.968242  ,\n",
       "        -5.597588  , -5.4575996 , -3.1178849 , -1.5012462 , -0.19075234,\n",
       "        -3.3985388 ,  0.85190517, -4.3812737 , -0.8693163 , -4.5413327 ,\n",
       "        -6.0169306 , -1.5217527 , -4.8705797 , -4.0946374 , -2.5833144 ,\n",
       "        -1.5749598 , -1.2209791 ,  0.21287417, -5.274244  , -4.6240845 ,\n",
       "        -2.2898245 , -2.5454586 , -2.3373318 , -4.2828693 , -3.3399282 ]],\n",
       "      dtype=float32)"
      ]
     },
     "execution_count": 146,
     "metadata": {
      "tags": []
     },
     "output_type": "execute_result"
    }
   ],
   "source": [
    "# Test the get_logits function by passing a dummy token sequence\n",
    "\n",
    "dummy_initial_state = tf.random.normal(model.layers[1].states[0].shape)\n",
    "get_logits(model, [[1, 2, 3, 4]], initial_state=dummy_initial_state)"
   ]
  },
  {
   "cell_type": "markdown",
   "metadata": {
    "id": "KcMB8Yv5RfUQ"
   },
   "source": [
    "We should now write a function that takes a logits prediction similar to the above, uses it to create a categorical distribution, and samples a token from this distribution. The following function takes a 2D numpy array `logits` as an argument, and should return a single integer prediction that is sampled from the categorical distribution. "
   ]
  },
  {
   "cell_type": "code",
   "execution_count": 1,
   "metadata": {
    "id": "LObVBMdzRfUS"
   },
   "outputs": [],
   "source": [
    "def sample_token(logits):\n",
    "    \"\"\"\n",
    "    This function takes a 2D numpy array as an input, and constructs a \n",
    "    categorical distribution using it. It should then sample from this\n",
    "    distribution and return the sample as a single integer.\n",
    "    \"\"\"\n",
    "    x =  tf.random.categorical(logits, num_samples=1)\n",
    "    x = tf.squeeze(x, axis = -1)\n",
    "    return x.numpy()[0]    "
   ]
  },
  {
   "cell_type": "code",
   "execution_count": 167,
   "metadata": {
    "colab": {
     "base_uri": "https://localhost:8080/"
    },
    "id": "MrgPsuOYRfUV",
    "outputId": "0b8fe306-58e0-4842-905e-4a5b974ae7c8"
   },
   "outputs": [
    {
     "data": {
      "text/plain": [
       "8"
      ]
     },
     "execution_count": 167,
     "metadata": {
      "tags": []
     },
     "output_type": "execute_result"
    }
   ],
   "source": [
    "# Test the sample_token function by passing dummy logits\n",
    "\n",
    "dummy_initial_state = tf.random.normal(model.layers[1].states[0].shape)\n",
    "dummy_logits = get_logits(model, [[1, 2, 3, 4]], initial_state=dummy_initial_state)\n",
    "sample_token(dummy_logits)"
   ]
  },
  {
   "cell_type": "code",
   "execution_count": 168,
   "metadata": {
    "colab": {
     "base_uri": "https://localhost:8080/"
    },
    "id": "Q23e4MNpRfUY",
    "outputId": "bb6699ff-2324-4eaf-8c19-76f90542fd34"
   },
   "outputs": [
    {
     "name": "stdout",
     "output_type": "stream",
     "text": [
      "62 25\n"
     ]
    },
    {
     "data": {
      "text/plain": [
       "True"
      ]
     },
     "execution_count": 168,
     "metadata": {
      "tags": []
     },
     "output_type": "execute_result"
    }
   ],
   "source": [
    "logits_size = dummy_logits.shape[1]\n",
    "dummy_logits = -np.inf*np.ones((1, logits_size))\n",
    "dummy_logits[0, 20] = 0\n",
    "sample_token(dummy_logits)\n",
    "random_inx = np.random.choice(logits_size, 2, replace=False)\n",
    "random_inx1, random_inx2 = random_inx[0], random_inx[1]\n",
    "print(random_inx1, random_inx2)\n",
    "dummy_logits = -np.inf*np.ones((1, logits_size))\n",
    "dummy_logits[0, random_inx1] = 0\n",
    "dummy_logits[0, random_inx2] = 0\n",
    "sampled_token = []\n",
    "for _ in range(100):\n",
    "    sampled_token.append(sample_token(dummy_logits))\n",
    "    \n",
    "l_tokens, l_counts = np.unique(np.array(sampled_token), return_counts=True)\n",
    "len(l_tokens) == 2"
   ]
  },
  {
   "cell_type": "markdown",
   "metadata": {
    "id": "7A0FOxOTRfUc"
   },
   "source": [
    "#### Generate text from the model\n",
    "\n",
    "You are now ready to generate text from the model!"
   ]
  },
  {
   "cell_type": "code",
   "execution_count": 169,
   "metadata": {
    "id": "KgXNTiaYRfUd"
   },
   "outputs": [],
   "source": [
    "# Create a seed string and number of generation steps\n",
    "\n",
    "init_string = 'ROMEO:'\n",
    "num_generation_steps = 1000"
   ]
  },
  {
   "cell_type": "code",
   "execution_count": 170,
   "metadata": {
    "colab": {
     "base_uri": "https://localhost:8080/"
    },
    "id": "6jm4JeyyRfUf",
    "outputId": "aa01d7ca-13ca-4bb5-f525-a0d17f5082df",
    "scrolled": false
   },
   "outputs": [
    {
     "name": "stdout",
     "output_type": "stream",
     "text": [
      "ROMEO:\n",
      "CAtes, when thou darestershiry, I spenith he is\n",
      "cat and all oar-ladies to her damendants,\n",
      "Mirth not the world in a dre appedor,\n",
      "As every Bianca's lights, for evil much\n",
      "Which would be friend; and I will endmito\n",
      "\n",
      "Clown:\n",
      "Alas, I have done you for soult;' quoth do:\n",
      "Another, sir, tale up from friend garly eye,\n",
      "Now your business! baber, was mine:\n",
      "I give me for my freedixy!\n",
      "I cannot, that's as a gentleman to my never\n",
      "Than my part my bearly throw, the precious\n",
      "sons, they are to a mighty stars\n",
      "That vise and oberie's grief for honour\n",
      "Than true, treasue your reportity\n",
      "Shall not by sour, and like your house\n",
      "Is there no more than in twice morbow,\n",
      "And there to beggar of cures of beat:\n",
      "A bag-in him condemn'd up: it was\n",
      "A heaven and my night have at the neglence:\n",
      "The peace when it was look out--hore for my day;\n",
      "Nunsternage delivet in you, O, leave it here,\n",
      "And make your queen infirmity,\n",
      "For what us up in controgned to deliver,\n",
      "That take hour in Rome, She is frone: there,\n",
      "A thousand harm in good creat\n"
     ]
    }
   ],
   "source": [
    "# Use the model to generate a token sequence\n",
    "\n",
    "token_sequence = tokenizer.texts_to_sequences([init_string])\n",
    "initial_state = None\n",
    "input_sequence = token_sequence\n",
    "\n",
    "for _ in range(num_generation_steps):\n",
    "    logits = get_logits(model, input_sequence, initial_state=initial_state)\n",
    "    sampled_token = sample_token(logits)\n",
    "    token_sequence[0].append(sampled_token)\n",
    "    input_sequence = [[sampled_token]]\n",
    "    initial_state = model.layers[1].states[0].numpy()\n",
    "    \n",
    "print(tokenizer.sequences_to_texts(token_sequence)[0][::2])"
   ]
  }
 ],
 "metadata": {
  "accelerator": "GPU",
  "colab": {
   "collapsed_sections": [
    "gWObVg6DRfSi",
    "iRCN70xkRfSt",
    "U-4W2iICRfS3",
    "YFTEK7hnRfTJ",
    "Rm8gNoNJRfTT",
    "FQ_mAEoPRfTX",
    "IKfaWcCCRfTf",
    "4PJ4cU0YRfTo",
    "upDpsmf9RfT2",
    "2msBeLSoRfT7",
    "7A0FOxOTRfUc"
   ],
   "name": "Week 3 Programming Assignment.ipynb",
   "provenance": []
  },
  "coursera": {
   "course_slug": "tensor-flow-2-2",
   "graded_item_id": "4eYSM",
   "launcher_item_id": "HEV6h"
  },
  "kernelspec": {
   "display_name": "Python 3",
   "language": "python",
   "name": "python3"
  },
  "language_info": {
   "codemirror_mode": {
    "name": "ipython",
    "version": 3
   },
   "file_extension": ".py",
   "mimetype": "text/x-python",
   "name": "python",
   "nbconvert_exporter": "python",
   "pygments_lexer": "ipython3",
   "version": "3.8.8"
  }
 },
 "nbformat": 4,
 "nbformat_minor": 1
}
