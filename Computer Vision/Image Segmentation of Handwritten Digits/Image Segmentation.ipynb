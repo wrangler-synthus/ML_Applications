{
 "cells": [
  {
   "cell_type": "markdown",
   "metadata": {
    "id": "k6x_sGPQocpw"
   },
   "source": [
    "# Image Segmentation of Handwritten Digits\n",
    "\n",
    "<img src='https://drive.google.com/uc?export=view&id=1-WBX7w_R9abwdGmAUBFWWEcJ0LkMppq2' alt='m2nist digits'>\n",
    "\n",
    "We will build a model that predicts the segmentation masks (pixel-wise label map) of handwritten digits. This model will be trained on the [M2NIST dataset](https://www.kaggle.com/farhanhubble/multimnistm2nist), a multi digit MNIST.\n",
    "\n",
    "We will build a Convolutional Neural Network (CNN) from scratch for the downsampling path and use a Fully Convolutional Network, FCN-8, to upsample and produce the pixel-wise label map. The model will be evaluated using the intersection over union (IOU) and Dice Score."
   ]
  },
  {
   "cell_type": "markdown",
   "metadata": {
    "id": "MZ3g9dJxSxmN"
   },
   "source": [
    "## Imports"
   ]
  },
  {
   "cell_type": "code",
   "execution_count": 1,
   "metadata": {
    "colab": {
     "base_uri": "https://localhost:8080/"
    },
    "id": "aifz2907kxYN",
    "outputId": "caa93220-70dc-4296-d2d1-cf7c4c820c85"
   },
   "outputs": [
    {
     "name": "stdout",
     "output_type": "stream",
     "text": [
      "Tensorflow version 2.7.0\n"
     ]
    }
   ],
   "source": [
    "try:\n",
    "  # %tensorflow_version only exists in Colab.\n",
    "  %tensorflow_version 2.x\n",
    "except Exception:\n",
    "  pass\n",
    "\n",
    "import os\n",
    "import zipfile\n",
    "\n",
    "import PIL.Image, PIL.ImageFont, PIL.ImageDraw\n",
    "import numpy as np\n",
    "from matplotlib import pyplot as plt\n",
    "\n",
    "import tensorflow as tf\n",
    "import tensorflow_datasets as tfds\n",
    "from sklearn.model_selection import train_test_split\n",
    "\n",
    "print(\"Tensorflow version \" + tf.__version__)"
   ]
  },
  {
   "cell_type": "markdown",
   "metadata": {
    "id": "7RYh6cCzXE6R"
   },
   "source": [
    "## Download the dataset"
   ]
  },
  {
   "cell_type": "markdown",
   "metadata": {
    "id": "QUGGF3wfqYni"
   },
   "source": [
    "[M2NIST](https://www.kaggle.com/farhanhubble/multimnistm2nist) is a **multi digit** [MNIST](http://yann.lecun.com/exdb/mnist/). \n",
    "Each image has up to 3 digits from MNIST digits and the corresponding labels file has the segmentation masks.\n",
    "\n",
    "The dataset is available on [Kaggle](https://www.kaggle.com) and you can find it [here](https://www.kaggle.com/farhanhubble/multimnistm2nist)"
   ]
  },
  {
   "cell_type": "code",
   "execution_count": 2,
   "metadata": {
    "colab": {
     "base_uri": "https://localhost:8080/"
    },
    "id": "ROok0i9rMcu0",
    "outputId": "a69ef514-0754-4b27-8d1d-1caa8c25503f"
   },
   "outputs": [
    {
     "name": "stdout",
     "output_type": "stream",
     "text": [
      "--2022-01-30 10:23:03--  https://storage.googleapis.com/laurencemoroney-blog.appspot.com/m2nist.zip\n",
      "Resolving storage.googleapis.com (storage.googleapis.com)... 142.250.65.80, 142.250.188.208, 142.251.33.208, ...\n",
      "Connecting to storage.googleapis.com (storage.googleapis.com)|142.250.65.80|:443... connected.\n",
      "HTTP request sent, awaiting response... 200 OK\n",
      "Length: 17378168 (17M) [application/zip]\n",
      "Saving to: ‘/tmp/m2nist.zip’\n",
      "\n",
      "/tmp/m2nist.zip     100%[===================>]  16.57M  96.5MB/s    in 0.2s    \n",
      "\n",
      "2022-01-30 10:23:03 (96.5 MB/s) - ‘/tmp/m2nist.zip’ saved [17378168/17378168]\n",
      "\n"
     ]
    }
   ],
   "source": [
    "# download zipped dataset\n",
    "!wget --no-check-certificate \\\n",
    "    https://storage.googleapis.com/laurencemoroney-blog.appspot.com/m2nist.zip \\\n",
    "    -O /tmp/m2nist.zip\n",
    "\n",
    "# find and extract to a local folder ('/tmp/training')\n",
    "local_zip = '/tmp/m2nist.zip'\n",
    "zip_ref = zipfile.ZipFile(local_zip, 'r')\n",
    "zip_ref.extractall('/tmp/training')\n",
    "zip_ref.close()"
   ]
  },
  {
   "cell_type": "markdown",
   "metadata": {
    "id": "xy17LYR7XJNa"
   },
   "source": [
    "## Load and Preprocess the Dataset"
   ]
  },
  {
   "cell_type": "markdown",
   "metadata": {
    "id": "LXGMrWnkrvpK"
   },
   "source": [
    "This dataset can be easily preprocessed since it is available as **Numpy Array Files (.npy)**\n",
    "\n",
    "1. **combined.npy** has the image files containing the multiple MNIST digits. Each image is of size **64 x 84** (height x width, in pixels).\n",
    "\n",
    "2. **segmented.npy** has the corresponding segmentation masks. Each segmentation mask is also of size **64 x 84**.\n",
    "\n",
    "This dataset has **5000** samples and you can make appropriate training, validation, and test splits as required for the problem.\n",
    "\n",
    "With that, let's define a few utility functions for loading and preprocessing the dataset."
   ]
  },
  {
   "cell_type": "code",
   "execution_count": 3,
   "metadata": {
    "id": "Jy_pw5I2-xLP"
   },
   "outputs": [],
   "source": [
    "BATCH_SIZE = 32\n",
    "\n",
    "def read_image_and_annotation(image, annotation):\n",
    "  '''\n",
    "  Casts the image and annotation to their expected data type and\n",
    "  normalizes the input image so that each pixel is in the range [-1, 1]\n",
    "\n",
    "  Args:\n",
    "    image (numpy array) -- input image\n",
    "    annotation (numpy array) -- ground truth label map\n",
    "\n",
    "  Returns:\n",
    "    preprocessed image-annotation pair\n",
    "  '''\n",
    "\n",
    "  image = tf.cast(image, dtype=tf.float32)\n",
    "  image = tf.reshape(image, (image.shape[0], image.shape[1], 1,))\n",
    "  annotation = tf.cast(annotation, dtype=tf.int32)\n",
    "  image = image / 127.5\n",
    "  image -= 1\n",
    "\n",
    "  return image, annotation\n",
    "\n",
    "\n",
    "def get_training_dataset(images, annos):\n",
    "  '''\n",
    "  Prepares shuffled batches of the training set.\n",
    "  \n",
    "  Args:\n",
    "    images (list of strings) -- paths to each image file in the train set\n",
    "    annos (list of strings) -- paths to each label map in the train set\n",
    "\n",
    "  Returns:\n",
    "    tf Dataset containing the preprocessed train set\n",
    "  '''\n",
    "  training_dataset = tf.data.Dataset.from_tensor_slices((images, annos))\n",
    "  training_dataset = training_dataset.map(read_image_and_annotation)\n",
    "\n",
    "  training_dataset = training_dataset.shuffle(512, reshuffle_each_iteration=True)\n",
    "  training_dataset = training_dataset.batch(BATCH_SIZE)\n",
    "  training_dataset = training_dataset.repeat()\n",
    "  training_dataset = training_dataset.prefetch(-1)\n",
    "\n",
    "  return training_dataset\n",
    "\n",
    "\n",
    "def get_validation_dataset(images, annos):\n",
    "  '''\n",
    "  Prepares batches of the validation set.\n",
    "  \n",
    "  Args:\n",
    "    images (list of strings) -- paths to each image file in the val set\n",
    "    annos (list of strings) -- paths to each label map in the val set\n",
    "\n",
    "  Returns:\n",
    "    tf Dataset containing the preprocessed validation set\n",
    "  '''\n",
    "  validation_dataset = tf.data.Dataset.from_tensor_slices((images, annos))\n",
    "  validation_dataset = validation_dataset.map(read_image_and_annotation)\n",
    "  validation_dataset = validation_dataset.batch(BATCH_SIZE)\n",
    "  validation_dataset = validation_dataset.repeat()\n",
    "\n",
    "  return validation_dataset\n",
    "\n",
    "\n",
    "def get_test_dataset(images, annos):\n",
    "  '''\n",
    "  Prepares batches of the test set.\n",
    "  \n",
    "  Args:\n",
    "    images (list of strings) -- paths to each image file in the test set\n",
    "    annos (list of strings) -- paths to each label map in the test set\n",
    "\n",
    "  Returns:\n",
    "    tf Dataset containing the preprocessed validation set\n",
    "  '''\n",
    "  test_dataset = tf.data.Dataset.from_tensor_slices((images, annos))\n",
    "  test_dataset = test_dataset.map(read_image_and_annotation)\n",
    "  test_dataset = test_dataset.batch(BATCH_SIZE, drop_remainder=True)\n",
    "\n",
    "  return test_dataset\n",
    "\n",
    "\n",
    "def load_images_and_segments():\n",
    "  '''\n",
    "  Loads the images and segments as numpy arrays from npy files \n",
    "  and makes splits for training, validation and test datasets.\n",
    "\n",
    "  Returns:\n",
    "    3 tuples containing the train, val, and test splits\n",
    "  '''\n",
    "\n",
    "  #Loads images and segmentation masks.\n",
    "  images = np.load('/tmp/training/combined.npy')\n",
    "  segments = np.load('/tmp/training/segmented.npy')\n",
    "\n",
    "  #Makes training, validation, test splits from loaded images and segmentation masks.\n",
    "  train_images, val_images, train_annos, val_annos = train_test_split(images, segments, test_size=0.2, shuffle=True)\n",
    "  val_images, test_images, val_annos, test_annos = train_test_split(val_images, val_annos, test_size=0.2, shuffle=True)\n",
    "\n",
    "  return (train_images, train_annos), (val_images, val_annos), (test_images, test_annos)\n"
   ]
  },
  {
   "cell_type": "markdown",
   "metadata": {
    "id": "iPHO1YbTACcu"
   },
   "source": [
    "You can now load the preprocessed dataset and define the training, validation, and test sets."
   ]
  },
  {
   "cell_type": "code",
   "execution_count": 4,
   "metadata": {
    "id": "hIS70_um_Y7n",
    "lines_to_next_cell": 2
   },
   "outputs": [],
   "source": [
    "# Load Dataset\n",
    "train_slices, val_slices, test_slices = load_images_and_segments()\n",
    "\n",
    "# Create training, validation, test datasets.\n",
    "training_dataset = get_training_dataset(train_slices[0], train_slices[1])\n",
    "validation_dataset = get_validation_dataset(val_slices[0], val_slices[1])\n",
    "test_dataset = get_test_dataset(test_slices[0], test_slices[1])"
   ]
  },
  {
   "cell_type": "markdown",
   "metadata": {
    "id": "oKXJYZi7A0dF"
   },
   "source": [
    "## Let's Take a Look at the Dataset\n",
    "\n",
    "You may want to visually inspect the dataset before and after training. Like above, we've included utility functions to help show a few images as well as their annotations (i.e. labels)."
   ]
  },
  {
   "cell_type": "code",
   "execution_count": 5,
   "metadata": {
    "cellView": "both",
    "id": "d46YCbvPafbp"
   },
   "outputs": [],
   "source": [
    "# Visualization Utilities\n",
    "\n",
    "# there are 11 classes in the dataset: one class for each digit (0 to 9) plus the background class\n",
    "n_classes = 11\n",
    "\n",
    "# assign a random color for each class\n",
    "colors = [tuple(np.random.randint(256, size=3) / 255.0) for i in range(n_classes)]\n",
    "\n",
    "def fuse_with_pil(images):\n",
    "  '''\n",
    "  Creates a blank image and pastes input images\n",
    "\n",
    "  Args:\n",
    "    images (list of numpy arrays) - numpy array representations of the images to paste\n",
    "  \n",
    "  Returns:\n",
    "    PIL Image object containing the images\n",
    "  '''\n",
    "\n",
    "  widths = (image.shape[1] for image in images)\n",
    "  heights = (image.shape[0] for image in images)\n",
    "  total_width = sum(widths)\n",
    "  max_height = max(heights)\n",
    "\n",
    "  new_im = PIL.Image.new('RGB', (total_width, max_height))\n",
    "\n",
    "  x_offset = 0\n",
    "  for im in images:\n",
    "    pil_image = PIL.Image.fromarray(np.uint8(im))\n",
    "    new_im.paste(pil_image, (x_offset,0))\n",
    "    x_offset += im.shape[1]\n",
    "  \n",
    "  return new_im\n",
    "\n",
    "\n",
    "def give_color_to_annotation(annotation):\n",
    "  '''\n",
    "  Converts a 2-D annotation to a numpy array with shape (height, width, 3) where\n",
    "  the third axis represents the color channel. The label values are multiplied by\n",
    "  255 and placed in this axis to give color to the annotation\n",
    "\n",
    "  Args:\n",
    "    annotation (numpy array) - label map array\n",
    "  \n",
    "  Returns:\n",
    "    the annotation array with an additional color channel/axis\n",
    "  '''\n",
    "  seg_img = np.zeros( (annotation.shape[0],annotation.shape[1], 3) ).astype('float')\n",
    "  \n",
    "  for c in range(n_classes):\n",
    "    segc = (annotation == c)\n",
    "    seg_img[:,:,0] += segc*( colors[c][0] * 255.0)\n",
    "    seg_img[:,:,1] += segc*( colors[c][1] * 255.0)\n",
    "    seg_img[:,:,2] += segc*( colors[c][2] * 255.0)\n",
    "  \n",
    "  return seg_img\n",
    "\n",
    "\n",
    "def show_annotation_and_prediction(image, annotation, prediction, iou_list, dice_score_list):\n",
    "  '''\n",
    "  Displays the images with the ground truth and predicted label maps. Also overlays the metrics.\n",
    "\n",
    "  Args:\n",
    "    image (numpy array) -- the input image\n",
    "    annotation (numpy array) -- the ground truth label map\n",
    "    prediction (numpy array) -- the predicted label map\n",
    "    iou_list (list of floats) -- the IOU values for each class\n",
    "    dice_score_list (list of floats) -- the Dice Score for each class\n",
    "  '''\n",
    "\n",
    "  new_ann = np.argmax(annotation, axis=2)\n",
    "  true_img = give_color_to_annotation(new_ann)\n",
    "  pred_img = give_color_to_annotation(prediction)\n",
    "\n",
    "  image = image + 1\n",
    "  image = image * 127.5\n",
    "  image = np.reshape(image, (image.shape[0], image.shape[1],))\n",
    "  image = np.uint8(image)\n",
    "  images = [image, np.uint8(pred_img), np.uint8(true_img)]\n",
    "\n",
    "  metrics_by_id = [(idx, iou, dice_score) for idx, (iou, dice_score) in enumerate(zip(iou_list, dice_score_list)) if iou > 0.0 and idx < 10]\n",
    "  metrics_by_id.sort(key=lambda tup: tup[1], reverse=True)  # sorts in place\n",
    "\n",
    "  display_string_list = [\"{}: IOU: {} Dice Score: {}\".format(idx, iou, dice_score) for idx, iou, dice_score in metrics_by_id]\n",
    "  display_string = \"\\n\".join(display_string_list)\n",
    "\n",
    "  plt.figure(figsize=(15, 4))\n",
    "\n",
    "  for idx, im in enumerate(images):\n",
    "    plt.subplot(1, 3, idx+1)\n",
    "    if idx == 1:\n",
    "      plt.xlabel(display_string)\n",
    "    plt.xticks([])\n",
    "    plt.yticks([])\n",
    "    plt.imshow(im)\n",
    "\n",
    "\n",
    "def show_annotation_and_image(image, annotation):\n",
    "  '''\n",
    "  Displays the image and its annotation side by side\n",
    "\n",
    "  Args:\n",
    "    image (numpy array) -- the input image\n",
    "    annotation (numpy array) -- the label map\n",
    "  '''\n",
    "  new_ann = np.argmax(annotation, axis=2)\n",
    "  seg_img = give_color_to_annotation(new_ann)\n",
    "  \n",
    "  image = image + 1\n",
    "  image = image * 127.5\n",
    "  image = np.reshape(image, (image.shape[0], image.shape[1],))\n",
    "\n",
    "  image = np.uint8(image)\n",
    "  images = [image, seg_img]\n",
    "  \n",
    "  images = [image, seg_img]\n",
    "  fused_img = fuse_with_pil(images)\n",
    "  plt.imshow(fused_img)\n",
    "\n",
    "\n",
    "def list_show_annotation(dataset, num_images):\n",
    "  '''\n",
    "  Displays images and its annotations side by side\n",
    "\n",
    "  Args:\n",
    "    dataset (tf Dataset) -- batch of images and annotations\n",
    "    num_images (int) -- number of images to display\n",
    "  '''\n",
    "  ds = dataset.unbatch()\n",
    "\n",
    "  plt.figure(figsize=(20, 15))\n",
    "  plt.title(\"Images And Annotations\")\n",
    "  plt.subplots_adjust(bottom=0.1, top=0.9, hspace=0.05)\n",
    "\n",
    "  for idx, (image, annotation) in enumerate(ds.take(num_images)):\n",
    "    plt.subplot(5, 5, idx + 1)\n",
    "    plt.yticks([])\n",
    "    plt.xticks([])\n",
    "    show_annotation_and_image(image.numpy(), annotation.numpy())\n"
   ]
  },
  {
   "cell_type": "markdown",
   "metadata": {
    "id": "hEfyChmKEFKe"
   },
   "source": [
    "You can view a subset of the images from the dataset with the `list_show_annotation()` function defined above. Run the cells below to see the image on the left and its pixel-wise ground truth label map on the right."
   ]
  },
  {
   "cell_type": "code",
   "execution_count": 6,
   "metadata": {
    "colab": {
     "base_uri": "https://localhost:8080/",
     "height": 282
    },
    "id": "AFO_hIhLWYT4",
    "outputId": "a1545b2b-c164-4c64-eb9b-40a4e2dbef55"
   },
   "outputs": [
    {
     "data": {
      "image/png": "[encoded data removed]",
      "text/plain": [
       "<Figure size 1440x1080 with 10 Axes>"
      ]
     },
     "metadata": {},
     "output_type": "display_data"
    }
   ],
   "source": [
    "\n",
    "# get 10 images from the training set\n",
    "list_show_annotation(training_dataset, 10)"
   ]
  },
  {
   "cell_type": "code",
   "execution_count": 7,
   "metadata": {
    "colab": {
     "base_uri": "https://localhost:8080/",
     "height": 282
    },
    "id": "bdgVkp8wZua0",
    "outputId": "a72bed25-6258-4bb6-f079-3338fd9d0559"
   },
   "outputs": [
    {
     "data": {
      "image/png": "[encoded data removed]",
      "text/plain": [
       "<Figure size 1440x1080 with 10 Axes>"
      ]
     },
     "metadata": {},
     "output_type": "display_data"
    }
   ],
   "source": [
    "# get 10 images from the validation set\n",
    "list_show_annotation(validation_dataset, 10)"
   ]
  },
  {
   "cell_type": "markdown",
   "metadata": {
    "id": "KkpgIcE2FeKI"
   },
   "source": [
    "You see from the images above the colors assigned to each class (i.e 0 to 9 plus the background). If you don't like these colors, feel free to rerun the cell where `colors` is defined to get another set of random colors. Alternatively, you can assign the RGB values for each class instead of relying on random values."
   ]
  },
  {
   "cell_type": "markdown",
   "metadata": {
    "id": "QFv2k8xabRb8"
   },
   "source": [
    "## Define the Model"
   ]
  },
  {
   "cell_type": "markdown",
   "metadata": {
    "id": "Q_ylpyqJDQiF"
   },
   "source": [
    "The image segmentation model will have two paths:\n",
    "\n",
    "1. **Downsampling Path** - This part of the network extracts the features in the image. This is done through a series of convolution and pooling layers. The final output is a reduced image (because of the pooling layers) with the extracted features. You will build a custom CNN from scratch for this path.\n",
    "\n",
    "2. **Upsampling Path** - This takes the output of the downsampling path and generates the predictions while also converting the image back to its original size. You will use an FCN-8 decoder for this path."
   ]
  },
  {
   "cell_type": "markdown",
   "metadata": {
    "id": "BHlBUZvsDybt"
   },
   "source": [
    "### Define the Basic Convolution Block"
   ]
  },
  {
   "cell_type": "markdown",
   "metadata": {
    "id": "T-XO9xkN1OR3"
   },
   "source": [
    "Let's build the basic convolution block for our CNN. This will have two [Conv2D](https://keras.io/api/layers/convolution_layers/convolution2d/) layers each followed by a [LeakyReLU](https://keras.io/api/layers/activation_layers/leaky_relu/), then [max pooled](https://keras.io/api/layers/pooling_layers/max_pooling2d/) and [batch-normalized](https://keras.io/api/layers/normalization_layers/batch_normalization/). Use the functional syntax to stack these layers.\n",
    "\n",
    "$$Input -> Conv2D -> LeakyReLU -> Conv2D -> LeakyReLU -> MaxPooling2D -> BatchNormalization$$\n"
   ]
  },
  {
   "cell_type": "code",
   "execution_count": 8,
   "metadata": {
    "id": "azEEVytHR0Kn"
   },
   "outputs": [],
   "source": [
    "# parameter describing where the channel dimension is found in our dataset\n",
    "IMAGE_ORDERING = 'channels_last'\n",
    "\n",
    "def conv_block(input, filters, strides, pooling_size, pool_strides):\n",
    "  '''\n",
    "  Args:\n",
    "    input (tensor) -- batch of images or features\n",
    "    filters (int) -- number of filters of the Conv2D layers\n",
    "    strides (int) -- strides setting of the Conv2D layers\n",
    "    pooling_size (int) -- pooling size of the MaxPooling2D layers\n",
    "    pool_strides (int) -- strides setting of the MaxPooling2D layers\n",
    "  \n",
    "  Returns:\n",
    "    (tensor) max pooled and batch-normalized features of the input \n",
    "  '''\n",
    "\n",
    "  x = tf.keras.layers.Conv2D(filters, strides, padding='same', data_format=IMAGE_ORDERING)(input)\n",
    "  x = tf.keras.layers.LeakyReLU()(x)\n",
    "  x = tf.keras.layers.Conv2D(filters, strides, padding='same')(x)\n",
    "  x = tf.keras.layers.LeakyReLU()(x)\n",
    "  x = tf.keras.layers.MaxPooling2D(pool_size= pooling_size, strides= pool_strides)(x)\n",
    "  x = tf.keras.layers.BatchNormalization()(x)\n",
    "\n",
    "  return x"
   ]
  },
  {
   "cell_type": "code",
   "execution_count": 9,
   "metadata": {
    "colab": {
     "base_uri": "https://localhost:8080/"
    },
    "id": "uGtlHuM6KCRg",
    "outputId": "bb1488a5-e320-401b-95ca-8a66fe161cc0"
   },
   "outputs": [
    {
     "name": "stdout",
     "output_type": "stream",
     "text": [
      "Model: \"model\"\n",
      "_________________________________________________________________\n",
      " Layer (type)                Output Shape              Param #   \n",
      "=================================================================\n",
      " input_1 (InputLayer)        [(None, 64, 84, 1)]       0         \n",
      "                                                                 \n",
      " conv2d (Conv2D)             (None, 64, 84, 32)        320       \n",
      "                                                                 \n",
      " leaky_re_lu (LeakyReLU)     (None, 64, 84, 32)        0         \n",
      "                                                                 \n",
      " conv2d_1 (Conv2D)           (None, 64, 84, 32)        9248      \n",
      "                                                                 \n",
      " leaky_re_lu_1 (LeakyReLU)   (None, 64, 84, 32)        0         \n",
      "                                                                 \n",
      " max_pooling2d (MaxPooling2D  (None, 32, 42, 32)       0         \n",
      " )                                                               \n",
      "                                                                 \n",
      " batch_normalization (BatchN  (None, 32, 42, 32)       128       \n",
      " ormalization)                                                   \n",
      "                                                                 \n",
      "=================================================================\n",
      "Total params: 9,696\n",
      "Trainable params: 9,632\n",
      "Non-trainable params: 64\n",
      "_________________________________________________________________\n",
      "None\n"
     ]
    }
   ],
   "source": [
    "# dummy test code.\n",
    "test_input = tf.keras.layers.Input(shape=(64,84, 1))\n",
    "test_output = conv_block(test_input, 32, 3, 2, 2)\n",
    "test_model = tf.keras.Model(inputs=test_input, outputs=test_output)\n",
    "\n",
    "print(test_model.summary())\n",
    "\n",
    "# free up test resources\n",
    "del test_input, test_output, test_model"
   ]
  },
  {
   "cell_type": "markdown",
   "metadata": {
    "id": "4-jJbC91EXTV"
   },
   "source": [
    "### Define the Downsampling Path"
   ]
  },
  {
   "cell_type": "markdown",
   "metadata": {
    "id": "e2ueOTmc3HxJ"
   },
   "source": [
    "This should chain together five convolution building blocks to create a feature extraction CNN minus the fully connected layers. "
   ]
  },
  {
   "cell_type": "code",
   "execution_count": 10,
   "metadata": {
    "id": "F2VNB99LRwQr"
   },
   "outputs": [],
   "source": [
    "def FCN8(input_height=64, input_width=84):\n",
    "    '''\n",
    "    Defines the downsampling path of the image segmentation model.\n",
    "\n",
    "    Args:\n",
    "      input_height (int) -- height of the images\n",
    "      width (int) -- width of the images\n",
    "\n",
    "    Returns:\n",
    "    (tuple of tensors, tensor)\n",
    "      tuple of tensors -- features extracted at blocks 3 to 5\n",
    "      tensor -- copy of the input\n",
    "    '''\n",
    "   \n",
    "    img_input = tf.keras.layers.Input(shape=(input_height,input_width, 1))\n",
    "\n",
    "    ### START CODE HERE ###\n",
    "    \n",
    "    # pad the input image to have dimensions to the nearest power of two\n",
    "    x = tf.keras.layers.ZeroPadding2D(padding = (0, 6))(img_input)\n",
    "\n",
    "    # Block 1\n",
    "    x = conv_block(x, 32, 2, 2, 2)\n",
    "    \n",
    "    # Block 2\n",
    "    x = conv_block(x, 64, 2, 2, 2)\n",
    "\n",
    "    # Block 3\n",
    "    x = conv_block(x, 128, 2, 2, 2)\n",
    "    # save the feature map at this stage\n",
    "    f3 = x\n",
    "\n",
    "    # Block 4\n",
    "    x = conv_block(x, 256, 2, 2, 2)\n",
    "    # save the feature map at this stage\n",
    "    f4 = x\n",
    "\n",
    "    # Block 5\n",
    "    x = conv_block(x, 256, 2, 2, 2)\n",
    "    # save the feature map at this stage\n",
    "    f5 = x\n",
    "\n",
    "    ### END CODE HERE ###\n",
    "  \n",
    "    return (f3, f4, f5), img_input"
   ]
  },
  {
   "cell_type": "code",
   "execution_count": 11,
   "metadata": {
    "colab": {
     "base_uri": "https://localhost:8080/"
    },
    "id": "HVQm1W0CNICS",
    "outputId": "f178c194-eea6-4e7a-df69-62613ecd7232"
   },
   "outputs": [
    {
     "name": "stdout",
     "output_type": "stream",
     "text": [
      "Model: \"model_1\"\n",
      "_________________________________________________________________\n",
      " Layer (type)                Output Shape              Param #   \n",
      "=================================================================\n",
      " input_2 (InputLayer)        [(None, 64, 84, 1)]       0         \n",
      "                                                                 \n",
      " zero_padding2d (ZeroPadding  (None, 64, 96, 1)        0         \n",
      " 2D)                                                             \n",
      "                                                                 \n",
      " conv2d_2 (Conv2D)           (None, 64, 96, 32)        160       \n",
      "                                                                 \n",
      " leaky_re_lu_2 (LeakyReLU)   (None, 64, 96, 32)        0         \n",
      "                                                                 \n",
      " conv2d_3 (Conv2D)           (None, 64, 96, 32)        4128      \n",
      "                                                                 \n",
      " leaky_re_lu_3 (LeakyReLU)   (None, 64, 96, 32)        0         \n",
      "                                                                 \n",
      " max_pooling2d_1 (MaxPooling  (None, 32, 48, 32)       0         \n",
      " 2D)                                                             \n",
      "                                                                 \n",
      " batch_normalization_1 (Batc  (None, 32, 48, 32)       128       \n",
      " hNormalization)                                                 \n",
      "                                                                 \n",
      " conv2d_4 (Conv2D)           (None, 32, 48, 64)        8256      \n",
      "                                                                 \n",
      " leaky_re_lu_4 (LeakyReLU)   (None, 32, 48, 64)        0         \n",
      "                                                                 \n",
      " conv2d_5 (Conv2D)           (None, 32, 48, 64)        16448     \n",
      "                                                                 \n",
      " leaky_re_lu_5 (LeakyReLU)   (None, 32, 48, 64)        0         \n",
      "                                                                 \n",
      " max_pooling2d_2 (MaxPooling  (None, 16, 24, 64)       0         \n",
      " 2D)                                                             \n",
      "                                                                 \n",
      " batch_normalization_2 (Batc  (None, 16, 24, 64)       256       \n",
      " hNormalization)                                                 \n",
      "                                                                 \n",
      " conv2d_6 (Conv2D)           (None, 16, 24, 128)       32896     \n",
      "                                                                 \n",
      " leaky_re_lu_6 (LeakyReLU)   (None, 16, 24, 128)       0         \n",
      "                                                                 \n",
      " conv2d_7 (Conv2D)           (None, 16, 24, 128)       65664     \n",
      "                                                                 \n",
      " leaky_re_lu_7 (LeakyReLU)   (None, 16, 24, 128)       0         \n",
      "                                                                 \n",
      " max_pooling2d_3 (MaxPooling  (None, 8, 12, 128)       0         \n",
      " 2D)                                                             \n",
      "                                                                 \n",
      " batch_normalization_3 (Batc  (None, 8, 12, 128)       512       \n",
      " hNormalization)                                                 \n",
      "                                                                 \n",
      " conv2d_8 (Conv2D)           (None, 8, 12, 256)        131328    \n",
      "                                                                 \n",
      " leaky_re_lu_8 (LeakyReLU)   (None, 8, 12, 256)        0         \n",
      "                                                                 \n",
      " conv2d_9 (Conv2D)           (None, 8, 12, 256)        262400    \n",
      "                                                                 \n",
      " leaky_re_lu_9 (LeakyReLU)   (None, 8, 12, 256)        0         \n",
      "                                                                 \n",
      " max_pooling2d_4 (MaxPooling  (None, 4, 6, 256)        0         \n",
      " 2D)                                                             \n",
      "                                                                 \n",
      " batch_normalization_4 (Batc  (None, 4, 6, 256)        1024      \n",
      " hNormalization)                                                 \n",
      "                                                                 \n",
      " conv2d_10 (Conv2D)          (None, 4, 6, 256)         262400    \n",
      "                                                                 \n",
      " leaky_re_lu_10 (LeakyReLU)  (None, 4, 6, 256)         0         \n",
      "                                                                 \n",
      " conv2d_11 (Conv2D)          (None, 4, 6, 256)         262400    \n",
      "                                                                 \n",
      " leaky_re_lu_11 (LeakyReLU)  (None, 4, 6, 256)         0         \n",
      "                                                                 \n",
      " max_pooling2d_5 (MaxPooling  (None, 2, 3, 256)        0         \n",
      " 2D)                                                             \n",
      "                                                                 \n",
      " batch_normalization_5 (Batc  (None, 2, 3, 256)        1024      \n",
      " hNormalization)                                                 \n",
      "                                                                 \n",
      "=================================================================\n",
      "Total params: 1,049,024\n",
      "Trainable params: 1,047,552\n",
      "Non-trainable params: 1,472\n",
      "_________________________________________________________________\n",
      "None\n"
     ]
    }
   ],
   "source": [
    "# dummy test\n",
    "\n",
    "test_convs, test_img_input = FCN8()\n",
    "test_model = tf.keras.Model(inputs=test_img_input, outputs=[test_convs, test_img_input])\n",
    "\n",
    "print(test_model.summary())\n",
    "\n",
    "del test_convs, test_img_input, test_model"
   ]
  },
  {
   "cell_type": "markdown",
   "metadata": {
    "id": "LbjYEQU8Eq-T"
   },
   "source": [
    "### Define the FCN-8 decoder"
   ]
  },
  {
   "cell_type": "markdown",
   "metadata": {
    "id": "Ux5nAU155E5O"
   },
   "source": [
    "Let's define the upsampling path taking the outputs of convolutions at each stage as arguments. \n",
    "\n",
    "Here is also the diagram to show how it should work:\n",
    "\n",
    "<img src='https://drive.google.com/uc?export=view&id=1lrqB4YegV8jXWNfyYAaeuFlwXIc54aRP' alt='fcn-8'>"
   ]
  },
  {
   "cell_type": "code",
   "execution_count": 12,
   "metadata": {
    "id": "giYEct_Se5Xj"
   },
   "outputs": [],
   "source": [
    "def fcn8_decoder(convs, n_classes):\n",
    "  # features from the encoder stage\n",
    "  f3, f4, f5 = convs\n",
    "\n",
    "  # number of filters\n",
    "  n = 512\n",
    "\n",
    "  # add convolutional layers on top of the CNN extractor.\n",
    "  o = tf.keras.layers.Conv2D(n , (7 , 7) , activation='relu' , padding='same', name=\"conv6\", data_format=IMAGE_ORDERING)(f5)\n",
    "  o = tf.keras.layers.Dropout(0.5)(o)\n",
    "\n",
    "  o = tf.keras.layers.Conv2D(n , (1 , 1) , activation='relu' , padding='same', name=\"conv7\", data_format=IMAGE_ORDERING)(o)\n",
    "  o = tf.keras.layers.Dropout(0.5)(o)\n",
    "\n",
    "  o = tf.keras.layers.Conv2D(n_classes,  (1, 1), activation='relu' , padding='same', data_format=IMAGE_ORDERING)(o)\n",
    "\n",
    "    \n",
    "  # Upsample `o` above and crop any extra pixels introduced\n",
    "  o = tf.keras.layers.Conv2DTranspose(n_classes , kernel_size=(4,4) ,  strides=(2,2))(o)\n",
    "  o = tf.keras.layers.Cropping2D(cropping=(1,1))(o)\n",
    "\n",
    "  # load the pool 4 prediction and do a 1x1 convolution to reshape it to the same shape of `o` above\n",
    "  o2 = f4\n",
    "  o2 = ( tf.keras.layers.Conv2D(n_classes , ( 1 , 1 ) , activation='relu' , padding='same'))(o2)\n",
    "\n",
    "  # add the results of the upsampling and pool 4 prediction\n",
    "  o = tf.keras.layers.Add()([o, o2])\n",
    "\n",
    "  # upsample the resulting tensor of the operation you just did\n",
    "  o =  (tf.keras.layers.Conv2DTranspose( n_classes , kernel_size=(4,4) ,  strides=(2,2)))(o)\n",
    "  o = tf.keras.layers.Cropping2D(cropping=(1, 1))(o)\n",
    "\n",
    "  # load the pool 3 prediction and do a 1x1 convolution to reshape it to the same shape of `o` above\n",
    "  o2 =  f3\n",
    "  o2 = tf.keras.layers.Conv2D(n_classes , ( 1 , 1 ) , activation='relu' , padding='same', data_format=IMAGE_ORDERING)(o2)\n",
    "\n",
    "  # add the results of the upsampling and pool 3 prediction\n",
    "  o = tf.keras.layers.Add()([o, o2])\n",
    "\n",
    "  # upsample up to the size of the original image\n",
    "  o = tf.keras.layers.Conv2DTranspose(n_classes , kernel_size=(8,8) ,  strides=(8,8))(o)\n",
    "  o = tf.keras.layers.Cropping2D(((0, 0), (0, 96-84)))(o)\n",
    "\n",
    "  # append a sigmoid activation\n",
    "  o = (tf.keras.layers.Activation('softmax'))(o)\n",
    "\n",
    "  return o"
   ]
  },
  {
   "cell_type": "code",
   "execution_count": 13,
   "metadata": {
    "colab": {
     "base_uri": "https://localhost:8080/"
    },
    "id": "lQHioDlR5K1_",
    "outputId": "2af77672-3450-45ed-e0a1-d9e4aa10a6dc"
   },
   "outputs": [
    {
     "name": "stdout",
     "output_type": "stream",
     "text": [
      "(None, 64, 84, 11)\n"
     ]
    }
   ],
   "source": [
    "# TEST CODE\n",
    "\n",
    "test_convs, test_img_input = FCN8()\n",
    "test_fcn8_decoder = fcn8_decoder(test_convs, 11)\n",
    "\n",
    "print(test_fcn8_decoder.shape)\n",
    "\n",
    "del test_convs, test_img_input, test_fcn8_decoder"
   ]
  },
  {
   "cell_type": "markdown",
   "metadata": {
    "id": "cJOhQz86Qk6n"
   },
   "source": [
    "### Define the Complete Model\n",
    "\n",
    "The downsampling and upsampling paths can now be combined as shown below."
   ]
  },
  {
   "cell_type": "code",
   "execution_count": 14,
   "metadata": {
    "id": "9EJEf484312h",
    "lines_to_next_cell": 2
   },
   "outputs": [],
   "source": [
    "# start the encoder using the default input size 64 x 84\n",
    "convs, img_input = FCN8()\n",
    "\n",
    "# pass the convolutions obtained in the encoder to the decoder\n",
    "dec_op = fcn8_decoder(convs, n_classes)\n",
    "\n",
    "# define the model specifying the input (batch of images) and output (decoder output)\n",
    "model = tf.keras.Model(inputs = img_input, outputs = dec_op)"
   ]
  },
  {
   "cell_type": "code",
   "execution_count": 15,
   "metadata": {
    "colab": {
     "base_uri": "https://localhost:8080/"
    },
    "id": "2GAenp1M4gXx",
    "outputId": "dd745662-a5d7-4bc2-d5f4-90f8970cb4d7"
   },
   "outputs": [
    {
     "name": "stdout",
     "output_type": "stream",
     "text": [
      "Model: \"model_2\"\n",
      "__________________________________________________________________________________________________\n",
      " Layer (type)                   Output Shape         Param #     Connected to                     \n",
      "==================================================================================================\n",
      " input_4 (InputLayer)           [(None, 64, 84, 1)]  0           []                               \n",
      "                                                                                                  \n",
      " zero_padding2d_2 (ZeroPadding2  (None, 64, 96, 1)   0           ['input_4[0][0]']                \n",
      " D)                                                                                               \n",
      "                                                                                                  \n",
      " conv2d_25 (Conv2D)             (None, 64, 96, 32)   160         ['zero_padding2d_2[0][0]']       \n",
      "                                                                                                  \n",
      " leaky_re_lu_22 (LeakyReLU)     (None, 64, 96, 32)   0           ['conv2d_25[0][0]']              \n",
      "                                                                                                  \n",
      " conv2d_26 (Conv2D)             (None, 64, 96, 32)   4128        ['leaky_re_lu_22[0][0]']         \n",
      "                                                                                                  \n",
      " leaky_re_lu_23 (LeakyReLU)     (None, 64, 96, 32)   0           ['conv2d_26[0][0]']              \n",
      "                                                                                                  \n",
      " max_pooling2d_11 (MaxPooling2D  (None, 32, 48, 32)  0           ['leaky_re_lu_23[0][0]']         \n",
      " )                                                                                                \n",
      "                                                                                                  \n",
      " batch_normalization_11 (BatchN  (None, 32, 48, 32)  128         ['max_pooling2d_11[0][0]']       \n",
      " ormalization)                                                                                    \n",
      "                                                                                                  \n",
      " conv2d_27 (Conv2D)             (None, 32, 48, 64)   8256        ['batch_normalization_11[0][0]'] \n",
      "                                                                                                  \n",
      " leaky_re_lu_24 (LeakyReLU)     (None, 32, 48, 64)   0           ['conv2d_27[0][0]']              \n",
      "                                                                                                  \n",
      " conv2d_28 (Conv2D)             (None, 32, 48, 64)   16448       ['leaky_re_lu_24[0][0]']         \n",
      "                                                                                                  \n",
      " leaky_re_lu_25 (LeakyReLU)     (None, 32, 48, 64)   0           ['conv2d_28[0][0]']              \n",
      "                                                                                                  \n",
      " max_pooling2d_12 (MaxPooling2D  (None, 16, 24, 64)  0           ['leaky_re_lu_25[0][0]']         \n",
      " )                                                                                                \n",
      "                                                                                                  \n",
      " batch_normalization_12 (BatchN  (None, 16, 24, 64)  256         ['max_pooling2d_12[0][0]']       \n",
      " ormalization)                                                                                    \n",
      "                                                                                                  \n",
      " conv2d_29 (Conv2D)             (None, 16, 24, 128)  32896       ['batch_normalization_12[0][0]'] \n",
      "                                                                                                  \n",
      " leaky_re_lu_26 (LeakyReLU)     (None, 16, 24, 128)  0           ['conv2d_29[0][0]']              \n",
      "                                                                                                  \n",
      " conv2d_30 (Conv2D)             (None, 16, 24, 128)  65664       ['leaky_re_lu_26[0][0]']         \n",
      "                                                                                                  \n",
      " leaky_re_lu_27 (LeakyReLU)     (None, 16, 24, 128)  0           ['conv2d_30[0][0]']              \n",
      "                                                                                                  \n",
      " max_pooling2d_13 (MaxPooling2D  (None, 8, 12, 128)  0           ['leaky_re_lu_27[0][0]']         \n",
      " )                                                                                                \n",
      "                                                                                                  \n",
      " batch_normalization_13 (BatchN  (None, 8, 12, 128)  512         ['max_pooling2d_13[0][0]']       \n",
      " ormalization)                                                                                    \n",
      "                                                                                                  \n",
      " conv2d_31 (Conv2D)             (None, 8, 12, 256)   131328      ['batch_normalization_13[0][0]'] \n",
      "                                                                                                  \n",
      " leaky_re_lu_28 (LeakyReLU)     (None, 8, 12, 256)   0           ['conv2d_31[0][0]']              \n",
      "                                                                                                  \n",
      " conv2d_32 (Conv2D)             (None, 8, 12, 256)   262400      ['leaky_re_lu_28[0][0]']         \n",
      "                                                                                                  \n",
      " leaky_re_lu_29 (LeakyReLU)     (None, 8, 12, 256)   0           ['conv2d_32[0][0]']              \n",
      "                                                                                                  \n",
      " max_pooling2d_14 (MaxPooling2D  (None, 4, 6, 256)   0           ['leaky_re_lu_29[0][0]']         \n",
      " )                                                                                                \n",
      "                                                                                                  \n",
      " batch_normalization_14 (BatchN  (None, 4, 6, 256)   1024        ['max_pooling2d_14[0][0]']       \n",
      " ormalization)                                                                                    \n",
      "                                                                                                  \n",
      " conv2d_33 (Conv2D)             (None, 4, 6, 256)    262400      ['batch_normalization_14[0][0]'] \n",
      "                                                                                                  \n",
      " leaky_re_lu_30 (LeakyReLU)     (None, 4, 6, 256)    0           ['conv2d_33[0][0]']              \n",
      "                                                                                                  \n",
      " conv2d_34 (Conv2D)             (None, 4, 6, 256)    262400      ['leaky_re_lu_30[0][0]']         \n",
      "                                                                                                  \n",
      " leaky_re_lu_31 (LeakyReLU)     (None, 4, 6, 256)    0           ['conv2d_34[0][0]']              \n",
      "                                                                                                  \n",
      " max_pooling2d_15 (MaxPooling2D  (None, 2, 3, 256)   0           ['leaky_re_lu_31[0][0]']         \n",
      " )                                                                                                \n",
      "                                                                                                  \n",
      " batch_normalization_15 (BatchN  (None, 2, 3, 256)   1024        ['max_pooling2d_15[0][0]']       \n",
      " ormalization)                                                                                    \n",
      "                                                                                                  \n",
      " conv6 (Conv2D)                 (None, 2, 3, 512)    6423040     ['batch_normalization_15[0][0]'] \n",
      "                                                                                                  \n",
      " dropout_2 (Dropout)            (None, 2, 3, 512)    0           ['conv6[0][0]']                  \n",
      "                                                                                                  \n",
      " conv7 (Conv2D)                 (None, 2, 3, 512)    262656      ['dropout_2[0][0]']              \n",
      "                                                                                                  \n",
      " dropout_3 (Dropout)            (None, 2, 3, 512)    0           ['conv7[0][0]']                  \n",
      "                                                                                                  \n",
      " conv2d_35 (Conv2D)             (None, 2, 3, 11)     5643        ['dropout_3[0][0]']              \n",
      "                                                                                                  \n",
      " conv2d_transpose_3 (Conv2DTran  (None, 6, 8, 11)    1947        ['conv2d_35[0][0]']              \n",
      " spose)                                                                                           \n",
      "                                                                                                  \n",
      " cropping2d_3 (Cropping2D)      (None, 4, 6, 11)     0           ['conv2d_transpose_3[0][0]']     \n",
      "                                                                                                  \n",
      " conv2d_36 (Conv2D)             (None, 4, 6, 11)     2827        ['batch_normalization_14[0][0]'] \n",
      "                                                                                                  \n",
      " add_2 (Add)                    (None, 4, 6, 11)     0           ['cropping2d_3[0][0]',           \n",
      "                                                                  'conv2d_36[0][0]']              \n",
      "                                                                                                  \n",
      " conv2d_transpose_4 (Conv2DTran  (None, 10, 14, 11)  1947        ['add_2[0][0]']                  \n",
      " spose)                                                                                           \n",
      "                                                                                                  \n",
      " cropping2d_4 (Cropping2D)      (None, 8, 12, 11)    0           ['conv2d_transpose_4[0][0]']     \n",
      "                                                                                                  \n",
      " conv2d_37 (Conv2D)             (None, 8, 12, 11)    1419        ['batch_normalization_13[0][0]'] \n",
      "                                                                                                  \n",
      " add_3 (Add)                    (None, 8, 12, 11)    0           ['cropping2d_4[0][0]',           \n",
      "                                                                  'conv2d_37[0][0]']              \n",
      "                                                                                                  \n",
      " conv2d_transpose_5 (Conv2DTran  (None, 64, 96, 11)  7755        ['add_3[0][0]']                  \n",
      " spose)                                                                                           \n",
      "                                                                                                  \n",
      " cropping2d_5 (Cropping2D)      (None, 64, 84, 11)   0           ['conv2d_transpose_5[0][0]']     \n",
      "                                                                                                  \n",
      " activation_1 (Activation)      (None, 64, 84, 11)   0           ['cropping2d_5[0][0]']           \n",
      "                                                                                                  \n",
      "==================================================================================================\n",
      "Total params: 7,756,258\n",
      "Trainable params: 7,754,786\n",
      "Non-trainable params: 1,472\n",
      "__________________________________________________________________________________________________\n"
     ]
    }
   ],
   "source": [
    "model.summary()"
   ]
  },
  {
   "cell_type": "markdown",
   "metadata": {
    "id": "wAAXygZtbZmu"
   },
   "source": [
    "## Compile the Model"
   ]
  },
  {
   "cell_type": "code",
   "execution_count": 16,
   "metadata": {
    "colab": {
     "base_uri": "https://localhost:8080/"
    },
    "id": "ZpWpp8h4g_rE",
    "outputId": "b0758094-4e4b-4c5f-fdaf-6ec79ffcda6c"
   },
   "outputs": [
    {
     "name": "stderr",
     "output_type": "stream",
     "text": [
      "/usr/local/lib/python3.7/dist-packages/keras/optimizer_v2/gradient_descent.py:102: UserWarning: The `lr` argument is deprecated, use `learning_rate` instead.\n",
      "  super(SGD, self).__init__(name, **kwargs)\n"
     ]
    }
   ],
   "source": [
    "model.compile(loss='categorical_crossentropy', optimizer=tf.keras.optimizers.SGD(lr=1E-2, momentum=0.9, nesterov=True), \n",
    "              metrics=['accuracy'])"
   ]
  },
  {
   "cell_type": "markdown",
   "metadata": {
    "id": "510v0aVDXv1f"
   },
   "source": [
    "## Model Training"
   ]
  },
  {
   "cell_type": "code",
   "execution_count": 38,
   "metadata": {
    "colab": {
     "base_uri": "https://localhost:8080/"
    },
    "id": "8HoZwpGWhMB-",
    "outputId": "7ddce8b0-0cf0-44f5-d0fa-b998c102b9c4"
   },
   "outputs": [
    {
     "name": "stdout",
     "output_type": "stream",
     "text": [
      "Epoch 1/50\n",
      "125/125 [==============================] - 6s 47ms/step - loss: 0.0325 - accuracy: 0.9874 - val_loss: 0.0696 - val_accuracy: 0.9791\n",
      "Epoch 2/50\n",
      "125/125 [==============================] - 6s 46ms/step - loss: 0.0324 - accuracy: 0.9874 - val_loss: 0.0703 - val_accuracy: 0.9784\n",
      "Epoch 3/50\n",
      "125/125 [==============================] - 7s 53ms/step - loss: 0.0323 - accuracy: 0.9875 - val_loss: 0.0675 - val_accuracy: 0.9790\n",
      "Epoch 4/50\n",
      "125/125 [==============================] - 7s 53ms/step - loss: 0.0323 - accuracy: 0.9875 - val_loss: 0.0677 - val_accuracy: 0.9790\n",
      "Epoch 5/50\n",
      "125/125 [==============================] - 6s 48ms/step - loss: 0.0321 - accuracy: 0.9875 - val_loss: 0.0680 - val_accuracy: 0.9791\n",
      "Epoch 6/50\n",
      "125/125 [==============================] - 6s 51ms/step - loss: 0.0321 - accuracy: 0.9876 - val_loss: 0.0673 - val_accuracy: 0.9792\n",
      "Epoch 7/50\n",
      "125/125 [==============================] - 7s 53ms/step - loss: 0.0320 - accuracy: 0.9876 - val_loss: 0.0684 - val_accuracy: 0.9788\n",
      "Epoch 8/50\n",
      "125/125 [==============================] - 6s 48ms/step - loss: 0.0319 - accuracy: 0.9876 - val_loss: 0.0677 - val_accuracy: 0.9790\n",
      "Epoch 9/50\n",
      "125/125 [==============================] - 6s 46ms/step - loss: 0.0319 - accuracy: 0.9877 - val_loss: 0.0666 - val_accuracy: 0.9793\n",
      "Epoch 10/50\n",
      "125/125 [==============================] - 6s 46ms/step - loss: 0.0319 - accuracy: 0.9876 - val_loss: 0.0677 - val_accuracy: 0.9792\n",
      "Epoch 11/50\n",
      "125/125 [==============================] - 6s 45ms/step - loss: 0.0318 - accuracy: 0.9877 - val_loss: 0.0674 - val_accuracy: 0.9787\n",
      "Epoch 12/50\n",
      "125/125 [==============================] - 6s 46ms/step - loss: 0.0318 - accuracy: 0.9877 - val_loss: 0.0668 - val_accuracy: 0.9794\n",
      "Epoch 13/50\n",
      "125/125 [==============================] - 6s 46ms/step - loss: 0.0316 - accuracy: 0.9877 - val_loss: 0.0680 - val_accuracy: 0.9793\n",
      "Epoch 14/50\n",
      "125/125 [==============================] - 6s 46ms/step - loss: 0.0316 - accuracy: 0.9877 - val_loss: 0.0677 - val_accuracy: 0.9790\n",
      "Epoch 15/50\n",
      "125/125 [==============================] - 6s 46ms/step - loss: 0.0315 - accuracy: 0.9878 - val_loss: 0.0663 - val_accuracy: 0.9792\n",
      "Epoch 16/50\n",
      "125/125 [==============================] - 6s 45ms/step - loss: 0.0315 - accuracy: 0.9878 - val_loss: 0.0661 - val_accuracy: 0.9795\n",
      "Epoch 17/50\n",
      "125/125 [==============================] - 6s 46ms/step - loss: 0.0314 - accuracy: 0.9878 - val_loss: 0.0700 - val_accuracy: 0.9786\n",
      "Epoch 18/50\n",
      "125/125 [==============================] - 6s 45ms/step - loss: 0.0314 - accuracy: 0.9878 - val_loss: 0.0660 - val_accuracy: 0.9795\n",
      "Epoch 19/50\n",
      "125/125 [==============================] - 6s 46ms/step - loss: 0.0312 - accuracy: 0.9879 - val_loss: 0.0688 - val_accuracy: 0.9787\n",
      "Epoch 20/50\n",
      "125/125 [==============================] - 6s 46ms/step - loss: 0.0312 - accuracy: 0.9879 - val_loss: 0.0671 - val_accuracy: 0.9795\n",
      "Epoch 21/50\n",
      "125/125 [==============================] - 6s 48ms/step - loss: 0.0312 - accuracy: 0.9879 - val_loss: 0.0673 - val_accuracy: 0.9795\n",
      "Epoch 22/50\n",
      "125/125 [==============================] - 6s 46ms/step - loss: 0.0310 - accuracy: 0.9880 - val_loss: 0.0662 - val_accuracy: 0.9794\n",
      "Epoch 23/50\n",
      "125/125 [==============================] - 6s 46ms/step - loss: 0.0310 - accuracy: 0.9880 - val_loss: 0.0684 - val_accuracy: 0.9792\n",
      "Epoch 24/50\n",
      "125/125 [==============================] - 6s 46ms/step - loss: 0.0310 - accuracy: 0.9880 - val_loss: 0.0680 - val_accuracy: 0.9794\n",
      "Epoch 25/50\n",
      "125/125 [==============================] - 6s 46ms/step - loss: 0.0309 - accuracy: 0.9880 - val_loss: 0.0705 - val_accuracy: 0.9785\n",
      "Epoch 26/50\n",
      "125/125 [==============================] - 6s 46ms/step - loss: 0.0308 - accuracy: 0.9880 - val_loss: 0.0664 - val_accuracy: 0.9798\n",
      "Epoch 27/50\n",
      "125/125 [==============================] - 6s 46ms/step - loss: 0.0308 - accuracy: 0.9881 - val_loss: 0.0660 - val_accuracy: 0.9793\n",
      "Epoch 28/50\n",
      "125/125 [==============================] - 6s 46ms/step - loss: 0.0307 - accuracy: 0.9881 - val_loss: 0.0657 - val_accuracy: 0.9794\n",
      "Epoch 29/50\n",
      "125/125 [==============================] - 6s 46ms/step - loss: 0.0308 - accuracy: 0.9881 - val_loss: 0.0685 - val_accuracy: 0.9794\n",
      "Epoch 30/50\n",
      "125/125 [==============================] - 6s 46ms/step - loss: 0.0306 - accuracy: 0.9881 - val_loss: 0.0677 - val_accuracy: 0.9796\n",
      "Epoch 31/50\n",
      "125/125 [==============================] - 6s 46ms/step - loss: 0.0305 - accuracy: 0.9882 - val_loss: 0.0662 - val_accuracy: 0.9797\n",
      "Epoch 32/50\n",
      "125/125 [==============================] - 6s 46ms/step - loss: 0.0305 - accuracy: 0.9882 - val_loss: 0.0673 - val_accuracy: 0.9796\n",
      "Epoch 33/50\n",
      "125/125 [==============================] - 6s 46ms/step - loss: 0.0304 - accuracy: 0.9882 - val_loss: 0.0677 - val_accuracy: 0.9794\n",
      "Epoch 34/50\n",
      "125/125 [==============================] - 6s 46ms/step - loss: 0.0303 - accuracy: 0.9882 - val_loss: 0.0712 - val_accuracy: 0.9783\n",
      "Epoch 35/50\n",
      "125/125 [==============================] - 6s 46ms/step - loss: 0.0303 - accuracy: 0.9882 - val_loss: 0.0674 - val_accuracy: 0.9794\n",
      "Epoch 36/50\n",
      "125/125 [==============================] - 6s 46ms/step - loss: 0.0302 - accuracy: 0.9883 - val_loss: 0.0684 - val_accuracy: 0.9796\n",
      "Epoch 37/50\n",
      "125/125 [==============================] - 6s 46ms/step - loss: 0.0302 - accuracy: 0.9883 - val_loss: 0.0691 - val_accuracy: 0.9791\n",
      "Epoch 38/50\n",
      "125/125 [==============================] - 6s 46ms/step - loss: 0.0302 - accuracy: 0.9883 - val_loss: 0.0682 - val_accuracy: 0.9792\n",
      "Epoch 39/50\n",
      "125/125 [==============================] - 6s 46ms/step - loss: 0.0300 - accuracy: 0.9883 - val_loss: 0.0670 - val_accuracy: 0.9795\n",
      "Epoch 40/50\n",
      "125/125 [==============================] - 6s 46ms/step - loss: 0.0300 - accuracy: 0.9884 - val_loss: 0.0690 - val_accuracy: 0.9792\n",
      "Epoch 41/50\n",
      "125/125 [==============================] - 6s 46ms/step - loss: 0.0300 - accuracy: 0.9883 - val_loss: 0.0677 - val_accuracy: 0.9790\n",
      "Epoch 42/50\n",
      "125/125 [==============================] - 6s 46ms/step - loss: 0.0299 - accuracy: 0.9884 - val_loss: 0.0676 - val_accuracy: 0.9795\n",
      "Epoch 43/50\n",
      "125/125 [==============================] - 6s 46ms/step - loss: 0.0298 - accuracy: 0.9884 - val_loss: 0.0669 - val_accuracy: 0.9798\n",
      "Epoch 44/50\n",
      "125/125 [==============================] - 6s 46ms/step - loss: 0.0298 - accuracy: 0.9884 - val_loss: 0.0666 - val_accuracy: 0.9798\n",
      "Epoch 45/50\n",
      "125/125 [==============================] - 6s 46ms/step - loss: 0.0297 - accuracy: 0.9884 - val_loss: 0.0665 - val_accuracy: 0.9791\n",
      "Epoch 46/50\n",
      "125/125 [==============================] - 6s 46ms/step - loss: 0.0297 - accuracy: 0.9885 - val_loss: 0.0672 - val_accuracy: 0.9792\n",
      "Epoch 47/50\n",
      "125/125 [==============================] - 6s 46ms/step - loss: 0.0297 - accuracy: 0.9885 - val_loss: 0.0665 - val_accuracy: 0.9799\n",
      "Epoch 48/50\n",
      "125/125 [==============================] - 6s 46ms/step - loss: 0.0295 - accuracy: 0.9885 - val_loss: 0.0693 - val_accuracy: 0.9791\n",
      "Epoch 49/50\n",
      "125/125 [==============================] - 6s 46ms/step - loss: 0.0296 - accuracy: 0.9885 - val_loss: 0.0681 - val_accuracy: 0.9797\n",
      "Epoch 50/50\n",
      "125/125 [==============================] - 6s 46ms/step - loss: 0.0295 - accuracy: 0.9885 - val_loss: 0.0679 - val_accuracy: 0.9795\n"
     ]
    }
   ],
   "source": [
    "# I trained it first for 200 epochs and then for 50 epochs\n",
    "# Training for 250 epochs at a single setting would do.\n",
    "\n",
    "EPOCHS = 250\n",
    "\n",
    "steps_per_epoch = 4000//BATCH_SIZE\n",
    "validation_steps = 800//BATCH_SIZE\n",
    "test_steps = 200//BATCH_SIZE\n",
    "\n",
    "\n",
    "history = model.fit(training_dataset,\n",
    "                    steps_per_epoch=steps_per_epoch, validation_data=validation_dataset, validation_steps=validation_steps, epochs=EPOCHS)"
   ]
  },
  {
   "cell_type": "markdown",
   "metadata": {
    "id": "eih-Q7GoXzJe"
   },
   "source": [
    "## Model Evaluation"
   ]
  },
  {
   "cell_type": "markdown",
   "metadata": {
    "id": "2bTkaFM2X1gr"
   },
   "source": [
    "### Make Predictions\n",
    "\n",
    "Let's get the predictions using our test dataset as input and print the shape."
   ]
  },
  {
   "cell_type": "code",
   "execution_count": 39,
   "metadata": {
    "colab": {
     "base_uri": "https://localhost:8080/"
    },
    "id": "zENjQuK0luH5",
    "outputId": "09c2d1c3-7676-4f69-a70e-9cbcf25e3899"
   },
   "outputs": [
    {
     "name": "stdout",
     "output_type": "stream",
     "text": [
      "(192, 64, 84, 11)\n"
     ]
    }
   ],
   "source": [
    "results = model.predict(test_dataset, steps=test_steps)\n",
    "\n",
    "print(results.shape)"
   ]
  },
  {
   "cell_type": "markdown",
   "metadata": {
    "id": "IReKPT_DZHjA"
   },
   "source": [
    "As you can see, the resulting shape is `(192, 64, 84, 11)`. This means that for each of the 192 images that we have in our test set, there are 11 predictions generated (i.e. one for each class: 0 to 1 plus background)."
   ]
  },
  {
   "cell_type": "markdown",
   "metadata": {
    "id": "wKDsqzKEf28V"
   },
   "source": [
    "What we're interested in is to get the *index* of the highest probability of each of these 11 slices and combine them in a single image. We can do that by getting the [argmax](https://numpy.org/doc/stable/reference/generated/numpy.argmax.html) at this axis."
   ]
  },
  {
   "cell_type": "code",
   "execution_count": 41,
   "metadata": {
    "colab": {
     "base_uri": "https://localhost:8080/"
    },
    "id": "0_Uj_uuV9TQt",
    "outputId": "b6036442-1049-42ef-ff92-993ea34abe76"
   },
   "outputs": [
    {
     "name": "stdout",
     "output_type": "stream",
     "text": [
      "(192, 64, 84)\n"
     ]
    }
   ],
   "source": [
    "results = np.argmax(results, axis=3)\n",
    "\n",
    "print(results.shape)"
   ]
  },
  {
   "cell_type": "markdown",
   "metadata": {
    "id": "ClaGbOLhdKD2"
   },
   "source": [
    "The new array generated per image now only specifies the indices of the class with the highest probability. Let's see the output class of the upper most left pixel. As you might have observed earlier when you inspected the dataset, the upper left corner is usually just part of the background (class 10). The actual digits are written somewhere in the middle parts of the image."
   ]
  },
  {
   "cell_type": "code",
   "execution_count": 42,
   "metadata": {
    "colab": {
     "base_uri": "https://localhost:8080/"
    },
    "id": "aBeBwvHQd2pZ",
    "outputId": "089466e9-c68b-4185-9bdc-150392c4c0e1"
   },
   "outputs": [
    {
     "name": "stdout",
     "output_type": "stream",
     "text": [
      "10\n",
      "[[10 10 10 ... 10 10 10]\n",
      " [10 10 10 ... 10 10 10]\n",
      " [10 10 10 ... 10 10 10]\n",
      " ...\n",
      " [10 10 10 ... 10 10 10]\n",
      " [10 10 10 ... 10 10 10]\n",
      " [10 10 10 ... 10 10 10]]\n"
     ]
    }
   ],
   "source": [
    "print(results[0,0,0])\n",
    "\n",
    "# prediction map for image 0\n",
    "print(results[0,:,:])"
   ]
  },
  {
   "cell_type": "markdown",
   "metadata": {
    "id": "V3FxyNgrg7IE"
   },
   "source": [
    "We will use this `results` array when we evaluate our predictions."
   ]
  },
  {
   "cell_type": "markdown",
   "metadata": {
    "id": "hpKDUuAWX5Pj"
   },
   "source": [
    "### Metrics\n",
    "\n",
    "We showed in the lectures two ways to evaluate your predictions. The *intersection over union (IOU)* and the *dice score*. Recall that:\n",
    "\n",
    "$$IOU = \\frac{area\\_of\\_overlap}{area\\_of\\_union}$$\n",
    "<br>\n",
    "$$Dice Score = 2 * \\frac{area\\_of\\_overlap}{combined\\_area}$$\n",
    " \n",
    " A small smoothing factor is introduced in the denominators to prevent possible division by zero."
   ]
  },
  {
   "cell_type": "code",
   "execution_count": 43,
   "metadata": {
    "id": "gKTpLmly_RXb"
   },
   "outputs": [],
   "source": [
    "def class_wise_metrics(y_true, y_pred):\n",
    "  '''\n",
    "  Computes the class-wise IOU and Dice Score.\n",
    "\n",
    "  Args:\n",
    "    y_true (tensor) - ground truth label maps\n",
    "    y_pred (tensor) - predicted label maps\n",
    "  '''\n",
    "  class_wise_iou = []\n",
    "  class_wise_dice_score = []\n",
    "\n",
    "  smoothing_factor = 0.00001\n",
    "\n",
    "  for i in range(n_classes):\n",
    "    intersection = np.sum((y_pred == i) * (y_true == i))\n",
    "    y_true_area = np.sum((y_true == i))\n",
    "    y_pred_area = np.sum((y_pred == i))\n",
    "    combined_area = y_true_area + y_pred_area\n",
    "    \n",
    "    iou = (intersection) / (combined_area - intersection + smoothing_factor)\n",
    "    class_wise_iou.append(iou)\n",
    "    \n",
    "    dice_score =  2 * ((intersection) / (combined_area + smoothing_factor))\n",
    "    class_wise_dice_score.append(dice_score)\n",
    "\n",
    "  return class_wise_iou, class_wise_dice_score\n"
   ]
  },
  {
   "cell_type": "markdown",
   "metadata": {
    "id": "FfWPwM4ZhHjE"
   },
   "source": [
    "### Visualize Predictions"
   ]
  },
  {
   "cell_type": "code",
   "execution_count": 44,
   "metadata": {
    "colab": {
     "base_uri": "https://localhost:8080/",
     "height": 244
    },
    "id": "Hkbsk_P1fpRM",
    "lines_to_next_cell": 2,
    "outputId": "5add6199-8887-429c-e1d4-3b749b11800d"
   },
   "outputs": [
    {
     "data": {
      "image/png": "[encoded data removed]",
      "text/plain": [
       "<Figure size 1080x288 with 3 Axes>"
      ]
     },
     "metadata": {},
     "output_type": "display_data"
    }
   ],
   "source": [
    "# place a number here between 0 to 191 to pick an image from the test set\n",
    "integer_slider = 105\n",
    "\n",
    "ds = test_dataset.unbatch()\n",
    "ds = ds.batch(200)\n",
    "images = []\n",
    "\n",
    "y_true_segments = []\n",
    "for image, annotation in ds.take(2):\n",
    "  y_true_segments = annotation\n",
    "  images = image\n",
    "  \n",
    "  \n",
    "iou, dice_score = class_wise_metrics(np.argmax(y_true_segments[integer_slider], axis=2), results[integer_slider])  \n",
    "show_annotation_and_prediction(image[integer_slider], annotation[integer_slider], results[integer_slider], iou, dice_score)"
   ]
  },
  {
   "cell_type": "markdown",
   "metadata": {
    "id": "EiG9K4t6X9iZ"
   },
   "source": [
    "### Compute IOU Score and Dice Score of your model"
   ]
  },
  {
   "cell_type": "code",
   "execution_count": 45,
   "metadata": {
    "colab": {
     "base_uri": "https://localhost:8080/"
    },
    "id": "2706boF0CNNS",
    "lines_to_next_cell": 2,
    "outputId": "5c89b0a3-c615-4da3-a59a-6b9ebfcc99fc"
   },
   "outputs": [
    {
     "name": "stdout",
     "output_type": "stream",
     "text": [
      "Digit 0: IOU: 0.656961870316772 Dice Score: 0.7929716212373389\n",
      "Digit 1: IOU: 0.7611894519889961 Dice Score: 0.8644038279122649\n",
      "Digit 2: IOU: 0.6162668444841185 Dice Score: 0.7625805684095674\n",
      "Digit 3: IOU: 0.587836957171719 Dice Score: 0.7404248333138482\n",
      "Digit 4: IOU: 0.6030594222336548 Dice Score: 0.7523856119985496\n",
      "Digit 5: IOU: 0.5280616809609796 Dice Score: 0.6911523108529074\n",
      "Digit 6: IOU: 0.590074905262032 Dice Score: 0.7421976201363826\n",
      "Digit 7: IOU: 0.7197200776606495 Dice Score: 0.8370200325156302\n",
      "Digit 8: IOU: 0.6024162541434198 Dice Score: 0.7518848521234511\n",
      "Digit 9: IOU: 0.5572199722574629 Dice Score: 0.7156599352494498\n",
      "\n",
      "Grade is 62.22807436479804\n",
      "You passed!\n"
     ]
    }
   ],
   "source": [
    "# Re-train the model by adding more epochs if the averge_iou \n",
    "#is less than 60. The PASSING_GRADE is not coming from \n",
    "# hard and fast rule\n",
    "# But, rather an observation seen from running the model \n",
    "# multiple times.\n",
    "\n",
    "cls_wise_iou, cls_wise_dice_score = class_wise_metrics(np.argmax(y_true_segments, axis=3), results)\n",
    "\n",
    "average_iou = 0.0\n",
    "for idx, (iou, dice_score) in enumerate(zip(cls_wise_iou[:-1], cls_wise_dice_score[:-1])):\n",
    "  print(\"Digit {}: IOU: {} Dice Score: {}\".format(idx, iou, dice_score)) \n",
    "  average_iou += iou\n",
    "\n",
    "grade = average_iou * 10\n",
    "\n",
    "print(\"\\nGrade is \" + str(grade))\n",
    "\n",
    "PASSING_GRADE = 60\n",
    "if (grade>PASSING_GRADE):\n",
    "  print(\"You passed!\")\n",
    "else:\n",
    "  print(\"You failed. Please check your model and re-train\")"
   ]
  }
 ],
 "metadata": {
  "accelerator": "GPU",
  "colab": {
   "collapsed_sections": [
    "T-XO9xkN1OR3",
    "e2ueOTmc3HxJ",
    "Ux5nAU155E5O"
   ],
   "name": "C3W3_Assignment.ipynb",
   "provenance": []
  },
  "kernelspec": {
   "display_name": "Python 3",
   "language": "python",
   "name": "python3"
  },
  "language_info": {
   "codemirror_mode": {
    "name": "ipython",
    "version": 3
   },
   "file_extension": ".py",
   "mimetype": "text/x-python",
   "name": "python",
   "nbconvert_exporter": "python",
   "pygments_lexer": "ipython3",
   "version": "3.8.8"
  }
 },
 "nbformat": 4,
 "nbformat_minor": 1
}
