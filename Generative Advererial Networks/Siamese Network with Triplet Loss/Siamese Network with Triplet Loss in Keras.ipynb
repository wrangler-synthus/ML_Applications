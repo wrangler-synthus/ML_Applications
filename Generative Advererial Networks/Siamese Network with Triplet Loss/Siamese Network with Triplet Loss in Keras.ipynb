{
  "cells": [
    {
      "cell_type": "markdown",
      "metadata": {
        "id": "vUoFjnlp4Pgh"
      },
      "source": [
        "# Create a Siamese Network with Triplet Loss in Keras"
      ]
    },
    {
      "cell_type": "markdown",
      "metadata": {
        "id": "1WM5Dx484Pgm"
      },
      "source": [
        "# Task 1: Understanding the Approach"
      ]
    },
    {
      "cell_type": "code",
      "execution_count": 1,
      "metadata": {
        "colab": {
          "base_uri": "https://localhost:8080/"
        },
        "id": "mYiVaGaj4Pgn",
        "outputId": "e6f50aba-6a48-4986-900c-167d5d8bd5ae"
      },
      "outputs": [
        {
          "output_type": "stream",
          "name": "stdout",
          "text": [
            "TensorFlow version: 2.7.0\n"
          ]
        }
      ],
      "source": [
        "%matplotlib inline\n",
        "\n",
        "import tensorflow as tf\n",
        "import matplotlib.pyplot as plt\n",
        "import numpy as np\n",
        "import random\n",
        "\n",
        "from pca_plotter import PCAPlotter\n",
        "\n",
        "print('TensorFlow version:', tf.__version__)"
      ]
    },
    {
      "cell_type": "markdown",
      "metadata": {
        "id": "8BaHnAQs4Pgp"
      },
      "source": [
        "## Understanding the Approach\n",
        "\n",
        "This appraoch is taken from the popular [FaceNet](https://arxiv.org/abs/1503.03832) paper.\n",
        "\n",
        "We have a CNN model called `EmbeddingModel`:\n",
        "\n",
        "![CNN](assets/CNN.png)\n",
        "\n",
        "We use three images for each training example:\n",
        "1. `person1_image1.jpg` (Anchor Example, represented below in green)\n",
        "2. `person1_image2.jpg` (Positive Example, in blue)\n",
        "3. `person2_image1.jpg` (Negative Example, in red).\n",
        "\n",
        "![Embeddings](assets/embeddings.png)\n",
        "\n",
        "\n",
        "## Siamese Network\n",
        "\n",
        "All the three images of an example pass through the model, and we get the three Embeddings: One for the Anchor Example, one for the Positive Example, and one for the Negative Example.\n",
        "\n",
        "![Siamese Network](assets/siamese.png)\n",
        "\n",
        "The three instances of the `EmbeddingModel` shown above are not different instances. It's the same, shared model instance - i.e. the parameters are shared, and are updated for all the three paths simultaneously."
      ]
    },
    {
      "cell_type": "markdown",
      "metadata": {
        "id": "lNYoY26o4Pgq"
      },
      "source": [
        "# Task 2: Importing the Data"
      ]
    },
    {
      "cell_type": "code",
      "execution_count": 2,
      "metadata": {
        "colab": {
          "base_uri": "https://localhost:8080/"
        },
        "id": "l0HlLMVT4Pgq",
        "outputId": "ee982163-5f4c-4802-bcbd-61a6a1c13dcf"
      },
      "outputs": [
        {
          "output_type": "stream",
          "name": "stdout",
          "text": [
            "(60000, 28, 28)\n"
          ]
        }
      ],
      "source": [
        "(x_train, y_train), (x_test, y_test) = tf.keras.datasets.mnist.load_data()\n",
        "print(x_train.shape)"
      ]
    },
    {
      "cell_type": "code",
      "execution_count": 3,
      "metadata": {
        "colab": {
          "base_uri": "https://localhost:8080/"
        },
        "id": "1I04WkZl4Pgr",
        "outputId": "77f070c2-f8c4-4e5b-a9cb-76f1bdf4ebc0"
      },
      "outputs": [
        {
          "output_type": "stream",
          "name": "stdout",
          "text": [
            "(60000, 784)\n"
          ]
        }
      ],
      "source": [
        "x_train = np.reshape(x_train, (x_train.shape[0], 784))/255.\n",
        "x_test = np.reshape(x_test, (x_test.shape[0], 784))/255.\n",
        "print(x_train.shape)"
      ]
    },
    {
      "cell_type": "markdown",
      "metadata": {
        "id": "9T4Nv29B4Pgr"
      },
      "source": [
        "# Task 3: Plotting Examples"
      ]
    },
    {
      "cell_type": "code",
      "execution_count": 4,
      "metadata": {
        "id": "SrdWSW2O4Pgs"
      },
      "outputs": [],
      "source": [
        "def plot_triplets(examples):\n",
        "    plt.figure(figsize=(6, 2))\n",
        "    for i in range(3):\n",
        "        plt.subplot(1, 3, 1 + i)\n",
        "        plt.imshow(np.reshape(examples[i], (28, 28)), cmap='binary')\n",
        "        plt.xticks([])\n",
        "        plt.yticks([])\n",
        "    plt.show()"
      ]
    },
    {
      "cell_type": "code",
      "execution_count": 5,
      "metadata": {
        "colab": {
          "base_uri": "https://localhost:8080/",
          "height": 133
        },
        "id": "jTjWBf1Y4Pgt",
        "outputId": "1739ae91-adb2-46e6-95b1-4a7fde458205"
      },
      "outputs": [
        {
          "output_type": "display_data",
          "data": {
            "image/png": "[encoded data removed]",
            "text/plain": [
              "<Figure size 432x144 with 3 Axes>"
            ]
          },
          "metadata": {}
        }
      ],
      "source": [
        "plot_triplets([x_train[0], x_train[1], x_train[2]])"
      ]
    },
    {
      "cell_type": "markdown",
      "metadata": {
        "id": "Y8lIrhaW4Pgt"
      },
      "source": [
        "# Task 4: A Batch of Triplets"
      ]
    },
    {
      "cell_type": "code",
      "execution_count": 6,
      "metadata": {
        "id": "V6NU8MFd4Pgt"
      },
      "outputs": [],
      "source": [
        "def create_batch(batch_size=256):\n",
        "    x_anchors = np.zeros((batch_size, 784))\n",
        "    x_positives = np.zeros((batch_size, 784))\n",
        "    x_negatives = np.zeros((batch_size, 784))\n",
        "    \n",
        "    for i in range(0, batch_size):\n",
        "        # We need to find an anchor, a positive example and a negative example\n",
        "        random_index = random.randint(0, x_train.shape[0] - 1)\n",
        "        x_anchor = x_train[random_index]\n",
        "        y = y_train[random_index]\n",
        "        \n",
        "        indices_for_pos = np.squeeze(np.where(y_train == y))\n",
        "        indices_for_neg = np.squeeze(np.where(y_train != y))\n",
        "        \n",
        "        x_positive = x_train[indices_for_pos[random.randint(0, len(indices_for_pos) - 1)]]\n",
        "        x_negative = x_train[indices_for_neg[random.randint(0, len(indices_for_neg) - 1)]]\n",
        "        \n",
        "        x_anchors[i] = x_anchor\n",
        "        x_positives[i] = x_positive\n",
        "        x_negatives[i] = x_negative\n",
        "        \n",
        "    return [x_anchors, x_positives, x_negatives]"
      ]
    },
    {
      "cell_type": "code",
      "execution_count": 7,
      "metadata": {
        "colab": {
          "base_uri": "https://localhost:8080/",
          "height": 133
        },
        "id": "nRs4qMpD4Pgu",
        "outputId": "1eb5d52a-60f5-43c5-f288-6d1c39e664be"
      },
      "outputs": [
        {
          "output_type": "display_data",
          "data": {
            "image/png": "[encoded data removed]",
            "text/plain": [
              "<Figure size 432x144 with 3 Axes>"
            ]
          },
          "metadata": {}
        }
      ],
      "source": [
        "examples = create_batch(1)\n",
        "plot_triplets(examples)"
      ]
    },
    {
      "cell_type": "markdown",
      "metadata": {
        "id": "B0n-wEeb4Pgu"
      },
      "source": [
        "# Task 5: Embedding Model"
      ]
    },
    {
      "cell_type": "code",
      "execution_count": 8,
      "metadata": {
        "colab": {
          "base_uri": "https://localhost:8080/"
        },
        "id": "uWCkCklK4Pgv",
        "outputId": "81379c95-7937-4458-ae10-63876c8a3609"
      },
      "outputs": [
        {
          "output_type": "stream",
          "name": "stdout",
          "text": [
            "Model: \"sequential\"\n",
            "_________________________________________________________________\n",
            " Layer (type)                Output Shape              Param #   \n",
            "=================================================================\n",
            " dense (Dense)               (None, 64)                50240     \n",
            "                                                                 \n",
            " dense_1 (Dense)             (None, 64)                4160      \n",
            "                                                                 \n",
            "=================================================================\n",
            "Total params: 54,400\n",
            "Trainable params: 54,400\n",
            "Non-trainable params: 0\n",
            "_________________________________________________________________\n"
          ]
        }
      ],
      "source": [
        "emb_size = 64\n",
        "\n",
        "embedding_model = tf.keras.models.Sequential([\n",
        "    tf.keras.layers.Dense(64, activation='relu', input_shape=(784,)),\n",
        "    tf.keras.layers.Dense(emb_size, activation='sigmoid')\n",
        "])\n",
        "\n",
        "embedding_model.summary()"
      ]
    },
    {
      "cell_type": "code",
      "execution_count": 9,
      "metadata": {
        "colab": {
          "base_uri": "https://localhost:8080/"
        },
        "id": "brchJ9pC4Pgv",
        "outputId": "78bbc048-31ab-461c-8a0f-7569b71cc18d"
      },
      "outputs": [
        {
          "output_type": "stream",
          "name": "stdout",
          "text": [
            "[0.47341716 0.5283179  0.5247713  0.55909985 0.5422018  0.5059404\n",
            " 0.37505102 0.44004467 0.5731318  0.42975497 0.6331321  0.5462816\n",
            " 0.58260065 0.6540364  0.37438828 0.4345847  0.33845127 0.48423645\n",
            " 0.48243105 0.68892956 0.4766185  0.6501883  0.5238438  0.39066207\n",
            " 0.44086662 0.42400783 0.53705597 0.63611263 0.5264877  0.46232852\n",
            " 0.46329895 0.38087457 0.6523428  0.5305893  0.6622665  0.5327595\n",
            " 0.47485587 0.4000954  0.57460654 0.45681596 0.39682522 0.45584366\n",
            " 0.65964335 0.64966613 0.52275556 0.6258869  0.60928273 0.5209641\n",
            " 0.5132561  0.4896357  0.4808357  0.46268496 0.47222927 0.5647681\n",
            " 0.4105192  0.3430357  0.38588244 0.46617264 0.49534348 0.47900844\n",
            " 0.3639686  0.4510501  0.6033043  0.66019064]\n"
          ]
        }
      ],
      "source": [
        "example = np.expand_dims(x_train[0], axis=0)\n",
        "example_emb = embedding_model.predict(example)[0]\n",
        "\n",
        "print(example_emb)"
      ]
    },
    {
      "cell_type": "markdown",
      "metadata": {
        "id": "UJxRS9wy4Pgv"
      },
      "source": [
        "# Task 6: Siamese Network"
      ]
    },
    {
      "cell_type": "code",
      "execution_count": 10,
      "metadata": {
        "colab": {
          "base_uri": "https://localhost:8080/"
        },
        "id": "-Weuq48B4Pgv",
        "outputId": "99f6a6e1-94c8-4928-b5c5-1f1b1f40b89f"
      },
      "outputs": [
        {
          "output_type": "stream",
          "name": "stdout",
          "text": [
            "Model: \"model\"\n",
            "__________________________________________________________________________________________________\n",
            " Layer (type)                   Output Shape         Param #     Connected to                     \n",
            "==================================================================================================\n",
            " input_1 (InputLayer)           [(None, 784)]        0           []                               \n",
            "                                                                                                  \n",
            " input_2 (InputLayer)           [(None, 784)]        0           []                               \n",
            "                                                                                                  \n",
            " input_3 (InputLayer)           [(None, 784)]        0           []                               \n",
            "                                                                                                  \n",
            " sequential (Sequential)        (None, 64)           54400       ['input_1[0][0]',                \n",
            "                                                                  'input_2[0][0]',                \n",
            "                                                                  'input_3[0][0]']                \n",
            "                                                                                                  \n",
            " concatenate (Concatenate)      (None, 192)          0           ['sequential[0][0]',             \n",
            "                                                                  'sequential[1][0]',             \n",
            "                                                                  'sequential[2][0]']             \n",
            "                                                                                                  \n",
            "==================================================================================================\n",
            "Total params: 54,400\n",
            "Trainable params: 54,400\n",
            "Non-trainable params: 0\n",
            "__________________________________________________________________________________________________\n"
          ]
        }
      ],
      "source": [
        "input_anchor = tf.keras.layers.Input(shape=(784,))\n",
        "input_positive = tf.keras.layers.Input(shape=(784,))\n",
        "input_negative = tf.keras.layers.Input(shape=(784,))\n",
        "\n",
        "embedding_anchor = embedding_model(input_anchor)\n",
        "embedding_positive = embedding_model(input_positive)\n",
        "embedding_negative = embedding_model(input_negative)\n",
        "\n",
        "output = tf.keras.layers.concatenate([embedding_anchor, embedding_positive, embedding_negative], axis=1)\n",
        "\n",
        "net = tf.keras.models.Model([input_anchor, input_positive, input_negative], output)\n",
        "net.summary()"
      ]
    },
    {
      "cell_type": "markdown",
      "metadata": {
        "id": "wQcH5kfE4Pgw"
      },
      "source": [
        "# Task 7: Triplet Loss\n",
        "\n",
        "A loss function that tries to pull the Embeddings of Anchor and Positive Examples closer, and tries to push the Embeddings of Anchor and Negative Examples away from each other.\n",
        "\n",
        "Root mean square difference between Anchor and Positive examples in a batch of N images is:\n",
        "$\n",
        "\\begin{equation}\n",
        "d_p = \\sqrt{\\frac{\\sum_{i=0}^{N-1}(f(a_i) - f(p_i))^2}{N}}\n",
        "\\end{equation}\n",
        "$\n",
        "\n",
        "Root mean square difference between Anchor and Negative examples in a batch of N images is:\n",
        "$\n",
        "\\begin{equation}\n",
        "d_n = \\sqrt{\\frac{\\sum_{i=0}^{N-1}(f(a_i) - f(n_i))^2}{N}}\n",
        "\\end{equation}\n",
        "$\n",
        "\n",
        "For each example, we want:\n",
        "$\n",
        "\\begin{equation}\n",
        "d_p \\leq d_n\n",
        "\\end{equation}\n",
        "$\n",
        "\n",
        "Therefore,\n",
        "$\n",
        "\\begin{equation}\n",
        "d_p - d_n \\leq 0\n",
        "\\end{equation}\n",
        "$\n",
        "\n",
        "This condition is quite easily satisfied during the training.\n",
        "\n",
        "We will make it non-trivial by adding a margin (alpha):\n",
        "$\n",
        "\\begin{equation}\n",
        "d_p - d_n + \\alpha \\leq 0\n",
        "\\end{equation}\n",
        "$\n",
        "\n",
        "Given the condition above, the Triplet Loss L is defined as:\n",
        "$\n",
        "\\begin{equation}\n",
        "L = max(d_p - d_n + \\alpha, 0)\n",
        "\\end{equation}\n",
        "$"
      ]
    },
    {
      "cell_type": "code",
      "execution_count": 11,
      "metadata": {
        "id": "493as45t4Pgw"
      },
      "outputs": [],
      "source": [
        "alpha = 0.2\n",
        "\n",
        "def triplet_loss(y_true, y_pred):\n",
        "    anchor, positive, negative = y_pred[:,:emb_size], y_pred[:,emb_size:2*emb_size], y_pred[:,2*emb_size:]\n",
        "    positive_dist = tf.reduce_mean(tf.square(anchor - positive), axis=1)\n",
        "    negative_dist = tf.reduce_mean(tf.square(anchor - negative), axis=1)\n",
        "    return tf.maximum(positive_dist - negative_dist + alpha, 0.)"
      ]
    },
    {
      "cell_type": "markdown",
      "metadata": {
        "id": "EFTVtwRh4Pgw"
      },
      "source": [
        "# Task 8: Data Generator"
      ]
    },
    {
      "cell_type": "code",
      "execution_count": 12,
      "metadata": {
        "id": "7VpDMIxV4Pgw"
      },
      "outputs": [],
      "source": [
        "def data_generator(batch_size=256):\n",
        "    while True:\n",
        "        x = create_batch(batch_size)\n",
        "        y = np.zeros((batch_size, 3*emb_size))\n",
        "        yield x, y"
      ]
    },
    {
      "cell_type": "markdown",
      "metadata": {
        "id": "JFsDMZ5J4Pgx"
      },
      "source": [
        "# Task 9: Model Training"
      ]
    },
    {
      "cell_type": "code",
      "execution_count": 13,
      "metadata": {
        "colab": {
          "base_uri": "https://localhost:8080/",
          "height": 279
        },
        "id": "bvvMy3cU4Pgx",
        "outputId": "e57012d7-7a5b-4b23-e6e0-304deeb0dc4d"
      },
      "outputs": [
        {
          "output_type": "display_data",
          "data": {
            "image/png": "[encoded data removed]",
            "text/plain": [
              "<Figure size 648x288 with 2 Axes>"
            ]
          },
          "metadata": {
            "needs_background": "light"
          }
        }
      ],
      "source": [
        "batch_size = 2048\n",
        "epochs = 10\n",
        "steps_per_epoch = int(x_train.shape[0]/batch_size)\n",
        "\n",
        "net.compile(loss=triplet_loss, optimizer='adam')\n",
        "\n",
        "_ = net.fit(\n",
        "    data_generator(batch_size),\n",
        "    steps_per_epoch=steps_per_epoch,\n",
        "    epochs=epochs, verbose=False,\n",
        "    callbacks=[\n",
        "        PCAPlotter(\n",
        "            plt, embedding_model,\n",
        "            x_test[:1000], y_test[:1000]\n",
        "        )]\n",
        ")"
      ]
    }
  ],
  "metadata": {
    "kernelspec": {
      "display_name": "Python 3",
      "language": "python",
      "name": "python3"
    },
    "language_info": {
      "codemirror_mode": {
        "name": "ipython",
        "version": 3
      },
      "file_extension": ".py",
      "mimetype": "text/x-python",
      "name": "python",
      "nbconvert_exporter": "python",
      "pygments_lexer": "ipython3",
      "version": "3.8.8"
    },
    "colab": {
      "name": "Siamese Network with Triplet Loss in Keras - Complete.ipynb",
      "provenance": []
    }
  },
  "nbformat": 4,
  "nbformat_minor": 0
}