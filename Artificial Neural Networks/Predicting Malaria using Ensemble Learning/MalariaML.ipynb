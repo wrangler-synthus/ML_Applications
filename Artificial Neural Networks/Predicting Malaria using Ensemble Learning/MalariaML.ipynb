{
 "cells": [
  {
   "cell_type": "markdown",
   "metadata": {},
   "source": [
    "# Malaria parasite detection using ensemble learning in Keras"
   ]
  },
  {
   "cell_type": "markdown",
   "metadata": {},
   "source": [
    "## Task 1: Loading the cell image data"
   ]
  },
  {
   "cell_type": "markdown",
   "metadata": {},
   "source": [
    "Ensemble learning combines the predictions of multiple models to improve the prediction accuracy.\n",
    "\n",
    "There are several ways to perform ensemble learning, and a reasonable summary is available on https://en.wikipedia.org/wiki/Ensemble_learning. Simply speaking, there are two major classes of ensemble learning:\n",
    "- Bagging: fit independent models and then average their predictions\n",
    "- Boosting: fit several models sequencially and then average their predictions\n",
    "\n",
    "In this project we will be using a simplified form of the bagging approach:\n",
    "\n",
    "- fit a collection of independent models\n",
    "- gather prediction from each\n",
    "- apply a voting procedure\n",
    "\n",
    "Given the predictions from several models, there are two voting procedures\n",
    "- Hard voting: get the most common class predicted\n",
    "- Soft voting: get the argmax of the sum of predicted probabilities. It can be either weighted or unweighted.\n",
    "  - Weighted: each predicted probability is multiplied by a preset weight\n",
    "  - Unweighted: we don't multiply the predicted probabilities, we just add them straight away\n",
    "\n",
    "In the interest of time, we will focus on hard voting.\n",
    "\n",
    "First we import the required libraries: tensorflow, keras, sklearn, cv2, matplotlib, statistics and a few other utilities.\n",
    "\n",
    "Dataset: https://www.tensorflow.org/datasets/catalog/malaria"
   ]
  },
  {
   "cell_type": "code",
   "execution_count": 1,
   "metadata": {},
   "outputs": [
    {
     "name": "stdout",
     "output_type": "stream",
     "text": [
      "Defaulting to user installation because normal site-packages is not writeable\n",
      "Requirement already satisfied: keras in /home/rhyme/.local/lib/python3.6/site-packages (2.4.3)\n",
      "Requirement already satisfied: tensorflow in /home/rhyme/.local/lib/python3.6/site-packages (2.3.1)\n",
      "Requirement already satisfied: sklearn in /home/rhyme/.local/lib/python3.6/site-packages (0.0)\n",
      "Requirement already satisfied: matplotlib in /home/rhyme/.local/lib/python3.6/site-packages (3.3.3)\n",
      "Requirement already satisfied: opencv-python in /home/rhyme/.local/lib/python3.6/site-packages (4.4.0.46)\n",
      "Requirement already satisfied: pandas in /home/rhyme/.local/lib/python3.6/site-packages (1.1.4)\n",
      "Requirement already satisfied: scipy>=0.14 in /home/rhyme/.local/lib/python3.6/site-packages (from keras) (1.5.4)\n",
      "Requirement already satisfied: pyyaml in /usr/lib/python3/dist-packages (from keras) (3.12)\n",
      "Requirement already satisfied: h5py in /home/rhyme/.local/lib/python3.6/site-packages (from keras) (2.10.0)\n",
      "Requirement already satisfied: numpy>=1.9.1 in /home/rhyme/.local/lib/python3.6/site-packages (from keras) (1.18.5)\n",
      "Requirement already satisfied: cycler>=0.10 in /home/rhyme/.local/lib/python3.6/site-packages (from matplotlib) (0.10.0)\n",
      "Requirement already satisfied: numpy>=1.9.1 in /home/rhyme/.local/lib/python3.6/site-packages (from keras) (1.18.5)\n",
      "Requirement already satisfied: kiwisolver>=1.0.1 in /home/rhyme/.local/lib/python3.6/site-packages (from matplotlib) (1.3.1)\n",
      "Requirement already satisfied: pyparsing!=2.0.4,!=2.1.2,!=2.1.6,>=2.0.3 in /home/rhyme/.local/lib/python3.6/site-packages (from matplotlib) (2.4.7)\n",
      "Requirement already satisfied: python-dateutil>=2.1 in /home/rhyme/.local/lib/python3.6/site-packages (from matplotlib) (2.8.1)\n",
      "Requirement already satisfied: pillow>=6.2.0 in /home/rhyme/.local/lib/python3.6/site-packages (from matplotlib) (8.0.1)\n",
      "Requirement already satisfied: numpy>=1.9.1 in /home/rhyme/.local/lib/python3.6/site-packages (from keras) (1.18.5)\n",
      "Requirement already satisfied: pytz>=2017.2 in /home/rhyme/.local/lib/python3.6/site-packages (from pandas) (2020.4)\n",
      "Requirement already satisfied: numpy>=1.9.1 in /home/rhyme/.local/lib/python3.6/site-packages (from keras) (1.18.5)\n",
      "Requirement already satisfied: python-dateutil>=2.1 in /home/rhyme/.local/lib/python3.6/site-packages (from matplotlib) (2.8.1)\n",
      "Requirement already satisfied: scikit-learn in /home/rhyme/.local/lib/python3.6/site-packages (from sklearn) (0.23.2)\n",
      "Requirement already satisfied: absl-py>=0.7.0 in /home/rhyme/.local/lib/python3.6/site-packages (from tensorflow) (0.11.0)\n",
      "Requirement already satisfied: h5py in /home/rhyme/.local/lib/python3.6/site-packages (from keras) (2.10.0)\n",
      "Requirement already satisfied: tensorboard<3,>=2.3.0 in /home/rhyme/.local/lib/python3.6/site-packages (from tensorflow) (2.4.0)\n",
      "Requirement already satisfied: astunparse==1.6.3 in /home/rhyme/.local/lib/python3.6/site-packages (from tensorflow) (1.6.3)\n",
      "Requirement already satisfied: protobuf>=3.9.2 in /home/rhyme/.local/lib/python3.6/site-packages (from tensorflow) (3.14.0)\n",
      "Requirement already satisfied: wrapt>=1.11.1 in /home/rhyme/.local/lib/python3.6/site-packages (from tensorflow) (1.12.1)\n",
      "Requirement already satisfied: termcolor>=1.1.0 in /home/rhyme/.local/lib/python3.6/site-packages (from tensorflow) (1.1.0)\n",
      "Requirement already satisfied: gast==0.3.3 in /home/rhyme/.local/lib/python3.6/site-packages (from tensorflow) (0.3.3)\n",
      "Requirement already satisfied: keras-preprocessing<1.2,>=1.1.1 in /home/rhyme/.local/lib/python3.6/site-packages (from tensorflow) (1.1.2)\n",
      "Requirement already satisfied: wheel>=0.26 in /usr/lib/python3/dist-packages (from tensorflow) (0.30.0)\n",
      "Requirement already satisfied: numpy>=1.9.1 in /home/rhyme/.local/lib/python3.6/site-packages (from keras) (1.18.5)\n",
      "Requirement already satisfied: six>=1.12.0 in /home/rhyme/.local/lib/python3.6/site-packages (from tensorflow) (1.15.0)\n",
      "Requirement already satisfied: grpcio>=1.8.6 in /home/rhyme/.local/lib/python3.6/site-packages (from tensorflow) (1.34.0)\n",
      "Requirement already satisfied: google-pasta>=0.1.8 in /home/rhyme/.local/lib/python3.6/site-packages (from tensorflow) (0.2.0)\n",
      "Requirement already satisfied: opt-einsum>=2.3.2 in /home/rhyme/.local/lib/python3.6/site-packages (from tensorflow) (3.3.0)\n",
      "Requirement already satisfied: tensorflow-estimator<2.4.0,>=2.3.0 in /home/rhyme/.local/lib/python3.6/site-packages (from tensorflow) (2.3.0)\n",
      "Requirement already satisfied: six>=1.12.0 in /home/rhyme/.local/lib/python3.6/site-packages (from tensorflow) (1.15.0)\n",
      "Requirement already satisfied: six>=1.12.0 in /home/rhyme/.local/lib/python3.6/site-packages (from tensorflow) (1.15.0)\n",
      "Requirement already satisfied: wheel>=0.26 in /usr/lib/python3/dist-packages (from tensorflow) (0.30.0)\n",
      "Requirement already satisfied: six>=1.12.0 in /home/rhyme/.local/lib/python3.6/site-packages (from tensorflow) (1.15.0)\n",
      "Requirement already satisfied: six>=1.12.0 in /home/rhyme/.local/lib/python3.6/site-packages (from tensorflow) (1.15.0)\n",
      "Requirement already satisfied: six>=1.12.0 in /home/rhyme/.local/lib/python3.6/site-packages (from tensorflow) (1.15.0)\n",
      "Requirement already satisfied: numpy>=1.9.1 in /home/rhyme/.local/lib/python3.6/site-packages (from keras) (1.18.5)\n",
      "Requirement already satisfied: six>=1.12.0 in /home/rhyme/.local/lib/python3.6/site-packages (from tensorflow) (1.15.0)\n",
      "Requirement already satisfied: six>=1.12.0 in /home/rhyme/.local/lib/python3.6/site-packages (from tensorflow) (1.15.0)\n",
      "Requirement already satisfied: numpy>=1.9.1 in /home/rhyme/.local/lib/python3.6/site-packages (from keras) (1.18.5)\n",
      "Requirement already satisfied: numpy>=1.9.1 in /home/rhyme/.local/lib/python3.6/site-packages (from keras) (1.18.5)\n",
      "Requirement already satisfied: six>=1.12.0 in /home/rhyme/.local/lib/python3.6/site-packages (from tensorflow) (1.15.0)\n",
      "Requirement already satisfied: six>=1.12.0 in /home/rhyme/.local/lib/python3.6/site-packages (from tensorflow) (1.15.0)\n",
      "Requirement already satisfied: threadpoolctl>=2.0.0 in /home/rhyme/.local/lib/python3.6/site-packages (from scikit-learn->sklearn) (2.1.0)\n",
      "Requirement already satisfied: joblib>=0.11 in /home/rhyme/.local/lib/python3.6/site-packages (from scikit-learn->sklearn) (0.17.0)\n",
      "Requirement already satisfied: scipy>=0.14 in /home/rhyme/.local/lib/python3.6/site-packages (from keras) (1.5.4)\n",
      "Requirement already satisfied: numpy>=1.9.1 in /home/rhyme/.local/lib/python3.6/site-packages (from keras) (1.18.5)\n",
      "Requirement already satisfied: numpy>=1.9.1 in /home/rhyme/.local/lib/python3.6/site-packages (from keras) (1.18.5)\n",
      "Requirement already satisfied: numpy>=1.9.1 in /home/rhyme/.local/lib/python3.6/site-packages (from keras) (1.18.5)\n",
      "Requirement already satisfied: requests<3,>=2.21.0 in /home/rhyme/.local/lib/python3.6/site-packages (from tensorboard<3,>=2.3.0->tensorflow) (2.25.0)\n",
      "Requirement already satisfied: grpcio>=1.8.6 in /home/rhyme/.local/lib/python3.6/site-packages (from tensorflow) (1.34.0)\n",
      "Requirement already satisfied: setuptools>=41.0.0 in /home/rhyme/.local/lib/python3.6/site-packages (from tensorboard<3,>=2.3.0->tensorflow) (50.3.2)\n",
      "Requirement already satisfied: absl-py>=0.7.0 in /home/rhyme/.local/lib/python3.6/site-packages (from tensorflow) (0.11.0)\n",
      "Requirement already satisfied: protobuf>=3.9.2 in /home/rhyme/.local/lib/python3.6/site-packages (from tensorflow) (3.14.0)\n",
      "Requirement already satisfied: google-auth-oauthlib<0.5,>=0.4.1 in /home/rhyme/.local/lib/python3.6/site-packages (from tensorboard<3,>=2.3.0->tensorflow) (0.4.2)\n",
      "Requirement already satisfied: six>=1.12.0 in /home/rhyme/.local/lib/python3.6/site-packages (from tensorflow) (1.15.0)\n",
      "Requirement already satisfied: tensorboard-plugin-wit>=1.6.0 in /home/rhyme/.local/lib/python3.6/site-packages (from tensorboard<3,>=2.3.0->tensorflow) (1.7.0)\n",
      "Requirement already satisfied: markdown>=2.6.8 in /home/rhyme/.local/lib/python3.6/site-packages (from tensorboard<3,>=2.3.0->tensorflow) (3.3.3)\n",
      "Requirement already satisfied: werkzeug>=0.11.15 in /home/rhyme/.local/lib/python3.6/site-packages (from tensorboard<3,>=2.3.0->tensorflow) (1.0.1)\n",
      "Requirement already satisfied: wheel>=0.26 in /usr/lib/python3/dist-packages (from tensorflow) (0.30.0)\n",
      "Requirement already satisfied: google-auth<2,>=1.6.3 in /home/rhyme/.local/lib/python3.6/site-packages (from tensorboard<3,>=2.3.0->tensorflow) (1.23.0)\n"
     ]
    },
    {
     "name": "stdout",
     "output_type": "stream",
     "text": [
      "Requirement already satisfied: setuptools>=41.0.0 in /home/rhyme/.local/lib/python3.6/site-packages (from tensorboard<3,>=2.3.0->tensorflow) (50.3.2)\n",
      "Requirement already satisfied: pyasn1-modules>=0.2.1 in /usr/lib/python3/dist-packages (from google-auth<2,>=1.6.3->tensorboard<3,>=2.3.0->tensorflow) (0.2.1)\n",
      "Requirement already satisfied: rsa<5,>=3.1.4 in /home/rhyme/.local/lib/python3.6/site-packages (from google-auth<2,>=1.6.3->tensorboard<3,>=2.3.0->tensorflow) (4.6)\n",
      "Requirement already satisfied: cachetools<5.0,>=2.0.0 in /home/rhyme/.local/lib/python3.6/site-packages (from google-auth<2,>=1.6.3->tensorboard<3,>=2.3.0->tensorflow) (4.1.1)\n",
      "Requirement already satisfied: six>=1.12.0 in /home/rhyme/.local/lib/python3.6/site-packages (from tensorflow) (1.15.0)\n",
      "Requirement already satisfied: google-auth<2,>=1.6.3 in /home/rhyme/.local/lib/python3.6/site-packages (from tensorboard<3,>=2.3.0->tensorflow) (1.23.0)\n",
      "Requirement already satisfied: requests-oauthlib>=0.7.0 in /home/rhyme/.local/lib/python3.6/site-packages (from google-auth-oauthlib<0.5,>=0.4.1->tensorboard<3,>=2.3.0->tensorflow) (1.3.0)\n",
      "Requirement already satisfied: importlib-metadata in /home/rhyme/.local/lib/python3.6/site-packages (from markdown>=2.6.8->tensorboard<3,>=2.3.0->tensorflow) (3.1.1)\n",
      "Requirement already satisfied: zipp>=0.5 in /home/rhyme/.local/lib/python3.6/site-packages (from importlib-metadata->markdown>=2.6.8->tensorboard<3,>=2.3.0->tensorflow) (3.4.0)\n",
      "Requirement already satisfied: urllib3<1.27,>=1.21.1 in /usr/lib/python3/dist-packages (from requests<3,>=2.21.0->tensorboard<3,>=2.3.0->tensorflow) (1.22)\n",
      "Requirement already satisfied: certifi>=2017.4.17 in /usr/lib/python3/dist-packages (from requests<3,>=2.21.0->tensorboard<3,>=2.3.0->tensorflow) (2018.1.18)\n",
      "Requirement already satisfied: idna<3,>=2.5 in /usr/lib/python3/dist-packages (from requests<3,>=2.21.0->tensorboard<3,>=2.3.0->tensorflow) (2.6)\n",
      "Requirement already satisfied: chardet<4,>=3.0.2 in /usr/lib/python3/dist-packages (from requests<3,>=2.21.0->tensorboard<3,>=2.3.0->tensorflow) (3.0.4)\n",
      "Requirement already satisfied: requests<3,>=2.21.0 in /home/rhyme/.local/lib/python3.6/site-packages (from tensorboard<3,>=2.3.0->tensorflow) (2.25.0)\n",
      "Requirement already satisfied: oauthlib>=3.0.0 in /home/rhyme/.local/lib/python3.6/site-packages (from requests-oauthlib>=0.7.0->google-auth-oauthlib<0.5,>=0.4.1->tensorboard<3,>=2.3.0->tensorflow) (3.1.0)\n",
      "Requirement already satisfied: pyasn1>=0.1.3 in /usr/lib/python3/dist-packages (from rsa<5,>=3.1.4->google-auth<2,>=1.6.3->tensorboard<3,>=2.3.0->tensorflow) (0.4.2)\n",
      "\u001b[33mWARNING: You are using pip version 20.3.1; however, version 21.0.1 is available.\n",
      "You should consider upgrading via the '/usr/bin/python3 -m pip install --upgrade pip' command.\u001b[0m\n"
     ]
    }
   ],
   "source": [
    "!pip3 install keras tensorflow sklearn matplotlib opencv-python pandas\n",
    "\n",
    "import statistics\n",
    "import os\n",
    "import glob\n",
    "import numpy as np\n",
    "import pandas as pd\n",
    "from concurrent import futures\n",
    "import threading\n",
    "\n",
    "import tensorflow as tf\n",
    "from keras.optimizers import SGD, Adam\n",
    "from keras.layers import Conv2D, Activation, Dense, MaxPooling2D, Flatten, Dropout\n",
    "from keras.models import Sequential\n",
    "\n",
    "\n",
    "from sklearn.preprocessing import LabelEncoder\n",
    "from sklearn.model_selection import train_test_split\n",
    "from sklearn.metrics import f1_score, confusion_matrix, accuracy_score, precision_score, recall_score, classification_report\n",
    "\n",
    "import cv2\n",
    "import matplotlib.pyplot as plt"
   ]
  },
  {
   "cell_type": "markdown",
   "metadata": {},
   "source": [
    "Next, we load the data. \n",
    "- File names are obtained using the glob module.\n",
    "- Create a data frame object for infected and healthy cell images\n",
    "- Randomize the order of data\n",
    "- Pick the first 2000 images\n",
    "- Check how many of each class are there in the sample; we should be close to 50/50"
   ]
  },
  {
   "cell_type": "code",
   "execution_count": 2,
   "metadata": {},
   "outputs": [
    {
     "data": {
      "text/plain": [
       "1    1030\n",
       "0     970\n",
       "Name: malaria, dtype: int64"
      ]
     },
     "execution_count": 2,
     "metadata": {},
     "output_type": "execute_result"
    }
   ],
   "source": [
    "infected = 'cell_images/Parasitized'\n",
    "healthy = 'cell_images/Uninfected'\n",
    "infected_files = glob.glob(infected + '/*.png')\n",
    "healthy_files = glob.glob(healthy + '/*.png')\n",
    "files_df = pd.DataFrame({'img': infected_files + healthy_files,\n",
    "                        'malaria':[1]*len(infected_files) + [0]*len(healthy_files)})\n",
    "files_df = files_df.sample(frac = 1, random_state = 42).reset_index(drop = True)\n",
    "files_df = files_df.iloc[:2000, :]\n",
    "files_df['malaria'].value_counts()"
   ]
  },
  {
   "cell_type": "code",
   "execution_count": 3,
   "metadata": {},
   "outputs": [
    {
     "data": {
      "text/html": [
       "<div>\n",
       "<style scoped>\n",
       "    .dataframe tbody tr th:only-of-type {\n",
       "        vertical-align: middle;\n",
       "    }\n",
       "\n",
       "    .dataframe tbody tr th {\n",
       "        vertical-align: top;\n",
       "    }\n",
       "\n",
       "    .dataframe thead th {\n",
       "        text-align: right;\n",
       "    }\n",
       "</style>\n",
       "<table border=\"1\" class=\"dataframe\">\n",
       "  <thead>\n",
       "    <tr style=\"text-align: right;\">\n",
       "      <th></th>\n",
       "      <th>img</th>\n",
       "      <th>malaria</th>\n",
       "    </tr>\n",
       "  </thead>\n",
       "  <tbody>\n",
       "    <tr>\n",
       "      <th>0</th>\n",
       "      <td>cell_images/Parasitized/C81P42ThinF_IMG_201508...</td>\n",
       "      <td>1</td>\n",
       "    </tr>\n",
       "    <tr>\n",
       "      <th>1</th>\n",
       "      <td>cell_images/Parasitized/C182P143NThinF_IMG_201...</td>\n",
       "      <td>1</td>\n",
       "    </tr>\n",
       "    <tr>\n",
       "      <th>2</th>\n",
       "      <td>cell_images/Uninfected/C86P47ThinF_IMG_2015082...</td>\n",
       "      <td>0</td>\n",
       "    </tr>\n",
       "    <tr>\n",
       "      <th>3</th>\n",
       "      <td>cell_images/Uninfected/C232ThinF_IMG_20151112_...</td>\n",
       "      <td>0</td>\n",
       "    </tr>\n",
       "    <tr>\n",
       "      <th>4</th>\n",
       "      <td>cell_images/Uninfected/C132P93ThinF_IMG_201510...</td>\n",
       "      <td>0</td>\n",
       "    </tr>\n",
       "  </tbody>\n",
       "</table>\n",
       "</div>"
      ],
      "text/plain": [
       "                                                 img  malaria\n",
       "0  cell_images/Parasitized/C81P42ThinF_IMG_201508...        1\n",
       "1  cell_images/Parasitized/C182P143NThinF_IMG_201...        1\n",
       "2  cell_images/Uninfected/C86P47ThinF_IMG_2015082...        0\n",
       "3  cell_images/Uninfected/C232ThinF_IMG_20151112_...        0\n",
       "4  cell_images/Uninfected/C132P93ThinF_IMG_201510...        0"
      ]
     },
     "execution_count": 3,
     "metadata": {},
     "output_type": "execute_result"
    }
   ],
   "source": [
    "files_df.head()"
   ]
  },
  {
   "cell_type": "markdown",
   "metadata": {},
   "source": [
    "## Task 2: Transform the image files into arrays and create the datasets"
   ]
  },
  {
   "cell_type": "markdown",
   "metadata": {},
   "source": [
    "The image files, as they are, are binary. We need to turn them into numbers so we can pass them into the machine learning pipeline.\n",
    "\n",
    "To do so, we will use the cv2 library to read and resize the images. These operations will be performed by the `get_data()` function.\n",
    "\n",
    "Next, we place the input arrays into `X` and target values into `y`. We have to normalize the image data by dividing all `X` values by 255, so numbers would range from 0 to 1.\n",
    "\n",
    "Now that our `X` and `y` are ready, we split the dataset into 80:20 train:test split.\n",
    "\n",
    "Finally, let's see how the image will look like: use the `imshow()` function in matplotlib, which plots images from 3-d arrays."
   ]
  },
  {
   "cell_type": "code",
   "execution_count": 4,
   "metadata": {},
   "outputs": [
    {
     "data": {
      "image/png": "[encoded data removed]",
      "text/plain": [
       "<Figure size 576x576 with 1 Axes>"
      ]
     },
     "metadata": {},
     "output_type": "display_data"
    }
   ],
   "source": [
    "img_length, img_width = 50, 50\n",
    "\n",
    "def get_data(data_files):\n",
    "    data = []\n",
    "    for img in data_files:\n",
    "        #print(img)\n",
    "        img = cv2.imread(img)\n",
    "        img = cv2.resize(img, dsize = (img_length, img_width), interpolation = cv2.INTER_CUBIC)\n",
    "        img = np.array(img)\n",
    "        data += [img]\n",
    "    return np.array(data)\n",
    "\n",
    "X, y  = files_df['img'].values, files_df['malaria'].values\n",
    "X_converted = get_data(X)/ 255.0\n",
    "\n",
    "train_data, val_data, train_labels, val_labels = train_test_split(X_converted, y,\n",
    "                                                                 test_size = 0.2, \n",
    "                                                                 random_state = 42)\n",
    "\n",
    "plt.figure(figsize = (8, 8))\n",
    "plt.imshow(train_data[0])\n",
    "plt.title(f'{train_labels[0]}')\n",
    "plt.xticks([])\n",
    "plt.yticks([])\n",
    "plt.savefig('sample')"
   ]
  },
  {
   "cell_type": "markdown",
   "metadata": {},
   "source": [
    "## Task 3: Create a deep CNN"
   ]
  },
  {
   "cell_type": "markdown",
   "metadata": {},
   "source": [
    "Time to start doing deep learning to predict the presence or absence of malaria in cell images.\n",
    "\n",
    "We will be experimenting with a deep convolutional neural network which has the following architecture:\n",
    "\n",
    "- two 32 convolutional layers, each followed by max pooling\n",
    "- 64 convolutional layer, followed by max pooling\n",
    "- layer flattening\n",
    "- a dense hidden layer with 64 nodes\n",
    "- dropping 50% of the prev hidden layer\n",
    "- output layer with 1 node\n",
    "\n",
    "The Adam optimizer will be used with a learning rate of 0.001."
   ]
  },
  {
   "cell_type": "code",
   "execution_count": 6,
   "metadata": {},
   "outputs": [
    {
     "name": "stdout",
     "output_type": "stream",
     "text": [
      "Model: \"sequential\"\n",
      "_________________________________________________________________\n",
      "Layer (type)                 Output Shape              Param #   \n",
      "=================================================================\n",
      "conv2d_3 (Conv2D)            (None, 48, 48, 32)        896       \n",
      "_________________________________________________________________\n",
      "max_pooling2d_3 (MaxPooling2 (None, 24, 24, 32)        0         \n",
      "_________________________________________________________________\n",
      "conv2d_4 (Conv2D)            (None, 22, 22, 32)        9248      \n",
      "_________________________________________________________________\n",
      "max_pooling2d_4 (MaxPooling2 (None, 11, 11, 32)        0         \n",
      "_________________________________________________________________\n",
      "conv2d_5 (Conv2D)            (None, 9, 9, 64)          18496     \n",
      "_________________________________________________________________\n",
      "max_pooling2d_5 (MaxPooling2 (None, 4, 4, 64)          0         \n",
      "_________________________________________________________________\n",
      "flatten_1 (Flatten)          (None, 1024)              0         \n",
      "_________________________________________________________________\n",
      "dense_2 (Dense)              (None, 64)                65600     \n",
      "_________________________________________________________________\n",
      "dropout_1 (Dropout)          (None, 64)                0         \n",
      "_________________________________________________________________\n",
      "dense_3 (Dense)              (None, 1)                 65        \n",
      "=================================================================\n",
      "Total params: 94,305\n",
      "Trainable params: 94,305\n",
      "Non-trainable params: 0\n",
      "_________________________________________________________________\n"
     ]
    }
   ],
   "source": [
    "model = Sequential([\n",
    "    Conv2D(32, 3, activation = 'relu', input_shape = (img_length, img_width, 3)),\n",
    "    MaxPooling2D(2),\n",
    "    Conv2D(32, 3, activation = 'relu'),\n",
    "    MaxPooling2D(2),\n",
    "    Conv2D(64, 3, activation = 'relu'),\n",
    "    MaxPooling2D(2),\n",
    "    Flatten(),\n",
    "    Dense(64, activation = 'relu'),\n",
    "    Dropout(0.5),\n",
    "    Dense(1, activation  = 'sigmoid')\n",
    "])\n",
    "adam = Adam(lr = 0.001)\n",
    "model.compile(optimizer = adam, loss = 'binary_crossentropy', metrics = ['accuracy'])\n",
    "model.summary()"
   ]
  },
  {
   "cell_type": "markdown",
   "metadata": {},
   "source": [
    "## Task 4: Train and test the CNN"
   ]
  },
  {
   "cell_type": "markdown",
   "metadata": {},
   "source": [
    "Next, we call the fit method to optimize the model in 25 epochs, then perform prediction using the predict_classes method.\n",
    "\n",
    "We measure our prediction accuracy using the classification_report function, which gives us the key classification metrics. I will also display those metrics individually so you can know their formulas.\n",
    "\n",
    "- Precision: ability of the classifier not to label as positive a sample that is negative.\n",
    "- Recall: the ability of the classifier to find all the positive samples\n",
    "- f1: weighted average of the precision and recall\n",
    "\n",
    "In additioin:\n",
    "- Accuracy: measures how close the predicions are to the actual values\n",
    "\n",
    "Using the history object, we plot the validation accuracy and loss across the epochs to see how our models coverged."
   ]
  },
  {
   "cell_type": "code",
   "execution_count": 7,
   "metadata": {
    "collapsed": true
   },
   "outputs": [
    {
     "name": "stdout",
     "output_type": "stream",
     "text": [
      "Epoch 1/25\n",
      "25/25 - 4s - loss: 0.6904 - accuracy: 0.5300 - val_loss: 0.6808 - val_accuracy: 0.6250\n",
      "Epoch 2/25\n",
      "25/25 - 4s - loss: 0.6597 - accuracy: 0.6094 - val_loss: 0.6676 - val_accuracy: 0.5850\n",
      "Epoch 3/25\n",
      "25/25 - 3s - loss: 0.6111 - accuracy: 0.6906 - val_loss: 0.7025 - val_accuracy: 0.6175\n",
      "Epoch 4/25\n",
      "25/25 - 3s - loss: 0.6004 - accuracy: 0.6913 - val_loss: 0.5941 - val_accuracy: 0.7050\n",
      "Epoch 5/25\n",
      "25/25 - 3s - loss: 0.5550 - accuracy: 0.7475 - val_loss: 0.5501 - val_accuracy: 0.7450\n",
      "Epoch 6/25\n",
      "25/25 - 4s - loss: 0.5066 - accuracy: 0.7638 - val_loss: 0.5485 - val_accuracy: 0.7025\n",
      "Epoch 7/25\n",
      "25/25 - 6s - loss: 0.4373 - accuracy: 0.8006 - val_loss: 0.4518 - val_accuracy: 0.7800\n",
      "Epoch 8/25\n",
      "25/25 - 6s - loss: 0.3562 - accuracy: 0.8381 - val_loss: 0.3684 - val_accuracy: 0.8450\n",
      "Epoch 9/25\n",
      "25/25 - 3s - loss: 0.2977 - accuracy: 0.8800 - val_loss: 0.3758 - val_accuracy: 0.8350\n",
      "Epoch 10/25\n",
      "25/25 - 4s - loss: 0.2657 - accuracy: 0.8913 - val_loss: 0.3039 - val_accuracy: 0.8700\n",
      "Epoch 11/25\n",
      "25/25 - 3s - loss: 0.2292 - accuracy: 0.9112 - val_loss: 0.2882 - val_accuracy: 0.9025\n",
      "Epoch 12/25\n",
      "25/25 - 3s - loss: 0.2066 - accuracy: 0.9237 - val_loss: 0.2635 - val_accuracy: 0.9125\n",
      "Epoch 13/25\n",
      "25/25 - 3s - loss: 0.1945 - accuracy: 0.9281 - val_loss: 0.2810 - val_accuracy: 0.8900\n",
      "Epoch 14/25\n",
      "25/25 - 3s - loss: 0.2109 - accuracy: 0.9262 - val_loss: 0.2685 - val_accuracy: 0.9000\n",
      "Epoch 15/25\n",
      "25/25 - 3s - loss: 0.1786 - accuracy: 0.9344 - val_loss: 0.2637 - val_accuracy: 0.9000\n",
      "Epoch 16/25\n",
      "25/25 - 3s - loss: 0.1476 - accuracy: 0.9500 - val_loss: 0.2456 - val_accuracy: 0.9250\n",
      "Epoch 17/25\n",
      "25/25 - 4s - loss: 0.1544 - accuracy: 0.9413 - val_loss: 0.3031 - val_accuracy: 0.8975\n",
      "Epoch 18/25\n",
      "25/25 - 4s - loss: 0.1463 - accuracy: 0.9500 - val_loss: 0.2336 - val_accuracy: 0.9250\n",
      "Epoch 19/25\n",
      "25/25 - 4s - loss: 0.1138 - accuracy: 0.9613 - val_loss: 0.2971 - val_accuracy: 0.9025\n",
      "Epoch 20/25\n",
      "25/25 - 3s - loss: 0.1123 - accuracy: 0.9594 - val_loss: 0.2614 - val_accuracy: 0.9175\n",
      "Epoch 21/25\n",
      "25/25 - 4s - loss: 0.0939 - accuracy: 0.9650 - val_loss: 0.2466 - val_accuracy: 0.9125\n",
      "Epoch 22/25\n",
      "25/25 - 3s - loss: 0.0832 - accuracy: 0.9750 - val_loss: 0.3176 - val_accuracy: 0.9125\n",
      "Epoch 23/25\n",
      "25/25 - 3s - loss: 0.0767 - accuracy: 0.9762 - val_loss: 0.2499 - val_accuracy: 0.9250\n",
      "Epoch 24/25\n",
      "25/25 - 3s - loss: 0.0732 - accuracy: 0.9725 - val_loss: 0.2511 - val_accuracy: 0.9175\n",
      "Epoch 25/25\n",
      "25/25 - 3s - loss: 0.0573 - accuracy: 0.9837 - val_loss: 0.2743 - val_accuracy: 0.9275\n",
      "WARNING:tensorflow:From <ipython-input-7-fd0ede30932f>:4: Sequential.predict_classes (from tensorflow.python.keras.engine.sequential) is deprecated and will be removed after 2021-01-01.\n",
      "Instructions for updating:\n",
      "Please use instead:* `np.argmax(model.predict(x), axis=-1)`,   if your model does multi-class classification   (e.g. if it uses a `softmax` last-layer activation).* `(model.predict(x) > 0.5).astype(\"int32\")`,   if your model does binary classification   (e.g. if it uses a `sigmoid` last-layer activation).\n",
      "accuracy =  0.9275\n",
      "precision =  0.9282296650717703\n",
      "recall =  0.9326923076923077\n",
      "F1 =  0.9304556354916067\n",
      "              precision    recall  f1-score   support\n",
      "\n",
      "           0       0.93      0.92      0.92       192\n",
      "           1       0.93      0.93      0.93       208\n",
      "\n",
      "    accuracy                           0.93       400\n",
      "   macro avg       0.93      0.93      0.93       400\n",
      "weighted avg       0.93      0.93      0.93       400\n",
      "\n"
     ]
    },
    {
     "data": {
      "image/png": "[encoded data removed]",
      "text/plain": [
       "<Figure size 432x288 with 2 Axes>"
      ]
     },
     "metadata": {
      "needs_background": "light"
     },
     "output_type": "display_data"
    }
   ],
   "source": [
    "history = model.fit(train_data,train_labels, validation_data = (val_data, val_labels),\n",
    "                   batch_size =64, epochs = 25, verbose = 2,shuffle = True)\n",
    "\n",
    "y_predicted = model.predict_classes(val_data)\n",
    "\n",
    "# accuracy = (true positives + true negatives) / (positives + negatives)\n",
    "print('accuracy = ', accuracy_score(val_labels, y_predicted))\n",
    "# precision = true positives / (true positives + false positives)\n",
    "print('precision = ', precision_score(val_labels, y_predicted))\n",
    "# recall = true positives / (true positives + false negatives)\n",
    "print('recall = ', recall_score(val_labels, y_predicted))\n",
    "# f1 = 2 * (precision * recall) / (precision + recall)\n",
    "print('F1 = ', f1_score(val_labels, y_predicted))\n",
    "\n",
    "print(classification_report(val_labels, y_predicted))\n",
    "\n",
    "plt.subplot(211)\n",
    "plt.title('Loss')\n",
    "plt.plot(history.history['loss'], label = 'train')\n",
    "plt.plot(history.history['val_loss'], label = 'test')\n",
    "plt.legend()\n",
    "\n",
    "plt.subplot(212)\n",
    "plt.title('Accuracy')\n",
    "plt.plot(history.history['accuracy'], label = 'train')\n",
    "plt.plot(history.history['val_accuracy'], label = 'test')\n",
    "plt.legend()\n",
    "\n",
    "plt.savefig('Accuracy_loss')"
   ]
  },
  {
   "cell_type": "markdown",
   "metadata": {},
   "source": [
    "## Task 5: Create the CNN models ensemble"
   ]
  },
  {
   "cell_type": "markdown",
   "metadata": {},
   "source": [
    "Now that we know we can achieve good accuracy with one CN model, let's try an ensemble of CNN models. Let's generate an ensemble of 2 more models using a formula, as in this code.\n",
    "\n",
    "Here we create the models and place them in a dictionary of models, `models`."
   ]
  },
  {
   "cell_type": "code",
   "execution_count": 8,
   "metadata": {},
   "outputs": [],
   "source": [
    "models = {}\n",
    "for j in range(2,4):\n",
    "    newmodel = Sequential([\n",
    "    Conv2D(32*(j), 3, activation = 'relu', input_shape = (img_length, img_width, 3)),\n",
    "    MaxPooling2D(2),\n",
    "    Conv2D(32*j, 3, activation = 'relu'),\n",
    "    MaxPooling2D(2),\n",
    "    Conv2D(64*(j), 3, activation = 'relu'),\n",
    "    MaxPooling2D(2),\n",
    "    Flatten(),\n",
    "    Dense(64*(j), activation = 'relu'),\n",
    "    Dropout(0.5),\n",
    "    Dense(1, activation  = 'sigmoid')\n",
    "    ])\n",
    "    adam = Adam(lr = 0.001)\n",
    "    newmodel.compile(optimizer = adam, loss = 'binary_crossentropy', metrics = ['accuracy'])\n",
    "    models[j] = newmodel\n",
    "    \n",
    "models[1] = model"
   ]
  },
  {
   "cell_type": "markdown",
   "metadata": {},
   "source": [
    "## Task 6: Fit the models in the ensemble and perform the prediction"
   ]
  },
  {
   "cell_type": "markdown",
   "metadata": {},
   "source": [
    "Next, we fit each of the models separately using the same datasets.\n",
    "\n",
    "Once done, we generate the predictions and add them into an array, `predictions_hard`."
   ]
  },
  {
   "cell_type": "code",
   "execution_count": 11,
   "metadata": {
    "scrolled": true
   },
   "outputs": [],
   "source": [
    "del models[1]\n",
    "# we already trained this model again training not required.\n",
    "\n",
    "for j in models:\n",
    "    models[j].fit(train_data,train_labels, validation_data = (val_data, val_labels),\n",
    "                   batch_size =64, epochs = 25, verbose = 2,shuffle = True)\n",
    "\n",
    "models[1] = model\n",
    "\n",
    "predictions_hard = []\n",
    "for j in models:\n",
    "    predictions_hard += [models[j].predict_classes(val_data)]"
   ]
  },
  {
   "cell_type": "markdown",
   "metadata": {},
   "source": [
    "## Task 7: Apply hard voting to the ensemble"
   ]
  },
  {
   "cell_type": "markdown",
   "metadata": {},
   "source": [
    "Here we will apply the hard voting procedure. This is by deciding the class according the majority vote. We will use the `mode()` statistical function to get the class that was predicted more frequently than the other.\n",
    "\n",
    "Remember that the mean function gives you the data value that was repeated the most in the dataset. So in our predicted classes, where there are only 1's and 0's, it will pick the value that was repeated most frequently."
   ]
  },
  {
   "cell_type": "code",
   "execution_count": 14,
   "metadata": {},
   "outputs": [
    {
     "name": "stdout",
     "output_type": "stream",
     "text": [
      "              precision    recall  f1-score   support\n",
      "\n",
      "           0       0.92      0.93      0.92       192\n",
      "           1       0.93      0.93      0.93       208\n",
      "\n",
      "    accuracy                           0.93       400\n",
      "   macro avg       0.93      0.93      0.93       400\n",
      "weighted avg       0.93      0.93      0.93       400\n",
      "\n"
     ]
    }
   ],
   "source": [
    "voting_hard = []\n",
    "for i in range(len(val_data)):\n",
    "    voting_hard += [statistics.mode([\n",
    "        predictions_hard[0][i][0], predictions_hard[1][i][0], predictions_hard[2][i][0]\n",
    "    ])]\n",
    "    \n",
    "print(classification_report(val_labels, voting_hard))"
   ]
  },
  {
   "cell_type": "code",
   "execution_count": null,
   "metadata": {},
   "outputs": [],
   "source": []
  }
 ],
 "metadata": {
  "kernelspec": {
   "display_name": "Python 3",
   "language": "python",
   "name": "python3"
  },
  "language_info": {
   "codemirror_mode": {
    "name": "ipython",
    "version": 3
   },
   "file_extension": ".py",
   "mimetype": "text/x-python",
   "name": "python",
   "nbconvert_exporter": "python",
   "pygments_lexer": "ipython3",
   "version": "3.6.9"
  }
 },
 "nbformat": 4,
 "nbformat_minor": 4
}
